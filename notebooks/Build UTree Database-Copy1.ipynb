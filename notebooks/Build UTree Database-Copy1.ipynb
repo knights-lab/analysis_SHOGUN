{
 "cells": [
  {
   "cell_type": "code",
   "execution_count": 15,
   "metadata": {},
   "outputs": [],
   "source": [
    "# Set up for the Jupyter notebook\n",
    "base = \"/project/flatiron2/analysis_SHOGUN/data/references\"\n",
    "name = \"rep82\"\n",
    "fna = \"{}/{}/{}.fna\".format(base, name, name)\n",
    "tax = \"{}/{}/{}.tax\".format(base, name, name)"
   ]
  },
  {
   "cell_type": "code",
   "execution_count": 16,
   "metadata": {},
   "outputs": [],
   "source": [
    "%%capture capt_reg\n",
    "%time !/export/scratch/ben/bin/utree-build_gg {fna} {tax} {base}/{name}/{name}.ubt 48 16"
   ]
  },
  {
   "cell_type": "code",
   "execution_count": 14,
   "metadata": {},
   "outputs": [
    {
     "name": "stdout",
     "output_type": "stream",
     "text": [
      "Invalid input filename\r\n",
      "CPU times: user 12 ms, sys: 4 ms, total: 16 ms\n",
      "Wall time: 166 ms\n"
     ]
    }
   ],
   "source": [
    "%time !/export/scratch/ben/bin/utree-compress {base}/{name}/{name}.ubt {base}/{name}/{name}.ctr"
   ]
  },
  {
   "cell_type": "code",
   "execution_count": 13,
   "metadata": {},
   "outputs": [
    {
     "name": "stdout",
     "output_type": "stream",
     "text": [
      "/project/flatiron2/analysis_SHOGUN/data/references/rep82_dusted/rep82_dusted.ctr\r\n"
     ]
    }
   ],
   "source": [
    "!echo {base}/{name}/{name}.ctr"
   ]
  },
  {
   "cell_type": "code",
   "execution_count": null,
   "metadata": {
    "collapsed": true
   },
   "outputs": [],
   "source": [
    "name = \"rep82_dusted\""
   ]
  },
  {
   "cell_type": "code",
   "execution_count": null,
   "metadata": {
    "collapsed": true
   },
   "outputs": [],
   "source": [
    "%%capture capt_dust\n",
    "%time !/export/scratch/ben/bin/utree-build_gg {fna} {tax} {base}/{name}/{name}.ubt 48 16"
   ]
  },
  {
   "cell_type": "code",
   "execution_count": null,
   "metadata": {},
   "outputs": [],
   "source": [
    "%time !/export/scratch/ben/bin/utree-compress {base}/{name}/{name}.ubt {base}/{name}/{name}.ctr"
   ]
  },
  {
   "cell_type": "code",
   "execution_count": 11,
   "metadata": {},
   "outputs": [
    {
     "name": "stdout",
     "output_type": "stream",
     "text": [
      "Using up to 48 threads.\r\n",
      "Tree initialized.\r\n",
      "Setting overlap to 16\r\n",
      "Parsed map. 1948897 bytes, 12976 lines.\r\n",
      "Done with sequence parse: 1262899870 k-mers made\r\n",
      "Refining tree...\r\n",
      "CPU times: user 14.8 s, sys: 1.72 s, total: 16.5 s\n",
      "Wall time: 52min 54s\n"
     ]
    }
   ],
   "source": [
    "capt_reg.show()"
   ]
  },
  {
   "cell_type": "code",
   "execution_count": 12,
   "metadata": {},
   "outputs": [
    {
     "name": "stdout",
     "output_type": "stream",
     "text": [
      "Using up to 48 threads.\r\n",
      "Tree initialized.\r\n",
      "Setting overlap to 16\r\n",
      "Parsed map. 1948897 bytes, 12976 lines.\r\n",
      "Done with sequence parse: 1262899870 k-mers made\r\n",
      "Refining tree...\r\n",
      "CPU times: user 32.5 s, sys: 3.66 s, total: 36.2 s\n",
      "Wall time: 1h 23min 46s\n"
     ]
    }
   ],
   "source": [
    "capt_dust.show()"
   ]
  },
  {
   "cell_type": "code",
   "execution_count": null,
   "metadata": {},
   "outputs": [],
   "source": [
    "print()"
   ]
  }
 ],
 "metadata": {
  "kernelspec": {
   "display_name": "Python 3",
   "language": "python",
   "name": "python3"
  },
  "language_info": {
   "codemirror_mode": {
    "name": "ipython",
    "version": 3
   },
   "file_extension": ".py",
   "mimetype": "text/x-python",
   "name": "python",
   "nbconvert_exporter": "python",
   "pygments_lexer": "ipython3",
   "version": "3.5.3"
  }
 },
 "nbformat": 4,
 "nbformat_minor": 2
}
