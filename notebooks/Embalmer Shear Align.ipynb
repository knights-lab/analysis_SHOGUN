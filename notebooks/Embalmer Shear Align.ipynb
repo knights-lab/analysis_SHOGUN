{
 "cells": [
  {
   "cell_type": "code",
   "execution_count": null,
   "metadata": {},
   "outputs": [],
   "source": [
    "%time !/usr/bin/time -v emb15 --queries ../data/references/rep82/rep82.shear.fna --references ../data/references/rep82/rep82.edx --accelerator ../data/references/rep82/rep82.acx --output ../data/references/rep82/shear_results.b6 --id .98 --npenalize --skipambig --taxa_ncbi --taxonomy ../data/references/rep82/rep82.tax  --threads 48 &> ../data/references/rep82/rep82.shear.log"
   ]
  },
  {
   "cell_type": "code",
   "execution_count": null,
   "metadata": {},
   "outputs": [],
   "source": []
  }
 ],
 "metadata": {
  "kernelspec": {
   "display_name": "Python 3",
   "language": "python",
   "name": "python3"
  },
  "language_info": {
   "codemirror_mode": {
    "name": "ipython",
    "version": 3
   },
   "file_extension": ".py",
   "mimetype": "text/x-python",
   "name": "python",
   "nbconvert_exporter": "python",
   "pygments_lexer": "ipython3",
   "version": "3.5.3"
  }
 },
 "nbformat": 4,
 "nbformat_minor": 2
}
