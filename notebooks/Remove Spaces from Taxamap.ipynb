{
 "cells": [
  {
   "cell_type": "code",
   "execution_count": 1,
   "metadata": {},
   "outputs": [],
   "source": [
    "import csv"
   ]
  },
  {
   "cell_type": "code",
   "execution_count": 3,
   "metadata": {},
   "outputs": [],
   "source": [
    "with open(\"../data/references/rep82/rep82.tax\") as inf:\n",
    "    csv_inf = csv.reader(inf, delimiter=\"\\t\")\n",
    "    with open(\"../data/references/rep82.fixed.tax\", \"w\") as outf:\n",
    "        for row in csv_inf:\n",
    "            row[1] = row[1].replace(\" \", \"_\")\n",
    "            outf.write(\"\\t\".join(row) + \"\\n\")"
   ]
  }
 ],
 "metadata": {
  "kernelspec": {
   "display_name": "Python 3",
   "language": "python",
   "name": "python3"
  },
  "language_info": {
   "codemirror_mode": {
    "name": "ipython",
    "version": 3
   },
   "file_extension": ".py",
   "mimetype": "text/x-python",
   "name": "python",
   "nbconvert_exporter": "python",
   "pygments_lexer": "ipython3",
   "version": "3.5.3"
  }
 },
 "nbformat": 4,
 "nbformat_minor": 2
}
