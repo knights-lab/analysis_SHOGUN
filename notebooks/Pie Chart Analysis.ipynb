{
 "cells": [
  {
   "cell_type": "code",
   "execution_count": 1,
   "metadata": {},
   "outputs": [
    {
     "name": "stderr",
     "output_type": "stream",
     "text": [
      "/export/scratch/miniconda3/envs/analysis_SHOGUN/lib/python3.5/site-packages/matplotlib/__init__.py:841: UserWarning: Found matplotlib configuration in ~/.matplotlib/. To conform with the XDG base directory standard, this configuration location has been deprecated on Linux, and the new location is now /home/grad00/hillm096/.config/matplotlib/. Please move your configuration there to ensure that matplotlib will continue to find it in the future.\n",
      "  _get_xdg_config_dir())\n"
     ]
    }
   ],
   "source": [
    "import matplotlib.pyplot as plt\n",
    "import pandas as pd\n",
    "import numpy as np\n",
    "taxatable = pd.read_csv(\"../data/single_strains/taxatable_ecolideep.txt\", sep=\"\\t\", index_col=0)\n",
    "strain_taxatable = pd.read_csv(\"../results/single_strains/taxatable_ecolideep.strain.txt\", sep=\"\\t\", index_col=0)\n",
    "species_taxatable = pd.read_csv(\"../results/single_strains/taxatable_ecolideep.species.txt\", sep=\"\\t\", index_col=0)\n",
    "genus_taxatable = pd.read_csv(\"../results/single_strains/taxatable_ecolideep.genus.txt\", sep=\"\\t\", index_col=0)"
   ]
  },
  {
   "cell_type": "code",
   "execution_count": 2,
   "metadata": {},
   "outputs": [
    {
     "data": {
      "text/html": [
       "<div>\n",
       "<table border=\"1\" class=\"dataframe\">\n",
       "  <thead>\n",
       "    <tr style=\"text-align: right;\">\n",
       "      <th></th>\n",
       "      <th>ecoli</th>\n",
       "    </tr>\n",
       "    <tr>\n",
       "      <th>#OTU ID</th>\n",
       "      <th></th>\n",
       "    </tr>\n",
       "  </thead>\n",
       "  <tbody>\n",
       "    <tr>\n",
       "      <th>k__Bacteria;p__Proteobacteria;c__Gammaproteobacteria;o__Enterobacterales;f__Enterobacteriaceae;g__Escherichia;s__Escherichia_coli;t__Escherichia_coli_str._K-12_substr._MG1655</th>\n",
       "      <td>378213</td>\n",
       "    </tr>\n",
       "    <tr>\n",
       "      <th>k__Bacteria;p__Proteobacteria;c__Gammaproteobacteria;o__Enterobacterales;f__Enterobacteriaceae</th>\n",
       "      <td>283669</td>\n",
       "    </tr>\n",
       "    <tr>\n",
       "      <th>NaN</th>\n",
       "      <td>965</td>\n",
       "    </tr>\n",
       "    <tr>\n",
       "      <th>k__Bacteria</th>\n",
       "      <td>3451</td>\n",
       "    </tr>\n",
       "    <tr>\n",
       "      <th>k__Bacteria;p__Proteobacteria;c__Gammaproteobacteria;o__Enterobacterales</th>\n",
       "      <td>4564</td>\n",
       "    </tr>\n",
       "  </tbody>\n",
       "</table>\n",
       "</div>"
      ],
      "text/plain": [
       "                                                     ecoli\n",
       "#OTU ID                                                   \n",
       "k__Bacteria;p__Proteobacteria;c__Gammaproteobac...  378213\n",
       "k__Bacteria;p__Proteobacteria;c__Gammaproteobac...  283669\n",
       "NaN                                                    965\n",
       "k__Bacteria                                           3451\n",
       "k__Bacteria;p__Proteobacteria;c__Gammaproteobac...    4564"
      ]
     },
     "execution_count": 2,
     "metadata": {},
     "output_type": "execute_result"
    }
   ],
   "source": [
    "taxatable.head()"
   ]
  },
  {
   "cell_type": "code",
   "execution_count": 3,
   "metadata": {},
   "outputs": [
    {
     "name": "stdout",
     "output_type": "stream",
     "text": [
      "                                                     ecoli\n",
      "#OTU ID                                                   \n",
      "k__Bacteria;p__Proteobacteria;c__Gammaproteobac...  378213\n",
      "k__Bacteria;p__Proteobacteria;c__Gammaproteobac...  283669\n",
      "k__Bacteria                                           3451\n",
      "k__Bacteria;p__Proteobacteria;c__Gammaproteobac...    4564\n",
      "k__Bacteria;p__Proteobacteria;c__Gammaproteobac...    1846\n",
      "(19, 2)\n",
      "                                                     ecoli  level\n",
      "#OTU ID                                                          \n",
      "k__Bacteria;p__Proteobacteria;c__Gammaproteobac...  378213      7\n",
      "k__Bacteria;p__Proteobacteria;c__Alphaproteobac...       5      7\n",
      "k__Bacteria;p__Proteobacteria;c__Epsilonproteob...       2      7\n",
      "k__Bacteria;p__Proteobacteria;c__Gammaproteobac...     467      7\n",
      "k__Bacteria;p__Proteobacteria;c__Gammaproteobac...       4      7\n",
      "k__Bacteria;p__Proteobacteria;c__Gammaproteobac...       1      7\n",
      "k__Bacteria;p__Proteobacteria;c__Gammaproteobac...       2      7\n",
      "k__Bacteria;p__Proteobacteria;c__Gammaproteobac...       1      7\n",
      "k__Bacteria;p__Proteobacteria;c__Gammaproteobac...    2118      7\n",
      "k__Bacteria;p__Proteobacteria;c__Gammaproteobac...    2173      7\n",
      "k__Bacteria;p__Proteobacteria;c__Gammaproteobac...     208      7\n",
      "k__Bacteria;p__Proteobacteria;c__Gammaproteobac...       9      7\n",
      "k__Bacteria;p__Proteobacteria;c__Gammaproteobac...    1293      7\n",
      "k__Bacteria;p__Proteobacteria;c__Gammaproteobac...     148      7\n",
      "k__Bacteria;p__Proteobacteria;c__Gammaproteobac...      94      7\n",
      "k__Bacteria;p__Proteobacteria;c__Gammaproteobac...       1      7\n",
      "k__Viruses;p__dsDNA_viruses,_no_RNA_stage;c__;o...       2      7\n",
      "k__Bacteria;p__Proteobacteria;c__Gammaproteobac...       1      7\n",
      "k__Bacteria;p__Proteobacteria;c__Gammaproteobac...       1      7\n",
      "                                                     ecoli  level\n",
      "#OTU ID                                                          \n",
      "k__Bacteria;p__Proteobacteria;c__Gammaproteobac...  378213      7\n",
      "k__Bacteria;p__Proteobacteria;c__Alphaproteobac...       5      7\n",
      "k__Bacteria;p__Proteobacteria;c__Epsilonproteob...       2      7\n",
      "k__Bacteria;p__Proteobacteria;c__Gammaproteobac...     467      7\n",
      "k__Bacteria;p__Proteobacteria;c__Gammaproteobac...       4      7\n",
      "                                                    ecoli\n",
      "summary                                                  \n",
      "k__Bacteria;p__Proteobacteria;c__Alphaproteobac...      5\n",
      "k__Bacteria;p__Proteobacteria;c__Epsilonproteob...      2\n",
      "k__Bacteria;p__Proteobacteria;c__Gammaproteobac...    469\n",
      "k__Bacteria;p__Proteobacteria;c__Gammaproteobac...      2\n",
      "k__Bacteria;p__Proteobacteria;c__Gammaproteobac...      1\n"
     ]
    }
   ],
   "source": [
    "# Filter out the NaNs\n",
    "taxatable = taxatable[[type(_) == str for _ in taxatable.index]]\n",
    "print(taxatable.head())\n",
    "\n",
    "# Filter to Only Species\n",
    "taxatable['level'] = [_.count(';') for _ in taxatable.index]\n",
    "taxatable = taxatable[taxatable['level'] >= 6]\n",
    "strain_stats = taxatable[taxatable['level'] >= 7]\n",
    "print(strain_stats.shape)\n",
    "print(strain_stats)\n",
    "print(strain_stats.head())\n",
    "taxatable = taxatable.drop('level', axis=1)\n",
    "\n",
    "\n",
    "# Summarize at Species\n",
    "taxatable['summary'] = [';'.join(_.split(';')[:7]) for _ in taxatable.index]\n",
    "species_non_taxatable = taxatable.groupby('summary').sum()\n",
    "\n",
    "print(species_non_taxatable.head())"
   ]
  },
  {
   "cell_type": "code",
   "execution_count": 4,
   "metadata": {},
   "outputs": [
    {
     "data": {
      "text/html": [
       "<div>\n",
       "<table border=\"1\" class=\"dataframe\">\n",
       "  <thead>\n",
       "    <tr style=\"text-align: right;\">\n",
       "      <th></th>\n",
       "      <th>ecoli</th>\n",
       "      <th>level</th>\n",
       "    </tr>\n",
       "    <tr>\n",
       "      <th>#OTU ID</th>\n",
       "      <th></th>\n",
       "      <th></th>\n",
       "    </tr>\n",
       "  </thead>\n",
       "  <tbody>\n",
       "    <tr>\n",
       "      <th>k__Bacteria;p__Proteobacteria;c__Gammaproteobacteria;o__Enterobacterales;f__Enterobacteriaceae;g__Escherichia;s__Escherichia_coli;t__Escherichia_coli_str._K-12_substr._MG1655</th>\n",
       "      <td>378213</td>\n",
       "      <td>7</td>\n",
       "    </tr>\n",
       "    <tr>\n",
       "      <th>k__Bacteria;p__Proteobacteria;c__Alphaproteobacteria;o__Rhizobiales;f__Rhizobiaceae;g__Agrobacterium;s__Agrobacterium_fabrum;t__Agrobacterium_fabrum_str._C58</th>\n",
       "      <td>5</td>\n",
       "      <td>7</td>\n",
       "    </tr>\n",
       "    <tr>\n",
       "      <th>k__Bacteria;p__Proteobacteria;c__Epsilonproteobacteria;o__Campylobacterales;f__Helicobacteraceae;g__Helicobacter;s__Helicobacter_mustelae;t__Helicobacter_mustelae_12198</th>\n",
       "      <td>2</td>\n",
       "      <td>7</td>\n",
       "    </tr>\n",
       "    <tr>\n",
       "      <th>k__Bacteria;p__Proteobacteria;c__Gammaproteobacteria;o__Chromatiales;f__Chromatiaceae;g__Lamprocystis;s__Lamprocystis_purpurea;t__Lamprocystis_purpurea_DSM_4197</th>\n",
       "      <td>467</td>\n",
       "      <td>7</td>\n",
       "    </tr>\n",
       "    <tr>\n",
       "      <th>k__Bacteria;p__Proteobacteria;c__Gammaproteobacteria;o__Enterobacterales;f__Enterobacteriaceae;g__Cronobacter;s__Cronobacter_sakazakii;t__</th>\n",
       "      <td>4</td>\n",
       "      <td>7</td>\n",
       "    </tr>\n",
       "    <tr>\n",
       "      <th>k__Bacteria;p__Proteobacteria;c__Gammaproteobacteria;o__Enterobacterales;f__Enterobacteriaceae;g__Citrobacter;s__Citrobacter_freundii;t__Citrobacter_freundii_CFNIH1</th>\n",
       "      <td>1</td>\n",
       "      <td>7</td>\n",
       "    </tr>\n",
       "    <tr>\n",
       "      <th>k__Bacteria;p__Proteobacteria;c__Gammaproteobacteria;o__Enterobacterales;f__Enterobacteriaceae;g__Citrobacter;s__Citrobacter_amalonaticus;t__</th>\n",
       "      <td>2</td>\n",
       "      <td>7</td>\n",
       "    </tr>\n",
       "    <tr>\n",
       "      <th>k__Bacteria;p__Proteobacteria;c__Gammaproteobacteria;o__Enterobacterales;f__Enterobacteriaceae;g__Enterobacter;s__Enterobacter_cloacae;t__Enterobacter_cloacae_subsp._cloacae_ATCC_13047</th>\n",
       "      <td>1</td>\n",
       "      <td>7</td>\n",
       "    </tr>\n",
       "    <tr>\n",
       "      <th>k__Bacteria;p__Proteobacteria;c__Gammaproteobacteria;o__Enterobacterales;f__Enterobacteriaceae;g__Escherichia;s__Escherichia_coli;t__Escherichia_coli_O83:H1_str._NRG_857C</th>\n",
       "      <td>2118</td>\n",
       "      <td>7</td>\n",
       "    </tr>\n",
       "    <tr>\n",
       "      <th>k__Bacteria;p__Proteobacteria;c__Gammaproteobacteria;o__Enterobacterales;f__Enterobacteriaceae;g__Escherichia;s__Escherichia_coli;t__Escherichia_coli_O157:H7_str._Sakai</th>\n",
       "      <td>2173</td>\n",
       "      <td>7</td>\n",
       "    </tr>\n",
       "    <tr>\n",
       "      <th>k__Bacteria;p__Proteobacteria;c__Gammaproteobacteria;o__Enterobacterales;f__Enterobacteriaceae;g__Escherichia;s__Escherichia_coli;t__Escherichia_coli_O104:H4_str._2011C-3493</th>\n",
       "      <td>208</td>\n",
       "      <td>7</td>\n",
       "    </tr>\n",
       "    <tr>\n",
       "      <th>k__Bacteria;p__Proteobacteria;c__Gammaproteobacteria;o__Enterobacterales;f__Enterobacteriaceae;g__Escherichia;s__Escherichia_coli;t__Escherichia_coli_IAI39</th>\n",
       "      <td>9</td>\n",
       "      <td>7</td>\n",
       "    </tr>\n",
       "    <tr>\n",
       "      <th>k__Bacteria;p__Proteobacteria;c__Gammaproteobacteria;o__Enterobacterales;f__Enterobacteriaceae;g__Escherichia;s__Escherichia_coli;t__Escherichia_coli_UMN026</th>\n",
       "      <td>1293</td>\n",
       "      <td>7</td>\n",
       "    </tr>\n",
       "    <tr>\n",
       "      <th>k__Bacteria;p__Proteobacteria;c__Gammaproteobacteria;o__Enterobacterales;f__Enterobacteriaceae;g__Shigella;s__Shigella_flexneri;t__Shigella_flexneri_2a_str._301</th>\n",
       "      <td>148</td>\n",
       "      <td>7</td>\n",
       "    </tr>\n",
       "    <tr>\n",
       "      <th>k__Bacteria;p__Proteobacteria;c__Gammaproteobacteria;o__Enterobacterales;f__Enterobacteriaceae;g__Shigella;s__Shigella_dysenteriae;t__Shigella_dysenteriae_Sd197</th>\n",
       "      <td>94</td>\n",
       "      <td>7</td>\n",
       "    </tr>\n",
       "    <tr>\n",
       "      <th>k__Bacteria;p__Proteobacteria;c__Gammaproteobacteria;o__Enterobacterales;f__Enterobacteriaceae;g__Kluyvera;s__Kluyvera_intermedia;t__</th>\n",
       "      <td>1</td>\n",
       "      <td>7</td>\n",
       "    </tr>\n",
       "    <tr>\n",
       "      <th>k__Viruses;p__dsDNA_viruses,_no_RNA_stage;c__;o__Caudovirales;f__Myoviridae;g__P1virus;s__Escherichia_virus_P1;t__</th>\n",
       "      <td>2</td>\n",
       "      <td>7</td>\n",
       "    </tr>\n",
       "    <tr>\n",
       "      <th>k__Bacteria;p__Proteobacteria;c__Gammaproteobacteria;o__Pasteurellales;f__Pasteurellaceae;g__Haemophilus;s__[Haemophilus]_ducreyi;t__Haemophilus_ducreyi_35000HP</th>\n",
       "      <td>1</td>\n",
       "      <td>7</td>\n",
       "    </tr>\n",
       "    <tr>\n",
       "      <th>k__Bacteria;p__Proteobacteria;c__Gammaproteobacteria;o__Vibrionales;f__Vibrionaceae;g__Vibrio;s__Vibrio_anguillarum;t__Vibrio_anguillarum_775</th>\n",
       "      <td>1</td>\n",
       "      <td>7</td>\n",
       "    </tr>\n",
       "  </tbody>\n",
       "</table>\n",
       "</div>"
      ],
      "text/plain": [
       "                                                     ecoli  level\n",
       "#OTU ID                                                          \n",
       "k__Bacteria;p__Proteobacteria;c__Gammaproteobac...  378213      7\n",
       "k__Bacteria;p__Proteobacteria;c__Alphaproteobac...       5      7\n",
       "k__Bacteria;p__Proteobacteria;c__Epsilonproteob...       2      7\n",
       "k__Bacteria;p__Proteobacteria;c__Gammaproteobac...     467      7\n",
       "k__Bacteria;p__Proteobacteria;c__Gammaproteobac...       4      7\n",
       "k__Bacteria;p__Proteobacteria;c__Gammaproteobac...       1      7\n",
       "k__Bacteria;p__Proteobacteria;c__Gammaproteobac...       2      7\n",
       "k__Bacteria;p__Proteobacteria;c__Gammaproteobac...       1      7\n",
       "k__Bacteria;p__Proteobacteria;c__Gammaproteobac...    2118      7\n",
       "k__Bacteria;p__Proteobacteria;c__Gammaproteobac...    2173      7\n",
       "k__Bacteria;p__Proteobacteria;c__Gammaproteobac...     208      7\n",
       "k__Bacteria;p__Proteobacteria;c__Gammaproteobac...       9      7\n",
       "k__Bacteria;p__Proteobacteria;c__Gammaproteobac...    1293      7\n",
       "k__Bacteria;p__Proteobacteria;c__Gammaproteobac...     148      7\n",
       "k__Bacteria;p__Proteobacteria;c__Gammaproteobac...      94      7\n",
       "k__Bacteria;p__Proteobacteria;c__Gammaproteobac...       1      7\n",
       "k__Viruses;p__dsDNA_viruses,_no_RNA_stage;c__;o...       2      7\n",
       "k__Bacteria;p__Proteobacteria;c__Gammaproteobac...       1      7\n",
       "k__Bacteria;p__Proteobacteria;c__Gammaproteobac...       1      7"
      ]
     },
     "execution_count": 4,
     "metadata": {},
     "output_type": "execute_result"
    }
   ],
   "source": [
    "strain_stats"
   ]
  },
  {
   "cell_type": "code",
   "execution_count": 5,
   "metadata": {},
   "outputs": [
    {
     "data": {
      "text/html": [
       "<div>\n",
       "<table border=\"1\" class=\"dataframe\">\n",
       "  <thead>\n",
       "    <tr style=\"text-align: right;\">\n",
       "      <th></th>\n",
       "      <th>ecoli</th>\n",
       "    </tr>\n",
       "    <tr>\n",
       "      <th>summary</th>\n",
       "      <th></th>\n",
       "    </tr>\n",
       "  </thead>\n",
       "  <tbody>\n",
       "    <tr>\n",
       "      <th>k__Bacteria;p__Proteobacteria;c__Alphaproteobacteria;o__Rhizobiales;f__Rhizobiaceae;g__Agrobacterium;s__Agrobacterium_fabrum</th>\n",
       "      <td>5</td>\n",
       "    </tr>\n",
       "    <tr>\n",
       "      <th>k__Bacteria;p__Proteobacteria;c__Epsilonproteobacteria;o__Campylobacterales;f__Helicobacteraceae;g__Helicobacter;s__Helicobacter_mustelae</th>\n",
       "      <td>2</td>\n",
       "    </tr>\n",
       "    <tr>\n",
       "      <th>k__Bacteria;p__Proteobacteria;c__Gammaproteobacteria;o__Chromatiales;f__Chromatiaceae;g__Lamprocystis;s__Lamprocystis_purpurea</th>\n",
       "      <td>469</td>\n",
       "    </tr>\n",
       "    <tr>\n",
       "      <th>k__Bacteria;p__Proteobacteria;c__Gammaproteobacteria;o__Enterobacterales;f__Enterobacteriaceae;g__Citrobacter;s__Citrobacter_amalonaticus</th>\n",
       "      <td>2</td>\n",
       "    </tr>\n",
       "    <tr>\n",
       "      <th>k__Bacteria;p__Proteobacteria;c__Gammaproteobacteria;o__Enterobacterales;f__Enterobacteriaceae;g__Citrobacter;s__Citrobacter_freundii</th>\n",
       "      <td>1</td>\n",
       "    </tr>\n",
       "    <tr>\n",
       "      <th>k__Bacteria;p__Proteobacteria;c__Gammaproteobacteria;o__Enterobacterales;f__Enterobacteriaceae;g__Cronobacter;s__Cronobacter_sakazakii</th>\n",
       "      <td>4</td>\n",
       "    </tr>\n",
       "    <tr>\n",
       "      <th>k__Bacteria;p__Proteobacteria;c__Gammaproteobacteria;o__Enterobacterales;f__Enterobacteriaceae;g__Enterobacter;s__Enterobacter_cloacae</th>\n",
       "      <td>1</td>\n",
       "    </tr>\n",
       "    <tr>\n",
       "      <th>k__Bacteria;p__Proteobacteria;c__Gammaproteobacteria;o__Enterobacterales;f__Enterobacteriaceae;g__Escherichia;s__Escherichia_coli</th>\n",
       "      <td>608920</td>\n",
       "    </tr>\n",
       "    <tr>\n",
       "      <th>k__Bacteria;p__Proteobacteria;c__Gammaproteobacteria;o__Enterobacterales;f__Enterobacteriaceae;g__Kluyvera;s__Kluyvera_intermedia</th>\n",
       "      <td>1</td>\n",
       "    </tr>\n",
       "    <tr>\n",
       "      <th>k__Bacteria;p__Proteobacteria;c__Gammaproteobacteria;o__Enterobacterales;f__Enterobacteriaceae;g__Shigella;s__Shigella_dysenteriae</th>\n",
       "      <td>104</td>\n",
       "    </tr>\n",
       "    <tr>\n",
       "      <th>k__Bacteria;p__Proteobacteria;c__Gammaproteobacteria;o__Enterobacterales;f__Enterobacteriaceae;g__Shigella;s__Shigella_flexneri</th>\n",
       "      <td>172</td>\n",
       "    </tr>\n",
       "    <tr>\n",
       "      <th>k__Bacteria;p__Proteobacteria;c__Gammaproteobacteria;o__Pasteurellales;f__Pasteurellaceae;g__Haemophilus;s__[Haemophilus]_ducreyi</th>\n",
       "      <td>1</td>\n",
       "    </tr>\n",
       "    <tr>\n",
       "      <th>k__Bacteria;p__Proteobacteria;c__Gammaproteobacteria;o__Vibrionales;f__Vibrionaceae;g__Vibrio;s__Vibrio_anguillarum</th>\n",
       "      <td>1</td>\n",
       "    </tr>\n",
       "    <tr>\n",
       "      <th>k__Viruses;p__dsDNA_viruses,_no_RNA_stage;c__;o__Caudovirales;f__Myoviridae;g__P1virus;s__Escherichia_virus_P1</th>\n",
       "      <td>3</td>\n",
       "    </tr>\n",
       "  </tbody>\n",
       "</table>\n",
       "</div>"
      ],
      "text/plain": [
       "                                                     ecoli\n",
       "summary                                                   \n",
       "k__Bacteria;p__Proteobacteria;c__Alphaproteobac...       5\n",
       "k__Bacteria;p__Proteobacteria;c__Epsilonproteob...       2\n",
       "k__Bacteria;p__Proteobacteria;c__Gammaproteobac...     469\n",
       "k__Bacteria;p__Proteobacteria;c__Gammaproteobac...       2\n",
       "k__Bacteria;p__Proteobacteria;c__Gammaproteobac...       1\n",
       "k__Bacteria;p__Proteobacteria;c__Gammaproteobac...       4\n",
       "k__Bacteria;p__Proteobacteria;c__Gammaproteobac...       1\n",
       "k__Bacteria;p__Proteobacteria;c__Gammaproteobac...  608920\n",
       "k__Bacteria;p__Proteobacteria;c__Gammaproteobac...       1\n",
       "k__Bacteria;p__Proteobacteria;c__Gammaproteobac...     104\n",
       "k__Bacteria;p__Proteobacteria;c__Gammaproteobac...     172\n",
       "k__Bacteria;p__Proteobacteria;c__Gammaproteobac...       1\n",
       "k__Bacteria;p__Proteobacteria;c__Gammaproteobac...       1\n",
       "k__Viruses;p__dsDNA_viruses,_no_RNA_stage;c__;o...       3"
      ]
     },
     "execution_count": 5,
     "metadata": {},
     "output_type": "execute_result"
    }
   ],
   "source": [
    "species_non_taxatable"
   ]
  },
  {
   "cell_type": "code",
   "execution_count": 6,
   "metadata": {},
   "outputs": [
    {
     "data": {
      "text/html": [
       "<div>\n",
       "<table border=\"1\" class=\"dataframe\">\n",
       "  <thead>\n",
       "    <tr style=\"text-align: right;\">\n",
       "      <th></th>\n",
       "      <th>ecoli</th>\n",
       "      <th>summary</th>\n",
       "    </tr>\n",
       "    <tr>\n",
       "      <th>#OTU ID</th>\n",
       "      <th></th>\n",
       "      <th></th>\n",
       "    </tr>\n",
       "  </thead>\n",
       "  <tbody>\n",
       "    <tr>\n",
       "      <th>k__Bacteria;p__Proteobacteria;c__Gammaproteobacteria;o__Enterobacterales;f__Enterobacteriaceae;g__Escherichia;s__Escherichia_coli;t__Escherichia_coli_str._K-12_substr._MG1655</th>\n",
       "      <td>378213</td>\n",
       "      <td>k__Bacteria;p__Proteobacteria;c__Gammaproteoba...</td>\n",
       "    </tr>\n",
       "    <tr>\n",
       "      <th>k__Bacteria;p__Proteobacteria;c__Alphaproteobacteria;o__Rhizobiales;f__Rhizobiaceae;g__Agrobacterium;s__Agrobacterium_fabrum;t__Agrobacterium_fabrum_str._C58</th>\n",
       "      <td>5</td>\n",
       "      <td>k__Bacteria;p__Proteobacteria;c__Alphaproteoba...</td>\n",
       "    </tr>\n",
       "    <tr>\n",
       "      <th>k__Bacteria;p__Proteobacteria;c__Epsilonproteobacteria;o__Campylobacterales;f__Helicobacteraceae;g__Helicobacter;s__Helicobacter_mustelae;t__Helicobacter_mustelae_12198</th>\n",
       "      <td>2</td>\n",
       "      <td>k__Bacteria;p__Proteobacteria;c__Epsilonproteo...</td>\n",
       "    </tr>\n",
       "    <tr>\n",
       "      <th>k__Bacteria;p__Proteobacteria;c__Gammaproteobacteria;o__Chromatiales;f__Chromatiaceae;g__Lamprocystis;s__Lamprocystis_purpurea;t__Lamprocystis_purpurea_DSM_4197</th>\n",
       "      <td>467</td>\n",
       "      <td>k__Bacteria;p__Proteobacteria;c__Gammaproteoba...</td>\n",
       "    </tr>\n",
       "    <tr>\n",
       "      <th>k__Bacteria;p__Proteobacteria;c__Gammaproteobacteria;o__Chromatiales;f__Chromatiaceae;g__Lamprocystis;s__Lamprocystis_purpurea</th>\n",
       "      <td>2</td>\n",
       "      <td>k__Bacteria;p__Proteobacteria;c__Gammaproteoba...</td>\n",
       "    </tr>\n",
       "    <tr>\n",
       "      <th>k__Bacteria;p__Proteobacteria;c__Gammaproteobacteria;o__Enterobacterales;f__Enterobacteriaceae;g__Escherichia;s__Escherichia_coli</th>\n",
       "      <td>224906</td>\n",
       "      <td>k__Bacteria;p__Proteobacteria;c__Gammaproteoba...</td>\n",
       "    </tr>\n",
       "    <tr>\n",
       "      <th>k__Bacteria;p__Proteobacteria;c__Gammaproteobacteria;o__Enterobacterales;f__Enterobacteriaceae;g__Cronobacter;s__Cronobacter_sakazakii;t__</th>\n",
       "      <td>4</td>\n",
       "      <td>k__Bacteria;p__Proteobacteria;c__Gammaproteoba...</td>\n",
       "    </tr>\n",
       "    <tr>\n",
       "      <th>k__Bacteria;p__Proteobacteria;c__Gammaproteobacteria;o__Enterobacterales;f__Enterobacteriaceae;g__Citrobacter;s__Citrobacter_freundii;t__Citrobacter_freundii_CFNIH1</th>\n",
       "      <td>1</td>\n",
       "      <td>k__Bacteria;p__Proteobacteria;c__Gammaproteoba...</td>\n",
       "    </tr>\n",
       "    <tr>\n",
       "      <th>k__Bacteria;p__Proteobacteria;c__Gammaproteobacteria;o__Enterobacterales;f__Enterobacteriaceae;g__Citrobacter;s__Citrobacter_amalonaticus;t__</th>\n",
       "      <td>2</td>\n",
       "      <td>k__Bacteria;p__Proteobacteria;c__Gammaproteoba...</td>\n",
       "    </tr>\n",
       "    <tr>\n",
       "      <th>k__Bacteria;p__Proteobacteria;c__Gammaproteobacteria;o__Enterobacterales;f__Enterobacteriaceae;g__Enterobacter;s__Enterobacter_cloacae;t__Enterobacter_cloacae_subsp._cloacae_ATCC_13047</th>\n",
       "      <td>1</td>\n",
       "      <td>k__Bacteria;p__Proteobacteria;c__Gammaproteoba...</td>\n",
       "    </tr>\n",
       "    <tr>\n",
       "      <th>k__Bacteria;p__Proteobacteria;c__Gammaproteobacteria;o__Enterobacterales;f__Enterobacteriaceae;g__Escherichia;s__Escherichia_coli;t__Escherichia_coli_O83:H1_str._NRG_857C</th>\n",
       "      <td>2118</td>\n",
       "      <td>k__Bacteria;p__Proteobacteria;c__Gammaproteoba...</td>\n",
       "    </tr>\n",
       "    <tr>\n",
       "      <th>k__Bacteria;p__Proteobacteria;c__Gammaproteobacteria;o__Enterobacterales;f__Enterobacteriaceae;g__Escherichia;s__Escherichia_coli;t__Escherichia_coli_O157:H7_str._Sakai</th>\n",
       "      <td>2173</td>\n",
       "      <td>k__Bacteria;p__Proteobacteria;c__Gammaproteoba...</td>\n",
       "    </tr>\n",
       "    <tr>\n",
       "      <th>k__Bacteria;p__Proteobacteria;c__Gammaproteobacteria;o__Enterobacterales;f__Enterobacteriaceae;g__Escherichia;s__Escherichia_coli;t__Escherichia_coli_O104:H4_str._2011C-3493</th>\n",
       "      <td>208</td>\n",
       "      <td>k__Bacteria;p__Proteobacteria;c__Gammaproteoba...</td>\n",
       "    </tr>\n",
       "    <tr>\n",
       "      <th>k__Bacteria;p__Proteobacteria;c__Gammaproteobacteria;o__Enterobacterales;f__Enterobacteriaceae;g__Escherichia;s__Escherichia_coli;t__Escherichia_coli_IAI39</th>\n",
       "      <td>9</td>\n",
       "      <td>k__Bacteria;p__Proteobacteria;c__Gammaproteoba...</td>\n",
       "    </tr>\n",
       "    <tr>\n",
       "      <th>k__Bacteria;p__Proteobacteria;c__Gammaproteobacteria;o__Enterobacterales;f__Enterobacteriaceae;g__Escherichia;s__Escherichia_coli;t__Escherichia_coli_UMN026</th>\n",
       "      <td>1293</td>\n",
       "      <td>k__Bacteria;p__Proteobacteria;c__Gammaproteoba...</td>\n",
       "    </tr>\n",
       "    <tr>\n",
       "      <th>k__Bacteria;p__Proteobacteria;c__Gammaproteobacteria;o__Enterobacterales;f__Enterobacteriaceae;g__Shigella;s__Shigella_flexneri;t__Shigella_flexneri_2a_str._301</th>\n",
       "      <td>148</td>\n",
       "      <td>k__Bacteria;p__Proteobacteria;c__Gammaproteoba...</td>\n",
       "    </tr>\n",
       "    <tr>\n",
       "      <th>k__Bacteria;p__Proteobacteria;c__Gammaproteobacteria;o__Enterobacterales;f__Enterobacteriaceae;g__Shigella;s__Shigella_dysenteriae;t__Shigella_dysenteriae_Sd197</th>\n",
       "      <td>94</td>\n",
       "      <td>k__Bacteria;p__Proteobacteria;c__Gammaproteoba...</td>\n",
       "    </tr>\n",
       "    <tr>\n",
       "      <th>k__Bacteria;p__Proteobacteria;c__Gammaproteobacteria;o__Enterobacterales;f__Enterobacteriaceae;g__Kluyvera;s__Kluyvera_intermedia;t__</th>\n",
       "      <td>1</td>\n",
       "      <td>k__Bacteria;p__Proteobacteria;c__Gammaproteoba...</td>\n",
       "    </tr>\n",
       "    <tr>\n",
       "      <th>k__Bacteria;p__Proteobacteria;c__Gammaproteobacteria;o__Enterobacterales;f__Enterobacteriaceae;g__Shigella;s__Shigella_dysenteriae</th>\n",
       "      <td>10</td>\n",
       "      <td>k__Bacteria;p__Proteobacteria;c__Gammaproteoba...</td>\n",
       "    </tr>\n",
       "    <tr>\n",
       "      <th>k__Bacteria;p__Proteobacteria;c__Gammaproteobacteria;o__Enterobacterales;f__Enterobacteriaceae;g__Shigella;s__Shigella_flexneri</th>\n",
       "      <td>24</td>\n",
       "      <td>k__Bacteria;p__Proteobacteria;c__Gammaproteoba...</td>\n",
       "    </tr>\n",
       "    <tr>\n",
       "      <th>k__Viruses;p__dsDNA_viruses,_no_RNA_stage;c__;o__Caudovirales;f__Myoviridae;g__P1virus;s__Escherichia_virus_P1;t__</th>\n",
       "      <td>2</td>\n",
       "      <td>k__Viruses;p__dsDNA_viruses,_no_RNA_stage;c__;...</td>\n",
       "    </tr>\n",
       "    <tr>\n",
       "      <th>k__Bacteria;p__Proteobacteria;c__Gammaproteobacteria;o__Pasteurellales;f__Pasteurellaceae;g__Haemophilus;s__[Haemophilus]_ducreyi;t__Haemophilus_ducreyi_35000HP</th>\n",
       "      <td>1</td>\n",
       "      <td>k__Bacteria;p__Proteobacteria;c__Gammaproteoba...</td>\n",
       "    </tr>\n",
       "    <tr>\n",
       "      <th>k__Viruses;p__dsDNA_viruses,_no_RNA_stage;c__;o__Caudovirales;f__Myoviridae;g__P1virus;s__Escherichia_virus_P1</th>\n",
       "      <td>1</td>\n",
       "      <td>k__Viruses;p__dsDNA_viruses,_no_RNA_stage;c__;...</td>\n",
       "    </tr>\n",
       "    <tr>\n",
       "      <th>k__Bacteria;p__Proteobacteria;c__Gammaproteobacteria;o__Vibrionales;f__Vibrionaceae;g__Vibrio;s__Vibrio_anguillarum;t__Vibrio_anguillarum_775</th>\n",
       "      <td>1</td>\n",
       "      <td>k__Bacteria;p__Proteobacteria;c__Gammaproteoba...</td>\n",
       "    </tr>\n",
       "  </tbody>\n",
       "</table>\n",
       "</div>"
      ],
      "text/plain": [
       "                                                     ecoli  \\\n",
       "#OTU ID                                                      \n",
       "k__Bacteria;p__Proteobacteria;c__Gammaproteobac...  378213   \n",
       "k__Bacteria;p__Proteobacteria;c__Alphaproteobac...       5   \n",
       "k__Bacteria;p__Proteobacteria;c__Epsilonproteob...       2   \n",
       "k__Bacteria;p__Proteobacteria;c__Gammaproteobac...     467   \n",
       "k__Bacteria;p__Proteobacteria;c__Gammaproteobac...       2   \n",
       "k__Bacteria;p__Proteobacteria;c__Gammaproteobac...  224906   \n",
       "k__Bacteria;p__Proteobacteria;c__Gammaproteobac...       4   \n",
       "k__Bacteria;p__Proteobacteria;c__Gammaproteobac...       1   \n",
       "k__Bacteria;p__Proteobacteria;c__Gammaproteobac...       2   \n",
       "k__Bacteria;p__Proteobacteria;c__Gammaproteobac...       1   \n",
       "k__Bacteria;p__Proteobacteria;c__Gammaproteobac...    2118   \n",
       "k__Bacteria;p__Proteobacteria;c__Gammaproteobac...    2173   \n",
       "k__Bacteria;p__Proteobacteria;c__Gammaproteobac...     208   \n",
       "k__Bacteria;p__Proteobacteria;c__Gammaproteobac...       9   \n",
       "k__Bacteria;p__Proteobacteria;c__Gammaproteobac...    1293   \n",
       "k__Bacteria;p__Proteobacteria;c__Gammaproteobac...     148   \n",
       "k__Bacteria;p__Proteobacteria;c__Gammaproteobac...      94   \n",
       "k__Bacteria;p__Proteobacteria;c__Gammaproteobac...       1   \n",
       "k__Bacteria;p__Proteobacteria;c__Gammaproteobac...      10   \n",
       "k__Bacteria;p__Proteobacteria;c__Gammaproteobac...      24   \n",
       "k__Viruses;p__dsDNA_viruses,_no_RNA_stage;c__;o...       2   \n",
       "k__Bacteria;p__Proteobacteria;c__Gammaproteobac...       1   \n",
       "k__Viruses;p__dsDNA_viruses,_no_RNA_stage;c__;o...       1   \n",
       "k__Bacteria;p__Proteobacteria;c__Gammaproteobac...       1   \n",
       "\n",
       "                                                                                              summary  \n",
       "#OTU ID                                                                                                \n",
       "k__Bacteria;p__Proteobacteria;c__Gammaproteobac...  k__Bacteria;p__Proteobacteria;c__Gammaproteoba...  \n",
       "k__Bacteria;p__Proteobacteria;c__Alphaproteobac...  k__Bacteria;p__Proteobacteria;c__Alphaproteoba...  \n",
       "k__Bacteria;p__Proteobacteria;c__Epsilonproteob...  k__Bacteria;p__Proteobacteria;c__Epsilonproteo...  \n",
       "k__Bacteria;p__Proteobacteria;c__Gammaproteobac...  k__Bacteria;p__Proteobacteria;c__Gammaproteoba...  \n",
       "k__Bacteria;p__Proteobacteria;c__Gammaproteobac...  k__Bacteria;p__Proteobacteria;c__Gammaproteoba...  \n",
       "k__Bacteria;p__Proteobacteria;c__Gammaproteobac...  k__Bacteria;p__Proteobacteria;c__Gammaproteoba...  \n",
       "k__Bacteria;p__Proteobacteria;c__Gammaproteobac...  k__Bacteria;p__Proteobacteria;c__Gammaproteoba...  \n",
       "k__Bacteria;p__Proteobacteria;c__Gammaproteobac...  k__Bacteria;p__Proteobacteria;c__Gammaproteoba...  \n",
       "k__Bacteria;p__Proteobacteria;c__Gammaproteobac...  k__Bacteria;p__Proteobacteria;c__Gammaproteoba...  \n",
       "k__Bacteria;p__Proteobacteria;c__Gammaproteobac...  k__Bacteria;p__Proteobacteria;c__Gammaproteoba...  \n",
       "k__Bacteria;p__Proteobacteria;c__Gammaproteobac...  k__Bacteria;p__Proteobacteria;c__Gammaproteoba...  \n",
       "k__Bacteria;p__Proteobacteria;c__Gammaproteobac...  k__Bacteria;p__Proteobacteria;c__Gammaproteoba...  \n",
       "k__Bacteria;p__Proteobacteria;c__Gammaproteobac...  k__Bacteria;p__Proteobacteria;c__Gammaproteoba...  \n",
       "k__Bacteria;p__Proteobacteria;c__Gammaproteobac...  k__Bacteria;p__Proteobacteria;c__Gammaproteoba...  \n",
       "k__Bacteria;p__Proteobacteria;c__Gammaproteobac...  k__Bacteria;p__Proteobacteria;c__Gammaproteoba...  \n",
       "k__Bacteria;p__Proteobacteria;c__Gammaproteobac...  k__Bacteria;p__Proteobacteria;c__Gammaproteoba...  \n",
       "k__Bacteria;p__Proteobacteria;c__Gammaproteobac...  k__Bacteria;p__Proteobacteria;c__Gammaproteoba...  \n",
       "k__Bacteria;p__Proteobacteria;c__Gammaproteobac...  k__Bacteria;p__Proteobacteria;c__Gammaproteoba...  \n",
       "k__Bacteria;p__Proteobacteria;c__Gammaproteobac...  k__Bacteria;p__Proteobacteria;c__Gammaproteoba...  \n",
       "k__Bacteria;p__Proteobacteria;c__Gammaproteobac...  k__Bacteria;p__Proteobacteria;c__Gammaproteoba...  \n",
       "k__Viruses;p__dsDNA_viruses,_no_RNA_stage;c__;o...  k__Viruses;p__dsDNA_viruses,_no_RNA_stage;c__;...  \n",
       "k__Bacteria;p__Proteobacteria;c__Gammaproteobac...  k__Bacteria;p__Proteobacteria;c__Gammaproteoba...  \n",
       "k__Viruses;p__dsDNA_viruses,_no_RNA_stage;c__;o...  k__Viruses;p__dsDNA_viruses,_no_RNA_stage;c__;...  \n",
       "k__Bacteria;p__Proteobacteria;c__Gammaproteobac...  k__Bacteria;p__Proteobacteria;c__Gammaproteoba...  "
      ]
     },
     "execution_count": 6,
     "metadata": {},
     "output_type": "execute_result"
    }
   ],
   "source": [
    "taxatable"
   ]
  },
  {
   "cell_type": "code",
   "execution_count": 7,
   "metadata": {},
   "outputs": [
    {
     "data": {
      "text/html": [
       "<div>\n",
       "<table border=\"1\" class=\"dataframe\">\n",
       "  <thead>\n",
       "    <tr style=\"text-align: right;\">\n",
       "      <th></th>\n",
       "      <th>ecoli</th>\n",
       "    </tr>\n",
       "    <tr>\n",
       "      <th>#OTU ID</th>\n",
       "      <th></th>\n",
       "    </tr>\n",
       "  </thead>\n",
       "  <tbody>\n",
       "    <tr>\n",
       "      <th>k__Bacteria;p__Proteobacteria;c__Alphaproteobacteria;o__Rhizobiales;f__Rhizobiaceae;g__Agrobacterium;s__Agrobacterium_fabrum;t__Agrobacterium_fabrum_str._C58</th>\n",
       "      <td>5</td>\n",
       "    </tr>\n",
       "    <tr>\n",
       "      <th>k__Bacteria;p__Proteobacteria;c__Epsilonproteobacteria;o__Campylobacterales;f__Helicobacteraceae;g__Helicobacter;s__Helicobacter_mustelae;t__Helicobacter_mustelae_12198</th>\n",
       "      <td>2</td>\n",
       "    </tr>\n",
       "    <tr>\n",
       "      <th>k__Bacteria;p__Proteobacteria;c__Gammaproteobacteria;o__Chromatiales;f__Chromatiaceae;g__Lamprocystis;s__Lamprocystis_purpurea;t__Lamprocystis_purpurea_DSM_4197</th>\n",
       "      <td>469</td>\n",
       "    </tr>\n",
       "    <tr>\n",
       "      <th>k__Bacteria;p__Proteobacteria;c__Gammaproteobacteria;o__Enterobacterales;f__Enterobacteriaceae;g__Citrobacter;s__Citrobacter_amalonaticus;t__</th>\n",
       "      <td>2</td>\n",
       "    </tr>\n",
       "    <tr>\n",
       "      <th>k__Bacteria;p__Proteobacteria;c__Gammaproteobacteria;o__Enterobacterales;f__Enterobacteriaceae;g__Citrobacter;s__Citrobacter_freundii;t__Citrobacter_freundii_CFNIH1</th>\n",
       "      <td>1</td>\n",
       "    </tr>\n",
       "  </tbody>\n",
       "</table>\n",
       "</div>"
      ],
      "text/plain": [
       "                                                    ecoli\n",
       "#OTU ID                                                  \n",
       "k__Bacteria;p__Proteobacteria;c__Alphaproteobac...      5\n",
       "k__Bacteria;p__Proteobacteria;c__Epsilonproteob...      2\n",
       "k__Bacteria;p__Proteobacteria;c__Gammaproteobac...    469\n",
       "k__Bacteria;p__Proteobacteria;c__Gammaproteobac...      2\n",
       "k__Bacteria;p__Proteobacteria;c__Gammaproteobac...      1"
      ]
     },
     "execution_count": 7,
     "metadata": {},
     "output_type": "execute_result"
    }
   ],
   "source": [
    "strain_taxatable.head()"
   ]
  },
  {
   "cell_type": "code",
   "execution_count": 8,
   "metadata": {},
   "outputs": [
    {
     "data": {
      "text/html": [
       "<div>\n",
       "<table border=\"1\" class=\"dataframe\">\n",
       "  <thead>\n",
       "    <tr style=\"text-align: right;\">\n",
       "      <th></th>\n",
       "      <th>ecoli</th>\n",
       "    </tr>\n",
       "    <tr>\n",
       "      <th>#OTU ID</th>\n",
       "      <th></th>\n",
       "    </tr>\n",
       "  </thead>\n",
       "  <tbody>\n",
       "    <tr>\n",
       "      <th>k__Bacteria;p__Proteobacteria;c__Alphaproteobacteria;o__Rhizobiales;f__Rhizobiaceae;g__Agrobacterium;s__Agrobacterium_fabrum</th>\n",
       "      <td>5</td>\n",
       "    </tr>\n",
       "    <tr>\n",
       "      <th>k__Bacteria;p__Proteobacteria;c__Epsilonproteobacteria;o__Campylobacterales;f__Helicobacteraceae;g__Helicobacter;s__Helicobacter_mustelae</th>\n",
       "      <td>2</td>\n",
       "    </tr>\n",
       "    <tr>\n",
       "      <th>k__Bacteria;p__Proteobacteria;c__Gammaproteobacteria;o__Chromatiales;f__Chromatiaceae;g__Lamprocystis;s__Lamprocystis_purpurea</th>\n",
       "      <td>469</td>\n",
       "    </tr>\n",
       "    <tr>\n",
       "      <th>k__Bacteria;p__Proteobacteria;c__Gammaproteobacteria;o__Enterobacterales;f__Enterobacteriaceae;g__Citrobacter;s__Citrobacter_amalonaticus</th>\n",
       "      <td>2</td>\n",
       "    </tr>\n",
       "    <tr>\n",
       "      <th>k__Bacteria;p__Proteobacteria;c__Gammaproteobacteria;o__Enterobacterales;f__Enterobacteriaceae;g__Citrobacter;s__Citrobacter_freundii</th>\n",
       "      <td>1</td>\n",
       "    </tr>\n",
       "  </tbody>\n",
       "</table>\n",
       "</div>"
      ],
      "text/plain": [
       "                                                    ecoli\n",
       "#OTU ID                                                  \n",
       "k__Bacteria;p__Proteobacteria;c__Alphaproteobac...      5\n",
       "k__Bacteria;p__Proteobacteria;c__Epsilonproteob...      2\n",
       "k__Bacteria;p__Proteobacteria;c__Gammaproteobac...    469\n",
       "k__Bacteria;p__Proteobacteria;c__Gammaproteobac...      2\n",
       "k__Bacteria;p__Proteobacteria;c__Gammaproteobac...      1"
      ]
     },
     "execution_count": 8,
     "metadata": {},
     "output_type": "execute_result"
    }
   ],
   "source": [
    "species_taxatable.head()"
   ]
  },
  {
   "cell_type": "code",
   "execution_count": 9,
   "metadata": {},
   "outputs": [
    {
     "name": "stdout",
     "output_type": "stream",
     "text": [
      "ecoli    903333\n",
      "dtype: int64\n",
      "ecoli    609686\n",
      "dtype: int64\n"
     ]
    }
   ],
   "source": [
    "print(species_taxatable.sum())\n",
    "print(species_non_taxatable.sum())"
   ]
  },
  {
   "cell_type": "code",
   "execution_count": 10,
   "metadata": {},
   "outputs": [
    {
     "name": "stdout",
     "output_type": "stream",
     "text": [
      "ecoli    901987\n",
      "Name: k__Bacteria;p__Proteobacteria;c__Gammaproteobacteria;o__Enterobacterales;f__Enterobacteriaceae;g__Escherichia;s__Escherichia_coli, dtype: int64\n",
      "ecoli    0.99851\n",
      "dtype: float64\n"
     ]
    }
   ],
   "source": [
    "tp_ = species_taxatable.loc['k__Bacteria;p__Proteobacteria;c__Gammaproteobacteria;o__Enterobacterales;f__Enterobacteriaceae;g__Escherichia;s__Escherichia_coli']\n",
    "hit_percentage = tp_/species_taxatable.sum()\n",
    "print(tp_)\n",
    "print(hit_percentage)"
   ]
  },
  {
   "cell_type": "code",
   "execution_count": 11,
   "metadata": {},
   "outputs": [
    {
     "name": "stdout",
     "output_type": "stream",
     "text": [
      "ecoli    608920\n",
      "Name: k__Bacteria;p__Proteobacteria;c__Gammaproteobacteria;o__Enterobacterales;f__Enterobacteriaceae;g__Escherichia;s__Escherichia_coli, dtype: int64\n",
      "ecoli    0.998744\n",
      "dtype: float64\n"
     ]
    }
   ],
   "source": [
    "tp_non = species_non_taxatable.loc['k__Bacteria;p__Proteobacteria;c__Gammaproteobacteria;o__Enterobacterales;f__Enterobacteriaceae;g__Escherichia;s__Escherichia_coli']\n",
    "hit_non_percentage = tp_non/species_non_taxatable.sum()\n",
    "print(tp_non)\n",
    "print(hit_non_percentage)"
   ]
  },
  {
   "cell_type": "code",
   "execution_count": 12,
   "metadata": {},
   "outputs": [
    {
     "data": {
      "text/html": [
       "<div>\n",
       "<table border=\"1\" class=\"dataframe\">\n",
       "  <thead>\n",
       "    <tr style=\"text-align: right;\">\n",
       "      <th></th>\n",
       "      <th>ecoli</th>\n",
       "    </tr>\n",
       "    <tr>\n",
       "      <th>summary</th>\n",
       "      <th></th>\n",
       "    </tr>\n",
       "  </thead>\n",
       "  <tbody>\n",
       "    <tr>\n",
       "      <th>k__Bacteria;p__Proteobacteria;c__Alphaproteobacteria;o__Rhizobiales;f__Rhizobiaceae;g__Agrobacterium;s__Agrobacterium_fabrum</th>\n",
       "      <td>0</td>\n",
       "    </tr>\n",
       "    <tr>\n",
       "      <th>k__Bacteria;p__Proteobacteria;c__Epsilonproteobacteria;o__Campylobacterales;f__Helicobacteraceae;g__Helicobacter;s__Helicobacter_mustelae</th>\n",
       "      <td>0</td>\n",
       "    </tr>\n",
       "    <tr>\n",
       "      <th>k__Bacteria;p__Proteobacteria;c__Gammaproteobacteria;o__Chromatiales;f__Chromatiaceae;g__Lamprocystis;s__Lamprocystis_purpurea</th>\n",
       "      <td>0</td>\n",
       "    </tr>\n",
       "    <tr>\n",
       "      <th>k__Bacteria;p__Proteobacteria;c__Gammaproteobacteria;o__Enterobacterales;f__Enterobacteriaceae;g__Citrobacter;s__Citrobacter_amalonaticus</th>\n",
       "      <td>0</td>\n",
       "    </tr>\n",
       "    <tr>\n",
       "      <th>k__Bacteria;p__Proteobacteria;c__Gammaproteobacteria;o__Enterobacterales;f__Enterobacteriaceae;g__Citrobacter;s__Citrobacter_freundii</th>\n",
       "      <td>0</td>\n",
       "    </tr>\n",
       "    <tr>\n",
       "      <th>k__Bacteria;p__Proteobacteria;c__Gammaproteobacteria;o__Enterobacterales;f__Enterobacteriaceae;g__Cronobacter;s__Cronobacter_sakazakii</th>\n",
       "      <td>0</td>\n",
       "    </tr>\n",
       "    <tr>\n",
       "      <th>k__Bacteria;p__Proteobacteria;c__Gammaproteobacteria;o__Enterobacterales;f__Enterobacteriaceae;g__Enterobacter;s__Enterobacter_cloacae</th>\n",
       "      <td>0</td>\n",
       "    </tr>\n",
       "    <tr>\n",
       "      <th>k__Bacteria;p__Proteobacteria;c__Gammaproteobacteria;o__Enterobacterales;f__Enterobacteriaceae;g__Escherichia;s__Escherichia_coli</th>\n",
       "      <td>293067</td>\n",
       "    </tr>\n",
       "    <tr>\n",
       "      <th>k__Bacteria;p__Proteobacteria;c__Gammaproteobacteria;o__Enterobacterales;f__Enterobacteriaceae;g__Kluyvera;s__Kluyvera_intermedia</th>\n",
       "      <td>0</td>\n",
       "    </tr>\n",
       "    <tr>\n",
       "      <th>k__Bacteria;p__Proteobacteria;c__Gammaproteobacteria;o__Enterobacterales;f__Enterobacteriaceae;g__Shigella;s__Shigella_dysenteriae</th>\n",
       "      <td>183</td>\n",
       "    </tr>\n",
       "    <tr>\n",
       "      <th>k__Bacteria;p__Proteobacteria;c__Gammaproteobacteria;o__Enterobacterales;f__Enterobacteriaceae;g__Shigella;s__Shigella_flexneri</th>\n",
       "      <td>397</td>\n",
       "    </tr>\n",
       "    <tr>\n",
       "      <th>k__Bacteria;p__Proteobacteria;c__Gammaproteobacteria;o__Pasteurellales;f__Pasteurellaceae;g__Haemophilus;s__[Haemophilus]_ducreyi</th>\n",
       "      <td>0</td>\n",
       "    </tr>\n",
       "    <tr>\n",
       "      <th>k__Bacteria;p__Proteobacteria;c__Gammaproteobacteria;o__Vibrionales;f__Vibrionaceae;g__Vibrio;s__Vibrio_anguillarum</th>\n",
       "      <td>0</td>\n",
       "    </tr>\n",
       "    <tr>\n",
       "      <th>k__Viruses;p__dsDNA_viruses,_no_RNA_stage;c__;o__Caudovirales;f__Myoviridae;g__P1virus;s__Escherichia_virus_P1</th>\n",
       "      <td>0</td>\n",
       "    </tr>\n",
       "  </tbody>\n",
       "</table>\n",
       "</div>"
      ],
      "text/plain": [
       "                                                     ecoli\n",
       "summary                                                   \n",
       "k__Bacteria;p__Proteobacteria;c__Alphaproteobac...       0\n",
       "k__Bacteria;p__Proteobacteria;c__Epsilonproteob...       0\n",
       "k__Bacteria;p__Proteobacteria;c__Gammaproteobac...       0\n",
       "k__Bacteria;p__Proteobacteria;c__Gammaproteobac...       0\n",
       "k__Bacteria;p__Proteobacteria;c__Gammaproteobac...       0\n",
       "k__Bacteria;p__Proteobacteria;c__Gammaproteobac...       0\n",
       "k__Bacteria;p__Proteobacteria;c__Gammaproteobac...       0\n",
       "k__Bacteria;p__Proteobacteria;c__Gammaproteobac...  293067\n",
       "k__Bacteria;p__Proteobacteria;c__Gammaproteobac...       0\n",
       "k__Bacteria;p__Proteobacteria;c__Gammaproteobac...     183\n",
       "k__Bacteria;p__Proteobacteria;c__Gammaproteobac...     397\n",
       "k__Bacteria;p__Proteobacteria;c__Gammaproteobac...       0\n",
       "k__Bacteria;p__Proteobacteria;c__Gammaproteobac...       0\n",
       "k__Viruses;p__dsDNA_viruses,_no_RNA_stage;c__;o...       0"
      ]
     },
     "execution_count": 12,
     "metadata": {},
     "output_type": "execute_result"
    }
   ],
   "source": [
    "species_taxatable.loc[species_non_taxatable.index] - species_non_taxatable"
   ]
  },
  {
   "cell_type": "code",
   "execution_count": 13,
   "metadata": {
    "collapsed": true
   },
   "outputs": [],
   "source": [
    "taxatable = pd.read_csv(\"../data/single_strains/taxatable_kpneumodeep.txt\", sep=\"\\t\", index_col=0)\n",
    "strain_taxatable = pd.read_csv(\"../results/single_strains/taxatable_kpneumodeep.strain.txt\", sep=\"\\t\", index_col=0)\n",
    "species_taxatable = pd.read_csv(\"../results/single_strains/taxatable_kpneumodeep.species.txt\", sep=\"\\t\", index_col=0)\n",
    "genus_taxatable = pd.read_csv(\"../results/single_strains/taxatable_kpneumodeep.genus.txt\", sep=\"\\t\", index_col=0)"
   ]
  },
  {
   "cell_type": "code",
   "execution_count": 14,
   "metadata": {},
   "outputs": [
    {
     "data": {
      "text/html": [
       "<div>\n",
       "<table border=\"1\" class=\"dataframe\">\n",
       "  <thead>\n",
       "    <tr style=\"text-align: right;\">\n",
       "      <th></th>\n",
       "      <th>kneumoR1</th>\n",
       "      <th>kneumoR2</th>\n",
       "    </tr>\n",
       "    <tr>\n",
       "      <th>#OTU ID</th>\n",
       "      <th></th>\n",
       "      <th></th>\n",
       "    </tr>\n",
       "  </thead>\n",
       "  <tbody>\n",
       "    <tr>\n",
       "      <th>k__Bacteria;p__Actinobacteria;c__Actinobacteria;o__Micrococcales;f__Microbacteriaceae;g__Leucobacter;s__Leucobacter_sp._UCD-THU</th>\n",
       "      <td>22</td>\n",
       "      <td>18</td>\n",
       "    </tr>\n",
       "    <tr>\n",
       "      <th>k__Bacteria;p__Actinobacteria;c__Actinobacteria;o__Micrococcales;f__Microbacteriaceae;g__Microbacterium;s__Microbacterium_sp._C448</th>\n",
       "      <td>141</td>\n",
       "      <td>92</td>\n",
       "    </tr>\n",
       "    <tr>\n",
       "      <th>k__Bacteria;p__Actinobacteria;c__Actinobacteria;o__Micrococcales;f__Micrococcaceae;g__Rothia;s__Rothia_dentocariosa</th>\n",
       "      <td>1</td>\n",
       "      <td>1</td>\n",
       "    </tr>\n",
       "    <tr>\n",
       "      <th>k__Bacteria;p__Actinobacteria;c__Actinobacteria;o__Propionibacteriales;f__Propionibacteriaceae;g__Cutibacterium;s__Cutibacterium_acnes</th>\n",
       "      <td>1</td>\n",
       "      <td>1</td>\n",
       "    </tr>\n",
       "    <tr>\n",
       "      <th>k__Bacteria;p__Firmicutes;c__Bacilli;o__Bacillales;f__Staphylococcaceae;g__Staphylococcus;s__Staphylococcus_aureus</th>\n",
       "      <td>1056</td>\n",
       "      <td>729</td>\n",
       "    </tr>\n",
       "    <tr>\n",
       "      <th>k__Bacteria;p__Firmicutes;c__Bacilli;o__Bacillales;f__Staphylococcaceae;g__Staphylococcus;s__Staphylococcus_epidermidis</th>\n",
       "      <td>6</td>\n",
       "      <td>4</td>\n",
       "    </tr>\n",
       "    <tr>\n",
       "      <th>k__Bacteria;p__Firmicutes;c__Bacilli;o__Bacillales;f__Staphylococcaceae;g__Staphylococcus;s__Staphylococcus_haemolyticus</th>\n",
       "      <td>1</td>\n",
       "      <td>2</td>\n",
       "    </tr>\n",
       "    <tr>\n",
       "      <th>k__Bacteria;p__Firmicutes;c__Bacilli;o__Bacillales;f__Staphylococcaceae;g__Staphylococcus;s__Staphylococcus_lugdunensis</th>\n",
       "      <td>0</td>\n",
       "      <td>1</td>\n",
       "    </tr>\n",
       "    <tr>\n",
       "      <th>k__Bacteria;p__Firmicutes;c__Bacilli;o__Bacillales;f__Staphylococcaceae;g__Staphylococcus;s__Staphylococcus_xylosus</th>\n",
       "      <td>1</td>\n",
       "      <td>0</td>\n",
       "    </tr>\n",
       "    <tr>\n",
       "      <th>k__Bacteria;p__Firmicutes;c__Bacilli;o__Lactobacillales;f__Streptococcaceae;g__Streptococcus;s__Streptococcus_mitis</th>\n",
       "      <td>1</td>\n",
       "      <td>2</td>\n",
       "    </tr>\n",
       "    <tr>\n",
       "      <th>k__Bacteria;p__Firmicutes;c__Clostridia;o__Clostridiales;f__Eubacteriaceae;g__Eubacterium;s__Eubacterium_ramulus</th>\n",
       "      <td>1</td>\n",
       "      <td>1</td>\n",
       "    </tr>\n",
       "    <tr>\n",
       "      <th>k__Bacteria;p__Firmicutes;c__Clostridia;o__Clostridiales;f__Peptostreptococcaceae;g__Clostridioides;s__Clostridioides_difficile</th>\n",
       "      <td>1</td>\n",
       "      <td>0</td>\n",
       "    </tr>\n",
       "    <tr>\n",
       "      <th>k__Bacteria;p__Proteobacteria;c__Alphaproteobacteria;o__Rhizobiales;f__Bradyrhizobiaceae;g__Rhodopseudomonas;s__Rhodopseudomonas_palustris</th>\n",
       "      <td>3</td>\n",
       "      <td>1</td>\n",
       "    </tr>\n",
       "    <tr>\n",
       "      <th>k__Bacteria;p__Proteobacteria;c__Betaproteobacteria;o__Burkholderiales;f__;g__Rhizobacter;s__Rhizobacter_sp._Root404</th>\n",
       "      <td>1</td>\n",
       "      <td>0</td>\n",
       "    </tr>\n",
       "    <tr>\n",
       "      <th>k__Bacteria;p__Proteobacteria;c__Gammaproteobacteria;o__Aeromonadales;f__Aeromonadaceae;g__Aeromonas;s__Aeromonas_hydrophila</th>\n",
       "      <td>3</td>\n",
       "      <td>1</td>\n",
       "    </tr>\n",
       "    <tr>\n",
       "      <th>k__Bacteria;p__Proteobacteria;c__Gammaproteobacteria;o__Aeromonadales;f__Aeromonadaceae;g__Aeromonas;s__Aeromonas_simiae</th>\n",
       "      <td>155</td>\n",
       "      <td>135</td>\n",
       "    </tr>\n",
       "    <tr>\n",
       "      <th>k__Bacteria;p__Proteobacteria;c__Gammaproteobacteria;o__Alteromonadales;f__Moritellaceae;g__Moritella;s__Moritella_viscosa</th>\n",
       "      <td>0</td>\n",
       "      <td>1</td>\n",
       "    </tr>\n",
       "    <tr>\n",
       "      <th>k__Bacteria;p__Proteobacteria;c__Gammaproteobacteria;o__Enterobacterales;f__Enterobacteriaceae;g__;s__Plautia_stali_symbiont</th>\n",
       "      <td>14</td>\n",
       "      <td>14</td>\n",
       "    </tr>\n",
       "    <tr>\n",
       "      <th>k__Bacteria;p__Proteobacteria;c__Gammaproteobacteria;o__Enterobacterales;f__Enterobacteriaceae;g__Cedecea;s__Cedecea_neteri</th>\n",
       "      <td>547</td>\n",
       "      <td>530</td>\n",
       "    </tr>\n",
       "    <tr>\n",
       "      <th>k__Bacteria;p__Proteobacteria;c__Gammaproteobacteria;o__Enterobacterales;f__Enterobacteriaceae;g__Citrobacter;s__Citrobacter_amalonaticus</th>\n",
       "      <td>268</td>\n",
       "      <td>223</td>\n",
       "    </tr>\n",
       "    <tr>\n",
       "      <th>k__Bacteria;p__Proteobacteria;c__Gammaproteobacteria;o__Enterobacterales;f__Enterobacteriaceae;g__Citrobacter;s__Citrobacter_freundii</th>\n",
       "      <td>650</td>\n",
       "      <td>694</td>\n",
       "    </tr>\n",
       "    <tr>\n",
       "      <th>k__Bacteria;p__Proteobacteria;c__Gammaproteobacteria;o__Enterobacterales;f__Enterobacteriaceae;g__Cronobacter;s__Cronobacter_sakazakii</th>\n",
       "      <td>81</td>\n",
       "      <td>66</td>\n",
       "    </tr>\n",
       "    <tr>\n",
       "      <th>k__Bacteria;p__Proteobacteria;c__Gammaproteobacteria;o__Enterobacterales;f__Enterobacteriaceae;g__Enterobacter;s__Enterobacter_cloacae</th>\n",
       "      <td>339</td>\n",
       "      <td>339</td>\n",
       "    </tr>\n",
       "    <tr>\n",
       "      <th>k__Bacteria;p__Proteobacteria;c__Gammaproteobacteria;o__Enterobacterales;f__Enterobacteriaceae;g__Enterobacter;s__Enterobacter_lignolyticus</th>\n",
       "      <td>192</td>\n",
       "      <td>173</td>\n",
       "    </tr>\n",
       "    <tr>\n",
       "      <th>k__Bacteria;p__Proteobacteria;c__Gammaproteobacteria;o__Enterobacterales;f__Enterobacteriaceae;g__Enterobacter;s__Enterobacter_sp._638</th>\n",
       "      <td>59</td>\n",
       "      <td>54</td>\n",
       "    </tr>\n",
       "    <tr>\n",
       "      <th>k__Bacteria;p__Proteobacteria;c__Gammaproteobacteria;o__Enterobacterales;f__Enterobacteriaceae;g__Escherichia;s__Escherichia_coli</th>\n",
       "      <td>1899</td>\n",
       "      <td>1828</td>\n",
       "    </tr>\n",
       "    <tr>\n",
       "      <th>k__Bacteria;p__Proteobacteria;c__Gammaproteobacteria;o__Enterobacterales;f__Enterobacteriaceae;g__Franconibacter;s__Franconibacter_pulveris</th>\n",
       "      <td>56</td>\n",
       "      <td>44</td>\n",
       "    </tr>\n",
       "    <tr>\n",
       "      <th>k__Bacteria;p__Proteobacteria;c__Gammaproteobacteria;o__Enterobacterales;f__Enterobacteriaceae;g__Klebsiella;s__Klebsiella_oxytoca</th>\n",
       "      <td>20116</td>\n",
       "      <td>18640</td>\n",
       "    </tr>\n",
       "    <tr>\n",
       "      <th>k__Bacteria;p__Proteobacteria;c__Gammaproteobacteria;o__Enterobacterales;f__Enterobacteriaceae;g__Klebsiella;s__Klebsiella_pneumoniae</th>\n",
       "      <td>291098</td>\n",
       "      <td>259470</td>\n",
       "    </tr>\n",
       "    <tr>\n",
       "      <th>k__Bacteria;p__Proteobacteria;c__Gammaproteobacteria;o__Enterobacterales;f__Enterobacteriaceae;g__Klebsiella;s__[Enterobacter]_aerogenes</th>\n",
       "      <td>21995</td>\n",
       "      <td>19861</td>\n",
       "    </tr>\n",
       "    <tr>\n",
       "      <th>...</th>\n",
       "      <td>...</td>\n",
       "      <td>...</td>\n",
       "    </tr>\n",
       "    <tr>\n",
       "      <th>k__Bacteria;p__Proteobacteria;c__Gammaproteobacteria;o__Enterobacterales;f__Erwiniaceae;g__Erwinia;s__Erwinia_tracheiphila</th>\n",
       "      <td>62</td>\n",
       "      <td>53</td>\n",
       "    </tr>\n",
       "    <tr>\n",
       "      <th>k__Bacteria;p__Proteobacteria;c__Gammaproteobacteria;o__Enterobacterales;f__Erwiniaceae;g__Pantoea;s__Pantoea_agglomerans</th>\n",
       "      <td>164</td>\n",
       "      <td>168</td>\n",
       "    </tr>\n",
       "    <tr>\n",
       "      <th>k__Bacteria;p__Proteobacteria;c__Gammaproteobacteria;o__Enterobacterales;f__Erwiniaceae;g__Pantoea;s__Pantoea_ananatis</th>\n",
       "      <td>1</td>\n",
       "      <td>0</td>\n",
       "    </tr>\n",
       "    <tr>\n",
       "      <th>k__Bacteria;p__Proteobacteria;c__Gammaproteobacteria;o__Enterobacterales;f__Erwiniaceae;g__Pantoea;s__Pantoea_rwandensis</th>\n",
       "      <td>2</td>\n",
       "      <td>11</td>\n",
       "    </tr>\n",
       "    <tr>\n",
       "      <th>k__Bacteria;p__Proteobacteria;c__Gammaproteobacteria;o__Enterobacterales;f__Erwiniaceae;g__Pantoea;s__Pantoea_sp._PSNIH2</th>\n",
       "      <td>20238</td>\n",
       "      <td>19231</td>\n",
       "    </tr>\n",
       "    <tr>\n",
       "      <th>k__Bacteria;p__Proteobacteria;c__Gammaproteobacteria;o__Enterobacterales;f__Hafniaceae;g__Edwardsiella;s__Edwardsiella_ictaluri</th>\n",
       "      <td>247</td>\n",
       "      <td>193</td>\n",
       "    </tr>\n",
       "    <tr>\n",
       "      <th>k__Bacteria;p__Proteobacteria;c__Gammaproteobacteria;o__Enterobacterales;f__Hafniaceae;g__Obesumbacterium;s__Obesumbacterium_proteus</th>\n",
       "      <td>12</td>\n",
       "      <td>9</td>\n",
       "    </tr>\n",
       "    <tr>\n",
       "      <th>k__Bacteria;p__Proteobacteria;c__Gammaproteobacteria;o__Enterobacterales;f__Morganellaceae;g__Morganella;s__Morganella_morganii</th>\n",
       "      <td>4</td>\n",
       "      <td>2</td>\n",
       "    </tr>\n",
       "    <tr>\n",
       "      <th>k__Bacteria;p__Proteobacteria;c__Gammaproteobacteria;o__Enterobacterales;f__Morganellaceae;g__Providencia;s__Providencia_rettgeri</th>\n",
       "      <td>1</td>\n",
       "      <td>0</td>\n",
       "    </tr>\n",
       "    <tr>\n",
       "      <th>k__Bacteria;p__Proteobacteria;c__Gammaproteobacteria;o__Enterobacterales;f__Morganellaceae;g__Xenorhabdus;s__Xenorhabdus_doucetiae</th>\n",
       "      <td>0</td>\n",
       "      <td>1</td>\n",
       "    </tr>\n",
       "    <tr>\n",
       "      <th>k__Bacteria;p__Proteobacteria;c__Gammaproteobacteria;o__Enterobacterales;f__Pectobacteriaceae;g__Dickeya;s__Dickeya_dadantii</th>\n",
       "      <td>4</td>\n",
       "      <td>2</td>\n",
       "    </tr>\n",
       "    <tr>\n",
       "      <th>k__Bacteria;p__Proteobacteria;c__Gammaproteobacteria;o__Enterobacterales;f__Pectobacteriaceae;g__Sodalis;s__Sodalis_praecaptivus</th>\n",
       "      <td>28</td>\n",
       "      <td>39</td>\n",
       "    </tr>\n",
       "    <tr>\n",
       "      <th>k__Bacteria;p__Proteobacteria;c__Gammaproteobacteria;o__Enterobacterales;f__Yersiniaceae;g__Chania;s__Chania_multitudinisentens</th>\n",
       "      <td>22</td>\n",
       "      <td>19</td>\n",
       "    </tr>\n",
       "    <tr>\n",
       "      <th>k__Bacteria;p__Proteobacteria;c__Gammaproteobacteria;o__Enterobacterales;f__Yersiniaceae;g__Rahnella;s__Rahnella_aquatilis</th>\n",
       "      <td>416</td>\n",
       "      <td>344</td>\n",
       "    </tr>\n",
       "    <tr>\n",
       "      <th>k__Bacteria;p__Proteobacteria;c__Gammaproteobacteria;o__Enterobacterales;f__Yersiniaceae;g__Serratia;s__Serratia_fonticola</th>\n",
       "      <td>2</td>\n",
       "      <td>0</td>\n",
       "    </tr>\n",
       "    <tr>\n",
       "      <th>k__Bacteria;p__Proteobacteria;c__Gammaproteobacteria;o__Enterobacterales;f__Yersiniaceae;g__Serratia;s__Serratia_liquefaciens</th>\n",
       "      <td>0</td>\n",
       "      <td>1</td>\n",
       "    </tr>\n",
       "    <tr>\n",
       "      <th>k__Bacteria;p__Proteobacteria;c__Gammaproteobacteria;o__Enterobacterales;f__Yersiniaceae;g__Serratia;s__Serratia_odorifera</th>\n",
       "      <td>29</td>\n",
       "      <td>25</td>\n",
       "    </tr>\n",
       "    <tr>\n",
       "      <th>k__Bacteria;p__Proteobacteria;c__Gammaproteobacteria;o__Enterobacterales;f__Yersiniaceae;g__Serratia;s__Serratia_rubidaea</th>\n",
       "      <td>10</td>\n",
       "      <td>12</td>\n",
       "    </tr>\n",
       "    <tr>\n",
       "      <th>k__Bacteria;p__Proteobacteria;c__Gammaproteobacteria;o__Enterobacterales;f__Yersiniaceae;g__Yersinia;s__Yersinia_enterocolitica</th>\n",
       "      <td>6</td>\n",
       "      <td>16</td>\n",
       "    </tr>\n",
       "    <tr>\n",
       "      <th>k__Bacteria;p__Proteobacteria;c__Gammaproteobacteria;o__Oceanospirillales;f__Halomonadaceae;g__Zymobacter;s__Zymobacter_palmae</th>\n",
       "      <td>13</td>\n",
       "      <td>17</td>\n",
       "    </tr>\n",
       "    <tr>\n",
       "      <th>k__Bacteria;p__Proteobacteria;c__Gammaproteobacteria;o__Pseudomonadales;f__Moraxellaceae;g__Acinetobacter;s__Acinetobacter_johnsonii</th>\n",
       "      <td>644</td>\n",
       "      <td>642</td>\n",
       "    </tr>\n",
       "    <tr>\n",
       "      <th>k__Bacteria;p__Proteobacteria;c__Gammaproteobacteria;o__Pseudomonadales;f__Pseudomonadaceae;g__Pseudomonas;s__Pseudomonas_protegens</th>\n",
       "      <td>0</td>\n",
       "      <td>1</td>\n",
       "    </tr>\n",
       "    <tr>\n",
       "      <th>k__Viruses;p__dsDNA_viruses,_no_RNA_stage;c__;o__;f__;g__;s__Staphylococcus_phage_PT1028</th>\n",
       "      <td>1</td>\n",
       "      <td>1</td>\n",
       "    </tr>\n",
       "    <tr>\n",
       "      <th>k__Viruses;p__dsDNA_viruses,_no_RNA_stage;c__;o__Caudovirales;f__Siphoviridae;g__;s__Staphylococcus_phage_PVL</th>\n",
       "      <td>2</td>\n",
       "      <td>0</td>\n",
       "    </tr>\n",
       "    <tr>\n",
       "      <th>k__Viruses;p__dsDNA_viruses,_no_RNA_stage;c__;o__Caudovirales;f__Siphoviridae;g__;s__Staphylococcus_phage_StauST398-4</th>\n",
       "      <td>2</td>\n",
       "      <td>0</td>\n",
       "    </tr>\n",
       "    <tr>\n",
       "      <th>k__Viruses;p__dsDNA_viruses,_no_RNA_stage;c__;o__Caudovirales;f__Siphoviridae;g__;s__Staphylococcus_prophage_phiPV83</th>\n",
       "      <td>2</td>\n",
       "      <td>0</td>\n",
       "    </tr>\n",
       "    <tr>\n",
       "      <th>k__Viruses;p__dsDNA_viruses,_no_RNA_stage;c__;o__Caudovirales;f__Siphoviridae;g__Biseptimavirus;s__Staphylococcus_phage_Pvl108</th>\n",
       "      <td>1</td>\n",
       "      <td>0</td>\n",
       "    </tr>\n",
       "    <tr>\n",
       "      <th>k__Viruses;p__dsDNA_viruses,_no_RNA_stage;c__;o__Caudovirales;f__Siphoviridae;g__Phietavirus;s__</th>\n",
       "      <td>1</td>\n",
       "      <td>0</td>\n",
       "    </tr>\n",
       "    <tr>\n",
       "      <th>k__Viruses;p__dsDNA_viruses,_no_RNA_stage;c__;o__Caudovirales;f__Siphoviridae;g__Triavirus;s__Staphylococcus_phage_3A</th>\n",
       "      <td>1</td>\n",
       "      <td>9</td>\n",
       "    </tr>\n",
       "    <tr>\n",
       "      <th>k__Viruses;p__unclassified_bacterial_viruses;c__;o__;f__;g__;s__Staphylococcus_phage_tp310-3</th>\n",
       "      <td>1</td>\n",
       "      <td>3</td>\n",
       "    </tr>\n",
       "  </tbody>\n",
       "</table>\n",
       "<p>75 rows × 2 columns</p>\n",
       "</div>"
      ],
      "text/plain": [
       "                                                    kneumoR1  kneumoR2\n",
       "#OTU ID                                                               \n",
       "k__Bacteria;p__Actinobacteria;c__Actinobacteria...        22        18\n",
       "k__Bacteria;p__Actinobacteria;c__Actinobacteria...       141        92\n",
       "k__Bacteria;p__Actinobacteria;c__Actinobacteria...         1         1\n",
       "k__Bacteria;p__Actinobacteria;c__Actinobacteria...         1         1\n",
       "k__Bacteria;p__Firmicutes;c__Bacilli;o__Bacilla...      1056       729\n",
       "k__Bacteria;p__Firmicutes;c__Bacilli;o__Bacilla...         6         4\n",
       "k__Bacteria;p__Firmicutes;c__Bacilli;o__Bacilla...         1         2\n",
       "k__Bacteria;p__Firmicutes;c__Bacilli;o__Bacilla...         0         1\n",
       "k__Bacteria;p__Firmicutes;c__Bacilli;o__Bacilla...         1         0\n",
       "k__Bacteria;p__Firmicutes;c__Bacilli;o__Lactoba...         1         2\n",
       "k__Bacteria;p__Firmicutes;c__Clostridia;o__Clos...         1         1\n",
       "k__Bacteria;p__Firmicutes;c__Clostridia;o__Clos...         1         0\n",
       "k__Bacteria;p__Proteobacteria;c__Alphaproteobac...         3         1\n",
       "k__Bacteria;p__Proteobacteria;c__Betaproteobact...         1         0\n",
       "k__Bacteria;p__Proteobacteria;c__Gammaproteobac...         3         1\n",
       "k__Bacteria;p__Proteobacteria;c__Gammaproteobac...       155       135\n",
       "k__Bacteria;p__Proteobacteria;c__Gammaproteobac...         0         1\n",
       "k__Bacteria;p__Proteobacteria;c__Gammaproteobac...        14        14\n",
       "k__Bacteria;p__Proteobacteria;c__Gammaproteobac...       547       530\n",
       "k__Bacteria;p__Proteobacteria;c__Gammaproteobac...       268       223\n",
       "k__Bacteria;p__Proteobacteria;c__Gammaproteobac...       650       694\n",
       "k__Bacteria;p__Proteobacteria;c__Gammaproteobac...        81        66\n",
       "k__Bacteria;p__Proteobacteria;c__Gammaproteobac...       339       339\n",
       "k__Bacteria;p__Proteobacteria;c__Gammaproteobac...       192       173\n",
       "k__Bacteria;p__Proteobacteria;c__Gammaproteobac...        59        54\n",
       "k__Bacteria;p__Proteobacteria;c__Gammaproteobac...      1899      1828\n",
       "k__Bacteria;p__Proteobacteria;c__Gammaproteobac...        56        44\n",
       "k__Bacteria;p__Proteobacteria;c__Gammaproteobac...     20116     18640\n",
       "k__Bacteria;p__Proteobacteria;c__Gammaproteobac...    291098    259470\n",
       "k__Bacteria;p__Proteobacteria;c__Gammaproteobac...     21995     19861\n",
       "...                                                      ...       ...\n",
       "k__Bacteria;p__Proteobacteria;c__Gammaproteobac...        62        53\n",
       "k__Bacteria;p__Proteobacteria;c__Gammaproteobac...       164       168\n",
       "k__Bacteria;p__Proteobacteria;c__Gammaproteobac...         1         0\n",
       "k__Bacteria;p__Proteobacteria;c__Gammaproteobac...         2        11\n",
       "k__Bacteria;p__Proteobacteria;c__Gammaproteobac...     20238     19231\n",
       "k__Bacteria;p__Proteobacteria;c__Gammaproteobac...       247       193\n",
       "k__Bacteria;p__Proteobacteria;c__Gammaproteobac...        12         9\n",
       "k__Bacteria;p__Proteobacteria;c__Gammaproteobac...         4         2\n",
       "k__Bacteria;p__Proteobacteria;c__Gammaproteobac...         1         0\n",
       "k__Bacteria;p__Proteobacteria;c__Gammaproteobac...         0         1\n",
       "k__Bacteria;p__Proteobacteria;c__Gammaproteobac...         4         2\n",
       "k__Bacteria;p__Proteobacteria;c__Gammaproteobac...        28        39\n",
       "k__Bacteria;p__Proteobacteria;c__Gammaproteobac...        22        19\n",
       "k__Bacteria;p__Proteobacteria;c__Gammaproteobac...       416       344\n",
       "k__Bacteria;p__Proteobacteria;c__Gammaproteobac...         2         0\n",
       "k__Bacteria;p__Proteobacteria;c__Gammaproteobac...         0         1\n",
       "k__Bacteria;p__Proteobacteria;c__Gammaproteobac...        29        25\n",
       "k__Bacteria;p__Proteobacteria;c__Gammaproteobac...        10        12\n",
       "k__Bacteria;p__Proteobacteria;c__Gammaproteobac...         6        16\n",
       "k__Bacteria;p__Proteobacteria;c__Gammaproteobac...        13        17\n",
       "k__Bacteria;p__Proteobacteria;c__Gammaproteobac...       644       642\n",
       "k__Bacteria;p__Proteobacteria;c__Gammaproteobac...         0         1\n",
       "k__Viruses;p__dsDNA_viruses,_no_RNA_stage;c__;o...         1         1\n",
       "k__Viruses;p__dsDNA_viruses,_no_RNA_stage;c__;o...         2         0\n",
       "k__Viruses;p__dsDNA_viruses,_no_RNA_stage;c__;o...         2         0\n",
       "k__Viruses;p__dsDNA_viruses,_no_RNA_stage;c__;o...         2         0\n",
       "k__Viruses;p__dsDNA_viruses,_no_RNA_stage;c__;o...         1         0\n",
       "k__Viruses;p__dsDNA_viruses,_no_RNA_stage;c__;o...         1         0\n",
       "k__Viruses;p__dsDNA_viruses,_no_RNA_stage;c__;o...         1         9\n",
       "k__Viruses;p__unclassified_bacterial_viruses;c_...         1         3\n",
       "\n",
       "[75 rows x 2 columns]"
      ]
     },
     "execution_count": 14,
     "metadata": {},
     "output_type": "execute_result"
    }
   ],
   "source": [
    "species_taxatable"
   ]
  },
  {
   "cell_type": "code",
   "execution_count": 15,
   "metadata": {},
   "outputs": [
    {
     "name": "stdout",
     "output_type": "stream",
     "text": [
      "kneumoR1    291098\n",
      "kneumoR2    259470\n",
      "Name: k__Bacteria;p__Proteobacteria;c__Gammaproteobacteria;o__Enterobacterales;f__Enterobacteriaceae;g__Klebsiella;s__Klebsiella_pneumoniae, dtype: int64\n",
      "kneumoR1    0.804674\n",
      "kneumoR2    0.798831\n",
      "dtype: float64\n"
     ]
    }
   ],
   "source": [
    "tp_ = species_taxatable.loc['k__Bacteria;p__Proteobacteria;c__Gammaproteobacteria;o__Enterobacterales;f__Enterobacteriaceae;g__Klebsiella;s__Klebsiella_pneumoniae']\n",
    "hit_percentage = tp_/species_taxatable.sum()\n",
    "print(tp_)\n",
    "print(hit_percentage)"
   ]
  },
  {
   "cell_type": "code",
   "execution_count": 16,
   "metadata": {},
   "outputs": [
    {
     "name": "stdout",
     "output_type": "stream",
     "text": [
      "kneumoR1    243238\n",
      "kneumoR2    215647\n",
      "Name: k__Bacteria;p__Proteobacteria;c__Gammaproteobacteria;o__Enterobacterales;f__Enterobacteriaceae;g__Klebsiella;s__Klebsiella_pneumoniae, dtype: int64\n",
      "kneumoR1    0.816134\n",
      "kneumoR2    0.811389\n",
      "dtype: float64\n"
     ]
    }
   ],
   "source": [
    "# Filter out the NaNs\n",
    "taxatable = taxatable[[type(_) == str for _ in taxatable.index]]\n",
    "\n",
    "# Filter to Only Species\n",
    "taxatable['level'] = [_.count(';') for _ in taxatable.index]\n",
    "taxatable = taxatable[taxatable['level'] >= 6]\n",
    "strain_stats = taxatable[taxatable['level'] >= 7]\n",
    "taxatable = taxatable.drop('level', axis=1)\n",
    "\n",
    "\n",
    "# Summarize at Species\n",
    "taxatable['summary'] = [';'.join(_.split(';')[:7]) for _ in taxatable.index]\n",
    "species_non_taxatable = taxatable.groupby('summary').sum()\n",
    "\n",
    "tp_non = species_non_taxatable.loc['k__Bacteria;p__Proteobacteria;c__Gammaproteobacteria;o__Enterobacterales;f__Enterobacteriaceae;g__Klebsiella;s__Klebsiella_pneumoniae']\n",
    "hit_non_percentage = tp_non/species_non_taxatable.sum()\n",
    "print(tp_non)\n",
    "print(hit_non_percentage)"
   ]
  },
  {
   "cell_type": "code",
   "execution_count": 17,
   "metadata": {},
   "outputs": [
    {
     "data": {
      "text/html": [
       "<div>\n",
       "<table border=\"1\" class=\"dataframe\">\n",
       "  <thead>\n",
       "    <tr style=\"text-align: right;\">\n",
       "      <th></th>\n",
       "      <th>kneumoR1</th>\n",
       "      <th>kneumoR2</th>\n",
       "    </tr>\n",
       "    <tr>\n",
       "      <th>summary</th>\n",
       "      <th></th>\n",
       "      <th></th>\n",
       "    </tr>\n",
       "  </thead>\n",
       "  <tbody>\n",
       "    <tr>\n",
       "      <th>k__Bacteria;p__Actinobacteria;c__Actinobacteria;o__Micrococcales;f__Microbacteriaceae;g__Leucobacter;s__Leucobacter_sp._UCD-THU</th>\n",
       "      <td>0</td>\n",
       "      <td>0</td>\n",
       "    </tr>\n",
       "    <tr>\n",
       "      <th>k__Bacteria;p__Actinobacteria;c__Actinobacteria;o__Micrococcales;f__Microbacteriaceae;g__Microbacterium;s__Microbacterium_sp._C448</th>\n",
       "      <td>1</td>\n",
       "      <td>1</td>\n",
       "    </tr>\n",
       "    <tr>\n",
       "      <th>k__Bacteria;p__Actinobacteria;c__Actinobacteria;o__Micrococcales;f__Micrococcaceae;g__Rothia;s__Rothia_dentocariosa</th>\n",
       "      <td>0</td>\n",
       "      <td>0</td>\n",
       "    </tr>\n",
       "    <tr>\n",
       "      <th>k__Bacteria;p__Actinobacteria;c__Actinobacteria;o__Propionibacteriales;f__Propionibacteriaceae;g__Cutibacterium;s__Cutibacterium_acnes</th>\n",
       "      <td>0</td>\n",
       "      <td>0</td>\n",
       "    </tr>\n",
       "    <tr>\n",
       "      <th>k__Bacteria;p__Firmicutes;c__Bacilli;o__Bacillales;f__Staphylococcaceae;g__Staphylococcus;s__Staphylococcus_aureus</th>\n",
       "      <td>103</td>\n",
       "      <td>79</td>\n",
       "    </tr>\n",
       "    <tr>\n",
       "      <th>k__Bacteria;p__Firmicutes;c__Bacilli;o__Bacillales;f__Staphylococcaceae;g__Staphylococcus;s__Staphylococcus_epidermidis</th>\n",
       "      <td>0</td>\n",
       "      <td>0</td>\n",
       "    </tr>\n",
       "    <tr>\n",
       "      <th>k__Bacteria;p__Firmicutes;c__Bacilli;o__Bacillales;f__Staphylococcaceae;g__Staphylococcus;s__Staphylococcus_haemolyticus</th>\n",
       "      <td>0</td>\n",
       "      <td>0</td>\n",
       "    </tr>\n",
       "    <tr>\n",
       "      <th>k__Bacteria;p__Firmicutes;c__Bacilli;o__Bacillales;f__Staphylococcaceae;g__Staphylococcus;s__Staphylococcus_lugdunensis</th>\n",
       "      <td>0</td>\n",
       "      <td>0</td>\n",
       "    </tr>\n",
       "    <tr>\n",
       "      <th>k__Bacteria;p__Firmicutes;c__Bacilli;o__Bacillales;f__Staphylococcaceae;g__Staphylococcus;s__Staphylococcus_xylosus</th>\n",
       "      <td>0</td>\n",
       "      <td>0</td>\n",
       "    </tr>\n",
       "    <tr>\n",
       "      <th>k__Bacteria;p__Firmicutes;c__Bacilli;o__Lactobacillales;f__Streptococcaceae;g__Streptococcus;s__Streptococcus_mitis</th>\n",
       "      <td>0</td>\n",
       "      <td>1</td>\n",
       "    </tr>\n",
       "    <tr>\n",
       "      <th>k__Bacteria;p__Firmicutes;c__Clostridia;o__Clostridiales;f__Eubacteriaceae;g__Eubacterium;s__Eubacterium_ramulus</th>\n",
       "      <td>0</td>\n",
       "      <td>0</td>\n",
       "    </tr>\n",
       "    <tr>\n",
       "      <th>k__Bacteria;p__Firmicutes;c__Clostridia;o__Clostridiales;f__Peptostreptococcaceae;g__Clostridioides;s__Clostridioides_difficile</th>\n",
       "      <td>0</td>\n",
       "      <td>0</td>\n",
       "    </tr>\n",
       "    <tr>\n",
       "      <th>k__Bacteria;p__Proteobacteria;c__Alphaproteobacteria;o__Rhizobiales;f__Bradyrhizobiaceae;g__Rhodopseudomonas;s__Rhodopseudomonas_palustris</th>\n",
       "      <td>0</td>\n",
       "      <td>0</td>\n",
       "    </tr>\n",
       "    <tr>\n",
       "      <th>k__Bacteria;p__Proteobacteria;c__Betaproteobacteria;o__Burkholderiales;f__;g__Rhizobacter;s__Rhizobacter_sp._Root404</th>\n",
       "      <td>0</td>\n",
       "      <td>0</td>\n",
       "    </tr>\n",
       "    <tr>\n",
       "      <th>k__Bacteria;p__Proteobacteria;c__Gammaproteobacteria;o__Aeromonadales;f__Aeromonadaceae;g__Aeromonas;s__Aeromonas_hydrophila</th>\n",
       "      <td>0</td>\n",
       "      <td>0</td>\n",
       "    </tr>\n",
       "    <tr>\n",
       "      <th>k__Bacteria;p__Proteobacteria;c__Gammaproteobacteria;o__Aeromonadales;f__Aeromonadaceae;g__Aeromonas;s__Aeromonas_simiae</th>\n",
       "      <td>2</td>\n",
       "      <td>2</td>\n",
       "    </tr>\n",
       "    <tr>\n",
       "      <th>k__Bacteria;p__Proteobacteria;c__Gammaproteobacteria;o__Alteromonadales;f__Moritellaceae;g__Moritella;s__Moritella_viscosa</th>\n",
       "      <td>0</td>\n",
       "      <td>0</td>\n",
       "    </tr>\n",
       "    <tr>\n",
       "      <th>k__Bacteria;p__Proteobacteria;c__Gammaproteobacteria;o__Enterobacterales;f__Enterobacteriaceae;g__;s__Plautia_stali_symbiont</th>\n",
       "      <td>0</td>\n",
       "      <td>0</td>\n",
       "    </tr>\n",
       "    <tr>\n",
       "      <th>k__Bacteria;p__Proteobacteria;c__Gammaproteobacteria;o__Enterobacterales;f__Enterobacteriaceae;g__Cedecea;s__Cedecea_neteri</th>\n",
       "      <td>12</td>\n",
       "      <td>12</td>\n",
       "    </tr>\n",
       "    <tr>\n",
       "      <th>k__Bacteria;p__Proteobacteria;c__Gammaproteobacteria;o__Enterobacterales;f__Enterobacteriaceae;g__Citrobacter;s__Citrobacter_amalonaticus</th>\n",
       "      <td>18</td>\n",
       "      <td>15</td>\n",
       "    </tr>\n",
       "    <tr>\n",
       "      <th>k__Bacteria;p__Proteobacteria;c__Gammaproteobacteria;o__Enterobacterales;f__Enterobacteriaceae;g__Citrobacter;s__Citrobacter_freundii</th>\n",
       "      <td>167</td>\n",
       "      <td>181</td>\n",
       "    </tr>\n",
       "    <tr>\n",
       "      <th>k__Bacteria;p__Proteobacteria;c__Gammaproteobacteria;o__Enterobacterales;f__Enterobacteriaceae;g__Cronobacter;s__Cronobacter_sakazakii</th>\n",
       "      <td>8</td>\n",
       "      <td>6</td>\n",
       "    </tr>\n",
       "    <tr>\n",
       "      <th>k__Bacteria;p__Proteobacteria;c__Gammaproteobacteria;o__Enterobacterales;f__Enterobacteriaceae;g__Enterobacter;s__Enterobacter_cloacae</th>\n",
       "      <td>45</td>\n",
       "      <td>50</td>\n",
       "    </tr>\n",
       "    <tr>\n",
       "      <th>k__Bacteria;p__Proteobacteria;c__Gammaproteobacteria;o__Enterobacterales;f__Enterobacteriaceae;g__Enterobacter;s__Enterobacter_lignolyticus</th>\n",
       "      <td>7</td>\n",
       "      <td>8</td>\n",
       "    </tr>\n",
       "    <tr>\n",
       "      <th>k__Bacteria;p__Proteobacteria;c__Gammaproteobacteria;o__Enterobacterales;f__Enterobacteriaceae;g__Enterobacter;s__Enterobacter_sp._638</th>\n",
       "      <td>2</td>\n",
       "      <td>3</td>\n",
       "    </tr>\n",
       "    <tr>\n",
       "      <th>k__Bacteria;p__Proteobacteria;c__Gammaproteobacteria;o__Enterobacterales;f__Enterobacteriaceae;g__Escherichia;s__Escherichia_coli</th>\n",
       "      <td>1101</td>\n",
       "      <td>1077</td>\n",
       "    </tr>\n",
       "    <tr>\n",
       "      <th>k__Bacteria;p__Proteobacteria;c__Gammaproteobacteria;o__Enterobacterales;f__Enterobacteriaceae;g__Franconibacter;s__Franconibacter_pulveris</th>\n",
       "      <td>0</td>\n",
       "      <td>0</td>\n",
       "    </tr>\n",
       "    <tr>\n",
       "      <th>k__Bacteria;p__Proteobacteria;c__Gammaproteobacteria;o__Enterobacterales;f__Enterobacteriaceae;g__Klebsiella;s__Klebsiella_oxytoca</th>\n",
       "      <td>5748</td>\n",
       "      <td>5438</td>\n",
       "    </tr>\n",
       "    <tr>\n",
       "      <th>k__Bacteria;p__Proteobacteria;c__Gammaproteobacteria;o__Enterobacterales;f__Enterobacteriaceae;g__Klebsiella;s__Klebsiella_pneumoniae</th>\n",
       "      <td>47860</td>\n",
       "      <td>43823</td>\n",
       "    </tr>\n",
       "    <tr>\n",
       "      <th>k__Bacteria;p__Proteobacteria;c__Gammaproteobacteria;o__Enterobacterales;f__Enterobacteriaceae;g__Klebsiella;s__[Enterobacter]_aerogenes</th>\n",
       "      <td>1216</td>\n",
       "      <td>1117</td>\n",
       "    </tr>\n",
       "    <tr>\n",
       "      <th>...</th>\n",
       "      <td>...</td>\n",
       "      <td>...</td>\n",
       "    </tr>\n",
       "    <tr>\n",
       "      <th>k__Bacteria;p__Proteobacteria;c__Gammaproteobacteria;o__Enterobacterales;f__Erwiniaceae;g__Erwinia;s__Erwinia_toletana</th>\n",
       "      <td>1</td>\n",
       "      <td>0</td>\n",
       "    </tr>\n",
       "    <tr>\n",
       "      <th>k__Bacteria;p__Proteobacteria;c__Gammaproteobacteria;o__Enterobacterales;f__Erwiniaceae;g__Erwinia;s__Erwinia_tracheiphila</th>\n",
       "      <td>0</td>\n",
       "      <td>0</td>\n",
       "    </tr>\n",
       "    <tr>\n",
       "      <th>k__Bacteria;p__Proteobacteria;c__Gammaproteobacteria;o__Enterobacterales;f__Erwiniaceae;g__Pantoea;s__Pantoea_agglomerans</th>\n",
       "      <td>3</td>\n",
       "      <td>3</td>\n",
       "    </tr>\n",
       "    <tr>\n",
       "      <th>k__Bacteria;p__Proteobacteria;c__Gammaproteobacteria;o__Enterobacterales;f__Erwiniaceae;g__Pantoea;s__Pantoea_ananatis</th>\n",
       "      <td>0</td>\n",
       "      <td>0</td>\n",
       "    </tr>\n",
       "    <tr>\n",
       "      <th>k__Bacteria;p__Proteobacteria;c__Gammaproteobacteria;o__Enterobacterales;f__Erwiniaceae;g__Pantoea;s__Pantoea_rwandensis</th>\n",
       "      <td>0</td>\n",
       "      <td>0</td>\n",
       "    </tr>\n",
       "    <tr>\n",
       "      <th>k__Bacteria;p__Proteobacteria;c__Gammaproteobacteria;o__Enterobacterales;f__Erwiniaceae;g__Pantoea;s__Pantoea_sp._PSNIH2</th>\n",
       "      <td>7335</td>\n",
       "      <td>7113</td>\n",
       "    </tr>\n",
       "    <tr>\n",
       "      <th>k__Bacteria;p__Proteobacteria;c__Gammaproteobacteria;o__Enterobacterales;f__Hafniaceae;g__Edwardsiella;s__Edwardsiella_ictaluri</th>\n",
       "      <td>5</td>\n",
       "      <td>5</td>\n",
       "    </tr>\n",
       "    <tr>\n",
       "      <th>k__Bacteria;p__Proteobacteria;c__Gammaproteobacteria;o__Enterobacterales;f__Hafniaceae;g__Obesumbacterium;s__Obesumbacterium_proteus</th>\n",
       "      <td>0</td>\n",
       "      <td>0</td>\n",
       "    </tr>\n",
       "    <tr>\n",
       "      <th>k__Bacteria;p__Proteobacteria;c__Gammaproteobacteria;o__Enterobacterales;f__Morganellaceae;g__Morganella;s__Morganella_morganii</th>\n",
       "      <td>0</td>\n",
       "      <td>0</td>\n",
       "    </tr>\n",
       "    <tr>\n",
       "      <th>k__Bacteria;p__Proteobacteria;c__Gammaproteobacteria;o__Enterobacterales;f__Morganellaceae;g__Providencia;s__Providencia_rettgeri</th>\n",
       "      <td>0</td>\n",
       "      <td>0</td>\n",
       "    </tr>\n",
       "    <tr>\n",
       "      <th>k__Bacteria;p__Proteobacteria;c__Gammaproteobacteria;o__Enterobacterales;f__Morganellaceae;g__Xenorhabdus;s__Xenorhabdus_doucetiae</th>\n",
       "      <td>0</td>\n",
       "      <td>0</td>\n",
       "    </tr>\n",
       "    <tr>\n",
       "      <th>k__Bacteria;p__Proteobacteria;c__Gammaproteobacteria;o__Enterobacterales;f__Pectobacteriaceae;g__Dickeya;s__Dickeya_dadantii</th>\n",
       "      <td>0</td>\n",
       "      <td>0</td>\n",
       "    </tr>\n",
       "    <tr>\n",
       "      <th>k__Bacteria;p__Proteobacteria;c__Gammaproteobacteria;o__Enterobacterales;f__Pectobacteriaceae;g__Sodalis;s__Sodalis_praecaptivus</th>\n",
       "      <td>0</td>\n",
       "      <td>0</td>\n",
       "    </tr>\n",
       "    <tr>\n",
       "      <th>k__Bacteria;p__Proteobacteria;c__Gammaproteobacteria;o__Enterobacterales;f__Yersiniaceae;g__Chania;s__Chania_multitudinisentens</th>\n",
       "      <td>0</td>\n",
       "      <td>0</td>\n",
       "    </tr>\n",
       "    <tr>\n",
       "      <th>k__Bacteria;p__Proteobacteria;c__Gammaproteobacteria;o__Enterobacterales;f__Yersiniaceae;g__Rahnella;s__Rahnella_aquatilis</th>\n",
       "      <td>7</td>\n",
       "      <td>6</td>\n",
       "    </tr>\n",
       "    <tr>\n",
       "      <th>k__Bacteria;p__Proteobacteria;c__Gammaproteobacteria;o__Enterobacterales;f__Yersiniaceae;g__Serratia;s__Serratia_fonticola</th>\n",
       "      <td>0</td>\n",
       "      <td>0</td>\n",
       "    </tr>\n",
       "    <tr>\n",
       "      <th>k__Bacteria;p__Proteobacteria;c__Gammaproteobacteria;o__Enterobacterales;f__Yersiniaceae;g__Serratia;s__Serratia_liquefaciens</th>\n",
       "      <td>0</td>\n",
       "      <td>0</td>\n",
       "    </tr>\n",
       "    <tr>\n",
       "      <th>k__Bacteria;p__Proteobacteria;c__Gammaproteobacteria;o__Enterobacterales;f__Yersiniaceae;g__Serratia;s__Serratia_odorifera</th>\n",
       "      <td>0</td>\n",
       "      <td>0</td>\n",
       "    </tr>\n",
       "    <tr>\n",
       "      <th>k__Bacteria;p__Proteobacteria;c__Gammaproteobacteria;o__Enterobacterales;f__Yersiniaceae;g__Serratia;s__Serratia_rubidaea</th>\n",
       "      <td>0</td>\n",
       "      <td>0</td>\n",
       "    </tr>\n",
       "    <tr>\n",
       "      <th>k__Bacteria;p__Proteobacteria;c__Gammaproteobacteria;o__Enterobacterales;f__Yersiniaceae;g__Yersinia;s__Yersinia_enterocolitica</th>\n",
       "      <td>0</td>\n",
       "      <td>0</td>\n",
       "    </tr>\n",
       "    <tr>\n",
       "      <th>k__Bacteria;p__Proteobacteria;c__Gammaproteobacteria;o__Oceanospirillales;f__Halomonadaceae;g__Zymobacter;s__Zymobacter_palmae</th>\n",
       "      <td>0</td>\n",
       "      <td>0</td>\n",
       "    </tr>\n",
       "    <tr>\n",
       "      <th>k__Bacteria;p__Proteobacteria;c__Gammaproteobacteria;o__Pseudomonadales;f__Moraxellaceae;g__Acinetobacter;s__Acinetobacter_johnsonii</th>\n",
       "      <td>20</td>\n",
       "      <td>21</td>\n",
       "    </tr>\n",
       "    <tr>\n",
       "      <th>k__Bacteria;p__Proteobacteria;c__Gammaproteobacteria;o__Pseudomonadales;f__Pseudomonadaceae;g__Pseudomonas;s__Pseudomonas_protegens</th>\n",
       "      <td>0</td>\n",
       "      <td>0</td>\n",
       "    </tr>\n",
       "    <tr>\n",
       "      <th>k__Viruses;p__dsDNA_viruses,_no_RNA_stage;c__;o__;f__;g__;s__Staphylococcus_phage_PT1028</th>\n",
       "      <td>0</td>\n",
       "      <td>0</td>\n",
       "    </tr>\n",
       "    <tr>\n",
       "      <th>k__Viruses;p__dsDNA_viruses,_no_RNA_stage;c__;o__Caudovirales;f__Siphoviridae;g__;s__Staphylococcus_phage_PVL</th>\n",
       "      <td>1</td>\n",
       "      <td>0</td>\n",
       "    </tr>\n",
       "    <tr>\n",
       "      <th>k__Viruses;p__dsDNA_viruses,_no_RNA_stage;c__;o__Caudovirales;f__Siphoviridae;g__;s__Staphylococcus_phage_StauST398-4</th>\n",
       "      <td>1</td>\n",
       "      <td>0</td>\n",
       "    </tr>\n",
       "    <tr>\n",
       "      <th>k__Viruses;p__dsDNA_viruses,_no_RNA_stage;c__;o__Caudovirales;f__Siphoviridae;g__;s__Staphylococcus_prophage_phiPV83</th>\n",
       "      <td>0</td>\n",
       "      <td>0</td>\n",
       "    </tr>\n",
       "    <tr>\n",
       "      <th>k__Viruses;p__dsDNA_viruses,_no_RNA_stage;c__;o__Caudovirales;f__Siphoviridae;g__Biseptimavirus;s__Staphylococcus_phage_Pvl108</th>\n",
       "      <td>0</td>\n",
       "      <td>0</td>\n",
       "    </tr>\n",
       "    <tr>\n",
       "      <th>k__Viruses;p__dsDNA_viruses,_no_RNA_stage;c__;o__Caudovirales;f__Siphoviridae;g__Triavirus;s__Staphylococcus_phage_3A</th>\n",
       "      <td>0</td>\n",
       "      <td>7</td>\n",
       "    </tr>\n",
       "    <tr>\n",
       "      <th>k__Viruses;p__unclassified_bacterial_viruses;c__;o__;f__;g__;s__Staphylococcus_phage_tp310-3</th>\n",
       "      <td>0</td>\n",
       "      <td>2</td>\n",
       "    </tr>\n",
       "  </tbody>\n",
       "</table>\n",
       "<p>74 rows × 2 columns</p>\n",
       "</div>"
      ],
      "text/plain": [
       "                                                    kneumoR1  kneumoR2\n",
       "summary                                                               \n",
       "k__Bacteria;p__Actinobacteria;c__Actinobacteria...         0         0\n",
       "k__Bacteria;p__Actinobacteria;c__Actinobacteria...         1         1\n",
       "k__Bacteria;p__Actinobacteria;c__Actinobacteria...         0         0\n",
       "k__Bacteria;p__Actinobacteria;c__Actinobacteria...         0         0\n",
       "k__Bacteria;p__Firmicutes;c__Bacilli;o__Bacilla...       103        79\n",
       "k__Bacteria;p__Firmicutes;c__Bacilli;o__Bacilla...         0         0\n",
       "k__Bacteria;p__Firmicutes;c__Bacilli;o__Bacilla...         0         0\n",
       "k__Bacteria;p__Firmicutes;c__Bacilli;o__Bacilla...         0         0\n",
       "k__Bacteria;p__Firmicutes;c__Bacilli;o__Bacilla...         0         0\n",
       "k__Bacteria;p__Firmicutes;c__Bacilli;o__Lactoba...         0         1\n",
       "k__Bacteria;p__Firmicutes;c__Clostridia;o__Clos...         0         0\n",
       "k__Bacteria;p__Firmicutes;c__Clostridia;o__Clos...         0         0\n",
       "k__Bacteria;p__Proteobacteria;c__Alphaproteobac...         0         0\n",
       "k__Bacteria;p__Proteobacteria;c__Betaproteobact...         0         0\n",
       "k__Bacteria;p__Proteobacteria;c__Gammaproteobac...         0         0\n",
       "k__Bacteria;p__Proteobacteria;c__Gammaproteobac...         2         2\n",
       "k__Bacteria;p__Proteobacteria;c__Gammaproteobac...         0         0\n",
       "k__Bacteria;p__Proteobacteria;c__Gammaproteobac...         0         0\n",
       "k__Bacteria;p__Proteobacteria;c__Gammaproteobac...        12        12\n",
       "k__Bacteria;p__Proteobacteria;c__Gammaproteobac...        18        15\n",
       "k__Bacteria;p__Proteobacteria;c__Gammaproteobac...       167       181\n",
       "k__Bacteria;p__Proteobacteria;c__Gammaproteobac...         8         6\n",
       "k__Bacteria;p__Proteobacteria;c__Gammaproteobac...        45        50\n",
       "k__Bacteria;p__Proteobacteria;c__Gammaproteobac...         7         8\n",
       "k__Bacteria;p__Proteobacteria;c__Gammaproteobac...         2         3\n",
       "k__Bacteria;p__Proteobacteria;c__Gammaproteobac...      1101      1077\n",
       "k__Bacteria;p__Proteobacteria;c__Gammaproteobac...         0         0\n",
       "k__Bacteria;p__Proteobacteria;c__Gammaproteobac...      5748      5438\n",
       "k__Bacteria;p__Proteobacteria;c__Gammaproteobac...     47860     43823\n",
       "k__Bacteria;p__Proteobacteria;c__Gammaproteobac...      1216      1117\n",
       "...                                                      ...       ...\n",
       "k__Bacteria;p__Proteobacteria;c__Gammaproteobac...         1         0\n",
       "k__Bacteria;p__Proteobacteria;c__Gammaproteobac...         0         0\n",
       "k__Bacteria;p__Proteobacteria;c__Gammaproteobac...         3         3\n",
       "k__Bacteria;p__Proteobacteria;c__Gammaproteobac...         0         0\n",
       "k__Bacteria;p__Proteobacteria;c__Gammaproteobac...         0         0\n",
       "k__Bacteria;p__Proteobacteria;c__Gammaproteobac...      7335      7113\n",
       "k__Bacteria;p__Proteobacteria;c__Gammaproteobac...         5         5\n",
       "k__Bacteria;p__Proteobacteria;c__Gammaproteobac...         0         0\n",
       "k__Bacteria;p__Proteobacteria;c__Gammaproteobac...         0         0\n",
       "k__Bacteria;p__Proteobacteria;c__Gammaproteobac...         0         0\n",
       "k__Bacteria;p__Proteobacteria;c__Gammaproteobac...         0         0\n",
       "k__Bacteria;p__Proteobacteria;c__Gammaproteobac...         0         0\n",
       "k__Bacteria;p__Proteobacteria;c__Gammaproteobac...         0         0\n",
       "k__Bacteria;p__Proteobacteria;c__Gammaproteobac...         0         0\n",
       "k__Bacteria;p__Proteobacteria;c__Gammaproteobac...         7         6\n",
       "k__Bacteria;p__Proteobacteria;c__Gammaproteobac...         0         0\n",
       "k__Bacteria;p__Proteobacteria;c__Gammaproteobac...         0         0\n",
       "k__Bacteria;p__Proteobacteria;c__Gammaproteobac...         0         0\n",
       "k__Bacteria;p__Proteobacteria;c__Gammaproteobac...         0         0\n",
       "k__Bacteria;p__Proteobacteria;c__Gammaproteobac...         0         0\n",
       "k__Bacteria;p__Proteobacteria;c__Gammaproteobac...         0         0\n",
       "k__Bacteria;p__Proteobacteria;c__Gammaproteobac...        20        21\n",
       "k__Bacteria;p__Proteobacteria;c__Gammaproteobac...         0         0\n",
       "k__Viruses;p__dsDNA_viruses,_no_RNA_stage;c__;o...         0         0\n",
       "k__Viruses;p__dsDNA_viruses,_no_RNA_stage;c__;o...         1         0\n",
       "k__Viruses;p__dsDNA_viruses,_no_RNA_stage;c__;o...         1         0\n",
       "k__Viruses;p__dsDNA_viruses,_no_RNA_stage;c__;o...         0         0\n",
       "k__Viruses;p__dsDNA_viruses,_no_RNA_stage;c__;o...         0         0\n",
       "k__Viruses;p__dsDNA_viruses,_no_RNA_stage;c__;o...         0         7\n",
       "k__Viruses;p__unclassified_bacterial_viruses;c_...         0         2\n",
       "\n",
       "[74 rows x 2 columns]"
      ]
     },
     "execution_count": 17,
     "metadata": {},
     "output_type": "execute_result"
    }
   ],
   "source": [
    "species_taxatable.loc[species_non_taxatable.index] - species_non_taxatable"
   ]
  },
  {
   "cell_type": "code",
   "execution_count": 18,
   "metadata": {},
   "outputs": [
    {
     "data": {
      "image/png": "[encoded data removed]",
      "text/plain": [
       "<matplotlib.figure.Figure at 0x7f524761c080>"
      ]
     },
     "metadata": {},
     "output_type": "display_data"
    },
    {
     "data": {
      "image/png": "[encoded data removed]",
      "text/plain": [
       "<matplotlib.figure.Figure at 0x7f524761c6a0>"
      ]
     },
     "metadata": {},
     "output_type": "display_data"
    }
   ],
   "source": [
    "plt.hist(species_taxatable.iloc[species_taxatable.index != 'k__Bacteria;p__Proteobacteria;c__Gammaproteobacteria;o__Enterobacterales;f__Enterobacteriaceae;g__Klebsiella;s__Klebsiella_pneumoniae', 0], bins=100)\n",
    "plt.show()\n",
    "plt.hist(species_taxatable.iloc[:, 0]/np.sum(species_taxatable.iloc[:, 0]), bins=100)\n",
    "plt.show()"
   ]
  },
  {
   "cell_type": "code",
   "execution_count": 26,
   "metadata": {},
   "outputs": [
    {
     "data": {
      "text/html": [
       "<div>\n",
       "<table border=\"1\" class=\"dataframe\">\n",
       "  <thead>\n",
       "    <tr style=\"text-align: right;\">\n",
       "      <th></th>\n",
       "      <th>kneumoR1</th>\n",
       "      <th>kneumoR2</th>\n",
       "    </tr>\n",
       "    <tr>\n",
       "      <th>#OTU ID</th>\n",
       "      <th></th>\n",
       "      <th></th>\n",
       "    </tr>\n",
       "  </thead>\n",
       "  <tbody>\n",
       "    <tr>\n",
       "      <th>k__Bacteria;p__Actinobacteria;c__Actinobacteria;o__Micrococcales;f__Microbacteriaceae;g__Microbacterium;s__Microbacterium_sp._C448</th>\n",
       "      <td>141</td>\n",
       "      <td>92</td>\n",
       "    </tr>\n",
       "    <tr>\n",
       "      <th>k__Bacteria;p__Firmicutes;c__Bacilli;o__Bacillales;f__Staphylococcaceae;g__Staphylococcus;s__Staphylococcus_aureus</th>\n",
       "      <td>1056</td>\n",
       "      <td>729</td>\n",
       "    </tr>\n",
       "    <tr>\n",
       "      <th>k__Bacteria;p__Proteobacteria;c__Gammaproteobacteria;o__Aeromonadales;f__Aeromonadaceae;g__Aeromonas;s__Aeromonas_simiae</th>\n",
       "      <td>155</td>\n",
       "      <td>135</td>\n",
       "    </tr>\n",
       "    <tr>\n",
       "      <th>k__Bacteria;p__Proteobacteria;c__Gammaproteobacteria;o__Enterobacterales;f__Enterobacteriaceae;g__Cedecea;s__Cedecea_neteri</th>\n",
       "      <td>547</td>\n",
       "      <td>530</td>\n",
       "    </tr>\n",
       "    <tr>\n",
       "      <th>k__Bacteria;p__Proteobacteria;c__Gammaproteobacteria;o__Enterobacterales;f__Enterobacteriaceae;g__Citrobacter;s__Citrobacter_amalonaticus</th>\n",
       "      <td>268</td>\n",
       "      <td>223</td>\n",
       "    </tr>\n",
       "    <tr>\n",
       "      <th>k__Bacteria;p__Proteobacteria;c__Gammaproteobacteria;o__Enterobacterales;f__Enterobacteriaceae;g__Citrobacter;s__Citrobacter_freundii</th>\n",
       "      <td>650</td>\n",
       "      <td>694</td>\n",
       "    </tr>\n",
       "    <tr>\n",
       "      <th>k__Bacteria;p__Proteobacteria;c__Gammaproteobacteria;o__Enterobacterales;f__Enterobacteriaceae;g__Cronobacter;s__Cronobacter_sakazakii</th>\n",
       "      <td>81</td>\n",
       "      <td>66</td>\n",
       "    </tr>\n",
       "    <tr>\n",
       "      <th>k__Bacteria;p__Proteobacteria;c__Gammaproteobacteria;o__Enterobacterales;f__Enterobacteriaceae;g__Enterobacter;s__Enterobacter_cloacae</th>\n",
       "      <td>339</td>\n",
       "      <td>339</td>\n",
       "    </tr>\n",
       "    <tr>\n",
       "      <th>k__Bacteria;p__Proteobacteria;c__Gammaproteobacteria;o__Enterobacterales;f__Enterobacteriaceae;g__Enterobacter;s__Enterobacter_lignolyticus</th>\n",
       "      <td>192</td>\n",
       "      <td>173</td>\n",
       "    </tr>\n",
       "    <tr>\n",
       "      <th>k__Bacteria;p__Proteobacteria;c__Gammaproteobacteria;o__Enterobacterales;f__Enterobacteriaceae;g__Enterobacter;s__Enterobacter_sp._638</th>\n",
       "      <td>59</td>\n",
       "      <td>54</td>\n",
       "    </tr>\n",
       "    <tr>\n",
       "      <th>k__Bacteria;p__Proteobacteria;c__Gammaproteobacteria;o__Enterobacterales;f__Enterobacteriaceae;g__Escherichia;s__Escherichia_coli</th>\n",
       "      <td>1899</td>\n",
       "      <td>1828</td>\n",
       "    </tr>\n",
       "    <tr>\n",
       "      <th>k__Bacteria;p__Proteobacteria;c__Gammaproteobacteria;o__Enterobacterales;f__Enterobacteriaceae;g__Franconibacter;s__Franconibacter_pulveris</th>\n",
       "      <td>56</td>\n",
       "      <td>44</td>\n",
       "    </tr>\n",
       "    <tr>\n",
       "      <th>k__Bacteria;p__Proteobacteria;c__Gammaproteobacteria;o__Enterobacterales;f__Enterobacteriaceae;g__Klebsiella;s__Klebsiella_oxytoca</th>\n",
       "      <td>20116</td>\n",
       "      <td>18640</td>\n",
       "    </tr>\n",
       "    <tr>\n",
       "      <th>k__Bacteria;p__Proteobacteria;c__Gammaproteobacteria;o__Enterobacterales;f__Enterobacteriaceae;g__Klebsiella;s__Klebsiella_pneumoniae</th>\n",
       "      <td>291098</td>\n",
       "      <td>259470</td>\n",
       "    </tr>\n",
       "    <tr>\n",
       "      <th>k__Bacteria;p__Proteobacteria;c__Gammaproteobacteria;o__Enterobacterales;f__Enterobacteriaceae;g__Klebsiella;s__[Enterobacter]_aerogenes</th>\n",
       "      <td>21995</td>\n",
       "      <td>19861</td>\n",
       "    </tr>\n",
       "    <tr>\n",
       "      <th>k__Bacteria;p__Proteobacteria;c__Gammaproteobacteria;o__Enterobacterales;f__Enterobacteriaceae;g__Kluyvera;s__Kluyvera_intermedia</th>\n",
       "      <td>162</td>\n",
       "      <td>157</td>\n",
       "    </tr>\n",
       "    <tr>\n",
       "      <th>k__Bacteria;p__Proteobacteria;c__Gammaproteobacteria;o__Enterobacterales;f__Enterobacteriaceae;g__Kosakonia;s__Kosakonia_sacchari</th>\n",
       "      <td>305</td>\n",
       "      <td>275</td>\n",
       "    </tr>\n",
       "    <tr>\n",
       "      <th>k__Bacteria;p__Proteobacteria;c__Gammaproteobacteria;o__Enterobacterales;f__Enterobacteriaceae;g__Mangrovibacter;s__Mangrovibacter_sp._MFB070</th>\n",
       "      <td>111</td>\n",
       "      <td>160</td>\n",
       "    </tr>\n",
       "    <tr>\n",
       "      <th>k__Bacteria;p__Proteobacteria;c__Gammaproteobacteria;o__Enterobacterales;f__Enterobacteriaceae;g__Pluralibacter;s__Pluralibacter_gergoviae</th>\n",
       "      <td>96</td>\n",
       "      <td>76</td>\n",
       "    </tr>\n",
       "    <tr>\n",
       "      <th>k__Bacteria;p__Proteobacteria;c__Gammaproteobacteria;o__Enterobacterales;f__Enterobacteriaceae;g__Salmonella;s__Salmonella_enterica</th>\n",
       "      <td>115</td>\n",
       "      <td>115</td>\n",
       "    </tr>\n",
       "    <tr>\n",
       "      <th>k__Bacteria;p__Proteobacteria;c__Gammaproteobacteria;o__Enterobacterales;f__Enterobacteriaceae;g__Shimwellia;s__Shimwellia_blattae</th>\n",
       "      <td>62</td>\n",
       "      <td>53</td>\n",
       "    </tr>\n",
       "    <tr>\n",
       "      <th>k__Bacteria;p__Proteobacteria;c__Gammaproteobacteria;o__Enterobacterales;f__Enterobacteriaceae;g__Siccibacter;s__Siccibacter_turicensis</th>\n",
       "      <td>85</td>\n",
       "      <td>91</td>\n",
       "    </tr>\n",
       "    <tr>\n",
       "      <th>k__Bacteria;p__Proteobacteria;c__Gammaproteobacteria;o__Enterobacterales;f__Enterobacteriaceae;g__Trabulsiella;s__Trabulsiella_odontotermitis</th>\n",
       "      <td>52</td>\n",
       "      <td>46</td>\n",
       "    </tr>\n",
       "    <tr>\n",
       "      <th>k__Bacteria;p__Proteobacteria;c__Gammaproteobacteria;o__Enterobacterales;f__Erwiniaceae;g__Erwinia;s__Erwinia_billingiae</th>\n",
       "      <td>62</td>\n",
       "      <td>39</td>\n",
       "    </tr>\n",
       "    <tr>\n",
       "      <th>k__Bacteria;p__Proteobacteria;c__Gammaproteobacteria;o__Enterobacterales;f__Erwiniaceae;g__Erwinia;s__Erwinia_tracheiphila</th>\n",
       "      <td>62</td>\n",
       "      <td>53</td>\n",
       "    </tr>\n",
       "    <tr>\n",
       "      <th>k__Bacteria;p__Proteobacteria;c__Gammaproteobacteria;o__Enterobacterales;f__Erwiniaceae;g__Pantoea;s__Pantoea_agglomerans</th>\n",
       "      <td>164</td>\n",
       "      <td>168</td>\n",
       "    </tr>\n",
       "    <tr>\n",
       "      <th>k__Bacteria;p__Proteobacteria;c__Gammaproteobacteria;o__Enterobacterales;f__Erwiniaceae;g__Pantoea;s__Pantoea_sp._PSNIH2</th>\n",
       "      <td>20238</td>\n",
       "      <td>19231</td>\n",
       "    </tr>\n",
       "    <tr>\n",
       "      <th>k__Bacteria;p__Proteobacteria;c__Gammaproteobacteria;o__Enterobacterales;f__Hafniaceae;g__Edwardsiella;s__Edwardsiella_ictaluri</th>\n",
       "      <td>247</td>\n",
       "      <td>193</td>\n",
       "    </tr>\n",
       "    <tr>\n",
       "      <th>k__Bacteria;p__Proteobacteria;c__Gammaproteobacteria;o__Enterobacterales;f__Yersiniaceae;g__Rahnella;s__Rahnella_aquatilis</th>\n",
       "      <td>416</td>\n",
       "      <td>344</td>\n",
       "    </tr>\n",
       "    <tr>\n",
       "      <th>k__Bacteria;p__Proteobacteria;c__Gammaproteobacteria;o__Pseudomonadales;f__Moraxellaceae;g__Acinetobacter;s__Acinetobacter_johnsonii</th>\n",
       "      <td>644</td>\n",
       "      <td>642</td>\n",
       "    </tr>\n",
       "  </tbody>\n",
       "</table>\n",
       "</div>"
      ],
      "text/plain": [
       "                                                    kneumoR1  kneumoR2\n",
       "#OTU ID                                                               \n",
       "k__Bacteria;p__Actinobacteria;c__Actinobacteria...       141        92\n",
       "k__Bacteria;p__Firmicutes;c__Bacilli;o__Bacilla...      1056       729\n",
       "k__Bacteria;p__Proteobacteria;c__Gammaproteobac...       155       135\n",
       "k__Bacteria;p__Proteobacteria;c__Gammaproteobac...       547       530\n",
       "k__Bacteria;p__Proteobacteria;c__Gammaproteobac...       268       223\n",
       "k__Bacteria;p__Proteobacteria;c__Gammaproteobac...       650       694\n",
       "k__Bacteria;p__Proteobacteria;c__Gammaproteobac...        81        66\n",
       "k__Bacteria;p__Proteobacteria;c__Gammaproteobac...       339       339\n",
       "k__Bacteria;p__Proteobacteria;c__Gammaproteobac...       192       173\n",
       "k__Bacteria;p__Proteobacteria;c__Gammaproteobac...        59        54\n",
       "k__Bacteria;p__Proteobacteria;c__Gammaproteobac...      1899      1828\n",
       "k__Bacteria;p__Proteobacteria;c__Gammaproteobac...        56        44\n",
       "k__Bacteria;p__Proteobacteria;c__Gammaproteobac...     20116     18640\n",
       "k__Bacteria;p__Proteobacteria;c__Gammaproteobac...    291098    259470\n",
       "k__Bacteria;p__Proteobacteria;c__Gammaproteobac...     21995     19861\n",
       "k__Bacteria;p__Proteobacteria;c__Gammaproteobac...       162       157\n",
       "k__Bacteria;p__Proteobacteria;c__Gammaproteobac...       305       275\n",
       "k__Bacteria;p__Proteobacteria;c__Gammaproteobac...       111       160\n",
       "k__Bacteria;p__Proteobacteria;c__Gammaproteobac...        96        76\n",
       "k__Bacteria;p__Proteobacteria;c__Gammaproteobac...       115       115\n",
       "k__Bacteria;p__Proteobacteria;c__Gammaproteobac...        62        53\n",
       "k__Bacteria;p__Proteobacteria;c__Gammaproteobac...        85        91\n",
       "k__Bacteria;p__Proteobacteria;c__Gammaproteobac...        52        46\n",
       "k__Bacteria;p__Proteobacteria;c__Gammaproteobac...        62        39\n",
       "k__Bacteria;p__Proteobacteria;c__Gammaproteobac...        62        53\n",
       "k__Bacteria;p__Proteobacteria;c__Gammaproteobac...       164       168\n",
       "k__Bacteria;p__Proteobacteria;c__Gammaproteobac...     20238     19231\n",
       "k__Bacteria;p__Proteobacteria;c__Gammaproteobac...       247       193\n",
       "k__Bacteria;p__Proteobacteria;c__Gammaproteobac...       416       344\n",
       "k__Bacteria;p__Proteobacteria;c__Gammaproteobac...       644       642"
      ]
     },
     "execution_count": 26,
     "metadata": {},
     "output_type": "execute_result"
    }
   ],
   "source": [
    "species_taxatable[species_taxatable.iloc[:, 0]/np.sum(species_taxatable.iloc[:, 0]) >= .0001]"
   ]
  },
  {
   "cell_type": "code",
   "execution_count": 27,
   "metadata": {},
   "outputs": [
    {
     "data": {
      "text/plain": [
       "kneumoR1    286\n",
       "kneumoR2    291\n",
       "dtype: int64"
      ]
     },
     "execution_count": 27,
     "metadata": {},
     "output_type": "execute_result"
    }
   ],
   "source": [
    "species_taxatable[species_taxatable.iloc[:, 0]/np.sum(species_taxatable.iloc[:, 0]) <= .01].m("
   ]
  },
  {
   "cell_type": "code",
   "execution_count": 67,
   "metadata": {},
   "outputs": [
    {
     "name": "stdout",
     "output_type": "stream",
     "text": [
      "k__Bacteria;p__Proteobacteria;c__Gammaproteobacteria;o__Enterobacterales;f__Enterobacteriaceae;g__Klebsiella;s__Klebsiella_pneumoniae\n",
      "Counter({'NC_016845.1 Klebsiella pneumoniae subsp. pneumoniae HS11286 chromosome, complete genome': 45256})\n"
     ]
    },
    {
     "data": {
      "image/png": "[encoded data removed]",
      "text/plain": [
       "<matplotlib.figure.Figure at 0x7f52a83b8860>"
      ]
     },
     "metadata": {},
     "output_type": "display_data"
    },
    {
     "name": "stdout",
     "output_type": "stream",
     "text": [
      "k__Bacteria;p__Proteobacteria;c__Gammaproteobacteria;o__Enterobacterales;f__Erwiniaceae;g__Pantoea;s__Pantoea_sp._PSNIH2\n",
      "Counter({'NZ_CP009866.1 Pantoea sp. PSNIH2, complete genome': 4})\n"
     ]
    },
    {
     "data": {
      "image/png": "[encoded data removed]",
      "text/plain": [
       "<matplotlib.figure.Figure at 0x7f52a867bb00>"
      ]
     },
     "metadata": {},
     "output_type": "display_data"
    },
    {
     "name": "stdout",
     "output_type": "stream",
     "text": [
      "k__Bacteria;p__Proteobacteria;c__Gammaproteobacteria;o__Enterobacterales;f__Enterobacteriaceae;g__Klebsiella;s__Klebsiella_oxytoca\n",
      "Counter({'NZ_CP011636.1 Klebsiella oxytoca strain CAV1374, complete genome': 298})\n"
     ]
    },
    {
     "data": {
      "image/png": "[encoded data removed]",
      "text/plain": [
       "<matplotlib.figure.Figure at 0x7f52a8358390>"
      ]
     },
     "metadata": {},
     "output_type": "display_data"
    },
    {
     "name": "stdout",
     "output_type": "stream",
     "text": [
      "k__Bacteria;p__Proteobacteria;c__Gammaproteobacteria;o__Enterobacterales;f__Enterobacteriaceae;g__Klebsiella;s__[Enterobacter]_aerogenes\n",
      "Counter({'NC_015663.1 Enterobacter aerogenes KCTC 2190 chromosome, complete genome': 4023})\n"
     ]
    },
    {
     "data": {
      "image/png": "[encoded data removed]",
      "text/plain": [
       "<matplotlib.figure.Figure at 0x7f52a8526f98>"
      ]
     },
     "metadata": {},
     "output_type": "display_data"
    }
   ],
   "source": [
    "embalmer_out = \"../data/single_strain/kpneumoniae_analysis/kpneumoniae_b6_files/combined_sub0.1.fna.b6\"\n",
    "\n",
    "indx = species_taxatable[species_taxatable.iloc[:, 0]/np.sum(species_taxatable.iloc[:, 0]) >= .05]\n",
    "\n",
    "import csv\n",
    "from collections import defaultdict, Counter\n",
    "dd = defaultdict(list)\n",
    "dd2 = defaultdict(Counter)\n",
    "with open(embalmer_out) as inf:\n",
    "    csv_inf = csv.reader(inf, delimiter=\"\\t\")\n",
    "    for row in csv_inf:\n",
    "        taxa = row[-1]\n",
    "        taxa = \";\".join(taxa.split(';')[:7])\n",
    "        if taxa in indx.index and 'plasmid' not in row[1]:\n",
    "            dd[taxa].append(int(row[8]))\n",
    "            dd2[taxa].update([row[1]])\n",
    "            \n",
    "for key, value in dd.items():\n",
    "    print(key)\n",
    "    print(dd2[key])\n",
    "    plt.hist(np.log(value), bins=100)\n",
    "    plt.show()"
   ]
  },
  {
   "cell_type": "code",
   "execution_count": 69,
   "metadata": {},
   "outputs": [
    {
     "name": "stdout",
     "output_type": "stream",
     "text": [
      "NZ_CP011626.1 Klebsiella oxytoca strain CAV1374 plasmid pCAV1374-6538, complete sequence\n",
      "Counter({'NZ_CP011626.1 Klebsiella oxytoca strain CAV1374 plasmid pCAV1374-6538, complete sequence': 1})\n"
     ]
    },
    {
     "data": {
      "image/png": "[encoded data removed]",
      "text/plain": [
       "<matplotlib.figure.Figure at 0x7f52a83b8da0>"
      ]
     },
     "metadata": {},
     "output_type": "display_data"
    },
    {
     "name": "stdout",
     "output_type": "stream",
     "text": [
      "NZ_CP011631.1 Klebsiella oxytoca strain CAV1374 plasmid pCAV1374-54, complete sequence\n",
      "Counter({'NZ_CP011631.1 Klebsiella oxytoca strain CAV1374 plasmid pCAV1374-54, complete sequence': 719})\n"
     ]
    },
    {
     "data": {
      "image/png": "[encoded data removed]",
      "text/plain": [
       "<matplotlib.figure.Figure at 0x7f52444e3e10>"
      ]
     },
     "metadata": {},
     "output_type": "display_data"
    },
    {
     "name": "stdout",
     "output_type": "stream",
     "text": [
      "NZ_CP011634.1 Klebsiella oxytoca strain CAV1374 plasmid pCAV1374-228, complete sequence\n",
      "Counter({'NZ_CP011634.1 Klebsiella oxytoca strain CAV1374 plasmid pCAV1374-228, complete sequence': 30})\n"
     ]
    },
    {
     "data": {
      "image/png": "[encoded data removed]",
      "text/plain": [
       "<matplotlib.figure.Figure at 0x7f52a8488b38>"
      ]
     },
     "metadata": {},
     "output_type": "display_data"
    },
    {
     "name": "stdout",
     "output_type": "stream",
     "text": [
      "NZ_CP011633.1 Klebsiella oxytoca strain CAV1374 plasmid pCAV1374-150, complete sequence\n",
      "Counter({'NZ_CP011633.1 Klebsiella oxytoca strain CAV1374 plasmid pCAV1374-150, complete sequence': 1745})\n"
     ]
    },
    {
     "data": {
      "image/png": "[encoded data removed]",
      "text/plain": [
       "<matplotlib.figure.Figure at 0x7f52a83303c8>"
      ]
     },
     "metadata": {},
     "output_type": "display_data"
    },
    {
     "name": "stdout",
     "output_type": "stream",
     "text": [
      "NC_016846.1 Klebsiella pneumoniae subsp. pneumoniae HS11286 plasmid pKPHS2, complete sequence\n",
      "Counter({'NC_016846.1 Klebsiella pneumoniae subsp. pneumoniae HS11286 plasmid pKPHS2, complete sequence': 702})\n"
     ]
    },
    {
     "data": {
      "image/png": "[encoded data removed]",
      "text/plain": [
       "<matplotlib.figure.Figure at 0x7f52a989ce80>"
      ]
     },
     "metadata": {},
     "output_type": "display_data"
    },
    {
     "name": "stdout",
     "output_type": "stream",
     "text": [
      "NZ_CP009867.1 Pantoea sp. PSNIH2 plasmid pKPC-56a, complete sequence\n",
      "Counter({'NZ_CP009867.1 Pantoea sp. PSNIH2 plasmid pKPC-56a, complete sequence': 2454})\n"
     ]
    },
    {
     "data": {
      "image/png": "[encoded data removed]",
      "text/plain": [
       "<matplotlib.figure.Figure at 0x7f5244330198>"
      ]
     },
     "metadata": {},
     "output_type": "display_data"
    },
    {
     "name": "stdout",
     "output_type": "stream",
     "text": [
      "NZ_CP011630.1 Klebsiella oxytoca strain CAV1374 plasmid pCAV1374-49, complete sequence\n",
      "Counter({'NZ_CP011630.1 Klebsiella oxytoca strain CAV1374 plasmid pCAV1374-49, complete sequence': 9})\n"
     ]
    },
    {
     "data": {
      "image/png": "[encoded data removed]",
      "text/plain": [
       "<matplotlib.figure.Figure at 0x7f52a97db898>"
      ]
     },
     "metadata": {},
     "output_type": "display_data"
    },
    {
     "name": "stdout",
     "output_type": "stream",
     "text": [
      "NC_016839.1 Klebsiella pneumoniae subsp. pneumoniae HS11286 plasmid pKPHS3, complete sequence\n",
      "Counter({'NC_016839.1 Klebsiella pneumoniae subsp. pneumoniae HS11286 plasmid pKPHS3, complete sequence': 15})\n"
     ]
    },
    {
     "data": {
      "image/png": "[encoded data removed]",
      "text/plain": [
       "<matplotlib.figure.Figure at 0x7f52a82e6748>"
      ]
     },
     "metadata": {},
     "output_type": "display_data"
    }
   ],
   "source": [
    "embalmer_out = \"../data/single_strain/kpneumoniae_analysis/kpneumoniae_b6_files/combined_sub0.1.fna.b6\"\n",
    "\n",
    "indx = species_taxatable[species_taxatable.iloc[:, 0]/np.sum(species_taxatable.iloc[:, 0]) >= .05]\n",
    "\n",
    "import csv\n",
    "from collections import defaultdict, Counter\n",
    "dd = defaultdict(list)\n",
    "dd2 = defaultdict(Counter)\n",
    "with open(embalmer_out) as inf:\n",
    "    csv_inf = csv.reader(inf, delimiter=\"\\t\")\n",
    "    for row in csv_inf:\n",
    "        taxa = row[-1]\n",
    "        taxa = \";\".join(taxa.split(';')[:7])\n",
    "        if taxa in indx.index and 'plasmid' in row[1]:\n",
    "            dd[row[1]].append(int(row[8]))\n",
    "            dd2[row[1]].update([row[1]])\n",
    "            \n",
    "for key, value in dd.items():\n",
    "    print(key)\n",
    "    print(dd2[key])\n",
    "    plt.hist(np.log(value), bins=100)\n",
    "\n",
    "    plt.show()"
   ]
  },
  {
   "cell_type": "code",
   "execution_count": 70,
   "metadata": {},
   "outputs": [
    {
     "name": "stdout",
     "output_type": "stream",
     "text": [
      "k__Bacteria;p__Proteobacteria;c__Gammaproteobacteria;o__Enterobacterales;f__Enterobacteriaceae;g__Kluyvera;s__Kluyvera_intermedia\n",
      "Counter({'NZ_CP011602.1 Kluyvera intermedia strain CAV1151, complete genome': 22})\n"
     ]
    },
    {
     "data": {
      "image/png": "[encoded data removed]",
      "text/plain": [
       "<matplotlib.figure.Figure at 0x7f524761c240>"
      ]
     },
     "metadata": {},
     "output_type": "display_data"
    },
    {
     "name": "stdout",
     "output_type": "stream",
     "text": [
      "k__Bacteria;p__Proteobacteria;c__Gammaproteobacteria;o__Enterobacterales;f__Hafniaceae;g__Edwardsiella;s__Edwardsiella_ictaluri\n",
      "Counter({'NC_012779.2 Edwardsiella ictaluri 93-146, complete genome': 44})\n"
     ]
    },
    {
     "data": {
      "image/png": "[encoded data removed]",
      "text/plain": [
       "<matplotlib.figure.Figure at 0x7f52a8119c88>"
      ]
     },
     "metadata": {},
     "output_type": "display_data"
    },
    {
     "name": "stdout",
     "output_type": "stream",
     "text": [
      "k__Bacteria;p__Proteobacteria;c__Gammaproteobacteria;o__Enterobacterales;f__Yersiniaceae;g__Serratia;s__Serratia_rubidaea\n",
      "Counter({'NZ_CP014474.1 Serratia rubidaea strain 1122, complete genome': 4})\n"
     ]
    },
    {
     "data": {
      "image/png": "[encoded data removed]",
      "text/plain": [
       "<matplotlib.figure.Figure at 0x7f52442ef2b0>"
      ]
     },
     "metadata": {},
     "output_type": "display_data"
    },
    {
     "name": "stdout",
     "output_type": "stream",
     "text": [
      "k__Bacteria;p__Proteobacteria;c__Gammaproteobacteria;o__Enterobacterales;f__Enterobacteriaceae;g__Franconibacter;s__Franconibacter_pulveris\n",
      "Counter({'NZ_KK211224.1 Franconibacter pulveris DSM 19144 Q370DRAFT_scaffold00004.4, whole genome shotgun sequence': 3, 'NZ_JHYZ01000028.1 Franconibacter pulveris DSM 19144 Q370DRAFT_scaffold00022.22_C, whole genome shotgun sequence': 1, 'NZ_JHYZ01000029.1 Franconibacter pulveris DSM 19144 Q370DRAFT_scaffold00023.23_C, whole genome shotgun sequence': 1})\n"
     ]
    },
    {
     "data": {
      "image/png": "[encoded data removed]",
      "text/plain": [
       "<matplotlib.figure.Figure at 0x7f52444a9978>"
      ]
     },
     "metadata": {},
     "output_type": "display_data"
    },
    {
     "name": "stdout",
     "output_type": "stream",
     "text": [
      "k__Bacteria;p__Proteobacteria;c__Gammaproteobacteria;o__Enterobacterales;f__Enterobacteriaceae;g__Citrobacter;s__Citrobacter_freundii\n",
      "Counter({'NZ_CP007557.1 Citrobacter freundii CFNIH1, complete genome': 20})\n"
     ]
    },
    {
     "data": {
      "image/png": "[encoded data removed]",
      "text/plain": [
       "<matplotlib.figure.Figure at 0x7f5244364780>"
      ]
     },
     "metadata": {},
     "output_type": "display_data"
    },
    {
     "name": "stdout",
     "output_type": "stream",
     "text": [
      "k__Bacteria;p__Proteobacteria;c__Gammaproteobacteria;o__Enterobacterales;f__Erwiniaceae;g__Erwinia;s__Erwinia_tracheiphila\n",
      "Counter({'NZ_KE136308.1 Erwinia tracheiphila PSU-1 scaffold00001, whole genome shotgun sequence': 13})\n"
     ]
    },
    {
     "data": {
      "image/png": "[encoded data removed]",
      "text/plain": [
       "<matplotlib.figure.Figure at 0x7f52a816ff28>"
      ]
     },
     "metadata": {},
     "output_type": "display_data"
    },
    {
     "name": "stdout",
     "output_type": "stream",
     "text": [
      "k__Bacteria;p__Firmicutes;c__Bacilli;o__Bacillales;f__Staphylococcaceae;g__Staphylococcus;s__Staphylococcus_aureus\n",
      "Counter({'NC_007795.1 Staphylococcus aureus subsp. aureus NCTC 8325 chromosome, complete genome': 132, 'NZ_CP009828.1 Staphylococcus aureus strain MS4, complete genome': 29})\n"
     ]
    },
    {
     "data": {
      "image/png": "[encoded data removed]",
      "text/plain": [
       "<matplotlib.figure.Figure at 0x7f52a85665f8>"
      ]
     },
     "metadata": {},
     "output_type": "display_data"
    },
    {
     "name": "stdout",
     "output_type": "stream",
     "text": [
      "k__Bacteria;p__Proteobacteria;c__Gammaproteobacteria;o__Enterobacterales;f__Erwiniaceae;g__Erwinia;s__Erwinia_billingiae\n",
      "Counter({'NC_014306.1 Erwinia billingiae strain Eb661 complete chromosome': 13})\n"
     ]
    },
    {
     "data": {
      "image/png": "[encoded data removed]",
      "text/plain": [
       "<matplotlib.figure.Figure at 0x7f52a8416da0>"
      ]
     },
     "metadata": {},
     "output_type": "display_data"
    },
    {
     "name": "stdout",
     "output_type": "stream",
     "text": [
      "k__Bacteria;p__Proteobacteria;c__Gammaproteobacteria;o__Enterobacterales;f__Enterobacteriaceae;g__Escherichia;s__Escherichia_coli\n",
      "Counter({'NC_018658.1 Escherichia coli O104:H4 str. 2011C-3493 chromosome, complete genome': 116, 'NC_002695.1 Escherichia coli O157:H7 str. Sakai, complete genome': 13, 'NC_017634.1 Escherichia coli O83:H1 str. NRG 857C chromosome, complete genome': 7, 'NC_011751.1 Escherichia coli UMN026, complete genome': 6, 'NC_011750.1 Escherichia coli IAI39 chromosome, complete genome': 1})\n"
     ]
    },
    {
     "data": {
      "image/png": "[encoded data removed]",
      "text/plain": [
       "<matplotlib.figure.Figure at 0x7f52a98f7940>"
      ]
     },
     "metadata": {},
     "output_type": "display_data"
    },
    {
     "name": "stdout",
     "output_type": "stream",
     "text": [
      "k__Bacteria;p__Proteobacteria;c__Gammaproteobacteria;o__Enterobacterales;f__Enterobacteriaceae;g__Kosakonia;s__Kosakonia_sacchari\n",
      "Counter({'NZ_CP007215.2 Enterobacter sacchari SP1, complete genome': 73})\n"
     ]
    },
    {
     "data": {
      "image/png": "[encoded data removed]",
      "text/plain": [
       "<matplotlib.figure.Figure at 0x7f52a839d978>"
      ]
     },
     "metadata": {},
     "output_type": "display_data"
    },
    {
     "name": "stdout",
     "output_type": "stream",
     "text": [
      "k__Bacteria;p__Proteobacteria;c__Gammaproteobacteria;o__Oceanospirillales;f__Halomonadaceae;g__Zymobacter;s__Zymobacter_palmae\n",
      "Counter({'NZ_KK211051.1 Zymobacter palmae DSM 10491 genomic scaffold Q387DRAFT_scaffold00004.4, whole genome shotgun sequence': 2})\n"
     ]
    },
    {
     "data": {
      "image/png": "[encoded data removed]",
      "text/plain": [
       "<matplotlib.figure.Figure at 0x7f5244332e80>"
      ]
     },
     "metadata": {},
     "output_type": "display_data"
    },
    {
     "name": "stdout",
     "output_type": "stream",
     "text": [
      "k__Bacteria;p__Proteobacteria;c__Gammaproteobacteria;o__Enterobacterales;f__Yersiniaceae;g__Chania;s__Chania_multitudinisentens\n",
      "Counter({'NZ_CP007044.2 Chania multitudinisentens RB-25, complete genome': 5})\n"
     ]
    },
    {
     "data": {
      "image/png": "[encoded data removed]",
      "text/plain": [
       "<matplotlib.figure.Figure at 0x7f52a97a09e8>"
      ]
     },
     "metadata": {},
     "output_type": "display_data"
    },
    {
     "name": "stdout",
     "output_type": "stream",
     "text": [
      "k__Bacteria;p__Proteobacteria;c__Gammaproteobacteria;o__Enterobacterales;f__Enterobacteriaceae;g__Cedecea;s__Cedecea_neteri\n",
      "Counter({'NZ_CP009451.1 Cedecea neteri strain SSMD04, complete genome': 102})\n"
     ]
    },
    {
     "data": {
      "image/png": "[encoded data removed]",
      "text/plain": [
       "<matplotlib.figure.Figure at 0x7f52a83e59b0>"
      ]
     },
     "metadata": {},
     "output_type": "display_data"
    },
    {
     "name": "stdout",
     "output_type": "stream",
     "text": [
      "k__Bacteria;p__Proteobacteria;c__Gammaproteobacteria;o__Aeromonadales;f__Aeromonadaceae;g__Aeromonas;s__Aeromonas_simiae\n",
      "Counter({'NZ_CDBY01000048.1 Aeromonas simiae genome assembly PRJEB7039, contig A_simiae_F325_contig46, whole genome shotgun sequence': 25})\n"
     ]
    },
    {
     "data": {
      "image/png": "[encoded data removed]",
      "text/plain": [
       "<matplotlib.figure.Figure at 0x7f52a97d20f0>"
      ]
     },
     "metadata": {},
     "output_type": "display_data"
    },
    {
     "name": "stdout",
     "output_type": "stream",
     "text": [
      "k__Bacteria;p__Proteobacteria;c__Gammaproteobacteria;o__Enterobacterales;f__Erwiniaceae;g__Pantoea;s__Pantoea_agglomerans\n",
      "Counter({'NZ_CP016889.1 Pantoea agglomerans strain C410P1, complete genome': 31})\n"
     ]
    },
    {
     "data": {
      "image/png": "[encoded data removed]",
      "text/plain": [
       "<matplotlib.figure.Figure at 0x7f52a85f80f0>"
      ]
     },
     "metadata": {},
     "output_type": "display_data"
    },
    {
     "name": "stdout",
     "output_type": "stream",
     "text": [
      "k__Bacteria;p__Proteobacteria;c__Gammaproteobacteria;o__Enterobacterales;f__Enterobacteriaceae;g__Shigella;s__Shigella_dysenteriae\n",
      "Counter({'NC_007606.1 Shigella dysenteriae Sd197 chromosome, complete genome': 1})\n"
     ]
    },
    {
     "data": {
      "image/png": "[encoded data removed]",
      "text/plain": [
       "<matplotlib.figure.Figure at 0x7f52a861c5f8>"
      ]
     },
     "metadata": {},
     "output_type": "display_data"
    },
    {
     "name": "stdout",
     "output_type": "stream",
     "text": [
      "k__Bacteria;p__Proteobacteria;c__Gammaproteobacteria;o__Enterobacterales;f__Enterobacteriaceae;g__Mangrovibacter;s__Mangrovibacter_sp._MFB070\n",
      "Counter({'NZ_JJMI01000045.1 Mangrovibacter sp. MFB070 Contig-045, whole genome shotgun sequence': 26, 'NZ_JJMI01000035.1 Mangrovibacter sp. MFB070 Contig-035, whole genome shotgun sequence': 2})\n"
     ]
    },
    {
     "data": {
      "image/png": "[encoded data removed]",
      "text/plain": [
       "<matplotlib.figure.Figure at 0x7f5244317908>"
      ]
     },
     "metadata": {},
     "output_type": "display_data"
    },
    {
     "name": "stdout",
     "output_type": "stream",
     "text": [
      "k__Bacteria;p__Proteobacteria;c__Gammaproteobacteria;o__Enterobacterales;f__Yersiniaceae;g__Yersinia;s__Yersinia_enterocolitica\n",
      "Counter({'NC_008800.1 Yersinia enterocolitica subsp. enterocolitica 8081 chromosome, complete genome': 3})\n"
     ]
    },
    {
     "data": {
      "image/png": "[encoded data removed]",
      "text/plain": [
       "<matplotlib.figure.Figure at 0x7f52a976ec50>"
      ]
     },
     "metadata": {},
     "output_type": "display_data"
    },
    {
     "name": "stdout",
     "output_type": "stream",
     "text": [
      "k__Bacteria;p__Proteobacteria;c__Gammaproteobacteria;o__Enterobacterales;f__Enterobacteriaceae;g__Citrobacter;s__Citrobacter_amalonaticus\n",
      "Counter({'NZ_CP014070.1 Citrobacter amalonaticus strain FDAARGOS_165, complete genome': 43})\n"
     ]
    },
    {
     "data": {
      "image/png": "[encoded data removed]",
      "text/plain": [
       "<matplotlib.figure.Figure at 0x7f52443307f0>"
      ]
     },
     "metadata": {},
     "output_type": "display_data"
    },
    {
     "name": "stdout",
     "output_type": "stream",
     "text": [
      "k__Bacteria;p__Proteobacteria;c__Gammaproteobacteria;o__Enterobacterales;f__Enterobacteriaceae;g__Enterobacter;s__Enterobacter_sp._638\n",
      "Counter({'NC_009436.1 Enterobacter sp. 638, complete genome': 9})\n"
     ]
    },
    {
     "data": {
      "image/png": "[encoded data removed]",
      "text/plain": [
       "<matplotlib.figure.Figure at 0x7f52a85f4390>"
      ]
     },
     "metadata": {},
     "output_type": "display_data"
    },
    {
     "name": "stdout",
     "output_type": "stream",
     "text": [
      "k__Bacteria;p__Proteobacteria;c__Gammaproteobacteria;o__Enterobacterales;f__Enterobacteriaceae;g__Enterobacter;s__Enterobacter_cloacae\n",
      "Counter({'NC_014121.1 Enterobacter cloacae subsp. cloacae ATCC 13047 chromosome, complete genome': 45})\n"
     ]
    },
    {
     "data": {
      "image/png": "[encoded data removed]",
      "text/plain": [
       "<matplotlib.figure.Figure at 0x7f52a835a128>"
      ]
     },
     "metadata": {},
     "output_type": "display_data"
    },
    {
     "name": "stdout",
     "output_type": "stream",
     "text": [
      "k__Bacteria;p__Proteobacteria;c__Gammaproteobacteria;o__Enterobacterales;f__Erwiniaceae;g__Erwinia;s__Erwinia_iniecta\n",
      "Counter({'NZ_JRXE01000041.1 Erwinia iniecta strain B120 contig000041, whole genome shotgun sequence': 4})\n"
     ]
    },
    {
     "data": {
      "image/png": "[encoded data removed]",
      "text/plain": [
       "<matplotlib.figure.Figure at 0x7f52a9756080>"
      ]
     },
     "metadata": {},
     "output_type": "display_data"
    },
    {
     "name": "stdout",
     "output_type": "stream",
     "text": [
      "k__Bacteria;p__Proteobacteria;c__Gammaproteobacteria;o__Enterobacterales;f__Enterobacteriaceae;g__Salmonella;s__Salmonella_enterica\n",
      "Counter({'NC_003197.2 Salmonella enterica subsp. enterica serovar Typhimurium str. LT2, complete genome': 12, 'NC_003198.1 Salmonella enterica subsp. enterica serovar Typhi str. CT18, complete genome': 4})\n"
     ]
    },
    {
     "data": {
      "image/png": "[encoded data removed]",
      "text/plain": [
       "<matplotlib.figure.Figure at 0x7f52a81c09b0>"
      ]
     },
     "metadata": {},
     "output_type": "display_data"
    },
    {
     "name": "stdout",
     "output_type": "stream",
     "text": [
      "k__Bacteria;p__Proteobacteria;c__Gammaproteobacteria;o__Enterobacterales;f__Enterobacteriaceae;g__Shimwellia;s__Shimwellia_blattae\n",
      "Counter({'NC_017910.1 Shimwellia blattae DSM 4481 = NBRC 105725, complete genome': 10})\n"
     ]
    },
    {
     "data": {
      "image/png": "[encoded data removed]",
      "text/plain": [
       "<matplotlib.figure.Figure at 0x7f52a97606d8>"
      ]
     },
     "metadata": {},
     "output_type": "display_data"
    },
    {
     "name": "stdout",
     "output_type": "stream",
     "text": [
      "k__Bacteria;p__Actinobacteria;c__Actinobacteria;o__Micrococcales;f__Microbacteriaceae;g__Leucobacter;s__Leucobacter_sp._UCD-THU\n",
      "Counter({'NZ_APJM01000030.1 Leucobacter sp. UCD-THU contig_30, whole genome shotgun sequence': 8})\n"
     ]
    },
    {
     "data": {
      "image/png": "[encoded data removed]",
      "text/plain": [
       "<matplotlib.figure.Figure at 0x7f52a836d5f8>"
      ]
     },
     "metadata": {},
     "output_type": "display_data"
    },
    {
     "name": "stdout",
     "output_type": "stream",
     "text": [
      "k__Bacteria;p__Proteobacteria;c__Gammaproteobacteria;o__Enterobacterales;f__Enterobacteriaceae;g__Siccibacter;s__Siccibacter_turicensis\n",
      "Counter({'NZ_AWFZ01000001.1 Siccibacter turicensis LMG 23730 contig002, whole genome shotgun sequence': 6, 'NZ_AWFZ01000012.1 Siccibacter turicensis LMG 23730 contig016, whole genome shotgun sequence': 4, 'NZ_AWFZ01000028.1 Siccibacter turicensis LMG 23730 contig042, whole genome shotgun sequence': 2, 'NZ_AWFZ01000002.1 Siccibacter turicensis LMG 23730 contig003, whole genome shotgun sequence': 1})\n"
     ]
    },
    {
     "data": {
      "image/png": "[encoded data removed]",
      "text/plain": [
       "<matplotlib.figure.Figure at 0x7f52a85f20b8>"
      ]
     },
     "metadata": {},
     "output_type": "display_data"
    },
    {
     "name": "stdout",
     "output_type": "stream",
     "text": [
      "k__Bacteria;p__Actinobacteria;c__Actinobacteria;o__Micrococcales;f__Micrococcaceae;g__Rothia;s__Rothia_dentocariosa\n",
      "Counter({'NC_014643.1 Rothia dentocariosa ATCC 17931, complete genome': 1})\n"
     ]
    },
    {
     "data": {
      "image/png": "[encoded data removed]",
      "text/plain": [
       "<matplotlib.figure.Figure at 0x7f524459fb70>"
      ]
     },
     "metadata": {},
     "output_type": "display_data"
    },
    {
     "name": "stdout",
     "output_type": "stream",
     "text": [
      "k__Bacteria;p__Proteobacteria;c__Gammaproteobacteria;o__Enterobacterales;f__Enterobacteriaceae;g__Pluralibacter;s__Pluralibacter_gergoviae\n",
      "Counter({'NZ_CP009450.1 Pluralibacter gergoviae strain FB2, complete genome': 12})\n"
     ]
    },
    {
     "data": {
      "image/png": "[encoded data removed]",
      "text/plain": [
       "<matplotlib.figure.Figure at 0x7f52445c85f8>"
      ]
     },
     "metadata": {},
     "output_type": "display_data"
    },
    {
     "name": "stdout",
     "output_type": "stream",
     "text": [
      "k__Bacteria;p__Proteobacteria;c__Gammaproteobacteria;o__Enterobacterales;f__Erwiniaceae;g__Erwinia;s__Erwinia_amylovora\n",
      "Counter({'NC_013961.1 Erwinia amylovora CFBP1430 complete genome': 5})\n"
     ]
    },
    {
     "data": {
      "image/png": "[encoded data removed]",
      "text/plain": [
       "<matplotlib.figure.Figure at 0x7f5244536320>"
      ]
     },
     "metadata": {},
     "output_type": "display_data"
    },
    {
     "name": "stdout",
     "output_type": "stream",
     "text": [
      "k__Bacteria;p__Proteobacteria;c__Gammaproteobacteria;o__Enterobacterales;f__Pectobacteriaceae;g__Sodalis;s__Sodalis_praecaptivus\n",
      "Counter({'NZ_CP006569.1 Sodalis praecaptivus strain HS1, complete genome': 8})\n"
     ]
    },
    {
     "data": {
      "image/png": "[encoded data removed]",
      "text/plain": [
       "<matplotlib.figure.Figure at 0x7f52a81e6d30>"
      ]
     },
     "metadata": {},
     "output_type": "display_data"
    },
    {
     "name": "stdout",
     "output_type": "stream",
     "text": [
      "k__Bacteria;p__Actinobacteria;c__Actinobacteria;o__Micrococcales;f__Microbacteriaceae;g__Microbacterium;s__Microbacterium_sp._C448\n",
      "Counter({'NZ_HG779703.1 Microbacterium sp. C448 genomic scaffold, scaff123, whole genome shotgun sequence': 22})\n"
     ]
    },
    {
     "data": {
      "image/png": "[encoded data removed]",
      "text/plain": [
       "<matplotlib.figure.Figure at 0x7f52a8676b38>"
      ]
     },
     "metadata": {},
     "output_type": "display_data"
    },
    {
     "name": "stdout",
     "output_type": "stream",
     "text": [
      "k__Bacteria;p__Proteobacteria;c__Alphaproteobacteria;o__Rhizobiales;f__Bradyrhizobiaceae;g__Rhodopseudomonas;s__Rhodopseudomonas_palustris\n",
      "Counter({'NZ_KI632515.1 Rhodopseudomonas palustris JSC-3b genomic scaffold Scaffold5, whole genome shotgun sequence': 1})\n"
     ]
    },
    {
     "data": {
      "image/png": "[encoded data removed]",
      "text/plain": [
       "<matplotlib.figure.Figure at 0x7f52a82eb358>"
      ]
     },
     "metadata": {},
     "output_type": "display_data"
    },
    {
     "name": "stdout",
     "output_type": "stream",
     "text": [
      "k__Bacteria;p__Proteobacteria;c__Gammaproteobacteria;o__Enterobacterales;f__Enterobacteriaceae;g__Enterobacter;s__Enterobacter_lignolyticus\n",
      "Counter({'NC_014618.1 Enterobacter lignolyticus SCF1, complete genome': 30})\n"
     ]
    },
    {
     "data": {
      "image/png": "[encoded data removed]",
      "text/plain": [
       "<matplotlib.figure.Figure at 0x7f52a85e0cc0>"
      ]
     },
     "metadata": {},
     "output_type": "display_data"
    },
    {
     "name": "stdout",
     "output_type": "stream",
     "text": [
      "k__Bacteria;p__Proteobacteria;c__Gammaproteobacteria;o__Enterobacterales;f__Erwiniaceae;g__Erwinia;s__Erwinia_toletana\n",
      "Counter({'NZ_KB372804.1 Erwinia toletana DAPP-PG 735 scf_2378_174.1, whole genome shotgun sequence': 1})\n"
     ]
    },
    {
     "data": {
      "image/png": "[encoded data removed]",
      "text/plain": [
       "<matplotlib.figure.Figure at 0x7f52443361d0>"
      ]
     },
     "metadata": {},
     "output_type": "display_data"
    },
    {
     "name": "stdout",
     "output_type": "stream",
     "text": [
      "k__Bacteria;p__Proteobacteria;c__Gammaproteobacteria;o__Enterobacterales;f__Erwiniaceae;g__Pantoea;s__Pantoea_rwandensis\n",
      "Counter({'NZ_CP009454.1 Pantoea rwandensis strain ND04, complete genome': 1})\n"
     ]
    },
    {
     "data": {
      "image/png": "[encoded data removed]",
      "text/plain": [
       "<matplotlib.figure.Figure at 0x7f52a9794208>"
      ]
     },
     "metadata": {},
     "output_type": "display_data"
    },
    {
     "name": "stdout",
     "output_type": "stream",
     "text": [
      "k__Bacteria;p__Proteobacteria;c__Gammaproteobacteria;o__Enterobacterales;f__Yersiniaceae;g__Serratia;s__Serratia_odorifera\n",
      "Counter({'NZ_GG753567.1 Serratia odorifera DSM 4582 SCAFFOLD1, whole genome shotgun sequence': 5, 'NZ_GG753568.1 Serratia odorifera DSM 4582 SCAFFOLD2, whole genome shotgun sequence': 1})\n"
     ]
    },
    {
     "data": {
      "image/png": "[encoded data removed]",
      "text/plain": [
       "<matplotlib.figure.Figure at 0x7f52444af358>"
      ]
     },
     "metadata": {},
     "output_type": "display_data"
    },
    {
     "name": "stdout",
     "output_type": "stream",
     "text": [
      "k__Bacteria;p__Proteobacteria;c__Gammaproteobacteria;o__Enterobacterales;f__Hafniaceae;g__Obesumbacterium;s__Obesumbacterium_proteus\n",
      "Counter({'NZ_CP014608.1 Obesumbacterium proteus strain DSM 2777, complete genome': 1})\n"
     ]
    },
    {
     "data": {
      "image/png": "[encoded data removed]",
      "text/plain": [
       "<matplotlib.figure.Figure at 0x7f52a81e3b00>"
      ]
     },
     "metadata": {},
     "output_type": "display_data"
    },
    {
     "name": "stdout",
     "output_type": "stream",
     "text": [
      "k__Bacteria;p__Proteobacteria;c__Gammaproteobacteria;o__Enterobacterales;f__Enterobacteriaceae;g__;s__Plautia_stali_symbiont\n",
      "Counter({'NC_022546.1 Plautia stali symbiont DNA, complete genome': 4})\n"
     ]
    },
    {
     "data": {
      "image/png": "[encoded data removed]",
      "text/plain": [
       "<matplotlib.figure.Figure at 0x7f52a97123c8>"
      ]
     },
     "metadata": {},
     "output_type": "display_data"
    },
    {
     "name": "stdout",
     "output_type": "stream",
     "text": [
      "k__Bacteria;p__Proteobacteria;c__Gammaproteobacteria;o__Enterobacterales;f__Enterobacteriaceae;g__Trabulsiella;s__Trabulsiella_odontotermitis\n",
      "Counter({'NZ_LIFV01000019.1 Trabulsiella odontotermitis strain TbO2.3 contig19, whole genome shotgun sequence': 4, 'NZ_LIFV01000003.1 Trabulsiella odontotermitis strain TbO2.3 contig3, whole genome shotgun sequence': 3, 'NZ_LIFV01000014.1 Trabulsiella odontotermitis strain TbO2.3 contig14, whole genome shotgun sequence': 2, 'NZ_LIFV01000001.1 Trabulsiella odontotermitis strain TbO2.3 contig1, whole genome shotgun sequence': 2})\n"
     ]
    },
    {
     "data": {
      "image/png": "[encoded data removed]",
      "text/plain": [
       "<matplotlib.figure.Figure at 0x7f52a83cc8d0>"
      ]
     },
     "metadata": {},
     "output_type": "display_data"
    },
    {
     "name": "stdout",
     "output_type": "stream",
     "text": [
      "k__Bacteria;p__Firmicutes;c__Bacilli;o__Bacillales;f__Staphylococcaceae;g__Staphylococcus;s__Staphylococcus_epidermidis\n",
      "Counter({'NC_004461.1 Staphylococcus epidermidis ATCC 12228 chromosome, complete genome': 1})\n"
     ]
    },
    {
     "data": {
      "image/png": "[encoded data removed]",
      "text/plain": [
       "<matplotlib.figure.Figure at 0x7f52a83b3198>"
      ]
     },
     "metadata": {},
     "output_type": "display_data"
    },
    {
     "name": "stdout",
     "output_type": "stream",
     "text": [
      "k__Bacteria;p__Firmicutes;c__Bacilli;o__Bacillales;f__Staphylococcaceae;g__Staphylococcus;s__Staphylococcus_haemolyticus\n",
      "Counter({'NC_007168.1 Staphylococcus haemolyticus JCSC1435 DNA, complete genome': 1})\n"
     ]
    },
    {
     "data": {
      "image/png": "[encoded data removed]",
      "text/plain": [
       "<matplotlib.figure.Figure at 0x7f52a85248d0>"
      ]
     },
     "metadata": {},
     "output_type": "display_data"
    },
    {
     "name": "stdout",
     "output_type": "stream",
     "text": [
      "k__Bacteria;p__Proteobacteria;c__Gammaproteobacteria;o__Enterobacterales;f__Yersiniaceae;g__Rahnella;s__Rahnella_aquatilis\n",
      "Counter({'NC_017047.1 Rahnella aquatilis HX2, complete genome': 66})\n"
     ]
    },
    {
     "data": {
      "image/png": "[encoded data removed]",
      "text/plain": [
       "<matplotlib.figure.Figure at 0x7f52a835a2e8>"
      ]
     },
     "metadata": {},
     "output_type": "display_data"
    },
    {
     "name": "stdout",
     "output_type": "stream",
     "text": [
      "k__Bacteria;p__Proteobacteria;c__Gammaproteobacteria;o__Enterobacterales;f__Enterobacteriaceae;g__Cronobacter;s__Cronobacter_sakazakii\n",
      "Counter({'NZ_CP011047.1 Cronobacter sakazakii strain ATCC 29544, complete genome': 13})\n"
     ]
    },
    {
     "data": {
      "image/png": "[encoded data removed]",
      "text/plain": [
       "<matplotlib.figure.Figure at 0x7f52443a4f98>"
      ]
     },
     "metadata": {},
     "output_type": "display_data"
    },
    {
     "name": "stdout",
     "output_type": "stream",
     "text": [
      "k__Bacteria;p__Firmicutes;c__Clostridia;o__Clostridiales;f__Eubacteriaceae;g__Eubacterium;s__Eubacterium_ramulus\n",
      "Counter({'NZ_KI271141.1 Eubacterium ramulus ATCC 29099 genomic scaffold Scaffold419, whole genome shotgun sequence': 1})\n"
     ]
    },
    {
     "data": {
      "image/png": "[encoded data removed]",
      "text/plain": [
       "<matplotlib.figure.Figure at 0x7f52a8349390>"
      ]
     },
     "metadata": {},
     "output_type": "display_data"
    }
   ],
   "source": [
    "# Non-Plasmid Hits\n",
    "embalmer_out = \"../data/single_strain/kpneumoniae_analysis/kpneumoniae_b6_files/combined_sub0.1.fna.b6\"\n",
    "\n",
    "indx = species_taxatable[species_taxatable.iloc[:, 0]/np.sum(species_taxatable.iloc[:, 0]) <= .05]\n",
    "\n",
    "import csv\n",
    "from collections import defaultdict, Counter\n",
    "dd = defaultdict(list)\n",
    "dd2 = defaultdict(Counter)\n",
    "with open(embalmer_out) as inf:\n",
    "    csv_inf = csv.reader(inf, delimiter=\"\\t\")\n",
    "    for row in csv_inf:\n",
    "        taxa = row[-1]\n",
    "        taxa = \";\".join(taxa.split(';')[:7])\n",
    "        if taxa in indx.index and 'plasmid' not in row[1]:\n",
    "            dd[taxa].append(int(row[8]))\n",
    "            dd2[taxa].update([row[1]])\n",
    "            \n",
    "for key, value in dd.items():\n",
    "    print(key)\n",
    "    print(dd2[key])\n",
    "    plt.hist(np.log(value), bins=100)\n",
    "    plt.show()"
   ]
  },
  {
   "cell_type": "code",
   "execution_count": 71,
   "metadata": {},
   "outputs": [
    {
     "name": "stdout",
     "output_type": "stream",
     "text": [
      "NZ_CP007558.1 Citrobacter freundii CFNIH1 plasmid pKEC-a3c, complete sequence\n",
      "Counter({'NZ_CP007558.1 Citrobacter freundii CFNIH1 plasmid pKEC-a3c, complete sequence': 66})\n"
     ]
    },
    {
     "data": {
      "image/png": "[encoded data removed]",
      "text/plain": [
       "<matplotlib.figure.Figure at 0x7f52a85da588>"
      ]
     },
     "metadata": {},
     "output_type": "display_data"
    },
    {
     "name": "stdout",
     "output_type": "stream",
     "text": [
      "NC_014107.1 Enterobacter cloacae subsp. cloacae ATCC 13047 plasmid pECL_A, complete sequence\n",
      "Counter({'NC_014107.1 Enterobacter cloacae subsp. cloacae ATCC 13047 plasmid pECL_A, complete sequence': 23})\n"
     ]
    },
    {
     "data": {
      "image/png": "[encoded data removed]",
      "text/plain": [
       "<matplotlib.figure.Figure at 0x7f5244342710>"
      ]
     },
     "metadata": {},
     "output_type": "display_data"
    },
    {
     "name": "stdout",
     "output_type": "stream",
     "text": [
      "NZ_CP011600.1 Kluyvera intermedia strain CAV1151 plasmid pCAV1151-215, complete sequence\n",
      "Counter({'NZ_CP011600.1 Kluyvera intermedia strain CAV1151 plasmid pCAV1151-215, complete sequence': 1})\n"
     ]
    },
    {
     "data": {
      "image/png": "[encoded data removed]",
      "text/plain": [
       "<matplotlib.figure.Figure at 0x7f52444fef60>"
      ]
     },
     "metadata": {},
     "output_type": "display_data"
    },
    {
     "name": "stdout",
     "output_type": "stream",
     "text": [
      "NZ_CP010351.1 Acinetobacter johnsonii XBB1 plasmid pXBB1-9, complete sequence\n",
      "Counter({'NZ_CP010351.1 Acinetobacter johnsonii XBB1 plasmid pXBB1-9, complete sequence': 110})\n"
     ]
    },
    {
     "data": {
      "image/png": "[encoded data removed]",
      "text/plain": [
       "<matplotlib.figure.Figure at 0x7f52442d45c0>"
      ]
     },
     "metadata": {},
     "output_type": "display_data"
    },
    {
     "name": "stdout",
     "output_type": "stream",
     "text": [
      "NC_014304.1 Erwinia billingiae strain Eb661 complete plasmid pEB102\n",
      "Counter({'NC_014304.1 Erwinia billingiae strain Eb661 complete plasmid pEB102': 1})\n"
     ]
    },
    {
     "data": {
      "image/png": "[encoded data removed]",
      "text/plain": [
       "<matplotlib.figure.Figure at 0x7f52a9898d68>"
      ]
     },
     "metadata": {},
     "output_type": "display_data"
    },
    {
     "name": "stdout",
     "output_type": "stream",
     "text": [
      "NZ_CP009867.1 Pantoea sp. PSNIH2 plasmid pKPC-56a, complete sequence\n",
      "Counter({'NZ_CP009867.1 Pantoea sp. PSNIH2 plasmid pKPC-56a, complete sequence': 2})\n"
     ]
    },
    {
     "data": {
      "image/png": "[encoded data removed]",
      "text/plain": [
       "<matplotlib.figure.Figure at 0x7f523ece6be0>"
      ]
     },
     "metadata": {},
     "output_type": "display_data"
    }
   ],
   "source": [
    "# Plasmid Hits\n",
    "embalmer_out = \"../data/single_strain/kpneumoniae_analysis/kpneumoniae_b6_files/combined_sub0.1.fna.b6\"\n",
    "\n",
    "indx = species_taxatable[species_taxatable.iloc[:, 0]/np.sum(species_taxatable.iloc[:, 0]) <= .05]\n",
    "\n",
    "import csv\n",
    "from collections import defaultdict, Counter\n",
    "dd = defaultdict(list)\n",
    "dd2 = defaultdict(Counter)\n",
    "with open(embalmer_out) as inf:\n",
    "    csv_inf = csv.reader(inf, delimiter=\"\\t\")\n",
    "    for row in csv_inf:\n",
    "        taxa = row[-1]\n",
    "        taxa = \";\".join(taxa.split(';')[:7])\n",
    "        if taxa in indx.index and 'plasmid' in row[1]:\n",
    "            dd[row[1]].append(int(row[8]))\n",
    "            dd2[row[1]].update([row[1]])\n",
    "            \n",
    "for key, value in dd.items():\n",
    "    print(key)\n",
    "    print(dd2[key])\n",
    "    plt.hist(np.log(value), bins=100)\n",
    "    plt.show()"
   ]
  }
 ],
 "metadata": {
  "kernelspec": {
   "display_name": "Python 3",
   "language": "python",
   "name": "python3"
  },
  "language_info": {
   "codemirror_mode": {
    "name": "ipython",
    "version": 3
   },
   "file_extension": ".py",
   "mimetype": "text/x-python",
   "name": "python",
   "nbconvert_exporter": "python",
   "pygments_lexer": "ipython3",
   "version": "3.5.3"
  }
 },
 "nbformat": 4,
 "nbformat_minor": 2
}
