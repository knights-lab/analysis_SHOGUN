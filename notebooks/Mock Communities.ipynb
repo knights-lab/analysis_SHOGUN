{
 "cells": [
  {
   "cell_type": "code",
   "execution_count": 7,
   "metadata": {},
   "outputs": [
    {
     "name": "stdout",
     "output_type": "stream",
     "text": [
      "../data/mock_community/fasta/SRR072232.fna\tSRR072232\t839297\n",
      "../data/mock_community/fasta/SRR072233.fna\tSRR072233\t576291\n",
      "../data/mock_community/fasta/SRR172902.fna\tSRR172902\t2373185\n",
      "../data/mock_community/fasta/SRR172903.fna\tSRR172903\t2538639\n"
     ]
    }
   ],
   "source": [
    "# Combine the sequences after QC\n",
    "%run ../scripts/combine_seqs.py --i ../data/mock_community/fasta --type FASTA --output ../data/mock_community/fasta/combined"
   ]
  },
  {
   "cell_type": "code",
   "execution_count": 9,
   "metadata": {},
   "outputs": [
    {
     "name": "stdout",
     "output_type": "stream",
     "text": [
      "../data/mock_community/subsampled/SRR172903.strandex.fna\tSRR172903.strandex\t500000\n",
      "../data/mock_community/subsampled/SRR072233.strandex.fna\tSRR072233.strandex\t500000\n",
      "../data/mock_community/subsampled/SRR072232.strandex.fna\tSRR072232.strandex\t500000\n",
      "../data/mock_community/subsampled/SRR172902.strandex.fna\tSRR172902.strandex\t500000\n"
     ]
    }
   ],
   "source": [
    "combine_seqs = \"../scripts/combine_seqs.py\"\n",
    "# Combine the sequences after QC\n",
    "%run {combine_seqs} --i ../data/mock_community/subsampled --type FASTA --output ../data/mock_community/subsampled/combined"
   ]
  },
  {
   "cell_type": "code",
   "execution_count": 10,
   "metadata": {},
   "outputs": [
    {
     "name": "stdout",
     "output_type": "stream",
     "text": [
      "/export/scratch/miniconda3/envs/analysis_SHOGUN/lib/python3.5/site-packages/matplotlib/__init__.py:841: UserWarning: Found matplotlib configuration in ~/.matplotlib/. To conform with the XDG base directory standard, this configuration location has been deprecated on Linux, and the new location is now /home/grad00/hillm096/.config/matplotlib/. Please move your configuration there to ensure that matplotlib will continue to find it in the future.\r\n",
      "  _get_xdg_config_dir())\r\n",
      "Error: no such option: --version\r\n"
     ]
    }
   ],
   "source": [
    "!shogun --version"
   ]
  }
 ],
 "metadata": {
  "kernelspec": {
   "display_name": "Python 3",
   "language": "python",
   "name": "python3"
  },
  "language_info": {
   "codemirror_mode": {
    "name": "ipython",
    "version": 3
   },
   "file_extension": ".py",
   "mimetype": "text/x-python",
   "name": "python",
   "nbconvert_exporter": "python",
   "pygments_lexer": "ipython3",
   "version": "3.5.3"
  }
 },
 "nbformat": 4,
 "nbformat_minor": 2
}
