{
 "cells": [
  {
   "cell_type": "code",
   "execution_count": 1,
   "metadata": {},
   "outputs": [
    {
     "ename": "FileNotFoundError",
     "evalue": "[Errno 2] No such file or directory: '/project/flatiron2/analysis_SHOGUN/data/references/linear/rep82_combined.fna'",
     "output_type": "error",
     "traceback": [
      "\u001b[0;31m---------------------------------------------------------------------------\u001b[0m",
      "\u001b[0;31mFileNotFoundError\u001b[0m                         Traceback (most recent call last)",
      "\u001b[0;32m<ipython-input-1-3ef63cce8835>\u001b[0m in \u001b[0;36m<module>\u001b[0;34m()\u001b[0m\n\u001b[0;32m----> 1\u001b[0;31m \u001b[0mget_ipython\u001b[0m\u001b[0;34m(\u001b[0m\u001b[0;34m)\u001b[0m\u001b[0;34m.\u001b[0m\u001b[0mrun_cell_magic\u001b[0m\u001b[0;34m(\u001b[0m\u001b[0;34m'time'\u001b[0m\u001b[0;34m,\u001b[0m \u001b[0;34m''\u001b[0m\u001b[0;34m,\u001b[0m \u001b[0;34m'base = \"/project/flatiron2/analysis_SHOGUN/data/references/linear\"\\nfna = \"{}/rep82_combined.fna\".format(base)\\ntax = \"{}/rep82_combined.tax\".format(base)\\nwith open(fna) as inf:\\n    with open(fna[:-4] + \".fixed.fna\", \"w\") as outf:\\n        for line in inf:\\n            line = line.rstrip()\\n            if line[0] == \">\":\\n                row = line.split()\\n                outf.write(row[0] + \"\\\\n\")\\n            else:\\n                outf.write(line + \"\\\\n\")'\u001b[0m\u001b[0;34m)\u001b[0m\u001b[0;34m\u001b[0m\u001b[0m\n\u001b[0m",
      "\u001b[0;32m/export/scratch/miniconda3/envs/analysis_SHOGUN/lib/python3.5/site-packages/IPython/core/interactiveshell.py\u001b[0m in \u001b[0;36mrun_cell_magic\u001b[0;34m(self, magic_name, line, cell)\u001b[0m\n\u001b[1;32m   2113\u001b[0m             \u001b[0mmagic_arg_s\u001b[0m \u001b[0;34m=\u001b[0m \u001b[0mself\u001b[0m\u001b[0;34m.\u001b[0m\u001b[0mvar_expand\u001b[0m\u001b[0;34m(\u001b[0m\u001b[0mline\u001b[0m\u001b[0;34m,\u001b[0m \u001b[0mstack_depth\u001b[0m\u001b[0;34m)\u001b[0m\u001b[0;34m\u001b[0m\u001b[0m\n\u001b[1;32m   2114\u001b[0m             \u001b[0;32mwith\u001b[0m \u001b[0mself\u001b[0m\u001b[0;34m.\u001b[0m\u001b[0mbuiltin_trap\u001b[0m\u001b[0;34m:\u001b[0m\u001b[0;34m\u001b[0m\u001b[0m\n\u001b[0;32m-> 2115\u001b[0;31m                 \u001b[0mresult\u001b[0m \u001b[0;34m=\u001b[0m \u001b[0mfn\u001b[0m\u001b[0;34m(\u001b[0m\u001b[0mmagic_arg_s\u001b[0m\u001b[0;34m,\u001b[0m \u001b[0mcell\u001b[0m\u001b[0;34m)\u001b[0m\u001b[0;34m\u001b[0m\u001b[0m\n\u001b[0m\u001b[1;32m   2116\u001b[0m             \u001b[0;32mreturn\u001b[0m \u001b[0mresult\u001b[0m\u001b[0;34m\u001b[0m\u001b[0m\n\u001b[1;32m   2117\u001b[0m \u001b[0;34m\u001b[0m\u001b[0m\n",
      "\u001b[0;32m<decorator-gen-59>\u001b[0m in \u001b[0;36mtime\u001b[0;34m(self, line, cell, local_ns)\u001b[0m\n",
      "\u001b[0;32m/export/scratch/miniconda3/envs/analysis_SHOGUN/lib/python3.5/site-packages/IPython/core/magic.py\u001b[0m in \u001b[0;36m<lambda>\u001b[0;34m(f, *a, **k)\u001b[0m\n\u001b[1;32m    186\u001b[0m     \u001b[0;31m# but it's overkill for just that one bit of state.\u001b[0m\u001b[0;34m\u001b[0m\u001b[0;34m\u001b[0m\u001b[0m\n\u001b[1;32m    187\u001b[0m     \u001b[0;32mdef\u001b[0m \u001b[0mmagic_deco\u001b[0m\u001b[0;34m(\u001b[0m\u001b[0marg\u001b[0m\u001b[0;34m)\u001b[0m\u001b[0;34m:\u001b[0m\u001b[0;34m\u001b[0m\u001b[0m\n\u001b[0;32m--> 188\u001b[0;31m         \u001b[0mcall\u001b[0m \u001b[0;34m=\u001b[0m \u001b[0;32mlambda\u001b[0m \u001b[0mf\u001b[0m\u001b[0;34m,\u001b[0m \u001b[0;34m*\u001b[0m\u001b[0ma\u001b[0m\u001b[0;34m,\u001b[0m \u001b[0;34m**\u001b[0m\u001b[0mk\u001b[0m\u001b[0;34m:\u001b[0m \u001b[0mf\u001b[0m\u001b[0;34m(\u001b[0m\u001b[0;34m*\u001b[0m\u001b[0ma\u001b[0m\u001b[0;34m,\u001b[0m \u001b[0;34m**\u001b[0m\u001b[0mk\u001b[0m\u001b[0;34m)\u001b[0m\u001b[0;34m\u001b[0m\u001b[0m\n\u001b[0m\u001b[1;32m    189\u001b[0m \u001b[0;34m\u001b[0m\u001b[0m\n\u001b[1;32m    190\u001b[0m         \u001b[0;32mif\u001b[0m \u001b[0mcallable\u001b[0m\u001b[0;34m(\u001b[0m\u001b[0marg\u001b[0m\u001b[0;34m)\u001b[0m\u001b[0;34m:\u001b[0m\u001b[0;34m\u001b[0m\u001b[0m\n",
      "\u001b[0;32m/export/scratch/miniconda3/envs/analysis_SHOGUN/lib/python3.5/site-packages/IPython/core/magics/execution.py\u001b[0m in \u001b[0;36mtime\u001b[0;34m(self, line, cell, local_ns)\u001b[0m\n\u001b[1;32m   1183\u001b[0m         \u001b[0;32melse\u001b[0m\u001b[0;34m:\u001b[0m\u001b[0;34m\u001b[0m\u001b[0m\n\u001b[1;32m   1184\u001b[0m             \u001b[0mst\u001b[0m \u001b[0;34m=\u001b[0m \u001b[0mclock2\u001b[0m\u001b[0;34m(\u001b[0m\u001b[0;34m)\u001b[0m\u001b[0;34m\u001b[0m\u001b[0m\n\u001b[0;32m-> 1185\u001b[0;31m             \u001b[0mexec\u001b[0m\u001b[0;34m(\u001b[0m\u001b[0mcode\u001b[0m\u001b[0;34m,\u001b[0m \u001b[0mglob\u001b[0m\u001b[0;34m,\u001b[0m \u001b[0mlocal_ns\u001b[0m\u001b[0;34m)\u001b[0m\u001b[0;34m\u001b[0m\u001b[0m\n\u001b[0m\u001b[1;32m   1186\u001b[0m             \u001b[0mend\u001b[0m \u001b[0;34m=\u001b[0m \u001b[0mclock2\u001b[0m\u001b[0;34m(\u001b[0m\u001b[0;34m)\u001b[0m\u001b[0;34m\u001b[0m\u001b[0m\n\u001b[1;32m   1187\u001b[0m             \u001b[0mout\u001b[0m \u001b[0;34m=\u001b[0m \u001b[0;32mNone\u001b[0m\u001b[0;34m\u001b[0m\u001b[0m\n",
      "\u001b[0;32m<timed exec>\u001b[0m in \u001b[0;36m<module>\u001b[0;34m()\u001b[0m\n",
      "\u001b[0;31mFileNotFoundError\u001b[0m: [Errno 2] No such file or directory: '/project/flatiron2/analysis_SHOGUN/data/references/linear/rep82_combined.fna'"
     ]
    }
   ],
   "source": [
    "%%time\n",
    "base = \"/project/flatiron2/analysis_SHOGUN/data/references/linear\"\n",
    "fna = \"{}/rep82_combined.fna\".format(base)\n",
    "tax = \"{}/rep82_combined.tax\".format(base)\n",
    "with open(fna) as inf:\n",
    "    with open(fna[:-4] + \".fixed.fna\", \"w\") as outf:\n",
    "        for line in inf:\n",
    "            line = line.rstrip()\n",
    "            if line[0] == \">\":\n",
    "                row = line.split()\n",
    "                outf.write(row[0] + \"\\n\")\n",
    "            else:\n",
    "                outf.write(line + \"\\n\")"
   ]
  },
  {
   "cell_type": "code",
   "execution_count": 6,
   "metadata": {
    "collapsed": true
   },
   "outputs": [],
   "source": [
    "with open(tax) as inf:\n",
    "    with open(tax[:-4] + \".fixed.tax\", \"w\") as outf:\n",
    "        for line in inf:\n",
    "            line = line.rstrip()\n",
    "            row = line.split(\"\\t\")\n",
    "            row[0] = row[0].split()[0]\n",
    "            outf.write(\"\\t\".join(row) + \"\\n\")"
   ]
  },
  {
   "cell_type": "code",
   "execution_count": null,
   "metadata": {
    "collapsed": true
   },
   "outputs": [],
   "source": [
    "%%capture capt\n",
    "!/export/scratch/ben/bin/utree-build_gg {base}/rep82_combined.fixed.fna {base}/rep82_combined.fixed.tax {base}/rep82_combined.fixed.ubt 48 16"
   ]
  },
  {
   "cell_type": "code",
   "execution_count": 11,
   "metadata": {},
   "outputs": [
    {
     "name": "stdout",
     "output_type": "stream",
     "text": [
      "Using up to 48 threads.\r\n",
      "Tree initialized.\r\n",
      "Setting overlap to 16\r\n",
      "Parsed map. 1948713 bytes, 12976 lines.\r\n",
      "Done with sequence parse: 1262899870 k-mers made\r\n",
      "Refining tree...\r\n",
      "File parsed.\r\n",
      "Total nodes in tree: 1259261702 [14563 labels]\r\n",
      "Tree written.\r\n",
      "\n"
     ]
    }
   ],
   "source": [
    "print(capt.stdout)"
   ]
  },
  {
   "cell_type": "code",
   "execution_count": 14,
   "metadata": {},
   "outputs": [
    {
     "name": "stdout",
     "output_type": "stream",
     "text": [
      "12976 /project/flatiron2/analysis_SHOGUN/data/references/linear/rep82_combined.tax\r\n"
     ]
    }
   ],
   "source": [
    "# Number of taxa\n",
    "!wc -l {tax}"
   ]
  },
  {
   "cell_type": "code",
   "execution_count": 15,
   "metadata": {},
   "outputs": [
    {
     "name": "stdout",
     "output_type": "stream",
     "text": [
      "614\r\n"
     ]
    }
   ],
   "source": [
    "# Number of Plasmids\n",
    "!grep \"Plasmid\" {tax} | wc -l"
   ]
  },
  {
   "cell_type": "code",
   "execution_count": 17,
   "metadata": {},
   "outputs": [
    {
     "name": "stdout",
     "output_type": "stream",
     "text": [
      "Nodes in input tree: 1259261702 (PACKSIZE=32, CNTTYPE=NA, IXTYPE=uint16_t, el=10)\n",
      "Using 32-bit counters\n",
      "Total nodes in tree: 1259260685 [14539 labels]\n"
     ]
    }
   ],
   "source": [
    "# Compress the UTree DB\n",
    "!/export/scratch/ben/bin/utree-compress {base}/rep82_combined.fixed.ubt {base}/rep82_combined.fixed.ctr"
   ]
  },
  {
   "cell_type": "code",
   "execution_count": 27,
   "metadata": {
    "collapsed": true
   },
   "outputs": [],
   "source": [
    "def read_fasta(fh):\n",
    "    \"\"\"\n",
    "    :return: tuples of (title, seq)\n",
    "    \"\"\"\n",
    "    title = None\n",
    "    data = None\n",
    "    for line in fh:\n",
    "        if line[0] == \">\":\n",
    "            if title:\n",
    "                yield (title.strip(), data)\n",
    "            title = line[1:]\n",
    "            data = ''\n",
    "        else:\n",
    "            data += line.strip()\n",
    "    if not title:\n",
    "        yield None\n",
    "    yield (title.strip(), data)"
   ]
  },
  {
   "cell_type": "code",
   "execution_count": 28,
   "metadata": {},
   "outputs": [
    {
     "name": "stdout",
     "output_type": "stream",
     "text": [
      "CPU times: user 7min 22s, sys: 31.2 s, total: 7min 53s\n",
      "Wall time: 10min 38s\n"
     ]
    }
   ],
   "source": [
    "%%time\n",
    "from re import sub\n",
    "with open(base + \"/rep82_combined.dusted.fna\") as inf:\n",
    "    with open(base + \"/rep82_combined.dusted.hard.fna\", \"w\") as outf:\n",
    "        for title, seq in read_fasta(inf):\n",
    "            outf.write(\">\" + title + \"\\n\")\n",
    "            outf.write(sub(\"[a-z]\", \"N\", seq) + \"\\n\")"
   ]
  },
  {
   "cell_type": "code",
   "execution_count": null,
   "metadata": {
    "collapsed": true
   },
   "outputs": [],
   "source": [
    "%%capture capt2\n",
    "%time !/export/scratch/ben/bin/utree-build_gg {base}/rep82_combined.dusted.hard.fna {base}/rep82_combined.fixed.tax {base}/rep82_combined.dusted.ubt 48 16"
   ]
  },
  {
   "cell_type": "code",
   "execution_count": 31,
   "metadata": {},
   "outputs": [
    {
     "name": "stdout",
     "output_type": "stream",
     "text": [
      "Using up to 48 threads.\r\n",
      "Tree initialized.\r\n",
      "Setting overlap to 16\r\n",
      "Parsed map. 1948713 bytes, 12976 lines.\r\n",
      "Done with sequence parse: 1210821923 k-mers made\r\n",
      "Refining tree...\r\n",
      "File parsed.\r\n",
      "Total nodes in tree: 1207684503 [14555 labels]\r\n",
      "Tree written.\r\n",
      "CPU times: user 24.8 s, sys: 2.79 s, total: 27.5 s\n",
      "Wall time: 1h 20min 13s\n",
      "\n"
     ]
    }
   ],
   "source": [
    "print(capt2.stdout)"
   ]
  },
  {
   "cell_type": "code",
   "execution_count": 32,
   "metadata": {},
   "outputs": [
    {
     "name": "stdout",
     "output_type": "stream",
     "text": [
      "Nodes in input tree: 1207684503 (PACKSIZE=32, CNTTYPE=NA, IXTYPE=uint16_t, el=10)\n",
      "Using 32-bit counters\n",
      "Total nodes in tree: 1207684496 [14538 labels]\n"
     ]
    }
   ],
   "source": [
    "# Compress the UTree DB\n",
    "!/export/scratch/ben/bin/utree-compress {base}/rep82_combined.dusted.ubt {base}/rep82_combined.dusted.ctr"
   ]
  },
  {
   "cell_type": "code",
   "execution_count": null,
   "metadata": {},
   "outputs": [],
   "source": []
  }
 ],
 "metadata": {
  "kernelspec": {
   "display_name": "Python 3",
   "language": "python",
   "name": "python3"
  },
  "language_info": {
   "codemirror_mode": {
    "name": "ipython",
    "version": 3
   },
   "file_extension": ".py",
   "mimetype": "text/x-python",
   "name": "python",
   "nbconvert_exporter": "python",
   "pygments_lexer": "ipython3",
   "version": "3.5.3"
  }
 },
 "nbformat": 4,
 "nbformat_minor": 2
}
