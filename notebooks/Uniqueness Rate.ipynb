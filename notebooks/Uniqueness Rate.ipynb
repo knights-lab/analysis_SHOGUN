{
 "cells": [
  {
   "cell_type": "code",
   "execution_count": 9,
   "metadata": {},
   "outputs": [
    {
     "data": {
      "text/html": [
       "<div>\n",
       "<style>\n",
       "    .dataframe thead tr:only-child th {\n",
       "        text-align: right;\n",
       "    }\n",
       "\n",
       "    .dataframe thead th {\n",
       "        text-align: left;\n",
       "    }\n",
       "\n",
       "    .dataframe tbody tr th {\n",
       "        vertical-align: top;\n",
       "    }\n",
       "</style>\n",
       "<table border=\"1\" class=\"dataframe\">\n",
       "  <thead>\n",
       "    <tr style=\"text-align: right;\">\n",
       "      <th></th>\n",
       "      <th>0</th>\n",
       "      <th>1</th>\n",
       "      <th>2</th>\n",
       "      <th>3</th>\n",
       "      <th>4</th>\n",
       "      <th>5</th>\n",
       "      <th>6</th>\n",
       "      <th>7</th>\n",
       "      <th>8</th>\n",
       "      <th>9</th>\n",
       "    </tr>\n",
       "  </thead>\n",
       "  <tbody>\n",
       "    <tr>\n",
       "      <th>0</th>\n",
       "      <td>k__Bacteria;p__Proteobacteria;c__Alphaproteoba...</td>\n",
       "      <td>0</td>\n",
       "      <td>1</td>\n",
       "      <td>48</td>\n",
       "      <td>20</td>\n",
       "      <td>12</td>\n",
       "      <td>241</td>\n",
       "      <td>2</td>\n",
       "      <td>92971</td>\n",
       "      <td>93299</td>\n",
       "    </tr>\n",
       "    <tr>\n",
       "      <th>1</th>\n",
       "      <td>k__Bacteria;p__Deinococcus-Thermus;c__Deinococ...</td>\n",
       "      <td>25</td>\n",
       "      <td>0</td>\n",
       "      <td>0</td>\n",
       "      <td>0</td>\n",
       "      <td>0</td>\n",
       "      <td>25</td>\n",
       "      <td>0</td>\n",
       "      <td>88888</td>\n",
       "      <td>89027</td>\n",
       "    </tr>\n",
       "    <tr>\n",
       "      <th>2</th>\n",
       "      <td>k__Bacteria;p__Firmicutes;c__Bacilli;o__Bacill...</td>\n",
       "      <td>0</td>\n",
       "      <td>20</td>\n",
       "      <td>45</td>\n",
       "      <td>41</td>\n",
       "      <td>29</td>\n",
       "      <td>928</td>\n",
       "      <td>0</td>\n",
       "      <td>124865</td>\n",
       "      <td>125928</td>\n",
       "    </tr>\n",
       "    <tr>\n",
       "      <th>3</th>\n",
       "      <td>k__Bacteria;p__Firmicutes;c__Erysipelotrichia;...</td>\n",
       "      <td>56</td>\n",
       "      <td>837</td>\n",
       "      <td>0</td>\n",
       "      <td>0</td>\n",
       "      <td>304</td>\n",
       "      <td>2</td>\n",
       "      <td>0</td>\n",
       "      <td>94217</td>\n",
       "      <td>96069</td>\n",
       "    </tr>\n",
       "    <tr>\n",
       "      <th>4</th>\n",
       "      <td>k__Viruses;p__ssRNA_viruses;c__;o__;f__Virgavi...</td>\n",
       "      <td>0</td>\n",
       "      <td>0</td>\n",
       "      <td>0</td>\n",
       "      <td>0</td>\n",
       "      <td>0</td>\n",
       "      <td>0</td>\n",
       "      <td>0</td>\n",
       "      <td>129</td>\n",
       "      <td>129</td>\n",
       "    </tr>\n",
       "  </tbody>\n",
       "</table>\n",
       "</div>"
      ],
      "text/plain": [
       "                                                   0   1    2   3   4    5  \\\n",
       "0  k__Bacteria;p__Proteobacteria;c__Alphaproteoba...   0    1  48  20   12   \n",
       "1  k__Bacteria;p__Deinococcus-Thermus;c__Deinococ...  25    0   0   0    0   \n",
       "2  k__Bacteria;p__Firmicutes;c__Bacilli;o__Bacill...   0   20  45  41   29   \n",
       "3  k__Bacteria;p__Firmicutes;c__Erysipelotrichia;...  56  837   0   0  304   \n",
       "4  k__Viruses;p__ssRNA_viruses;c__;o__;f__Virgavi...   0    0   0   0    0   \n",
       "\n",
       "     6  7       8       9  \n",
       "0  241  2   92971   93299  \n",
       "1   25  0   88888   89027  \n",
       "2  928  0  124865  125928  \n",
       "3    2  0   94217   96069  \n",
       "4    0  0     129     129  "
      ]
     },
     "execution_count": 9,
     "metadata": {},
     "output_type": "execute_result"
    }
   ],
   "source": [
    "import pandas as pd\n",
    "import numpy as np\n",
    "from IPython.display import display\n",
    "import csv\n",
    "from collections import defaultdict\n",
    "df = pd.read_csv(\"../data/references/miniGWG_darth/shear100/sheared_bayes.txt\", sep=\"\\t\", header=None)\n",
    "df.head()"
   ]
  },
  {
   "cell_type": "code",
   "execution_count": 10,
   "metadata": {},
   "outputs": [
    {
     "data": {
      "text/plain": [
       "[('kingdom', 0.00024427088981178973),\n",
       " ('phylum', 0.00045203286459036219),\n",
       " ('class', 0.00037099261803100767),\n",
       " ('order', 0.0013770542337594339),\n",
       " ('family', 0.0045528001044508127),\n",
       " ('genus', 0.010950355120068945),\n",
       " ('species', 0.0039106679441064454),\n",
       " ('strain', 0.87604409173555464)]"
      ]
     },
     "metadata": {},
     "output_type": "display_data"
    }
   ],
   "source": [
    "uniqueness_rate_per_level = np.zeros(8, dtype=float)\n",
    "for i in range(1, 9):\n",
    "    # Sum all of the columns\n",
    "    colsums = df[i].sum()\n",
    "    # Take the sum of those columns\n",
    "    num_hits = colsums.sum()\n",
    "    # Total number of possible hits\n",
    "    total_hits = df[9].sum()\n",
    "    # Uniqueness Rate\n",
    "    uniqueness_rate_per_level[i-1] = num_hits/total_hits\n",
    "levels = ['kingdom', 'phylum', 'class', 'order', 'family', 'genus', 'species', 'strain']\n",
    "display(list(zip(levels, uniqueness_rate_per_level)))"
   ]
  },
  {
   "cell_type": "code",
   "execution_count": 11,
   "metadata": {},
   "outputs": [
    {
     "data": {
      "text/plain": [
       "0.89790226551037344"
      ]
     },
     "execution_count": 11,
     "metadata": {},
     "output_type": "execute_result"
    }
   ],
   "source": [
    "# Sum all of the columns\n",
    "colsums = df.iloc[:,1:9].sum()\n",
    "# Take the sum of those columns\n",
    "num_hits = colsums.sum()\n",
    "# Total number of possible hits\n",
    "total_hits = df[9].sum()\n",
    "# Uniqueness Rate\n",
    "num_hits/total_hits"
   ]
  },
  {
   "cell_type": "markdown",
   "metadata": {},
   "source": [
    "The kmer size is too large. For this experiment, we sheared 100 bps with a step size of 50. They just aren't unique enough at the strain level. Almost .87% of these reads are unique at the strain level. If we look at all levels, the uniqueness gets distributed only to 89%, with the highest uniquness being at the genus level with 1%."
   ]
  },
  {
   "cell_type": "markdown",
   "metadata": {},
   "source": [
    "Is it feasible for use to decrease the size of the kmers to 32bps? Or maybe even to 16bps?"
   ]
  },
  {
   "cell_type": "code",
   "execution_count": 25,
   "metadata": {},
   "outputs": [
    {
     "data": {
      "text/plain": [
       "['total 285G',\n",
       " 'drwxrwx--- 2 hillm096 knightslab  605 Jun 27 14:26 .',\n",
       " 'drwxrwx--- 6 hillm096 knightslab  484 Jun 27 14:25 ..',\n",
       " '-rw-r----- 1 hillm096 knightslab  19G Jun 26 14:18 embalmer_otutable.fixed.txt',\n",
       " '-rw-r----- 1 hillm096 knightslab  11M Jun 23 10:34 embalmer_otutable.txt',\n",
       " '-rw-r----- 1 hillm096 knightslab  77G Jun 23 00:07 embalmer_results.b6',\n",
       " '-rw-r----- 1 hillm096 knightslab  77G Jun 26 12:01 embalmer_results.fixed_sample.b6',\n",
       " '-rw-r----- 1 hillm096 knightslab 2.3G Jun 26 14:18 embalmer_taxatable.fixed.txt',\n",
       " '-rw-r----- 1 hillm096 knightslab 1.5M Jun 23 10:34 embalmer_taxatable.txt',\n",
       " '-rw-r----- 1 hillm096 knightslab  16M Jun 22 15:09 miniGWG_darth_15.8.tax',\n",
       " '-rw-r----- 1 hillm096 knightslab    0 Jun 25 15:48 miniGWG_darth_15.fna',\n",
       " '-rw-r----- 1 hillm096 knightslab 7.9G Jun 22 16:23 miniGWG_darth_15.gg.utr',\n",
       " '-rw-r----- 1 hillm096 knightslab 1.5M Jun 22 16:23 miniGWG_darth_15.gg.utr.gg.log',\n",
       " '-rw-r----- 1 hillm096 knightslab  51G Jun 22 14:03 miniGWG_darth_15.shear.fna',\n",
       " '-rw-r----- 1 hillm096 knightslab  24M Jun 22 15:06 miniGWG_darth_15.tax',\n",
       " 'lrwxrwxrwx 1 hillm096 knightslab   40 Apr 25 17:45 miniGWG_darth.acx -> /project/flatiron2/sop/miniGWG_darth.acx',\n",
       " 'lrwxrwxrwx 1 hillm096 knightslab   40 Apr 25 17:45 miniGWG_darth.edx -> /project/flatiron2/sop/miniGWG_darth.edx',\n",
       " '-rw-r----- 1 hillm096 knightslab  891 Jun 22 13:30 shear_db.py']"
      ]
     },
     "metadata": {},
     "output_type": "display_data"
    }
   ],
   "source": [
    "# Get the size of the files\n",
    "files_in_darth = !ls -alh \"../data/references/miniGWG_darth/\"\n",
    "display(files_in_darth)"
   ]
  },
  {
   "cell_type": "markdown",
   "metadata": {},
   "source": [
    "So it would be ~200GB sheared file with a 32bps and 16bps sliding window. Is this feasible with embalmer?"
   ]
  },
  {
   "cell_type": "code",
   "execution_count": 14,
   "metadata": {},
   "outputs": [
    {
     "data": {
      "text/plain": [
       "[('kingdom', 0.0013420657585268855),\n",
       " ('phylum', 0.0011408068226012689),\n",
       " ('class', 0.001393227253969136),\n",
       " ('order', 0.001940149641640013),\n",
       " ('family', 0.0064696347476648252),\n",
       " ('genus', 0.014771946859077095),\n",
       " ('species', 0.0041695190973051882),\n",
       " ('strain', 0.68654350753079096)]"
      ]
     },
     "metadata": {},
     "output_type": "display_data"
    }
   ],
   "source": [
    "df_32 = pd.read_csv(\"../data/references/miniGWG_darth/shear32/sheared_bayes.txt\", sep=\"\\t\", header=None)\n",
    "uniqueness_rate_per_level = np.zeros(8, dtype=float)\n",
    "for i in range(1, 9):\n",
    "    # Sum all of the columns\n",
    "    colsums = df_32[i].sum()\n",
    "    # Take the sum of those columns\n",
    "    num_hits = colsums.sum()\n",
    "    # Total number of possible hits\n",
    "    total_hits = df_32[9].sum()\n",
    "    # Uniqueness Rate\n",
    "    uniqueness_rate_per_level[i-1] = num_hits/total_hits\n",
    "levels = ['kingdom', 'phylum', 'class', 'order', 'family', 'genus', 'species', 'strain']\n",
    "display(list(zip(levels, uniqueness_rate_per_level)))"
   ]
  },
  {
   "cell_type": "code",
   "execution_count": 16,
   "metadata": {},
   "outputs": [
    {
     "data": {
      "text/plain": [
       "0.71777085771157545"
      ]
     },
     "execution_count": 16,
     "metadata": {},
     "output_type": "execute_result"
    }
   ],
   "source": [
    "# Sum all of the columns\n",
    "colsums = df_32.iloc[:,1:9].sum()\n",
    "# Take the sum of those columns\n",
    "num_hits = colsums.sum()\n",
    "# Total number of possible hits\n",
    "total_hits = df_32[9].sum()\n",
    "# Uniqueness Rate\n",
    "num_hits/total_hits"
   ]
  },
  {
   "cell_type": "code",
   "execution_count": null,
   "metadata": {
    "collapsed": true
   },
   "outputs": [],
   "source": [
    "hits_dict = defaultdict(list)\n",
    "with open(\"../data/references/miniGWG_darth/shear32/embalmer_align.b6\") as inf:\n",
    "    csv_inf = csv.reader(inf, delimiter=\"\\t\")\n",
    "    for row in csv_inf:\n",
    "        if 't__' in row[-1]:\n",
    "            hits_dict[row[-1]].append(int(row[8]))\n",
    "\n",
    "with open(\"./hits_dict.keys\", \"w\") as outf:\n",
    "    for key, value in hits_dict.items():\n",
    "        "
   ]
  },
  {
   "cell_type": "code",
   "execution_count": null,
   "metadata": {},
   "outputs": [],
   "source": [
    "len(list(hits_dict.keys()))"
   ]
  }
 ],
 "metadata": {
  "kernelspec": {
   "display_name": "Python 3",
   "language": "python",
   "name": "python3"
  },
  "varInspector": {
   "cols": {
    "lenName": 16,
    "lenType": 16,
    "lenVar": 40
   },
   "kernels_config": {
    "python": {
     "delete_cmd_postfix": "",
     "delete_cmd_prefix": "del ",
     "library": "var_list.py",
     "varRefreshCmd": "print(var_dic_list())"
    },
    "r": {
     "delete_cmd_postfix": ") ",
     "delete_cmd_prefix": "rm(",
     "library": "var_list.r",
     "varRefreshCmd": "cat(var_dic_list()) "
    }
   },
   "oldHeight": 123,
   "position": {
    "height": "309px",
    "left": "688px",
    "right": "20px",
    "top": "120px",
    "width": "250px"
   },
   "types_to_exclude": [
    "module",
    "function",
    "builtin_function_or_method",
    "instance",
    "_Feature"
   ],
   "varInspector_section_display": "none",
   "window_display": false
  }
 },
 "nbformat": 4,
 "nbformat_minor": 2
}
