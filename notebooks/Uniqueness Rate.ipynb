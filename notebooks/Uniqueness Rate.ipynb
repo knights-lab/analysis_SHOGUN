{
 "cells": [
  {
   "cell_type": "code",
   "execution_count": 1,
   "metadata": {},
   "outputs": [
    {
     "name": "stderr",
     "output_type": "stream",
     "text": [
      "/export/scratch/miniconda3/envs/analysis_SHOGUN/lib/python3.5/site-packages/matplotlib/__init__.py:841: UserWarning: Found matplotlib configuration in ~/.matplotlib/. To conform with the XDG base directory standard, this configuration location has been deprecated on Linux, and the new location is now /home/grad00/hillm096/.config/matplotlib/. Please move your configuration there to ensure that matplotlib will continue to find it in the future.\n",
      "  _get_xdg_config_dir())\n"
     ]
    },
    {
     "data": {
      "text/html": [
       "<div>\n",
       "<table border=\"1\" class=\"dataframe\">\n",
       "  <thead>\n",
       "    <tr style=\"text-align: right;\">\n",
       "      <th></th>\n",
       "      <th>0</th>\n",
       "      <th>1</th>\n",
       "      <th>2</th>\n",
       "      <th>3</th>\n",
       "      <th>4</th>\n",
       "      <th>5</th>\n",
       "      <th>6</th>\n",
       "      <th>7</th>\n",
       "      <th>8</th>\n",
       "      <th>9</th>\n",
       "    </tr>\n",
       "  </thead>\n",
       "  <tbody>\n",
       "    <tr>\n",
       "      <th>0</th>\n",
       "      <td>k__Bacteria;p__Proteobacteria;c__Alphaproteoba...</td>\n",
       "      <td>0</td>\n",
       "      <td>1</td>\n",
       "      <td>48</td>\n",
       "      <td>20</td>\n",
       "      <td>12</td>\n",
       "      <td>241</td>\n",
       "      <td>2</td>\n",
       "      <td>92971</td>\n",
       "      <td>93299</td>\n",
       "    </tr>\n",
       "    <tr>\n",
       "      <th>1</th>\n",
       "      <td>k__Bacteria;p__Deinococcus-Thermus;c__Deinococ...</td>\n",
       "      <td>25</td>\n",
       "      <td>0</td>\n",
       "      <td>0</td>\n",
       "      <td>0</td>\n",
       "      <td>0</td>\n",
       "      <td>25</td>\n",
       "      <td>0</td>\n",
       "      <td>88888</td>\n",
       "      <td>89027</td>\n",
       "    </tr>\n",
       "    <tr>\n",
       "      <th>2</th>\n",
       "      <td>k__Bacteria;p__Firmicutes;c__Bacilli;o__Bacill...</td>\n",
       "      <td>0</td>\n",
       "      <td>20</td>\n",
       "      <td>45</td>\n",
       "      <td>41</td>\n",
       "      <td>29</td>\n",
       "      <td>928</td>\n",
       "      <td>0</td>\n",
       "      <td>124865</td>\n",
       "      <td>125928</td>\n",
       "    </tr>\n",
       "    <tr>\n",
       "      <th>3</th>\n",
       "      <td>k__Bacteria;p__Firmicutes;c__Erysipelotrichia;...</td>\n",
       "      <td>56</td>\n",
       "      <td>837</td>\n",
       "      <td>0</td>\n",
       "      <td>0</td>\n",
       "      <td>304</td>\n",
       "      <td>2</td>\n",
       "      <td>0</td>\n",
       "      <td>94217</td>\n",
       "      <td>96069</td>\n",
       "    </tr>\n",
       "    <tr>\n",
       "      <th>4</th>\n",
       "      <td>k__Viruses;p__ssRNA_viruses;c__;o__;f__Virgavi...</td>\n",
       "      <td>0</td>\n",
       "      <td>0</td>\n",
       "      <td>0</td>\n",
       "      <td>0</td>\n",
       "      <td>0</td>\n",
       "      <td>0</td>\n",
       "      <td>0</td>\n",
       "      <td>129</td>\n",
       "      <td>129</td>\n",
       "    </tr>\n",
       "  </tbody>\n",
       "</table>\n",
       "</div>"
      ],
      "text/plain": [
       "                                                   0   1    2   3   4    5  \\\n",
       "0  k__Bacteria;p__Proteobacteria;c__Alphaproteoba...   0    1  48  20   12   \n",
       "1  k__Bacteria;p__Deinococcus-Thermus;c__Deinococ...  25    0   0   0    0   \n",
       "2  k__Bacteria;p__Firmicutes;c__Bacilli;o__Bacill...   0   20  45  41   29   \n",
       "3  k__Bacteria;p__Firmicutes;c__Erysipelotrichia;...  56  837   0   0  304   \n",
       "4  k__Viruses;p__ssRNA_viruses;c__;o__;f__Virgavi...   0    0   0   0    0   \n",
       "\n",
       "     6  7       8       9  \n",
       "0  241  2   92971   93299  \n",
       "1   25  0   88888   89027  \n",
       "2  928  0  124865  125928  \n",
       "3    2  0   94217   96069  \n",
       "4    0  0     129     129  "
      ]
     },
     "execution_count": 1,
     "metadata": {},
     "output_type": "execute_result"
    }
   ],
   "source": [
    "import pandas as pd\n",
    "import numpy as np\n",
    "from IPython.display import display\n",
    "import csv\n",
    "from collections import defaultdict\n",
    "import matplotlib.pyplot as plt\n",
    "df = pd.read_csv(\"../data/references/miniGWG_darth/shear100/sheared_bayes.txt\", sep=\"\\t\", header=None)\n",
    "df.head()"
   ]
  },
  {
   "cell_type": "code",
   "execution_count": 2,
   "metadata": {},
   "outputs": [
    {
     "data": {
      "text/plain": [
       "[('kingdom', 0.00024427088981178973),\n",
       " ('phylum', 0.00045203286459036219),\n",
       " ('class', 0.00037099261803100767),\n",
       " ('order', 0.0013770542337594339),\n",
       " ('family', 0.0045528001044508127),\n",
       " ('genus', 0.010950355120068945),\n",
       " ('species', 0.0039106679441064454),\n",
       " ('strain', 0.87604409173555464)]"
      ]
     },
     "metadata": {},
     "output_type": "display_data"
    }
   ],
   "source": [
    "uniqueness_rate_per_level = np.zeros(8, dtype=float)\n",
    "for i in range(1, 9):\n",
    "    # Sum all of the columns\n",
    "    colsums = df[i].sum()\n",
    "    # Take the sum of those columns\n",
    "    num_hits = colsums.sum()\n",
    "    # Total number of possible hits\n",
    "    total_hits = df[9].sum()\n",
    "    # Uniqueness Rate\n",
    "    uniqueness_rate_per_level[i-1] = num_hits/total_hits\n",
    "levels = ['kingdom', 'phylum', 'class', 'order', 'family', 'genus', 'species', 'strain']\n",
    "display(list(zip(levels, uniqueness_rate_per_level)))"
   ]
  },
  {
   "cell_type": "code",
   "execution_count": 3,
   "metadata": {},
   "outputs": [
    {
     "data": {
      "text/plain": [
       "0.89790226551037344"
      ]
     },
     "execution_count": 3,
     "metadata": {},
     "output_type": "execute_result"
    }
   ],
   "source": [
    "# Sum all of the columns\n",
    "colsums = df.iloc[:,1:9].sum()\n",
    "# Take the sum of those columns\n",
    "num_hits = colsums.sum()\n",
    "# Total number of possible hits\n",
    "total_hits = df[9].sum()\n",
    "# Uniqueness Rate\n",
    "num_hits/total_hits"
   ]
  },
  {
   "cell_type": "markdown",
   "metadata": {},
   "source": [
    "The kmer size is too large. For this experiment, we sheared 100 bps with a step size of 50. They just aren't unique enough at the strain level. Almost .87% of these reads are unique at the strain level. If we look at all levels, the uniqueness gets distributed only to 89%, with the highest uniquness being at the genus level with 1%."
   ]
  },
  {
   "cell_type": "markdown",
   "metadata": {},
   "source": [
    "Is it feasible for use to decrease the size of the kmers to 32bps? Or maybe even to 16bps?"
   ]
  },
  {
   "cell_type": "code",
   "execution_count": 4,
   "metadata": {},
   "outputs": [
    {
     "data": {
      "text/plain": [
       "['total 34G',\n",
       " 'drwxrwx--- 4 hillm096 knightslab  401 Jul  3 13:05 .',\n",
       " 'drwxrwx--- 6 hillm096 knightslab  139 Jun 30 10:46 ..',\n",
       " '-rw-r----- 1 hillm096 knightslab 7.6G Jul  3 12:19 miniGWG_darth_15.but',\n",
       " '-rw-r----- 1 hillm096 knightslab 1.3M Jul  3 12:19 miniGWG_darth_15.but.log',\n",
       " '-rw-r----- 1 hillm096 knightslab  13G Jul  2 08:45 miniGWG_darth_15.fna',\n",
       " '-rw-r----- 1 hillm096 knightslab 7.9G Jun 22 16:23 miniGWG_darth_15.gg.utr',\n",
       " '-rw-r----- 1 hillm096 knightslab 1.5M Jun 22 16:23 miniGWG_darth_15.gg.utr.gg.log',\n",
       " '-rw-r----- 1 hillm096 knightslab  24M Jun 22 15:06 miniGWG_darth_15.tax',\n",
       " 'lrwxrwxrwx 1 hillm096 knightslab   40 Apr 25 17:45 miniGWG_darth.acx -> /project/flatiron2/sop/miniGWG_darth.acx',\n",
       " 'lrwxrwxrwx 1 hillm096 knightslab   40 Apr 25 17:45 miniGWG_darth.edx -> /project/flatiron2/sop/miniGWG_darth.edx',\n",
       " '-rw-r----- 1 hillm096 knightslab  16M Jun 22 15:09 miniGWG_darth.tax',\n",
       " 'drwxr-x--- 2 hillm096 knightslab  496 Jun 30 10:47 shear100',\n",
       " 'drwxr-x--- 2 hillm096 knightslab  182 Jun 30 10:49 shear32']"
      ]
     },
     "metadata": {},
     "output_type": "display_data"
    }
   ],
   "source": [
    "# Get the size of the files\n",
    "files_in_darth = !ls -alh \"../data/references/miniGWG_darth/\"\n",
    "display(files_in_darth)"
   ]
  },
  {
   "cell_type": "markdown",
   "metadata": {},
   "source": [
    "So it would be ~200GB sheared file with a 32bps and 16bps sliding window. Is this feasible with embalmer?"
   ]
  },
  {
   "cell_type": "code",
   "execution_count": 5,
   "metadata": {},
   "outputs": [
    {
     "data": {
      "text/plain": [
       "[('kingdom', 0.0013420657585268855),\n",
       " ('phylum', 0.0011408068226012689),\n",
       " ('class', 0.001393227253969136),\n",
       " ('order', 0.001940149641640013),\n",
       " ('family', 0.0064696347476648252),\n",
       " ('genus', 0.014771946859077095),\n",
       " ('species', 0.0041695190973051882),\n",
       " ('strain', 0.68654350753079096)]"
      ]
     },
     "metadata": {},
     "output_type": "display_data"
    }
   ],
   "source": [
    "df_32 = pd.read_csv(\"../data/references/miniGWG_darth/shear32/sheared_bayes.txt\", sep=\"\\t\", header=None)\n",
    "uniqueness_rate_per_level = np.zeros(8, dtype=float)\n",
    "for i in range(1, 9):\n",
    "    # Sum all of the columns\n",
    "    colsums = df_32[i].sum()\n",
    "    # Take the sum of those columns\n",
    "    num_hits = colsums.sum()\n",
    "    # Total number of possible hits\n",
    "    total_hits = df_32[9].sum()\n",
    "    # Uniqueness Rate\n",
    "    uniqueness_rate_per_level[i-1] = num_hits/total_hits\n",
    "levels = ['kingdom', 'phylum', 'class', 'order', 'family', 'genus', 'species', 'strain']\n",
    "display(list(zip(levels, uniqueness_rate_per_level)))"
   ]
  },
  {
   "cell_type": "code",
   "execution_count": 6,
   "metadata": {},
   "outputs": [
    {
     "data": {
      "image/png": "[encoded data removed]",
      "text/plain": [
       "<matplotlib.figure.Figure at 0x7f8be39fe748>"
      ]
     },
     "metadata": {},
     "output_type": "display_data"
    }
   ],
   "source": [
    "# Distribution of uniqueness\n",
    "plt.hist(df_32[8]/df_32[9])\n",
    "plt.show()"
   ]
  },
  {
   "cell_type": "code",
   "execution_count": 7,
   "metadata": {},
   "outputs": [
    {
     "data": {
      "image/png": "[encoded data removed]",
      "text/plain": [
       "<matplotlib.figure.Figure at 0x7f8c37fb7f98>"
      ]
     },
     "metadata": {},
     "output_type": "display_data"
    }
   ],
   "source": [
    "plt.hist(df[8]/df[9])\n",
    "plt.show()"
   ]
  },
  {
   "cell_type": "code",
   "execution_count": 8,
   "metadata": {},
   "outputs": [
    {
     "data": {
      "text/plain": [
       "14       k__Bacteria;p__Firmicutes;c__Bacilli;o__Bacill...\n",
       "17       k__Bacteria;p__Firmicutes;c__Bacilli;o__Lactob...\n",
       "25       k__Bacteria;p__Proteobacteria;c__Gammaproteoba...\n",
       "27       k__Bacteria;p__Proteobacteria;c__Gammaproteoba...\n",
       "30       k__Bacteria;p__Proteobacteria;c__Betaproteobac...\n",
       "37       k__Bacteria;p__Proteobacteria;c__Alphaproteoba...\n",
       "38       k__Bacteria;p__Proteobacteria;c__Deltaproteoba...\n",
       "44       k__Bacteria;p__Proteobacteria;c__Gammaproteoba...\n",
       "50       k__Bacteria;p__Firmicutes;c__Clostridia;o__The...\n",
       "63       k__Bacteria;p__Proteobacteria;c__Gammaproteoba...\n",
       "70       k__Bacteria;p__Proteobacteria;c__Gammaproteoba...\n",
       "100      k__Bacteria;p__Proteobacteria;c__Gammaproteoba...\n",
       "107      k__Bacteria;p__Proteobacteria;c__Betaproteobac...\n",
       "125      k__Bacteria;p__Proteobacteria;c__Gammaproteoba...\n",
       "131      k__Bacteria;p__Firmicutes;c__Bacilli;o__Bacill...\n",
       "137      k__Bacteria;p__Firmicutes;c__Bacilli;o__Bacill...\n",
       "139      k__Bacteria;p__Actinobacteria;c__Actinobacteri...\n",
       "149      k__Bacteria;p__Actinobacteria;c__Actinobacteri...\n",
       "155      k__Bacteria;p__Actinobacteria;c__Actinobacteri...\n",
       "171      k__Bacteria;p__Proteobacteria;c__Gammaproteoba...\n",
       "176      k__Bacteria;p__Cyanobacteria;c__;o__Nostocales...\n",
       "181      k__Bacteria;p__Proteobacteria;c__Gammaproteoba...\n",
       "192      k__Bacteria;p__Proteobacteria;c__Betaproteobac...\n",
       "193      k__Bacteria;p__Actinobacteria;c__Coriobacterii...\n",
       "195      k__Archaea;p__Euryarchaeota;c__Methanococci;o_...\n",
       "196      k__Bacteria;p__Proteobacteria;c__Alphaproteoba...\n",
       "197      k__Bacteria;p__Firmicutes;c__Clostridia;o__Clo...\n",
       "204      k__Bacteria;p__Bacteroidetes;c__Bacteroidia;o_...\n",
       "210      k__Bacteria;p__Firmicutes;c__Clostridia;o__The...\n",
       "211      k__Bacteria;p__Proteobacteria;c__Gammaproteoba...\n",
       "                               ...                        \n",
       "5080     k__Viruses;p__dsDNA_viruses,_no_RNA_stage;c__;...\n",
       "5090     k__Viruses;p__dsDNA_viruses,_no_RNA_stage;c__;...\n",
       "5161     k__Viruses;p__unclassified_bacterial_viruses;c...\n",
       "5362     k__Viruses;p__unclassified_bacterial_viruses;c...\n",
       "5363     k__Viruses;p__dsDNA_viruses,_no_RNA_stage;c__;...\n",
       "5519     k__Viruses;p__dsDNA_viruses,_no_RNA_stage;c__;...\n",
       "5806     k__Viruses;p__ssRNA_viruses;c__;o__;f__Flavivi...\n",
       "5826     k__Viruses;p__dsDNA_viruses,_no_RNA_stage;c__;...\n",
       "5827     k__Viruses;p__dsDNA_viruses,_no_RNA_stage;c__;...\n",
       "5992     k__Viruses;p__dsDNA_viruses,_no_RNA_stage;c__;...\n",
       "6037     k__Viruses;p__dsDNA_viruses,_no_RNA_stage;c__;...\n",
       "6210     k__Viruses;p__dsDNA_viruses,_no_RNA_stage;c__;...\n",
       "6548     k__Viruses;p__dsDNA_viruses,_no_RNA_stage;c__;...\n",
       "6757     k__Viruses;p__dsDNA_viruses,_no_RNA_stage;c__;...\n",
       "6759     k__Viruses;p__dsDNA_viruses,_no_RNA_stage;c__;...\n",
       "7818     k__Viruses;p__dsDNA_viruses,_no_RNA_stage;c__;...\n",
       "7900     k__Viruses;p__ssRNA_viruses;c__;o__Picornavira...\n",
       "7934     k__Viruses;p__dsDNA_viruses,_no_RNA_stage;c__;...\n",
       "7958     k__Viruses;p__dsDNA_viruses,_no_RNA_stage;c__;...\n",
       "8255     k__Viruses;p__dsDNA_viruses,_no_RNA_stage;c__;...\n",
       "8540     k__Viruses;p__dsDNA_viruses,_no_RNA_stage;c__;...\n",
       "8622     k__Viruses;p__dsDNA_viruses,_no_RNA_stage;c__;...\n",
       "9340     k__Viruses;p__dsDNA_viruses,_no_RNA_stage;c__;...\n",
       "9982     k__Viruses;p__dsDNA_viruses,_no_RNA_stage;c__;...\n",
       "10040    k__Viruses;p__dsDNA_viruses,_no_RNA_stage;c__;...\n",
       "10071    k__Viruses;p__dsDNA_viruses,_no_RNA_stage;c__;...\n",
       "10134    k__Viruses;p__dsDNA_viruses,_no_RNA_stage;c__;...\n",
       "10215    k__Viruses;p__dsDNA_viruses,_no_RNA_stage;c__;...\n",
       "10234    k__Viruses;p__dsDNA_viruses,_no_RNA_stage;c__;...\n",
       "10236    k__Viruses;p__dsDNA_viruses,_no_RNA_stage;c__;...\n",
       "Name: 0, dtype: object"
      ]
     },
     "execution_count": 8,
     "metadata": {},
     "output_type": "execute_result"
    }
   ],
   "source": [
    "low_uniqueness = df[df[8]/df[9] <= .01]\n",
    "low_uniqueness[0]"
   ]
  },
  {
   "cell_type": "code",
   "execution_count": 9,
   "metadata": {},
   "outputs": [
    {
     "name": "stdout",
     "output_type": "stream",
     "text": [
      "Counter({'k__Viruses': 7131, 'k__Bacteria': 2903, 'k__Archaea': 161, 'k__Viroids': 46})\n",
      "Counter({'k__Bacteria': 264, 'k__Viruses': 62, 'k__Archaea': 7})\n",
      "k__Archaea\t0.043478\n",
      "k__Bacteria\t0.090940\n",
      "k__Viruses\t0.008694\n",
      "k__Viroids\t0.000000\n"
     ]
    }
   ],
   "source": [
    "from collections import Counter\n",
    "kingdom_freq_hi = Counter([_.split(';')[0] for _ in df[0]])\n",
    "kingdom_freq_low = Counter([_.split(';')[0] for _ in low_uniqueness[0]])\n",
    "print(kingdom_freq_hi)\n",
    "print(kingdom_freq_low)\n",
    "for key, value in kingdom_freq_hi.items():\n",
    "    print(\"%s\\t%f\" % (key, kingdom_freq_low[key]/np.float(value)))"
   ]
  },
  {
   "cell_type": "code",
   "execution_count": 10,
   "metadata": {},
   "outputs": [
    {
     "data": {
      "text/plain": [
       "0.71777085771157545"
      ]
     },
     "execution_count": 10,
     "metadata": {},
     "output_type": "execute_result"
    }
   ],
   "source": [
    "# Sum all of the columns\n",
    "colsums = df_32.iloc[:,1:9].sum()\n",
    "# Take the sum of those columns\n",
    "num_hits = colsums.sum()\n",
    "# Total number of possible hits\n",
    "total_hits = df_32[9].sum()\n",
    "# Uniqueness Rate\n",
    "num_hits/total_hits"
   ]
  },
  {
   "cell_type": "code",
   "execution_count": 11,
   "metadata": {
    "collapsed": true
   },
   "outputs": [],
   "source": [
    "# hits_dict = defaultdict(list)\n",
    "# with open(\"../data/references/miniGWG_darth/shear32/embalmer_align.b6\") as inf:\n",
    "#     csv_inf = csv.reader(inf, delimiter=\"\\t\")\n",
    "#     for row in csv_inf:\n",
    "#         if 't__' in row[-1]:\n",
    "#             hits_dict[row[-1]].append(int(row[8]))\n",
    "\n",
    "# with open(\"./hits_dict.keys\", \"w\") as outf:\n",
    "#     for key, value in hits_dict.items():"
   ]
  },
  {
   "cell_type": "code",
   "execution_count": 12,
   "metadata": {
    "collapsed": true
   },
   "outputs": [],
   "source": [
    "#len(list(hits_dict.keys()))"
   ]
  },
  {
   "cell_type": "code",
   "execution_count": 13,
   "metadata": {
    "collapsed": true
   },
   "outputs": [],
   "source": [
    "#darth = pd.read_csv(\"../data/references/miniGWG_darth/shear100/embalmer_otutable.fixed.txt\", sep=\"\\t\", index_col=0)"
   ]
  },
  {
   "cell_type": "code",
   "execution_count": 25,
   "metadata": {},
   "outputs": [
    {
     "name": "stdout",
     "output_type": "stream",
     "text": [
      "0\n",
      "1000\n",
      "2000\n",
      "3000\n",
      "4000\n",
      "5000\n",
      "6000\n",
      "7000\n",
      "8000\n",
      "9000\n",
      "10000\n",
      "11000\n",
      "12000\n",
      "13000\n",
      "14000\n",
      "15000\n",
      "16000\n",
      "17000\n",
      "18000\n",
      "19000\n",
      "20000\n",
      "21000\n",
      "22000\n",
      "23000\n",
      "24000\n",
      "25000\n",
      "26000\n",
      "27000\n",
      "28000\n",
      "29000\n",
      "30000\n",
      "31000\n",
      "32000\n",
      "33000\n",
      "34000\n",
      "35000\n",
      "36000\n",
      "37000\n",
      "38000\n",
      "39000\n",
      "40000\n",
      "41000\n",
      "42000\n",
      "43000\n",
      "44000\n",
      "45000\n",
      "46000\n",
      "47000\n",
      "48000\n",
      "49000\n",
      "50000\n",
      "51000\n",
      "52000\n",
      "53000\n",
      "54000\n",
      "55000\n",
      "56000\n",
      "57000\n",
      "58000\n",
      "59000\n",
      "60000\n",
      "61000\n",
      "62000\n",
      "63000\n",
      "64000\n",
      "65000\n",
      "66000\n",
      "67000\n",
      "68000\n",
      "69000\n",
      "70000\n",
      "71000\n",
      "72000\n",
      "73000\n",
      "74000\n",
      "75000\n",
      "76000\n",
      "77000\n",
      "78000\n",
      "79000\n",
      "80000\n",
      "81000\n",
      "82000\n",
      "83000\n",
      "84000\n",
      "85000\n",
      "86000\n",
      "87000\n",
      "88000\n",
      "89000\n",
      "90000\n",
      "91000\n",
      "92000\n",
      "93000\n",
      "94000\n",
      "95000\n",
      "96000\n",
      "97000\n",
      "98000\n"
     ]
    }
   ],
   "source": [
    "import csv\n",
    "# with open(\"../data/references/miniGWG_darth/shear100/embalmer_otutable.fixed.txt\") as inf:\n",
    "#     csv_inf = csv.reader(inf, delimiter=\"\\t\")\n",
    "#     columns = next(csv_inf)\n",
    "#     columns = dict(zip(columns[1:], range(len(columns))))\n",
    "#     indptr = [0]\n",
    "#     indices = np.array([], dtype=int)\n",
    "#     data = np.array([], dtype=int)\n",
    "#     names = []\n",
    "#     for ix, row in enumerate(csv_inf):\n",
    "#         if ix % 1000 == 0:\n",
    "#             print(ix)\n",
    "#         names.append(row[0])\n",
    "#         np_row = np.array(row[1:], dtype=int)\n",
    "#         temp_indx = [np_row > 0]\n",
    "#         data = np.concatenate((data, np_row[temp_indx]))\n",
    "#         indices = np.concatenate((indices, np.where(temp_indx)[1]))\n",
    "#         indptr.append(indices.shape[0])"
   ]
  },
  {
   "cell_type": "code",
   "execution_count": 30,
   "metadata": {
    "collapsed": true
   },
   "outputs": [],
   "source": [
    "from scipy.sparse import csr_matrix\n",
    "# csr = csr_matrix((data, indices, indptr), dtype=int)\n",
    "\n",
    "def save_sparse_csr(filename,array):\n",
    "    np.savez(filename,data = array.data ,indices=array.indices,\n",
    "             indptr =array.indptr, shape=array.shape )\n",
    "\n",
    "def load_sparse_csr(filename):\n",
    "    loader = np.load(filename)\n",
    "    return csr_matrix((  loader['data'], loader['indices'], loader['indptr']),\n",
    "                         shape = loader['shape'])\n",
    "\n",
    "# save_sparse_csr(\"../data/references/miniGWG_darth/shear100/embalmer_otutable.fixed.npz\", csr)"
   ]
  },
  {
   "cell_type": "code",
   "execution_count": 67,
   "metadata": {},
   "outputs": [
    {
     "ename": "AttributeError",
     "evalue": "'numpy.ndarray' object has no attribute 'get'",
     "output_type": "error",
     "traceback": [
      "\u001b[0;31m---------------------------------------------------------------------------\u001b[0m",
      "\u001b[0;31mAttributeError\u001b[0m                            Traceback (most recent call last)",
      "\u001b[0;32m<ipython-input-67-3198e0cc862e>\u001b[0m in \u001b[0;36m<module>\u001b[0;34m()\u001b[0m\n\u001b[1;32m     21\u001b[0m \u001b[0msave_sparse_csr\u001b[0m\u001b[0;34m(\u001b[0m\u001b[0;34m\"../data/references/miniGWG_darth/shear100/embalmer_taxatable.fixed.npz\"\u001b[0m\u001b[0;34m,\u001b[0m \u001b[0mtaxatable_csr\u001b[0m\u001b[0;34m)\u001b[0m\u001b[0;34m\u001b[0m\u001b[0m\n\u001b[1;32m     22\u001b[0m \u001b[0mnp\u001b[0m\u001b[0;34m.\u001b[0m\u001b[0msavez\u001b[0m\u001b[0;34m(\u001b[0m\u001b[0;34m\"../data/references/miniGWG_darth/shear100/embalmer_taxatable.fixed.rows.npz\"\u001b[0m\u001b[0;34m,\u001b[0m \u001b[0mnp\u001b[0m\u001b[0;34m.\u001b[0m\u001b[0marray\u001b[0m\u001b[0;34m(\u001b[0m\u001b[0mnames\u001b[0m\u001b[0;34m)\u001b[0m\u001b[0;34m)\u001b[0m\u001b[0;34m\u001b[0m\u001b[0m\n\u001b[0;32m---> 23\u001b[0;31m \u001b[0mnp\u001b[0m\u001b[0;34m.\u001b[0m\u001b[0msavez\u001b[0m\u001b[0;34m(\u001b[0m\u001b[0;34m\"../data/references/miniGWG_darth/shear100/embalmer_taxatable.fixed.columns.npz\"\u001b[0m\u001b[0;34m,\u001b[0m \u001b[0mnp\u001b[0m\u001b[0;34m.\u001b[0m\u001b[0marray\u001b[0m\u001b[0;34m(\u001b[0m\u001b[0msorted\u001b[0m\u001b[0;34m(\u001b[0m\u001b[0mcolumns\u001b[0m\u001b[0;34m,\u001b[0m \u001b[0mkey\u001b[0m\u001b[0;34m=\u001b[0m\u001b[0mcolumns\u001b[0m\u001b[0;34m.\u001b[0m\u001b[0mget\u001b[0m\u001b[0;34m)\u001b[0m\u001b[0;34m)\u001b[0m\u001b[0;34m)\u001b[0m\u001b[0;34m\u001b[0m\u001b[0m\n\u001b[0m",
      "\u001b[0;31mAttributeError\u001b[0m: 'numpy.ndarray' object has no attribute 'get'"
     ]
    }
   ],
   "source": [
    "# load csr\n",
    "with open(\"../data/references/miniGWG_darth/shear100/embalmer_taxatable.fixed.txt\") as inf:\n",
    "    csv_inf = csv.reader(inf, delimiter=\"\\t\")\n",
    "    columns = next(csv_inf)\n",
    "    columns = dict(zip(columns[1:], range(len(columns))))\n",
    "    indptr = [0]\n",
    "    indices = np.array([], dtype=int)\n",
    "    data = np.array([], dtype=int)\n",
    "    names = []\n",
    "    for ix, row in enumerate(csv_inf):\n",
    "        if ix % 1000 == 0:\n",
    "            print(ix)\n",
    "        names.append(row[0])\n",
    "        np_row = np.array(row[1:], dtype=int)\n",
    "        temp_indx = [np_row > 0]\n",
    "        data = np.concatenate((data, np_row[temp_indx]))\n",
    "        indices = np.concatenate((indices, np.where(temp_indx)[1]))\n",
    "        indptr.append(indices.shape[0])\n",
    "\n",
    "taxatable_csr = csr_matrix((data, indices, indptr), dtype=int)\n",
    "save_sparse_csr(\"../data/references/miniGWG_darth/shear100/embalmer_taxatable.fixed.npz\", taxatable_csr)\n",
    "np.savez(\"../data/references/miniGWG_darth/shear100/embalmer_taxatable.fixed.rows.npz\", np.array(names))\n",
    "np.savez(\"../data/references/miniGWG_darth/shear100/embalmer_taxatable.fixed.columns.npz\", np.array(sorted(columns, key=columns.get)))"
   ]
  },
  {
   "cell_type": "code",
   "execution_count": 155,
   "metadata": {},
   "outputs": [],
   "source": [
    "csr = load_sparse_csr(\"../data/references/miniGWG_darth/shear100/embalmer_taxatable.fixed.npz\")\n",
    "rows = np.load(\"../data/references/miniGWG_darth/shear100/embalmer_taxatable.fixed.rows.npz\")['arr_0']\n",
    "rows_dict = dict(zip(rows, range(len(rows))))\n",
    "columns = np.load(\"../data/references/miniGWG_darth/shear100/embalmer_taxatable.fixed.columns.npz\")['arr_0']\n",
    "columns_dict = dict(zip(columns, range(len(columns))))"
   ]
  },
  {
   "cell_type": "code",
   "execution_count": 156,
   "metadata": {},
   "outputs": [
    {
     "name": "stdout",
     "output_type": "stream",
     "text": [
      "(12098, 100880)\n"
     ]
    }
   ],
   "source": [
    "print(csr.shape)"
   ]
  },
  {
   "cell_type": "code",
   "execution_count": 207,
   "metadata": {},
   "outputs": [
    {
     "data": {
      "text/plain": [
       "4435"
      ]
     },
     "execution_count": 207,
     "metadata": {},
     "output_type": "execute_result"
    }
   ],
   "source": [
    "np.sum(csr[rows_dict['k__Bacteria']])"
   ]
  },
  {
   "cell_type": "code",
   "execution_count": 158,
   "metadata": {},
   "outputs": [
    {
     "data": {
      "text/plain": [
       "(10241, 10)"
      ]
     },
     "execution_count": 158,
     "metadata": {},
     "output_type": "execute_result"
    }
   ],
   "source": [
    "df.shape"
   ]
  },
  {
   "cell_type": "code",
   "execution_count": 134,
   "metadata": {},
   "outputs": [
    {
     "data": {
      "text/plain": [
       "272730016"
      ]
     },
     "execution_count": 134,
     "metadata": {},
     "output_type": "execute_result"
    }
   ],
   "source": [
    "# Sum all of the columns\n",
    "colsums = df.iloc[:,1:9].sum()\n",
    "# Take the sum of those columns\n",
    "num_hits = colsums.sum()\n",
    "# Total number of possible hits\n",
    "total_hits = df[9].sum()\n",
    "# Uniqueness Rate\n",
    "np.sum(csr)"
   ]
  },
  {
   "cell_type": "code",
   "execution_count": 260,
   "metadata": {},
   "outputs": [
    {
     "name": "stdout",
     "output_type": "stream",
     "text": [
      "22543.3969251\n"
     ]
    }
   ],
   "source": [
    "unique_count = np.zeros(8)\n",
    "for row, name in zip(csr, rows):\n",
    "    level = name.count(';')\n",
    "    unique_count[level] += np.sum(row)\n",
    "    \n",
    "print(np.sum(csr, axis=1).mean())"
   ]
  },
  {
   "cell_type": "code",
   "execution_count": 261,
   "metadata": {},
   "outputs": [
    {
     "data": {
      "text/plain": [
       "272730016.0"
      ]
     },
     "execution_count": 261,
     "metadata": {},
     "output_type": "execute_result"
    }
   ],
   "source": [
    "unique_count.sum()"
   ]
  },
  {
   "cell_type": "code",
   "execution_count": 262,
   "metadata": {},
   "outputs": [
    {
     "data": {
      "text/plain": [
       "[('kingdom', 0.00059829131532042291),\n",
       " ('phylum', 0.00055417075911439102),\n",
       " ('class', 0.00032945401946516951),\n",
       " ('order', 0.0012051552110787834),\n",
       " ('family', 0.0046517285431464939),\n",
       " ('genus', 0.0083225309531019861),\n",
       " ('species', 0.37079631161683357),\n",
       " ('strain', 0.6135423575819392)]"
      ]
     },
     "metadata": {},
     "output_type": "display_data"
    }
   ],
   "source": [
    "levels = ['kingdom', 'phylum', 'class', 'order', 'family', 'genus', 'species', 'strain']\n",
    "display(list(zip(levels, unique_count/np.sum(unique_count))))"
   ]
  },
  {
   "cell_type": "code",
   "execution_count": 263,
   "metadata": {
    "collapsed": true
   },
   "outputs": [],
   "source": [
    "# Load up the accession2taxonomy\n",
    "with open(\"../data/references/miniGWG_darth/miniGWG_darth.tax\") as inf:\n",
    "    csv_inf = csv.reader(inf, delimiter='\\t')\n",
    "    name2taxonomy = dict(csv_inf)\n",
    "# Transpose to be samples by indices\n",
    "csr = csr.T"
   ]
  },
  {
   "cell_type": "code",
   "execution_count": 264,
   "metadata": {
    "collapsed": true
   },
   "outputs": [],
   "source": [
    "# Build the BayesMat\n",
    "tax2index = np.unique(list(name2taxonomy.values()))\n",
    "bayes_mat = np.zeros((tax2index.shape[0], 9), dtype=int)\n",
    "tax2index = dict(zip(tax2index, range(tax2index.shape[0])))\n",
    "row_names = []\n",
    "for key, value in columns_dict.items():\n",
    "    key = key.split('.')\n",
    "    key = key[0] + \"_\" + key[1] + \".\" + key[2]\n",
    "    tax = name2taxonomy[key]\n",
    "    values = csr.getrow(value)\n",
    "    names = rows[values.indices]\n",
    "    row_names.append(tax)\n",
    "    for name, value in zip(names, values.data):\n",
    "        if not name is \"\":\n",
    "            bayes_mat[tax2index[tax], name.count(';')] += value\n",
    "    bayes_mat[tax2index[tax], 8] += np.sum(values)"
   ]
  },
  {
   "cell_type": "code",
   "execution_count": 265,
   "metadata": {},
   "outputs": [],
   "source": [
    "df_emb_100 = pd.DataFrame(bayes_mat, index=sorted(tax2index, key=tax2index.get))"
   ]
  },
  {
   "cell_type": "code",
   "execution_count": 266,
   "metadata": {},
   "outputs": [
    {
     "data": {
      "text/plain": [
       "272730016"
      ]
     },
     "execution_count": 266,
     "metadata": {},
     "output_type": "execute_result"
    }
   ],
   "source": [
    "df_emb_100.iloc[:, 8].sum()"
   ]
  },
  {
   "cell_type": "code",
   "execution_count": 267,
   "metadata": {},
   "outputs": [
    {
     "data": {
      "text/plain": [
       "[('kingdom', 0.00059829131532042291),\n",
       " ('phylum', 0.00055417075911439102),\n",
       " ('class', 0.00032945401946516951),\n",
       " ('order', 0.0012051552110787834),\n",
       " ('family', 0.0046517285431464939),\n",
       " ('genus', 0.0083225309531019861),\n",
       " ('species', 0.37079631161683357),\n",
       " ('strain', 0.6135423575819392)]"
      ]
     },
     "metadata": {},
     "output_type": "display_data"
    }
   ],
   "source": [
    "uniqueness_rate_per_level = np.zeros(8, dtype=float)\n",
    "for i in range(0, 8):\n",
    "    # Take the sum of those columns\n",
    "    num_hits =  df_emb_100.iloc[:, i].sum()\n",
    "    # Total number of possible hits\n",
    "    total_hits = df_emb_100.iloc[:, 8].sum()\n",
    "    # Uniqueness Rate\n",
    "    uniqueness_rate_per_level[i] = num_hits/total_hits\n",
    "levels = ['kingdom', 'phylum', 'class', 'order', 'family', 'genus', 'species', 'strain']\n",
    "display(list(zip(levels, uniqueness_rate_per_level)))"
   ]
  },
  {
   "cell_type": "code",
   "execution_count": 268,
   "metadata": {
    "collapsed": true
   },
   "outputs": [],
   "source": [
    "read_counts_100 = pd.read_csv('../data/references/miniGWG_darth/shear100/sheared_read_counts.txt', sep=\"\\t\", header=None)"
   ]
  },
  {
   "cell_type": "code",
   "execution_count": 270,
   "metadata": {},
   "outputs": [
    {
     "name": "stdout",
     "output_type": "stream",
     "text": [
      "(10241, 10)\n",
      "(10635, 9)\n"
     ]
    }
   ],
   "source": [
    "print(df.shape)\n",
    "print(df_emb_100.shape)\n",
    "df_emb_100.to_csv('../data/references/miniGWG_darth/shear100/sheared_bayes.fixed.txt', sep=\"\\t\", header=None)"
   ]
  },
  {
   "cell_type": "code",
   "execution_count": 304,
   "metadata": {},
   "outputs": [
    {
     "data": {
      "image/png": "[encoded data removed]",
      "text/plain": [
       "<matplotlib.figure.Figure at 0x7f8c37ead160>"
      ]
     },
     "metadata": {},
     "output_type": "display_data"
    }
   ],
   "source": [
    "# Distribution of uniqueness\n",
    "plt.hist(df_emb_100.iloc[:, 1:8].sum(axis=1)/df_emb_100[8])\n",
    "plt.show()"
   ]
  },
  {
   "cell_type": "code",
   "execution_count": 301,
   "metadata": {},
   "outputs": [
    {
     "name": "stdout",
     "output_type": "stream",
     "text": [
      "Counter()\n",
      "Counter({'k__Viruses': 7133, 'k__Bacteria': 3290, 'k__Archaea': 166, 'k__Viroids': 46})\n",
      "k__Archaea\t0.000000\n",
      "k__Bacteria\t0.000000\n",
      "k__Viruses\t0.000000\n",
      "k__Viroids\t0.000000\n"
     ]
    }
   ],
   "source": [
    "low_uniqueness = df_emb_100[df_emb_100.iloc[:, :8].sum(axis=1)/df_emb_100[8] < .01]\n",
    "\n",
    "kingdom_freq_low = Counter([_.split(';')[0] for _ in low_uniqueness.index])\n",
    "kingdom_freq_all = Counter([_.split(';')[0] for _ in df_emb_100.index])\n",
    "print(kingdom_freq_low)\n",
    "print(kingdom_freq_all)\n",
    "for key, value in kingdom_freq_all.items():\n",
    "    print(\"%s\\t%f\" % (key, kingdom_freq_low[key]/np.float(value)))"
   ]
  }
 ],
 "metadata": {
  "kernelspec": {
   "display_name": "Python 3",
   "language": "python",
   "name": "python3"
  },
  "language_info": {
   "codemirror_mode": {
    "name": "ipython",
    "version": 3
   },
   "file_extension": ".py",
   "mimetype": "text/x-python",
   "name": "python",
   "nbconvert_exporter": "python",
   "pygments_lexer": "ipython3",
   "version": "3.5.3"
  },
  "varInspector": {
   "cols": {
    "lenName": 16,
    "lenType": 16,
    "lenVar": 40
   },
   "kernels_config": {
    "python": {
     "delete_cmd_postfix": "",
     "delete_cmd_prefix": "del ",
     "library": "var_list.py",
     "varRefreshCmd": "print(var_dic_list())"
    },
    "r": {
     "delete_cmd_postfix": ") ",
     "delete_cmd_prefix": "rm(",
     "library": "var_list.r",
     "varRefreshCmd": "cat(var_dic_list()) "
    }
   },
   "oldHeight": 123,
   "position": {
    "height": "309px",
    "left": "688px",
    "right": "20px",
    "top": "120px",
    "width": "250px"
   },
   "types_to_exclude": [
    "module",
    "function",
    "builtin_function_or_method",
    "instance",
    "_Feature"
   ],
   "varInspector_section_display": "none",
   "window_display": false
  }
 },
 "nbformat": 4,
 "nbformat_minor": 2
}
