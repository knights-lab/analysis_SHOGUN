{
 "cells": [
  {
   "cell_type": "code",
   "execution_count": 104,
   "metadata": {},
   "outputs": [],
   "source": [
    "import pandas as pd\n",
    "import numpy as np\n",
    "from IPython.display import display\n",
    "import csv\n",
    "from collections import defaultdict, Counter\n",
    "import matplotlib.pyplot as plt\n",
    "import os\n",
    "\n",
    "if not os.path.isdir(\"/dev/shm/shearing\"):\n",
    "    os.makedirs(\"/dev/shm/shearing\")"
   ]
  },
  {
   "cell_type": "code",
   "execution_count": 8,
   "metadata": {},
   "outputs": [
    {
     "name": "stdout",
     "output_type": "stream",
     "text": [
      "CPU times: user 1min 6s, sys: 12.4 s, total: 1min 18s\n",
      "Wall time: 10min 42s\n"
     ]
    }
   ],
   "source": [
    "%%time\n",
    "shear_results = \"../data/references/rep82/shear_results.b6\"\n",
    "shear_results_fixed = \"/dev/shm/shearing/shear_results.fixed.b6\"\n",
    "!sed 's/_/./1' {shear_results} > {shear_results_fixed}"
   ]
  },
  {
   "cell_type": "code",
   "execution_count": 12,
   "metadata": {},
   "outputs": [
    {
     "name": "stdout",
     "output_type": "stream",
     "text": [
      "Parsed 406474006 reads [12976 samples, 0 taxa, 12958 refs]. Collating...\r\n",
      "CPU times: user 1min 15s, sys: 14.3 s, total: 1min 30s\n",
      "Wall time: 15min 26s\n"
     ]
    }
   ],
   "source": [
    "%%time\n",
    "otu_table = \"/dev/shm/shearing/shear_results.otu.txt\"\n",
    "taxa_table = \"/dev/shm/shearing/shear_results.taxatable.txt\"\n",
    "!embalmulate {shear_results_fixed} {otu_table}"
   ]
  },
  {
   "cell_type": "code",
   "execution_count": 119,
   "metadata": {},
   "outputs": [
    {
     "name": "stdout",
     "output_type": "stream",
     "text": [
      "0\n",
      "1000\n",
      "2000\n",
      "3000\n",
      "4000\n",
      "5000\n",
      "6000\n",
      "7000\n",
      "8000\n",
      "9000\n",
      "10000\n",
      "11000\n",
      "12000\n"
     ]
    }
   ],
   "source": [
    "with open(otu_table) as inf:\n",
    "    csv_inf = csv.reader(inf, delimiter=\"\\t\")\n",
    "    columns = next(csv_inf)\n",
    "    columns = dict(zip(columns[1:], range(len(columns))))\n",
    "    indptr = [0]\n",
    "    indices = np.array([], dtype=int)\n",
    "    data = np.array([], dtype=int)\n",
    "    names = []\n",
    "    for ix, row in enumerate(csv_inf):\n",
    "        if ix % 1000 == 0:\n",
    "            print(ix)\n",
    "        names.append(row[0])\n",
    "        np_row = np.array(row[1:], dtype=int)\n",
    "        temp_indx = [np_row > 0]\n",
    "        data = np.concatenate((data, np_row[temp_indx]))\n",
    "        indices = np.concatenate((indices, np.where(temp_indx)[1]))\n",
    "        indptr.append(indices.shape[0])"
   ]
  },
  {
   "cell_type": "code",
   "execution_count": 120,
   "metadata": {},
   "outputs": [],
   "source": [
    "from scipy.sparse import csr_matrix\n",
    "\n",
    "# samples by taxonomy\n",
    "csr = csr_matrix((data, indices, indptr), dtype=int).T"
   ]
  },
  {
   "cell_type": "code",
   "execution_count": 121,
   "metadata": {},
   "outputs": [],
   "source": [
    "# Load up the accession2taxonomy\n",
    "with open(\"../data/references/rep82/rep82.tax\") as inf:\n",
    "    csv_inf = csv.reader(inf, delimiter='\\t')\n",
    "    name2taxonomy = dict(csv_inf)"
   ]
  },
  {
   "cell_type": "code",
   "execution_count": 122,
   "metadata": {},
   "outputs": [],
   "source": [
    "cols_tax = [name2taxonomy[name] for name in names]\n",
    "rows_tax = [name2taxonomy[_.replace(\".\", \"_\", 1)] for _ in sorted(columns, key=columns.get)]"
   ]
  },
  {
   "cell_type": "code",
   "execution_count": 123,
   "metadata": {},
   "outputs": [],
   "source": [
    "def index_lca(str1, str2):\n",
    "    for i, (s1, s2) in enumerate(zip(str1.split(';'), str2.split(';'))):\n",
    "        if s1 != s2:\n",
    "            return i\n",
    "    return 8\n",
    "\n",
    "dat = np.zeros((len(rows_tax), 9), dtype=int)\n",
    "for i, row_name in enumerate(rows_tax):\n",
    "    row = csr.getrow(i)\n",
    "    for j, indx in enumerate(row.indices):\n",
    "        dat[i, index_lca(rows_tax[i], cols_tax[indx])] += row.data[j]"
   ]
  },
  {
   "cell_type": "code",
   "execution_count": 124,
   "metadata": {},
   "outputs": [
    {
     "data": {
      "text/plain": [
       "193728"
      ]
     },
     "execution_count": 124,
     "metadata": {},
     "output_type": "execute_result"
    }
   ],
   "source": [
    "dat[:, 0].sum()"
   ]
  },
  {
   "cell_type": "code",
   "execution_count": 125,
   "metadata": {},
   "outputs": [],
   "source": [
    "import pandas as pd\n",
    "df = pd.DataFrame(dat, index=rows_tax)"
   ]
  },
  {
   "cell_type": "code",
   "execution_count": 126,
   "metadata": {},
   "outputs": [],
   "source": [
    "df['sum'] = dat.sum(axis=1)"
   ]
  },
  {
   "cell_type": "code",
   "execution_count": 127,
   "metadata": {},
   "outputs": [
    {
     "data": {
      "text/html": [
       "<div>\n",
       "<style>\n",
       "    .dataframe thead tr:only-child th {\n",
       "        text-align: right;\n",
       "    }\n",
       "\n",
       "    .dataframe thead th {\n",
       "        text-align: left;\n",
       "    }\n",
       "\n",
       "    .dataframe tbody tr th {\n",
       "        vertical-align: top;\n",
       "    }\n",
       "</style>\n",
       "<table border=\"1\" class=\"dataframe\">\n",
       "  <thead>\n",
       "    <tr style=\"text-align: right;\">\n",
       "      <th></th>\n",
       "      <th>0</th>\n",
       "      <th>1</th>\n",
       "      <th>2</th>\n",
       "      <th>3</th>\n",
       "      <th>4</th>\n",
       "      <th>5</th>\n",
       "      <th>6</th>\n",
       "      <th>7</th>\n",
       "      <th>8</th>\n",
       "      <th>sum</th>\n",
       "    </tr>\n",
       "  </thead>\n",
       "  <tbody>\n",
       "    <tr>\n",
       "      <th>k__Viruses;p__ssRNA viruses;c__ssRNA positive-strand viruses, no DNA stage;o__;f__;g__;s__Phytophthora infestans RNA virus 1;t__</th>\n",
       "      <td>0</td>\n",
       "      <td>0</td>\n",
       "      <td>0</td>\n",
       "      <td>0</td>\n",
       "      <td>0</td>\n",
       "      <td>0</td>\n",
       "      <td>0</td>\n",
       "      <td>0</td>\n",
       "      <td>120</td>\n",
       "      <td>120</td>\n",
       "    </tr>\n",
       "    <tr>\n",
       "      <th>k__Bacteria;p__Planctomycetes;c__Planctomycetia;o__Planctomycetales;f__Gemmataceae;g__Gemmata;s__Gemmata obscuriglobus;t__Gemmata obscuriglobus UQM 2246</th>\n",
       "      <td>8</td>\n",
       "      <td>97</td>\n",
       "      <td>0</td>\n",
       "      <td>0</td>\n",
       "      <td>0</td>\n",
       "      <td>0</td>\n",
       "      <td>0</td>\n",
       "      <td>0</td>\n",
       "      <td>181382</td>\n",
       "      <td>181487</td>\n",
       "    </tr>\n",
       "    <tr>\n",
       "      <th>k__Bacteria;p__Firmicutes;c__Bacilli;o__Bacillales;f__Bacillaceae;g__Bacillus;s__Bacillus sp. FJAT-14578;t__</th>\n",
       "      <td>1</td>\n",
       "      <td>3</td>\n",
       "      <td>0</td>\n",
       "      <td>0</td>\n",
       "      <td>16</td>\n",
       "      <td>20</td>\n",
       "      <td>139</td>\n",
       "      <td>0</td>\n",
       "      <td>111122</td>\n",
       "      <td>111301</td>\n",
       "    </tr>\n",
       "    <tr>\n",
       "      <th>k__Viruses;p__dsDNA viruses, no RNA stage;c__Caudovirales;o__;f__Podoviridae;g__;s__Bacillus phage Stitch;t__</th>\n",
       "      <td>0</td>\n",
       "      <td>1</td>\n",
       "      <td>0</td>\n",
       "      <td>0</td>\n",
       "      <td>0</td>\n",
       "      <td>0</td>\n",
       "      <td>16</td>\n",
       "      <td>0</td>\n",
       "      <td>469</td>\n",
       "      <td>486</td>\n",
       "    </tr>\n",
       "    <tr>\n",
       "      <th>k__Viruses;p__ssRNA viruses;c__ssRNA positive-strand viruses, no DNA stage;o__;f__Virgaviridae;g__Tobamovirus;s__Hibiscus latent Singapore virus;t__</th>\n",
       "      <td>0</td>\n",
       "      <td>0</td>\n",
       "      <td>0</td>\n",
       "      <td>0</td>\n",
       "      <td>0</td>\n",
       "      <td>0</td>\n",
       "      <td>0</td>\n",
       "      <td>0</td>\n",
       "      <td>129</td>\n",
       "      <td>129</td>\n",
       "    </tr>\n",
       "  </tbody>\n",
       "</table>\n",
       "</div>"
      ],
      "text/plain": [
       "                                                    0   1  2  3   4   5    6  \\\n",
       "k__Viruses;p__ssRNA viruses;c__ssRNA positive-s...  0   0  0  0   0   0    0   \n",
       "k__Bacteria;p__Planctomycetes;c__Planctomycetia...  8  97  0  0   0   0    0   \n",
       "k__Bacteria;p__Firmicutes;c__Bacilli;o__Bacilla...  1   3  0  0  16  20  139   \n",
       "k__Viruses;p__dsDNA viruses, no RNA stage;c__Ca...  0   1  0  0   0   0   16   \n",
       "k__Viruses;p__ssRNA viruses;c__ssRNA positive-s...  0   0  0  0   0   0    0   \n",
       "\n",
       "                                                    7       8     sum  \n",
       "k__Viruses;p__ssRNA viruses;c__ssRNA positive-s...  0     120     120  \n",
       "k__Bacteria;p__Planctomycetes;c__Planctomycetia...  0  181382  181487  \n",
       "k__Bacteria;p__Firmicutes;c__Bacilli;o__Bacilla...  0  111122  111301  \n",
       "k__Viruses;p__dsDNA viruses, no RNA stage;c__Ca...  0     469     486  \n",
       "k__Viruses;p__ssRNA viruses;c__ssRNA positive-s...  0     129     129  "
      ]
     },
     "execution_count": 127,
     "metadata": {},
     "output_type": "execute_result"
    }
   ],
   "source": [
    "df.head()"
   ]
  },
  {
   "cell_type": "code",
   "execution_count": 128,
   "metadata": {},
   "outputs": [],
   "source": [
    "df.drop(0, axis=1, inplace=True)"
   ]
  },
  {
   "cell_type": "code",
   "execution_count": 129,
   "metadata": {},
   "outputs": [
    {
     "data": {
      "text/html": [
       "<div>\n",
       "<style>\n",
       "    .dataframe thead tr:only-child th {\n",
       "        text-align: right;\n",
       "    }\n",
       "\n",
       "    .dataframe thead th {\n",
       "        text-align: left;\n",
       "    }\n",
       "\n",
       "    .dataframe tbody tr th {\n",
       "        vertical-align: top;\n",
       "    }\n",
       "</style>\n",
       "<table border=\"1\" class=\"dataframe\">\n",
       "  <thead>\n",
       "    <tr style=\"text-align: right;\">\n",
       "      <th></th>\n",
       "      <th>1</th>\n",
       "      <th>2</th>\n",
       "      <th>3</th>\n",
       "      <th>4</th>\n",
       "      <th>5</th>\n",
       "      <th>6</th>\n",
       "      <th>7</th>\n",
       "      <th>8</th>\n",
       "      <th>sum</th>\n",
       "    </tr>\n",
       "  </thead>\n",
       "  <tbody>\n",
       "    <tr>\n",
       "      <th>k__Viruses;p__ssRNA viruses;c__ssRNA positive-strand viruses, no DNA stage;o__;f__;g__;s__Phytophthora infestans RNA virus 1;t__</th>\n",
       "      <td>0</td>\n",
       "      <td>0</td>\n",
       "      <td>0</td>\n",
       "      <td>0</td>\n",
       "      <td>0</td>\n",
       "      <td>0</td>\n",
       "      <td>0</td>\n",
       "      <td>120</td>\n",
       "      <td>120</td>\n",
       "    </tr>\n",
       "    <tr>\n",
       "      <th>k__Bacteria;p__Planctomycetes;c__Planctomycetia;o__Planctomycetales;f__Gemmataceae;g__Gemmata;s__Gemmata obscuriglobus;t__Gemmata obscuriglobus UQM 2246</th>\n",
       "      <td>97</td>\n",
       "      <td>0</td>\n",
       "      <td>0</td>\n",
       "      <td>0</td>\n",
       "      <td>0</td>\n",
       "      <td>0</td>\n",
       "      <td>0</td>\n",
       "      <td>181382</td>\n",
       "      <td>181487</td>\n",
       "    </tr>\n",
       "    <tr>\n",
       "      <th>k__Bacteria;p__Firmicutes;c__Bacilli;o__Bacillales;f__Bacillaceae;g__Bacillus;s__Bacillus sp. FJAT-14578;t__</th>\n",
       "      <td>3</td>\n",
       "      <td>0</td>\n",
       "      <td>0</td>\n",
       "      <td>16</td>\n",
       "      <td>20</td>\n",
       "      <td>139</td>\n",
       "      <td>0</td>\n",
       "      <td>111122</td>\n",
       "      <td>111301</td>\n",
       "    </tr>\n",
       "    <tr>\n",
       "      <th>k__Viruses;p__dsDNA viruses, no RNA stage;c__Caudovirales;o__;f__Podoviridae;g__;s__Bacillus phage Stitch;t__</th>\n",
       "      <td>1</td>\n",
       "      <td>0</td>\n",
       "      <td>0</td>\n",
       "      <td>0</td>\n",
       "      <td>0</td>\n",
       "      <td>16</td>\n",
       "      <td>0</td>\n",
       "      <td>469</td>\n",
       "      <td>486</td>\n",
       "    </tr>\n",
       "    <tr>\n",
       "      <th>k__Viruses;p__ssRNA viruses;c__ssRNA positive-strand viruses, no DNA stage;o__;f__Virgaviridae;g__Tobamovirus;s__Hibiscus latent Singapore virus;t__</th>\n",
       "      <td>0</td>\n",
       "      <td>0</td>\n",
       "      <td>0</td>\n",
       "      <td>0</td>\n",
       "      <td>0</td>\n",
       "      <td>0</td>\n",
       "      <td>0</td>\n",
       "      <td>129</td>\n",
       "      <td>129</td>\n",
       "    </tr>\n",
       "  </tbody>\n",
       "</table>\n",
       "</div>"
      ],
      "text/plain": [
       "                                                     1  2  3   4   5    6  7  \\\n",
       "k__Viruses;p__ssRNA viruses;c__ssRNA positive-s...   0  0  0   0   0    0  0   \n",
       "k__Bacteria;p__Planctomycetes;c__Planctomycetia...  97  0  0   0   0    0  0   \n",
       "k__Bacteria;p__Firmicutes;c__Bacilli;o__Bacilla...   3  0  0  16  20  139  0   \n",
       "k__Viruses;p__dsDNA viruses, no RNA stage;c__Ca...   1  0  0   0   0   16  0   \n",
       "k__Viruses;p__ssRNA viruses;c__ssRNA positive-s...   0  0  0   0   0    0  0   \n",
       "\n",
       "                                                         8     sum  \n",
       "k__Viruses;p__ssRNA viruses;c__ssRNA positive-s...     120     120  \n",
       "k__Bacteria;p__Planctomycetes;c__Planctomycetia...  181382  181487  \n",
       "k__Bacteria;p__Firmicutes;c__Bacilli;o__Bacilla...  111122  111301  \n",
       "k__Viruses;p__dsDNA viruses, no RNA stage;c__Ca...     469     486  \n",
       "k__Viruses;p__ssRNA viruses;c__ssRNA positive-s...     129     129  "
      ]
     },
     "execution_count": 129,
     "metadata": {},
     "output_type": "execute_result"
    }
   ],
   "source": [
    "df.head()"
   ]
  },
  {
   "cell_type": "code",
   "execution_count": 130,
   "metadata": {},
   "outputs": [],
   "source": [
    "df.to_csv(\"../data/references/rep82/sheared_bayes.txt\", header=False, sep=\"\\t\")"
   ]
  },
  {
   "cell_type": "code",
   "execution_count": 131,
   "metadata": {},
   "outputs": [
    {
     "name": "stdout",
     "output_type": "stream",
     "text": [
      "0.999523393877\n"
     ]
    }
   ],
   "source": [
    "uniqueness_rate_per_level = np.zeros(8, dtype=float)\n",
    "for i in range(0, 8):\n",
    "    # Take the sum of those columns\n",
    "    num_hits =  df.iloc[:, i].sum()\n",
    "    # Total number of possible hits\n",
    "    total_hits = df['sum'].sum()\n",
    "    # Uniqueness Rate\n",
    "    uniqueness_rate_per_level[i] = num_hits/total_hits\n",
    "levels = ['kingdom', 'phylum', 'class', 'order', 'family', 'genus', 'species', 'strain']\n",
    "list(zip(levels, uniqueness_rate_per_level))\n",
    "print(uniqueness_rate_per_level.sum())"
   ]
  },
  {
   "cell_type": "code",
   "execution_count": 132,
   "metadata": {},
   "outputs": [
    {
     "data": {
      "image/png": "[encoded data removed]",
      "text/plain": [
       "<matplotlib.figure.Figure at 0x7f62d08b9898>"
      ]
     },
     "metadata": {},
     "output_type": "display_data"
    }
   ],
   "source": [
    "# Distribution of uniqueness\n",
    "plt.hist(df.iloc[:, 1:8].sum(axis=1)/df['sum'])\n",
    "plt.show()"
   ]
  },
  {
   "cell_type": "code",
   "execution_count": 133,
   "metadata": {},
   "outputs": [
    {
     "name": "stdout",
     "output_type": "stream",
     "text": [
      "                                                      1   2    3    4      5  \\\n",
      "k__Viruses;p__ssRNA viruses;c__ssRNA positive-s...    0   0    0    0      0   \n",
      "k__Bacteria;p__Planctomycetes;c__Planctomycetia...   97   0    0    0      0   \n",
      "k__Bacteria;p__Firmicutes;c__Bacilli;o__Bacilla...    3   0    0   16     20   \n",
      "k__Viruses;p__dsDNA viruses, no RNA stage;c__Ca...    1   0    0    0      0   \n",
      "k__Viruses;p__ssRNA viruses;c__ssRNA positive-s...    0   0    0    0      0   \n",
      "k__Viruses;p__dsRNA viruses;c__Totiviridae;o__;...    0   0    0    0      0   \n",
      "k__Viruses;p__dsRNA viruses;c__unclassified dsR...    0   0    0    0      0   \n",
      "k__Viruses;p__unclassified viruses;c__Torulaspo...    0   0    0    0      0   \n",
      "k__Viruses;p__ssRNA viruses;c__ssRNA positive-s...    0   0    0    0      0   \n",
      "k__Bacteria;p__Proteobacteria;c__Epsilonproteob...   13   0    0    0     10   \n",
      "k__Bacteria;p__Proteobacteria;c__Gammaproteobac...    0   0    4    0      0   \n",
      "k__Bacteria;p__Firmicutes;c__Clostridia;o__Ther...    0   4    1    2    203   \n",
      "k__Bacteria;p__Firmicutes;c__Clostridia;o__Clos...    1   1   13   32     39   \n",
      "k__Bacteria;p__Actinobacteria;c__Actinobacteria...   31   0    7    0      5   \n",
      "k__Bacteria;p__Firmicutes;c__Bacilli;o__Bacilla...    0   1    3    8      0   \n",
      "k__Viruses;p__ssRNA viruses;c__ssRNA positive-s...    0   0    0    0      0   \n",
      "k__Viruses;p__dsDNA viruses, no RNA stage;c__He...    0   0    0    0      0   \n",
      "k__Bacteria;p__Firmicutes;c__Bacilli;o__Bacilla...    0   0    5   17     22   \n",
      "k__Viruses;p__ssRNA viruses;c__ssRNA positive-s...    0   0    0    0      0   \n",
      "k__Viruses;p__dsDNA viruses, no RNA stage;c__He...    0   0    0    0      0   \n",
      "k__Bacteria;p__Bacteroidetes;c__;o__Bacteroidet...    0   0    0    0      0   \n",
      "k__Bacteria;p__Tenericutes;c__Mollicutes;o__Myc...    0   0    0    0      0   \n",
      "k__Bacteria;p__Actinobacteria;c__Actinobacteria...    0   0    5    0      4   \n",
      "k__Bacteria;p__Actinobacteria;c__Actinobacteria...    0   0   17    0      4   \n",
      "k__Bacteria;p__Deinococcus-Thermus;c__Deinococc...    0   0    0    0      0   \n",
      "k__Bacteria;p__Firmicutes;c__Clostridia;o__Ther...   46   2  621    1      1   \n",
      "k__Viruses;p__ssRNA viruses;c__ssRNA positive-s...    0   0    0    0      0   \n",
      "k__Bacteria;p__Proteobacteria;c__Gammaproteobac...  109  26  356  453  35598   \n",
      "k__Bacteria;p__Firmicutes;c__Clostridia;o__Clos...    0   1    0   20      0   \n",
      "k__Archaea;p__Euryarchaeota;c__Methanobacteria;...    0   0    0    0      0   \n",
      "...                                                 ...  ..  ...  ...    ...   \n",
      "k__Viroids;p__;c__;o__;f__;g__;s__Rubber viroid...    0   0    0    0      0   \n",
      "k__Viruses;p__Satellites;c__Satellite Nucleic A...    0   0    0    0      0   \n",
      "k__Viroids;p__;c__;o__;f__;g__;s__Cherry leaf s...    0   0    0    0      0   \n",
      "k__Viroids;p__;c__;o__;f__Avsunviroidae;g__Avsu...    0   0    0    0      0   \n",
      "k__Viroids;p__;c__;o__;f__Pospiviroidae;g__Posp...    0   0    0    0      0   \n",
      "k__Viruses;p__unclassified viruses;c__Lake Sara...    0   0    0    0      0   \n",
      "k__Viruses;p__ssDNA viruses;c__unclassified ssD...    0   0    0    0      0   \n",
      "k__Viroids;p__;c__;o__;f__Pospiviroidae;g__Apsc...    0   0    0    0      0   \n",
      "k__Viroids;p__;c__;o__;f__Pospiviroidae;g__Cole...    0   0    0    0      0   \n",
      "k__Viruses;p__Satellites;c__Satellite Nucleic A...    0   0    0    0      0   \n",
      "k__Viruses;p__Satellites;c__Satellite Nucleic A...    0   0    0    0      0   \n",
      "k__Viroids;p__;c__;o__;f__Pospiviroidae;g__Posp...    0   0    0    0      0   \n",
      "k__Viruses;p__Satellites;c__Satellite Nucleic A...    0   0    0    0      0   \n",
      "k__Viruses;p__Satellites;c__Satellite Nucleic A...    0   0    0    0      0   \n",
      "k__Viruses;p__Satellites;c__Satellite Nucleic A...    0   0    0    0      0   \n",
      "k__Viroids;p__;c__;o__;f__Pospiviroidae;g__Host...    0   0    0    0      0   \n",
      "k__Viroids;p__;c__;o__;f__Pospiviroidae;g__Coca...    0   0    0    0      0   \n",
      "k__Viroids;p__;c__;o__;f__Pospiviroidae;g__Cole...    0   0    0    0      0   \n",
      "k__Viroids;p__;c__;o__;f__Pospiviroidae;g__Apsc...    0   0    0    0      0   \n",
      "k__Viruses;p__Satellites;c__Satellite Nucleic A...    0   0    0    0      0   \n",
      "k__Viroids;p__;c__;o__;f__Pospiviroidae;g__Cole...    0   0    0    0      0   \n",
      "k__Viroids;p__;c__;o__;f__;g__;s__Apple fruit c...    0   0    0    0      0   \n",
      "k__Viroids;p__;c__;o__;f__Pospiviroidae;g__Coca...    0   0    0    0      0   \n",
      "k__Viroids;p__;c__;o__;f__Pospiviroidae;g__Coca...    0   0    0    0      0   \n",
      "k__Viroids;p__;c__;o__;f__Pospiviroidae;g__Apsc...    0   0    0    0      0   \n",
      "k__Viroids;p__;c__;o__;f__Avsunviroidae;g__Pela...    0   0    0    0      0   \n",
      "k__Viroids;p__;c__;o__;f__;g__;s__Apple hammerh...    0   0    0    0      0   \n",
      "k__Viroids;p__;c__;o__;f__Pospiviroidae;g__Cole...    0   0    0    0      0   \n",
      "k__Viruses;p__Satellites;c__Satellite Nucleic A...    0   0    0    0      0   \n",
      "k__Viruses;p__Satellites;c__Satellite Nucleic A...    0   0    0    0      0   \n",
      "\n",
      "                                                       6  7       8     sum  \n",
      "k__Viruses;p__ssRNA viruses;c__ssRNA positive-s...     0  0     120     120  \n",
      "k__Bacteria;p__Planctomycetes;c__Planctomycetia...     0  0  181382  181487  \n",
      "k__Bacteria;p__Firmicutes;c__Bacilli;o__Bacilla...   139  0  111122  111301  \n",
      "k__Viruses;p__dsDNA viruses, no RNA stage;c__Ca...    16  0     469     486  \n",
      "k__Viruses;p__ssRNA viruses;c__ssRNA positive-s...     0  0     129     129  \n",
      "k__Viruses;p__dsRNA viruses;c__Totiviridae;o__;...     0  0     120     120  \n",
      "k__Viruses;p__dsRNA viruses;c__unclassified dsR...     0  0      36      36  \n",
      "k__Viruses;p__unclassified viruses;c__Torulaspo...     0  0      34      34  \n",
      "k__Viruses;p__ssRNA viruses;c__ssRNA positive-s...     0  0     242     242  \n",
      "k__Bacteria;p__Proteobacteria;c__Epsilonproteob...    33  0   34169   34225  \n",
      "k__Bacteria;p__Proteobacteria;c__Gammaproteobac...   127  0   91953   92084  \n",
      "k__Bacteria;p__Firmicutes;c__Clostridia;o__Ther...     0  0   53578   53788  \n",
      "k__Bacteria;p__Firmicutes;c__Clostridia;o__Clos...     0  0   91465   91551  \n",
      "k__Bacteria;p__Actinobacteria;c__Actinobacteria...   874  0  162362  163279  \n",
      "k__Bacteria;p__Firmicutes;c__Bacilli;o__Bacilla...     0  0   55565   55577  \n",
      "k__Viruses;p__ssRNA viruses;c__ssRNA positive-s...     0  0     185     185  \n",
      "k__Viruses;p__dsDNA viruses, no RNA stage;c__He...     0  0    4058    4058  \n",
      "k__Bacteria;p__Firmicutes;c__Bacilli;o__Bacilla...    21  0   76201   76266  \n",
      "k__Viruses;p__ssRNA viruses;c__ssRNA positive-s...     0  0     222     222  \n",
      "k__Viruses;p__dsDNA viruses, no RNA stage;c__He...     6  0    3129    3135  \n",
      "k__Bacteria;p__Bacteroidetes;c__;o__Bacteroidet...     0  0   65232   65232  \n",
      "k__Bacteria;p__Tenericutes;c__Mollicutes;o__Myc...    36  0   16837   16873  \n",
      "k__Bacteria;p__Actinobacteria;c__Actinobacteria...   898  0  162274  163181  \n",
      "k__Bacteria;p__Actinobacteria;c__Actinobacteria...    89  0  116766  116876  \n",
      "k__Bacteria;p__Deinococcus-Thermus;c__Deinococc...   256  0   92607   92863  \n",
      "k__Bacteria;p__Firmicutes;c__Clostridia;o__Ther...   674  0   58060   59405  \n",
      "k__Viruses;p__ssRNA viruses;c__ssRNA positive-s...     0  0     196     196  \n",
      "k__Bacteria;p__Proteobacteria;c__Gammaproteobac...  3114  0   52027   92142  \n",
      "k__Bacteria;p__Firmicutes;c__Clostridia;o__Clos...     0  0   53485   53506  \n",
      "k__Archaea;p__Euryarchaeota;c__Methanobacteria;...     7  0   58737   58744  \n",
      "...                                                  ... ..     ...     ...  \n",
      "k__Viroids;p__;c__;o__;f__;g__;s__Rubber viroid...     0  0       7       7  \n",
      "k__Viruses;p__Satellites;c__Satellite Nucleic A...     0  0       4       4  \n",
      "k__Viroids;p__;c__;o__;f__;g__;s__Cherry leaf s...     0  0       8       8  \n",
      "k__Viroids;p__;c__;o__;f__Avsunviroidae;g__Avsu...     0  0       4       4  \n",
      "k__Viroids;p__;c__;o__;f__Pospiviroidae;g__Posp...     0  0       6       6  \n",
      "k__Viruses;p__unclassified viruses;c__Lake Sara...     0  0      16      16  \n",
      "k__Viruses;p__ssDNA viruses;c__unclassified ssD...     0  0      32      32  \n",
      "k__Viroids;p__;c__;o__;f__Pospiviroidae;g__Apsc...     0  0       6       6  \n",
      "k__Viroids;p__;c__;o__;f__Pospiviroidae;g__Cole...     0  0       5       5  \n",
      "k__Viruses;p__Satellites;c__Satellite Nucleic A...     0  0       6       6  \n",
      "k__Viruses;p__Satellites;c__Satellite Nucleic A...     0  0       9       9  \n",
      "k__Viroids;p__;c__;o__;f__Pospiviroidae;g__Posp...     0  0       7       7  \n",
      "k__Viruses;p__Satellites;c__Satellite Nucleic A...     0  0       7       7  \n",
      "k__Viruses;p__Satellites;c__Satellite Nucleic A...     0  0       7       7  \n",
      "k__Viruses;p__Satellites;c__Satellite Nucleic A...     0  0       4       4  \n",
      "k__Viroids;p__;c__;o__;f__Pospiviroidae;g__Host...     0  0       6       6  \n",
      "k__Viroids;p__;c__;o__;f__Pospiviroidae;g__Coca...     0  0       5       5  \n",
      "k__Viroids;p__;c__;o__;f__Pospiviroidae;g__Cole...     0  0       6       6  \n",
      "k__Viroids;p__;c__;o__;f__Pospiviroidae;g__Apsc...     0  0       7       7  \n",
      "k__Viruses;p__Satellites;c__Satellite Nucleic A...     0  0       9       9  \n",
      "k__Viroids;p__;c__;o__;f__Pospiviroidae;g__Cole...     0  0       7       7  \n",
      "k__Viroids;p__;c__;o__;f__;g__;s__Apple fruit c...     0  0       7       7  \n",
      "k__Viroids;p__;c__;o__;f__Pospiviroidae;g__Coca...     0  0       4       4  \n",
      "k__Viroids;p__;c__;o__;f__Pospiviroidae;g__Coca...     0  0       5       5  \n",
      "k__Viroids;p__;c__;o__;f__Pospiviroidae;g__Apsc...     0  0       5       5  \n",
      "k__Viroids;p__;c__;o__;f__Avsunviroidae;g__Pela...     0  0       7       7  \n",
      "k__Viroids;p__;c__;o__;f__;g__;s__Apple hammerh...     0  0       8       8  \n",
      "k__Viroids;p__;c__;o__;f__Pospiviroidae;g__Cole...     0  0       5       5  \n",
      "k__Viruses;p__Satellites;c__Satellite Nucleic A...     0  0       5       5  \n",
      "k__Viruses;p__Satellites;c__Satellite Nucleic A...     0  0       6       6  \n",
      "\n",
      "[12976 rows x 9 columns]\n",
      "Counter({'k__Viruses': 7194, 'k__Bacteria': 4884, 'k__BacteriaPlasmid': 577, 'k__Archaea': 238, 'k__Viroids': 46, 'k__ArchaeaPlasmid': 37})\n"
     ]
    }
   ],
   "source": [
    "low_uniqueness = df[df.iloc[:, 1:8].sum(axis=1)/df['sum'] < 1.1]\n",
    "print(low_uniqueness)\n",
    "kingdom_freq_low = Counter([_.split(';')[0] for _ in low_uniqueness.index])\n",
    "print(kingdom_freq_low)"
   ]
  }
 ],
 "metadata": {
  "kernelspec": {
   "display_name": "Python 3",
   "language": "python",
   "name": "python3"
  },
  "language_info": {
   "codemirror_mode": {
    "name": "ipython",
    "version": 3
   },
   "file_extension": ".py",
   "mimetype": "text/x-python",
   "name": "python",
   "nbconvert_exporter": "python",
   "pygments_lexer": "ipython3",
   "version": "3.5.3"
  }
 },
 "nbformat": 4,
 "nbformat_minor": 2
}
