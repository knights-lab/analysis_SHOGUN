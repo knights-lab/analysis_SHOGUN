{
 "cells": [
  {
   "cell_type": "code",
   "execution_count": 20,
   "metadata": {
    "collapsed": true
   },
   "outputs": [],
   "source": [
    "from glob import glob\n",
    "import os\n",
    "from collections import defaultdict, Counter\n",
    "import pandas as pd\n",
    "import numpy as np\n",
    "import matplotlib.pyplot as plt\n",
    "import seaborn as sns\n",
    "sns.set_style(\"ticks\")\n",
    "COLORS=dict(zip([\"burst\", \"utree\", \"centrifuge\", \"kraken\", \"bowtie2\", 'burst-capitalist', 'burst-lca', 3, 4, 5], sns.color_palette(\"colorblind\", 10)))\n",
    "sns.palplot(sns.color_palette(\"colorblind\", 10))\n",
    "\n",
    "%matplotlib inline"
   ]
  },
  {
   "cell_type": "code",
   "execution_count": 2,
   "metadata": {
    "collapsed": true
   },
   "outputs": [],
   "source": [
    "# Load up RS2KO\n",
    "protein2kos = defaultdict(list)\n",
    "with open(\"../results/uds/rs2ko.txt\") as inf:\n",
    "    for line in inf:\n",
    "        row = line.rstrip().split(\"\\t\")\n",
    "        row[0] = row[0].split('.')[0]\n",
    "        protein2kos[row[0]].extend(row[1].split())"
   ]
  },
  {
   "cell_type": "code",
   "execution_count": 77,
   "metadata": {
    "collapsed": true
   },
   "outputs": [],
   "source": [
    "def save_plot(fig, pltname, artists=()):\n",
    "    fig.savefig(os.path.join(\"..\", \"figures\", \"uds_\" + pltname + \".png\"), dpi=300, bbox_extra_artists=artists, bbox_inches='tight')"
   ]
  },
  {
   "cell_type": "code",
   "execution_count": 3,
   "metadata": {
    "collapsed": true
   },
   "outputs": [],
   "source": [
    "# Load up GMG.to.KO\n",
    "rs2kos = defaultdict(list)\n",
    "with open(\"../results/uds/./GMG.microbe.to.KO.map.txt\") as inf:\n",
    "    for line in inf:\n",
    "        row = line.rstrip().split(\"\\t\")\n",
    "        row[0] = row[0].split('.')[0]\n",
    "        rs2kos[row[0]].extend(row[1].split())"
   ]
  },
  {
   "cell_type": "code",
   "execution_count": 4,
   "metadata": {
    "collapsed": true
   },
   "outputs": [],
   "source": [
    "rep82_R1 = glob(\"../results/uds/*_R1_001.rep82.b6\")\n",
    "rep82_set = set(rep82_R1)\n",
    "miniGMG_R1 = glob(\"../results/uds/*_R1_001.miniGMG_darth.b6\")\n",
    "processing_pairs = []\n",
    "for file in miniGMG_R1:\n",
    "    rep82_file = file.replace(\"miniGMG_darth\", \"rep82\")\n",
    "    if rep82_file in rep82_set:\n",
    "        processing_pairs.append([file, rep82_file])"
   ]
  },
  {
   "cell_type": "code",
   "execution_count": 5,
   "metadata": {
    "collapsed": true
   },
   "outputs": [],
   "source": [
    "# Given a string, and start and end string, return the sandwiched string within the the original string\n",
    "def find_between(s, first, last):\n",
    "    try:\n",
    "        start = s.index(first) + len(first)\n",
    "        end = s.index(last, start)\n",
    "        return s[start:end]\n",
    "    except ValueError:\n",
    "        return \"\""
   ]
  },
  {
   "cell_type": "code",
   "execution_count": 6,
   "metadata": {},
   "outputs": [
    {
     "name": "stdout",
     "output_type": "stream",
     "text": [
      "../results/uds/160729_K00180_0226_AH7WCCBBXX.LS_1_S1_L005_R1_001.miniGMG_darth.b6\t5908816\t2203694\t0.73\n",
      "../results/uds/160729_K00180_0226_AH7WCCBBXX.LS_1_S1_L007_R1_001.miniGMG_darth.b6\t5879457\t2216664\t0.73\n",
      "../results/uds/160729_K00180_0226_AH7WCCBBXX.LS_6_S6_L001_R1_001.miniGMG_darth.b6\t5203938\t2061778\t0.72\n",
      "../results/uds/160729_K00180_0226_AH7WCCBBXX.LS_8_S8_L008_R1_001.miniGMG_darth.b6\t4886198\t2039465\t0.71\n",
      "../results/uds/160729_K00180_0226_AH7WCCBBXX.LS_5_S5_L008_R1_001.miniGMG_darth.b6\t5430175\t2164441\t0.72\n",
      "../results/uds/160729_K00180_0226_AH7WCCBBXX.LS_8_S8_L007_R1_001.miniGMG_darth.b6\t5679700\t2339215\t0.71\n",
      "../results/uds/160729_K00180_0226_AH7WCCBBXX.LS_5_S5_L005_R1_001.miniGMG_darth.b6\t6244540\t2439196\t0.72\n",
      "../results/uds/160729_K00180_0226_AH7WCCBBXX.LS_3_S3_L008_R1_001.miniGMG_darth.b6\t5112109\t1964766\t0.72\n",
      "../results/uds/160729_K00180_0226_AH7WCCBBXX.LS_2_S2_L006_R1_001.miniGMG_darth.b6\t6068343\t2392928\t0.72\n",
      "../results/uds/160729_K00180_0226_AH7WCCBBXX.LS_4_S4_L007_R1_001.miniGMG_darth.b6\t6181962\t2421940\t0.72\n",
      "../results/uds/160729_K00180_0226_AH7WCCBBXX.LS_6_S6_L006_R1_001.miniGMG_darth.b6\t5372179\t2140218\t0.72\n",
      "../results/uds/160729_K00180_0226_AH7WCCBBXX.LS_4_S4_L006_R1_001.miniGMG_darth.b6\t6014797\t2366468\t0.72\n",
      "../results/uds/160729_K00180_0226_AH7WCCBBXX.LS_2_S2_L001_R1_001.miniGMG_darth.b6\t5970671\t2333713\t0.72\n",
      "../results/uds/160729_K00180_0226_AH7WCCBBXX.LS_5_S5_L003_R1_001.miniGMG_darth.b6\t5669798\t2245117\t0.72\n",
      "../results/uds/160729_K00180_0226_AH7WCCBBXX.LS_8_S8_L005_R1_001.miniGMG_darth.b6\t5766412\t2356928\t0.71\n",
      "../results/uds/160729_K00180_0226_AH7WCCBBXX.LS_1_S1_L008_R1_001.miniGMG_darth.b6\t5094694\t1940167\t0.72\n",
      "../results/uds/160729_K00180_0226_AH7WCCBBXX.LS_5_S5_L001_R1_001.miniGMG_darth.b6\t5940588\t2330602\t0.72\n",
      "../results/uds/160729_K00180_0226_AH7WCCBBXX.LS_3_S3_L005_R1_001.miniGMG_darth.b6\t5814364\t2181319\t0.73\n",
      "../results/uds/160729_K00180_0226_AH7WCCBBXX.LS_4_S4_L003_R1_001.miniGMG_darth.b6\t5603857\t2204922\t0.72\n",
      "../results/uds/160729_K00180_0226_AH7WCCBBXX.LS_2_S2_L002_R1_001.miniGMG_darth.b6\t5783432\t2290332\t0.72\n",
      "../results/uds/160729_K00180_0226_AH7WCCBBXX.LS_8_S8_L001_R1_001.miniGMG_darth.b6\t5424809\t2231562\t0.71\n",
      "../results/uds/160729_K00180_0226_AH7WCCBBXX.LS_5_S5_L002_R1_001.miniGMG_darth.b6\t5794858\t2304368\t0.72\n",
      "../results/uds/160729_K00180_0226_AH7WCCBBXX.LS_4_S4_L004_R1_001.miniGMG_darth.b6\t5787366\t2271439\t0.72\n",
      "../results/uds/160729_K00180_0226_AH7WCCBBXX.LS_2_S2_L008_R1_001.miniGMG_darth.b6\t5351074\t2128896\t0.72\n",
      "../results/uds/160729_K00180_0226_AH7WCCBBXX.LS_3_S3_L006_R1_001.miniGMG_darth.b6\t5778595\t2202800\t0.72\n",
      "../results/uds/160729_K00180_0226_AH7WCCBBXX.LS_4_S4_L001_R1_001.miniGMG_darth.b6\t5889454\t2302956\t0.72\n",
      "../results/uds/160729_K00180_0226_AH7WCCBBXX.LS_5_S5_L007_R1_001.miniGMG_darth.b6\t6237248\t2455177\t0.72\n",
      "../results/uds/160729_K00180_0226_AH7WCCBBXX.LS_2_S2_L007_R1_001.miniGMG_darth.b6\t6258632\t2452381\t0.72\n",
      "../results/uds/160729_K00180_0226_AH7WCCBBXX.LS_3_S3_L002_R1_001.miniGMG_darth.b6\t5440391\t2082564\t0.72\n",
      "../results/uds/160729_K00180_0226_AH7WCCBBXX.LS_2_S2_L005_R1_001.miniGMG_darth.b6\t6314959\t2456602\t0.72\n",
      "../results/uds/160729_K00180_0226_AH7WCCBBXX.LS_5_S5_L004_R1_001.miniGMG_darth.b6\t5831508\t2302628\t0.72\n",
      "../results/uds/160729_K00180_0226_AH7WCCBBXX.LS_5_S5_L006_R1_001.miniGMG_darth.b6\t6134412\t2426715\t0.72\n",
      "../results/uds/160729_K00180_0226_AH7WCCBBXX.LS_4_S4_L008_R1_001.miniGMG_darth.b6\t5325080\t2112798\t0.72\n",
      "../results/uds/160729_K00180_0226_AH7WCCBBXX.LS_8_S8_L006_R1_001.miniGMG_darth.b6\t5541933\t2292163\t0.71\n",
      "../results/uds/160729_K00180_0226_AH7WCCBBXX.LS_1_S1_L006_R1_001.miniGMG_darth.b6\t5726356\t2169083\t0.73\n",
      "../results/uds/160729_K00180_0226_AH7WCCBBXX.LS_2_S2_L004_R1_001.miniGMG_darth.b6\t5848176\t2300450\t0.72\n",
      "../results/uds/160729_K00180_0226_AH7WCCBBXX.LS_2_S2_L003_R1_001.miniGMG_darth.b6\t5659332\t2231693\t0.72\n",
      "../results/uds/160729_K00180_0226_AH7WCCBBXX.LS_4_S4_L002_R1_001.miniGMG_darth.b6\t5744462\t2272599\t0.72\n",
      "../results/uds/160729_K00180_0226_AH7WCCBBXX.LS_4_S4_L005_R1_001.miniGMG_darth.b6\t6223031\t2416016\t0.72\n",
      "../results/uds/160729_K00180_0226_AH7WCCBBXX.LS_6_S6_L005_R1_001.miniGMG_darth.b6\t5557030\t2189509\t0.72\n",
      "../results/uds/160729_K00180_0226_AH7WCCBBXX.LS_6_S6_L007_R1_001.miniGMG_darth.b6\t5487612\t2187675\t0.71\n",
      "../results/uds/160729_K00180_0226_AH7WCCBBXX.LS_3_S3_L007_R1_001.miniGMG_darth.b6\t5824574\t2206085\t0.73\n",
      "../results/uds/160729_K00180_0226_AH7WCCBBXX.LS_3_S3_L001_R1_001.miniGMG_darth.b6\t5543811\t2095327\t0.73\n"
     ]
    }
   ],
   "source": [
    "for miniGMG, rep82 in processing_pairs:\n",
    "    output_folder = rep82.replace(\".rep82.b6\", \"\")\n",
    "    hit = 0\n",
    "    missed = 0\n",
    "    basename = os.path.basename(output_folder)\n",
    "    counter = Counter()\n",
    "    if not os.path.exists(output_folder):\n",
    "        os.makedirs(output_folder)\n",
    "        !shogun assign_taxonomy -o {output_folder}/taxatable.{basename}.txt -i {rep82} -d ../data/references/rep82/ -a burst\n",
    "        !shogun functional -i {output_folder}/taxatable.{basename}.txt -l strain -d ../data/references/rep82/ -o {output_folder}\n",
    "        !shogun functional -i {output_folder}/taxatable.{basename}.txt -l species -d ../data/references/rep82/ -o {output_folder}\n",
    "        !shogun functional -i {output_folder}/taxatable.{basename}.txt -l genus -d ../data/references/rep82/ -o {output_folder}\n",
    "    with open(miniGMG) as inf:\n",
    "        with open(output_folder + \"/keggs.perline.txt\", \"w\") as outf:\n",
    "            with open(output_folder + \"/rid.missed.txt\", \"w\") as outf_m:\n",
    "                for line in inf:\n",
    "                    row = line.rstrip().split(\"\\t\")\n",
    "                    kegg_id_found = False\n",
    "                    if \"protein_id\" in row[1]:\n",
    "                        proteins = find_between(row[1], \"[protein_id=\", \"]\").split(\",\")\n",
    "                        proteins = [protein.split(\".\")[0] for protein in proteins]\n",
    "                        for protein in proteins:\n",
    "                            if protein in protein2kos:\n",
    "                                counter.update(protein2kos[protein])\n",
    "                                outf.write(\"%s\\n\" % \" \".join(protein2kos[protein]))\n",
    "                                kegg_id_found = True\n",
    "                                hit += 1\n",
    "                    if kegg_id_found == False:\n",
    "                        refseq_id = find_between(row[1], 'lcl|', ' ')\n",
    "                        refseq_id = refseq_id.split('.')[0]\n",
    "                        if refseq_id in rs2kos:\n",
    "                            counter.update(rs2kos[refseq_id])\n",
    "                            outf.write('%s\\n' % \" \".join(rs2kos[refseq_id]))\n",
    "                            kegg_id_found = True\n",
    "                            hit += 1\n",
    "                        else:\n",
    "                            missed += 1\n",
    "                            outf_m.write(\"%s\\n\" % protein)\n",
    "    print(\"%s\\t%d\\t%d\\t%.2f\" % (miniGMG, hit, missed, float(hit)/(hit+missed)))\n",
    "    with open(output_folder + \"/keggs.output.txt\", \"w\") as outf:\n",
    "        for key, value in counter.items():\n",
    "            outf.write(\"%s\\t%s\\n\" % (key, value))"
   ]
  },
  {
   "cell_type": "code",
   "execution_count": 7,
   "metadata": {
    "collapsed": true
   },
   "outputs": [],
   "source": [
    "# Merge taxatables\n",
    "def fetch_merged_keggtable(level):\n",
    "    kegg_ids = defaultdict(int)\n",
    "    files = glob(\"../results/uds/**/*.{}.kegg.txt\".format(level))\n",
    "    for file in files:\n",
    "        with open(file) as inf:\n",
    "            next(inf)\n",
    "            for line in inf:\n",
    "                row = line.rstrip().split(\"\\t\")\n",
    "                kegg_ids[row[0]] += int(row[1])      \n",
    "    return pd.Series(kegg_ids)"
   ]
  },
  {
   "cell_type": "code",
   "execution_count": 8,
   "metadata": {},
   "outputs": [
    {
     "name": "stdout",
     "output_type": "stream",
     "text": [
      "147469337436\n"
     ]
    },
    {
     "data": {
      "text/plain": [
       "(7283,)"
      ]
     },
     "execution_count": 8,
     "metadata": {},
     "output_type": "execute_result"
    }
   ],
   "source": [
    "df_kegg = fetch_merged_keggtable(\"strain\")\n",
    "print(df_kegg.sum())\n",
    "df_kegg.shape"
   ]
  },
  {
   "cell_type": "code",
   "execution_count": 9,
   "metadata": {
    "collapsed": true
   },
   "outputs": [],
   "source": [
    "# Merge taxatables\n",
    "def fetch_merged_minigmg():\n",
    "    kegg_ids = defaultdict(int)\n",
    "    files = glob(\"../results/uds/**/keggs.output.txt\")\n",
    "    for file in files:\n",
    "        with open(file) as inf:\n",
    "            for line in inf:\n",
    "                row = line.rstrip().split(\"\\t\")\n",
    "                kegg_ids[row[0]] += int(row[1])\n",
    "    return pd.Series(kegg_ids)"
   ]
  },
  {
   "cell_type": "code",
   "execution_count": 10,
   "metadata": {},
   "outputs": [
    {
     "data": {
      "text/plain": [
       "K00001    20855434\n",
       "K00002       87882\n",
       "K00003    14547747\n",
       "K00004         101\n",
       "K00005    30331422\n",
       "K00007       19497\n",
       "K00008      754902\n",
       "K00009      986042\n",
       "K00010        3166\n",
       "K00012     7192862\n",
       "K00013      845921\n",
       "K00014      830344\n",
       "K00016      272519\n",
       "K00018        4094\n",
       "K00020         424\n",
       "K00021       17863\n",
       "K00023           3\n",
       "K00024      194824\n",
       "K00027      255586\n",
       "K00028         162\n",
       "K00029      103977\n",
       "K00030          59\n",
       "K00031       68682\n",
       "K00033       10708\n",
       "K00034         368\n",
       "K00036     1798771\n",
       "K00040       75613\n",
       "K00041     3016926\n",
       "K00042       60796\n",
       "K00045          46\n",
       "            ...   \n",
       "K20491       15368\n",
       "K20492       21562\n",
       "K20527          10\n",
       "K20528           9\n",
       "K20530          16\n",
       "K20532           8\n",
       "K20533          17\n",
       "K20534        2611\n",
       "K20541      110619\n",
       "K20542       37103\n",
       "K20543      181404\n",
       "K20609       65922\n",
       "K20708          45\n",
       "K20742          37\n",
       "K20814        2874\n",
       "K20830         522\n",
       "K20859          68\n",
       "K20861       20976\n",
       "K20862       28064\n",
       "K20866       29238\n",
       "K20881       32901\n",
       "K20885        1893\n",
       "K20903         702\n",
       "K20904         492\n",
       "K21011        2121\n",
       "K21012        1617\n",
       "K21021       41337\n",
       "K21028       43001\n",
       "K21029       16171\n",
       "K21030        6680\n",
       "Length: 4630, dtype: int64"
      ]
     },
     "execution_count": 10,
     "metadata": {},
     "output_type": "execute_result"
    }
   ],
   "source": [
    "df_minigmg = fetch_merged_minigmg()\n",
    "df_minigmg"
   ]
  },
  {
   "cell_type": "code",
   "execution_count": 11,
   "metadata": {
    "collapsed": true
   },
   "outputs": [],
   "source": [
    "mini_set = set(df_minigmg.index)\n",
    "kegg_set = set(df_kegg.index)"
   ]
  },
  {
   "cell_type": "code",
   "execution_count": 12,
   "metadata": {},
   "outputs": [
    {
     "name": "stdout",
     "output_type": "stream",
     "text": [
      "4619\n"
     ]
    }
   ],
   "source": [
    "print(len(mini_set.intersection(kegg_set)))"
   ]
  },
  {
   "cell_type": "code",
   "execution_count": 14,
   "metadata": {},
   "outputs": [
    {
     "name": "stdout",
     "output_type": "stream",
     "text": [
      "4630\n"
     ]
    }
   ],
   "source": [
    "print(len(mini_set))"
   ]
  },
  {
   "cell_type": "code",
   "execution_count": 15,
   "metadata": {},
   "outputs": [
    {
     "name": "stdout",
     "output_type": "stream",
     "text": [
      "7283\n"
     ]
    }
   ],
   "source": [
    "print(len(kegg_set))"
   ]
  },
  {
   "cell_type": "code",
   "execution_count": 91,
   "metadata": {
    "collapsed": true
   },
   "outputs": [],
   "source": [
    "# Merge taxatables\n",
    "def fetched_hitrates(fulldepth_series):\n",
    "    fulldepth_set = set(fulldepth_series.index)\n",
    "    kegg_dict = defaultdict(int)\n",
    "    files = glob(\"../results/uds/**/keggs.perline.txt\")\n",
    "    i = 0\n",
    "    for file in files:\n",
    "        with open(file) as inf:\n",
    "            for line in inf:\n",
    "                line = line.rstrip()\n",
    "                if not line == \"\":\n",
    "                    i += 1\n",
    "                    kegg_dict[line] += 1\n",
    "                    if i % 1000 == 1:\n",
    "                        series = pd.Series(kegg_dict)\n",
    "                        kegg_set = set(kegg_dict.keys())\n",
    "                        yield i, series.corr(fulldepth_series, method='spearman'), len(fulldepth_set.intersection(kegg_set))/float(len(fulldepth_set.union(kegg_set))), series.corr(fulldepth_series, method='pearson')"
   ]
  },
  {
   "cell_type": "code",
   "execution_count": 92,
   "metadata": {},
   "outputs": [],
   "source": [
    "df_kegg_small = df_kegg[[_ in mini_set for _ in df_kegg.index]]"
   ]
  },
  {
   "cell_type": "code",
   "execution_count": 93,
   "metadata": {},
   "outputs": [
    {
     "name": "stderr",
     "output_type": "stream",
     "text": [
      "/export/scratch/miniconda3/envs/analysis_SHOGUN/lib/python3.5/site-packages/numpy/lib/function_base.py:2487: RuntimeWarning: Degrees of freedom <= 0 for slice\n",
      "  warnings.warn(\"Degrees of freedom <= 0 for slice\", RuntimeWarning)\n",
      "/export/scratch/miniconda3/envs/analysis_SHOGUN/lib/python3.5/site-packages/numpy/lib/function_base.py:2496: RuntimeWarning: divide by zero encountered in double_scalars\n",
      "  c *= 1. / np.float64(fact)\n"
     ]
    },
    {
     "data": {
      "text/html": [
       "<div>\n",
       "<style>\n",
       "    .dataframe thead tr:only-child th {\n",
       "        text-align: right;\n",
       "    }\n",
       "\n",
       "    .dataframe thead th {\n",
       "        text-align: left;\n",
       "    }\n",
       "\n",
       "    .dataframe tbody tr th {\n",
       "        vertical-align: top;\n",
       "    }\n",
       "</style>\n",
       "<table border=\"1\" class=\"dataframe\">\n",
       "  <thead>\n",
       "    <tr style=\"text-align: right;\">\n",
       "      <th></th>\n",
       "      <th>depth</th>\n",
       "      <th>spearman</th>\n",
       "      <th>jaccard</th>\n",
       "      <th>pearson</th>\n",
       "    </tr>\n",
       "  </thead>\n",
       "  <tbody>\n",
       "    <tr>\n",
       "      <th>0</th>\n",
       "      <td>1</td>\n",
       "      <td>NaN</td>\n",
       "      <td>0.000216</td>\n",
       "      <td>NaN</td>\n",
       "    </tr>\n",
       "    <tr>\n",
       "      <th>1</th>\n",
       "      <td>1001</td>\n",
       "      <td>-0.045992</td>\n",
       "      <td>0.072960</td>\n",
       "      <td>-0.043131</td>\n",
       "    </tr>\n",
       "    <tr>\n",
       "      <th>2</th>\n",
       "      <td>2001</td>\n",
       "      <td>0.069930</td>\n",
       "      <td>0.141806</td>\n",
       "      <td>-0.015878</td>\n",
       "    </tr>\n",
       "    <tr>\n",
       "      <th>3</th>\n",
       "      <td>3001</td>\n",
       "      <td>0.086901</td>\n",
       "      <td>0.198961</td>\n",
       "      <td>-0.007556</td>\n",
       "    </tr>\n",
       "    <tr>\n",
       "      <th>4</th>\n",
       "      <td>4001</td>\n",
       "      <td>0.121641</td>\n",
       "      <td>0.247456</td>\n",
       "      <td>-0.001400</td>\n",
       "    </tr>\n",
       "  </tbody>\n",
       "</table>\n",
       "</div>"
      ],
      "text/plain": [
       "   depth  spearman   jaccard   pearson\n",
       "0      1       NaN  0.000216       NaN\n",
       "1   1001 -0.045992  0.072960 -0.043131\n",
       "2   2001  0.069930  0.141806 -0.015878\n",
       "3   3001  0.086901  0.198961 -0.007556\n",
       "4   4001  0.121641  0.247456 -0.001400"
      ]
     },
     "execution_count": 93,
     "metadata": {},
     "output_type": "execute_result"
    }
   ],
   "source": [
    "df_running = pd.DataFrame(fetched_hitrates(df_kegg_small), columns=[\"depth\", \"spearman\", \"jaccard\", \"pearson\"])\n",
    "df_running.head()"
   ]
  },
  {
   "cell_type": "code",
   "execution_count": 94,
   "metadata": {
    "collapsed": true
   },
   "outputs": [],
   "source": [
    " df_running = df_running.fillna(0)"
   ]
  },
  {
   "cell_type": "code",
   "execution_count": 95,
   "metadata": {},
   "outputs": [
    {
     "data": {
      "image/png": "[encoded data removed]",
      "text/plain": [
       "<matplotlib.figure.Figure at 0x7f84f99dd1d0>"
      ]
     },
     "metadata": {},
     "output_type": "display_data"
    }
   ],
   "source": [
    "# We are interested in the speed up and efficiency of each of the aligners\n",
    "# y-axis: jaccard\n",
    "# x-axis: sequencing depth\n",
    "x = np.array([i*1001 for i in range(len(jaccards))])\n",
    "\n",
    "fig, ax = plt.subplots()\n",
    "plt.plot(df_running['depth'], df_running['jaccard'])\n",
    "\n",
    "plt.title(\"Directly Observed Genes to Predicted\")\n",
    "plt.ylabel(\"Jaccard Similarity\")\n",
    "plt.xlabel(\"Sequencing Depth\")\n",
    "save_plot(fig, 'jaccard')"
   ]
  },
  {
   "cell_type": "code",
   "execution_count": 96,
   "metadata": {},
   "outputs": [
    {
     "data": {
      "image/png": "[encoded data removed]",
      "text/plain": [
       "<matplotlib.figure.Figure at 0x7f84f8c969b0>"
      ]
     },
     "metadata": {},
     "output_type": "display_data"
    }
   ],
   "source": [
    "# We are interested in the speed up and efficiency of each of the aligners\n",
    "# y-axis: jaccard\n",
    "# x-axis: sequencing depth\n",
    "\n",
    "fig, ax = plt.subplots()\n",
    "plt.plot(df_running['depth'], df_running['spearman'])\n",
    "\n",
    "plt.title(\"Directly Observed Genes to Predicted\")\n",
    "plt.ylabel(\"Spearman Correlation\")\n",
    "plt.xlabel(\"Sequencing Depth\")\n",
    "save_plot(fig, 'spearman')"
   ]
  },
  {
   "cell_type": "code",
   "execution_count": 97,
   "metadata": {},
   "outputs": [
    {
     "data": {
      "image/png": "[encoded data removed]",
      "text/plain": [
       "<matplotlib.figure.Figure at 0x7f84fa39b390>"
      ]
     },
     "metadata": {},
     "output_type": "display_data"
    }
   ],
   "source": [
    "# We are interested in the speed up and efficiency of each of the aligners\n",
    "# y-axis: jaccard\n",
    "# x-axis: sequencing depth\n",
    "\n",
    "fig, ax = plt.subplots()\n",
    "plt.plot(df_running['depth'], df_running['pearson'])\n",
    "\n",
    "plt.title(\"Directly Observed Genes to Predicted\")\n",
    "plt.ylabel(\"Pearson Correlation\")\n",
    "plt.xlabel(\"Sequencing Depth\")\n",
    "save_plot(fig, 'pearson')"
   ]
  },
  {
   "cell_type": "code",
   "execution_count": 61,
   "metadata": {},
   "outputs": [
    {
     "data": {
      "text/plain": [
       "0.72970319250916571"
      ]
     },
     "execution_count": 61,
     "metadata": {},
     "output_type": "execute_result"
    }
   ],
   "source": [
    "df_kegg.corr(df_minigmg, method=\"spearman\")"
   ]
  },
  {
   "cell_type": "code",
   "execution_count": 63,
   "metadata": {},
   "outputs": [
    {
     "data": {
      "text/plain": [
       "Index(['K00001', 'K00002', 'K00003', 'K00004', 'K00005', 'K00007', 'K00008',\n",
       "       'K00009', 'K00010', 'K00012',\n",
       "       ...\n",
       "       'K21019', 'K21020', 'K21021', 'K21022', 'K21023', 'K21024', 'K21025',\n",
       "       'K21028', 'K21029', 'K21030'],\n",
       "      dtype='object', length=7283)"
      ]
     },
     "execution_count": 63,
     "metadata": {},
     "output_type": "execute_result"
    }
   ],
   "source": [
    "df_kegg.index"
   ]
  }
 ],
 "metadata": {
  "kernelspec": {
   "display_name": "Python 3",
   "language": "python",
   "name": "python3"
  },
  "language_info": {
   "codemirror_mode": {
    "name": "ipython",
    "version": 3
   },
   "file_extension": ".py",
   "mimetype": "text/x-python",
   "name": "python",
   "nbconvert_exporter": "python",
   "pygments_lexer": "ipython3",
   "version": "3.5.3"
  }
 },
 "nbformat": 4,
 "nbformat_minor": 2
}
