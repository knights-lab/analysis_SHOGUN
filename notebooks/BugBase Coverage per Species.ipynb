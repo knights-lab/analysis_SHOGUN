{
 "cells": [
  {
   "cell_type": "code",
   "execution_count": 1,
   "metadata": {},
   "outputs": [
    {
     "name": "stderr",
     "output_type": "stream",
     "text": [
      "/export/scratch/miniconda3/envs/analysis_SHOGUN/lib/python3.5/site-packages/matplotlib/__init__.py:841: UserWarning: Found matplotlib configuration in ~/.matplotlib/. To conform with the XDG base directory standard, this configuration location has been deprecated on Linux, and the new location is now /home/grad00/hillm096/.config/matplotlib/. Please move your configuration there to ensure that matplotlib will continue to find it in the future.\n",
      "  _get_xdg_config_dir())\n"
     ]
    }
   ],
   "source": [
    "import pandas as pd"
   ]
  },
  {
   "cell_type": "code",
   "execution_count": 8,
   "metadata": {},
   "outputs": [],
   "source": [
    "tax_map = \"../data/shogun/database/miniGWG_darth_15.tax\"\n",
    "\n",
    "import csv\n",
    "\n",
    "taxonomy = set()\n",
    "with open(tax_map) as inf:\n",
    "    csv_inf = csv.reader(inf, delimiter=\"\\t\")\n",
    "    for row in csv_inf:\n",
    "        taxa_ = row[1]\n",
    "        taxonomy.add(';'.join(taxa_.split(';')[:-1]))"
   ]
  },
  {
   "cell_type": "code",
   "execution_count": 18,
   "metadata": {},
   "outputs": [],
   "source": [
    "import numpy as np\n",
    "taxonomy = list(taxonomy)\n",
    "num_tax = len(taxonomy)\n",
    "mat = np.zeros((num_tax, num_tax), int)"
   ]
  },
  {
   "cell_type": "code",
   "execution_count": 19,
   "metadata": {},
   "outputs": [],
   "source": [
    "# Fill the diagonl with 1 and create a dataframe\n",
    "np.fill_diagonal(mat, 1)\n",
    "df = pd.DataFrame(mat, columns=taxonomy, index=taxonomy)"
   ]
  },
  {
   "cell_type": "code",
   "execution_count": 21,
   "metadata": {},
   "outputs": [],
   "source": [
    "# Save the df\n",
    "outfile = \"../data/shogun/database/miniGWG_darth.bugbase.sampleperbug.txt\"\n",
    "df.to_csv(outfile, sep='\\t', float_format=\"%d\", na_rep=0, index_label=\"#OTU ID\")"
   ]
  },
  {
   "cell_type": "code",
   "execution_count": 22,
   "metadata": {},
   "outputs": [
    {
     "name": "stdout",
     "output_type": "stream",
     "text": [
      "/export/scratch/miniconda3/envs/analysis_SHOGUN/lib/python3.5/site-packages/matplotlib/__init__.py:841: UserWarning: Found matplotlib configuration in ~/.matplotlib/. To conform with the XDG base directory standard, this configuration location has been deprecated on Linux, and the new location is now /home/grad00/hillm096/.config/matplotlib/. Please move your configuration there to ensure that matplotlib will continue to find it in the future.\r\n",
      "  _get_xdg_config_dir())\r\n"
     ]
    }
   ],
   "source": [
    "# Run SHOGUN from the command line\n",
    "!shogun function -i \"../data/shogun/database/miniGWG_darth.bugbase.sampleperbug.txt\" -d \"../data/shogun/database\" -o \"../results/bugbase\" -l \"species\""
   ]
  }
 ],
 "metadata": {
  "kernelspec": {
   "display_name": "Python 3",
   "language": "python",
   "name": "python3"
  },
  "language_info": {
   "codemirror_mode": {
    "name": "ipython",
    "version": 3
   },
   "file_extension": ".py",
   "mimetype": "text/x-python",
   "name": "python",
   "nbconvert_exporter": "python",
   "pygments_lexer": "ipython3",
   "version": "3.5.3"
  }
 },
 "nbformat": 4,
 "nbformat_minor": 2
}
