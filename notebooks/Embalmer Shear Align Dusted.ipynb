{
 "cells": [
  {
   "cell_type": "code",
   "execution_count": null,
   "metadata": {},
   "outputs": [],
   "source": [
    "%%capture capt\n",
    "%time !emb15 --queries ../data/references/rep82_dusted/rep82_dusted.shear.fna --references ../data/references/rep82_dusted/rep82_dusted.edx --accelerator ../data/references/rep82_dusted/rep82_dusted.acx --output ../data/references/rep82_dusted/shear_results.b6 --id .98 --npenalize --skipambig --taxa_ncbi --taxonomy ../data/references/rep82_dusted/rep82_dusted.tax "
   ]
  },
  {
   "cell_type": "code",
   "execution_count": null,
   "metadata": {},
   "outputs": [],
   "source": [
    "print(capt)"
   ]
  }
 ],
 "metadata": {
  "kernelspec": {
   "display_name": "Python 3",
   "language": "python",
   "name": "python3"
  },
  "language_info": {
   "codemirror_mode": {
    "name": "ipython",
    "version": 3
   },
   "file_extension": ".py",
   "mimetype": "text/x-python",
   "name": "python",
   "nbconvert_exporter": "python",
   "pygments_lexer": "ipython3",
   "version": "3.5.3"
  }
 },
 "nbformat": 4,
 "nbformat_minor": 2
}
