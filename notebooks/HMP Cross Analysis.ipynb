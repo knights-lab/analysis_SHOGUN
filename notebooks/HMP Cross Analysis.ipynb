{
 "cells": [
  {
   "cell_type": "code",
   "execution_count": 1,
   "metadata": {
    "collapsed": true
   },
   "outputs": [],
   "source": [
    "import pandas as pd\n",
    "import numpy as np\n",
    "\n",
    "# Scrape file sizes\n",
    "# https://superuser.com/questions/423499/wget-only-getting-listing-file-in-every-sub-dir"
   ]
  },
  {
   "cell_type": "code",
   "execution_count": 2,
   "metadata": {
    "collapsed": true
   },
   "outputs": [],
   "source": [
    "v35_df = pd.read_csv(\"../data/hmp/ppAll_V35_map.txt\", sep=\"\\t\", index_col=False)\n",
    "\n",
    "hmasm_df = pd.read_csv(\"../data/hmp/HMASM-690.csv\")"
   ]
  },
  {
   "cell_type": "code",
   "execution_count": 3,
   "metadata": {},
   "outputs": [
    {
     "data": {
      "text/html": [
       "<div>\n",
       "<style>\n",
       "    .dataframe thead tr:only-child th {\n",
       "        text-align: right;\n",
       "    }\n",
       "\n",
       "    .dataframe thead th {\n",
       "        text-align: left;\n",
       "    }\n",
       "\n",
       "    .dataframe tbody tr th {\n",
       "        vertical-align: top;\n",
       "    }\n",
       "</style>\n",
       "<table border=\"1\" class=\"dataframe\">\n",
       "  <thead>\n",
       "    <tr style=\"text-align: right;\">\n",
       "      <th></th>\n",
       "      <th>SRS ID</th>\n",
       "      <th>Body Site</th>\n",
       "    </tr>\n",
       "  </thead>\n",
       "  <tbody>\n",
       "    <tr>\n",
       "      <th>0</th>\n",
       "      <td>SRS011061</td>\n",
       "      <td>stool</td>\n",
       "    </tr>\n",
       "    <tr>\n",
       "      <th>1</th>\n",
       "      <td>SRS011090</td>\n",
       "      <td>buccal_mucosa</td>\n",
       "    </tr>\n",
       "    <tr>\n",
       "      <th>2</th>\n",
       "      <td>SRS011098</td>\n",
       "      <td>supragingival_plaque</td>\n",
       "    </tr>\n",
       "    <tr>\n",
       "      <th>3</th>\n",
       "      <td>SRS011126</td>\n",
       "      <td>supragingival_plaque</td>\n",
       "    </tr>\n",
       "    <tr>\n",
       "      <th>4</th>\n",
       "      <td>SRS011132</td>\n",
       "      <td>anterior_nares</td>\n",
       "    </tr>\n",
       "  </tbody>\n",
       "</table>\n",
       "</div>"
      ],
      "text/plain": [
       "      SRS ID             Body Site\n",
       "0  SRS011061                 stool\n",
       "1  SRS011090         buccal_mucosa\n",
       "2  SRS011098  supragingival_plaque\n",
       "3  SRS011126  supragingival_plaque\n",
       "4  SRS011132        anterior_nares"
      ]
     },
     "execution_count": 3,
     "metadata": {},
     "output_type": "execute_result"
    }
   ],
   "source": [
    "hmasm_df.head()"
   ]
  },
  {
   "cell_type": "code",
   "execution_count": 4,
   "metadata": {},
   "outputs": [
    {
     "data": {
      "text/html": [
       "<div>\n",
       "<style>\n",
       "    .dataframe thead tr:only-child th {\n",
       "        text-align: right;\n",
       "    }\n",
       "\n",
       "    .dataframe thead th {\n",
       "        text-align: left;\n",
       "    }\n",
       "\n",
       "    .dataframe tbody tr th {\n",
       "        vertical-align: top;\n",
       "    }\n",
       "</style>\n",
       "<table border=\"1\" class=\"dataframe\">\n",
       "  <thead>\n",
       "    <tr style=\"text-align: right;\">\n",
       "      <th></th>\n",
       "      <th>SampleID</th>\n",
       "      <th>RSID</th>\n",
       "      <th>PSN</th>\n",
       "      <th>SN</th>\n",
       "      <th>NAP</th>\n",
       "      <th>ExperimentAccession</th>\n",
       "      <th>RunID</th>\n",
       "      <th>SRS_SampleID</th>\n",
       "      <th>Region</th>\n",
       "      <th>BarcodeSequence</th>\n",
       "      <th>LinkerPrimerSequence</th>\n",
       "      <th>Sex</th>\n",
       "      <th>HMPBodySubsiteHMPBodySite</th>\n",
       "      <th>VisitNo</th>\n",
       "    </tr>\n",
       "  </thead>\n",
       "  <tbody>\n",
       "    <tr>\n",
       "      <th>0</th>\n",
       "      <td>SRS012191.SRX020679.V35</td>\n",
       "      <td>158013734.0</td>\n",
       "      <td>700013549.0</td>\n",
       "      <td>NaN</td>\n",
       "      <td>700013596.0</td>\n",
       "      <td>SRX020679</td>\n",
       "      <td>SRR048044</td>\n",
       "      <td>SRS012191</td>\n",
       "      <td>V35</td>\n",
       "      <td>TCAGCGCAAC</td>\n",
       "      <td>CCGTCAATTCMTTTRAGT</td>\n",
       "      <td>female</td>\n",
       "      <td>Stool</td>\n",
       "      <td>Gastrointestinal_tract</td>\n",
       "    </tr>\n",
       "    <tr>\n",
       "      <th>1</th>\n",
       "      <td>SRS011157.SRX020666.V35</td>\n",
       "      <td>158822939.0</td>\n",
       "      <td>700014954.0</td>\n",
       "      <td>NaN</td>\n",
       "      <td>700014956.0</td>\n",
       "      <td>SRX020666</td>\n",
       "      <td>SRR044955</td>\n",
       "      <td>SRS011157</td>\n",
       "      <td>V35</td>\n",
       "      <td>TCAGTCACAC</td>\n",
       "      <td>CCGTCAATTCMTTTRAGT</td>\n",
       "      <td>male</td>\n",
       "      <td>Stool</td>\n",
       "      <td>Gastrointestinal_tract</td>\n",
       "    </tr>\n",
       "    <tr>\n",
       "      <th>2</th>\n",
       "      <td>SRS011157.SRX020669.V35</td>\n",
       "      <td>158822939.0</td>\n",
       "      <td>700014954.0</td>\n",
       "      <td>NaN</td>\n",
       "      <td>700014956.0</td>\n",
       "      <td>SRX020669</td>\n",
       "      <td>SRR045333</td>\n",
       "      <td>SRS011157</td>\n",
       "      <td>V35</td>\n",
       "      <td>TCAGTCACAC</td>\n",
       "      <td>CCGTCAATTCMTTTRAGT</td>\n",
       "      <td>male</td>\n",
       "      <td>Stool</td>\n",
       "      <td>Gastrointestinal_tract</td>\n",
       "    </tr>\n",
       "    <tr>\n",
       "      <th>3</th>\n",
       "      <td>SRS011159.SRX020660.V35</td>\n",
       "      <td>158822939.0</td>\n",
       "      <td>700014965.0</td>\n",
       "      <td>NaN</td>\n",
       "      <td>700014968.0</td>\n",
       "      <td>SRX020660</td>\n",
       "      <td>SRR044847</td>\n",
       "      <td>SRS011159</td>\n",
       "      <td>V35</td>\n",
       "      <td>TCAGCGACTC</td>\n",
       "      <td>CCGTCAATTCMTTTRAGT</td>\n",
       "      <td>male</td>\n",
       "      <td>Saliva</td>\n",
       "      <td>Oral</td>\n",
       "    </tr>\n",
       "    <tr>\n",
       "      <th>4</th>\n",
       "      <td>SRS011159.SRX020668.V35</td>\n",
       "      <td>158822939.0</td>\n",
       "      <td>700014965.0</td>\n",
       "      <td>NaN</td>\n",
       "      <td>700014968.0</td>\n",
       "      <td>SRX020668</td>\n",
       "      <td>SRR045072</td>\n",
       "      <td>SRS011159</td>\n",
       "      <td>V35</td>\n",
       "      <td>TCAGCGACTC</td>\n",
       "      <td>CCGTCAATTCMTTTRAGT</td>\n",
       "      <td>male</td>\n",
       "      <td>Saliva</td>\n",
       "      <td>Oral</td>\n",
       "    </tr>\n",
       "  </tbody>\n",
       "</table>\n",
       "</div>"
      ],
      "text/plain": [
       "                  SampleID         RSID          PSN  SN          NAP  \\\n",
       "0  SRS012191.SRX020679.V35  158013734.0  700013549.0 NaN  700013596.0   \n",
       "1  SRS011157.SRX020666.V35  158822939.0  700014954.0 NaN  700014956.0   \n",
       "2  SRS011157.SRX020669.V35  158822939.0  700014954.0 NaN  700014956.0   \n",
       "3  SRS011159.SRX020660.V35  158822939.0  700014965.0 NaN  700014968.0   \n",
       "4  SRS011159.SRX020668.V35  158822939.0  700014965.0 NaN  700014968.0   \n",
       "\n",
       "  ExperimentAccession      RunID SRS_SampleID Region BarcodeSequence  \\\n",
       "0           SRX020679  SRR048044    SRS012191    V35      TCAGCGCAAC   \n",
       "1           SRX020666  SRR044955    SRS011157    V35      TCAGTCACAC   \n",
       "2           SRX020669  SRR045333    SRS011157    V35      TCAGTCACAC   \n",
       "3           SRX020660  SRR044847    SRS011159    V35      TCAGCGACTC   \n",
       "4           SRX020668  SRR045072    SRS011159    V35      TCAGCGACTC   \n",
       "\n",
       "  LinkerPrimerSequence     Sex HMPBodySubsiteHMPBodySite  \\\n",
       "0   CCGTCAATTCMTTTRAGT  female                     Stool   \n",
       "1   CCGTCAATTCMTTTRAGT    male                     Stool   \n",
       "2   CCGTCAATTCMTTTRAGT    male                     Stool   \n",
       "3   CCGTCAATTCMTTTRAGT    male                    Saliva   \n",
       "4   CCGTCAATTCMTTTRAGT    male                    Saliva   \n",
       "\n",
       "                  VisitNo  \n",
       "0  Gastrointestinal_tract  \n",
       "1  Gastrointestinal_tract  \n",
       "2  Gastrointestinal_tract  \n",
       "3                    Oral  \n",
       "4                    Oral  "
      ]
     },
     "execution_count": 4,
     "metadata": {},
     "output_type": "execute_result"
    }
   ],
   "source": [
    "v35_df.head()"
   ]
  },
  {
   "cell_type": "code",
   "execution_count": 5,
   "metadata": {
    "collapsed": true
   },
   "outputs": [],
   "source": [
    "hmasm_set = set(hmasm_df[\"SRS ID\"])"
   ]
  },
  {
   "cell_type": "code",
   "execution_count": 6,
   "metadata": {
    "collapsed": true
   },
   "outputs": [],
   "source": [
    "v35_df_filtered = v35_df.loc[v35_df['SRS_SampleID'].isin(hmasm_set)]"
   ]
  },
  {
   "cell_type": "code",
   "execution_count": 7,
   "metadata": {},
   "outputs": [
    {
     "data": {
      "text/plain": [
       "(288, 14)"
      ]
     },
     "execution_count": 7,
     "metadata": {},
     "output_type": "execute_result"
    }
   ],
   "source": [
    "v35_df_filtered.shape"
   ]
  },
  {
   "cell_type": "code",
   "execution_count": 8,
   "metadata": {
    "collapsed": true
   },
   "outputs": [],
   "source": [
    "v35_df_filtered = v35_df_filtered[np.isfinite(v35_df_filtered['PSN'])]\n",
    "# v35_df_filtered = v35_df_filtered[np.isfinite(v35_df_filtered['SN'])]"
   ]
  },
  {
   "cell_type": "code",
   "execution_count": 9,
   "metadata": {},
   "outputs": [
    {
     "data": {
      "text/plain": [
       "(269, 14)"
      ]
     },
     "execution_count": 9,
     "metadata": {},
     "output_type": "execute_result"
    }
   ],
   "source": [
    "v35_df_filtered.shape"
   ]
  },
  {
   "cell_type": "code",
   "execution_count": 10,
   "metadata": {
    "collapsed": true
   },
   "outputs": [],
   "source": [
    "v35_df_filtered_psn = v35_df.loc[v35_df['PSN'].isin(v35_df_filtered['PSN'])]"
   ]
  },
  {
   "cell_type": "code",
   "execution_count": 11,
   "metadata": {},
   "outputs": [
    {
     "data": {
      "text/plain": [
       "(269, 14)"
      ]
     },
     "execution_count": 11,
     "metadata": {},
     "output_type": "execute_result"
    }
   ],
   "source": [
    "v35_df_filtered_psn.shape"
   ]
  },
  {
   "cell_type": "code",
   "execution_count": 12,
   "metadata": {
    "collapsed": true
   },
   "outputs": [],
   "source": [
    "inf = \"../data/hmp/results.txt\"\n",
    "with open(inf) as reader:\n",
    "    #File sizes express in bytes\n",
    "    lines = [(\"ftp://\" + line.split(\"\\t\")[-1][2:].rstrip(), int(line.split(\"\\t\")[1])/1073741824) for line in reader]"
   ]
  },
  {
   "cell_type": "code",
   "execution_count": 13,
   "metadata": {
    "collapsed": true
   },
   "outputs": [],
   "source": [
    "rows = []\n",
    "for line, size in lines:\n",
    "    srs = line.split(\"/\")[-1].split(\".\")[0]\n",
    "    group = line.split(\"/\")[-2]\n",
    "    rows.append([line, srs, group, size, srs in hmasm_set])\n",
    "files_tidy = pd.DataFrame(rows, columns=[\"ftp\", \"srs\", \"group\", \"file_size_gb\", \"passed_qc\"])\n",
    "files_tidy.to_csv(\"../data/hmp/hmp_shotgun_files.txt\", sep=\"\\t\")"
   ]
  },
  {
   "cell_type": "code",
   "execution_count": 14,
   "metadata": {
    "collapsed": true
   },
   "outputs": [],
   "source": [
    "files_summarized = files_tidy[files_tidy['passed_qc']].groupby(\"group\").apply(lambda x: x.sample(30, replace=x.shape[0] <= 30))"
   ]
  },
  {
   "cell_type": "code",
   "execution_count": 32,
   "metadata": {},
   "outputs": [],
   "source": [
    "filtered_files = files_tidy[files_tidy['srs'].isin(set(files_summarized['srs']))]\n",
    "#groups_to_include = ['stool', 'subgingival_plaque', 'supragingival_plaque', 'left_retroauricular_crease', 'right_retroauricular_crease', 'tongue_dorsum']\n",
    "# groups_to_include = ['left_retroauricular_crease', 'tongue_dorsum']\n",
    "# filtered_files = filtered_files[filtered_files['group'].isin(groups_to_include)]"
   ]
  },
  {
   "cell_type": "code",
   "execution_count": 33,
   "metadata": {
    "collapsed": true
   },
   "outputs": [],
   "source": [
    "filtered_files['ftp'].head()\n",
    "filtered_files['ftp'].to_csv('../data/hmp/ftpfilepaths_2', index=False)"
   ]
  },
  {
   "cell_type": "code",
   "execution_count": 28,
   "metadata": {
    "collapsed": true
   },
   "outputs": [],
   "source": [
    "#!cat ftpfilepaths | xargs -n 1 -P 16 wget -q --retry-connrefused --waitretry=1 --read-timeout=20 --timeout=15 -t 20; printf '%s\\0' **/*.bz2 | xargs -r0 -n 1 -P 16 tar xf"
   ]
  },
  {
   "cell_type": "code",
   "execution_count": 36,
   "metadata": {},
   "outputs": [
    {
     "data": {
      "text/html": [
       "<div>\n",
       "<style>\n",
       "    .dataframe thead tr:only-child th {\n",
       "        text-align: right;\n",
       "    }\n",
       "\n",
       "    .dataframe thead th {\n",
       "        text-align: left;\n",
       "    }\n",
       "\n",
       "    .dataframe tbody tr th {\n",
       "        vertical-align: top;\n",
       "    }\n",
       "</style>\n",
       "<table border=\"1\" class=\"dataframe\">\n",
       "  <thead>\n",
       "    <tr style=\"text-align: right;\">\n",
       "      <th></th>\n",
       "      <th>file_size_gb</th>\n",
       "      <th>passed_qc</th>\n",
       "    </tr>\n",
       "    <tr>\n",
       "      <th>group</th>\n",
       "      <th></th>\n",
       "      <th></th>\n",
       "    </tr>\n",
       "  </thead>\n",
       "  <tbody>\n",
       "    <tr>\n",
       "      <th>anterior_nares</th>\n",
       "      <td>2.374736</td>\n",
       "      <td>30.0</td>\n",
       "    </tr>\n",
       "    <tr>\n",
       "      <th>attached_keratinized_gingiva</th>\n",
       "      <td>21.790731</td>\n",
       "      <td>6.0</td>\n",
       "    </tr>\n",
       "    <tr>\n",
       "      <th>buccal_mucosa</th>\n",
       "      <td>20.771632</td>\n",
       "      <td>30.0</td>\n",
       "    </tr>\n",
       "    <tr>\n",
       "      <th>left_retroauricular_crease</th>\n",
       "      <td>13.520481</td>\n",
       "      <td>9.0</td>\n",
       "    </tr>\n",
       "    <tr>\n",
       "      <th>mid_vagina</th>\n",
       "      <td>0.111247</td>\n",
       "      <td>2.0</td>\n",
       "    </tr>\n",
       "    <tr>\n",
       "      <th>palatine_tonsils</th>\n",
       "      <td>8.601941</td>\n",
       "      <td>6.0</td>\n",
       "    </tr>\n",
       "    <tr>\n",
       "      <th>posterior_fornix</th>\n",
       "      <td>4.202533</td>\n",
       "      <td>30.0</td>\n",
       "    </tr>\n",
       "    <tr>\n",
       "      <th>right_retroauricular_crease</th>\n",
       "      <td>23.297344</td>\n",
       "      <td>15.0</td>\n",
       "    </tr>\n",
       "    <tr>\n",
       "      <th>saliva</th>\n",
       "      <td>1.608737</td>\n",
       "      <td>3.0</td>\n",
       "    </tr>\n",
       "    <tr>\n",
       "      <th>stool</th>\n",
       "      <td>189.343498</td>\n",
       "      <td>30.0</td>\n",
       "    </tr>\n",
       "    <tr>\n",
       "      <th>subgingival_plaque</th>\n",
       "      <td>9.511325</td>\n",
       "      <td>7.0</td>\n",
       "    </tr>\n",
       "    <tr>\n",
       "      <th>supragingival_plaque</th>\n",
       "      <td>99.006217</td>\n",
       "      <td>30.0</td>\n",
       "    </tr>\n",
       "    <tr>\n",
       "      <th>throat</th>\n",
       "      <td>8.426970</td>\n",
       "      <td>7.0</td>\n",
       "    </tr>\n",
       "    <tr>\n",
       "      <th>tongue_dorsum</th>\n",
       "      <td>154.930194</td>\n",
       "      <td>30.0</td>\n",
       "    </tr>\n",
       "    <tr>\n",
       "      <th>vaginal_introitus</th>\n",
       "      <td>0.344422</td>\n",
       "      <td>3.0</td>\n",
       "    </tr>\n",
       "  </tbody>\n",
       "</table>\n",
       "</div>"
      ],
      "text/plain": [
       "                              file_size_gb  passed_qc\n",
       "group                                                \n",
       "anterior_nares                    2.374736       30.0\n",
       "attached_keratinized_gingiva     21.790731        6.0\n",
       "buccal_mucosa                    20.771632       30.0\n",
       "left_retroauricular_crease       13.520481        9.0\n",
       "mid_vagina                        0.111247        2.0\n",
       "palatine_tonsils                  8.601941        6.0\n",
       "posterior_fornix                  4.202533       30.0\n",
       "right_retroauricular_crease      23.297344       15.0\n",
       "saliva                            1.608737        3.0\n",
       "stool                           189.343498       30.0\n",
       "subgingival_plaque                9.511325        7.0\n",
       "supragingival_plaque             99.006217       30.0\n",
       "throat                            8.426970        7.0\n",
       "tongue_dorsum                   154.930194       30.0\n",
       "vaginal_introitus                 0.344422        3.0"
      ]
     },
     "execution_count": 36,
     "metadata": {},
     "output_type": "execute_result"
    }
   ],
   "source": [
    "filtered_files.groupby('group').sum()"
   ]
  }
 ],
 "metadata": {
  "kernelspec": {
   "display_name": "Python 3",
   "language": "python",
   "name": "python3"
  },
  "language_info": {
   "codemirror_mode": {
    "name": "ipython",
    "version": 3
   },
   "file_extension": ".py",
   "mimetype": "text/x-python",
   "name": "python",
   "nbconvert_exporter": "python",
   "pygments_lexer": "ipython3",
   "version": "3.5.3"
  }
 },
 "nbformat": 4,
 "nbformat_minor": 2
}
