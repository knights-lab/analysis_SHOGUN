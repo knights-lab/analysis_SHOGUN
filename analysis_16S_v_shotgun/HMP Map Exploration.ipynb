{
 "cells": [
  {
   "cell_type": "code",
   "execution_count": 1,
   "metadata": {},
   "outputs": [],
   "source": [
    "import pandas as pd"
   ]
  },
  {
   "cell_type": "code",
   "execution_count": 2,
   "metadata": {},
   "outputs": [],
   "source": [
    "df_16s = pd.read_csv(\"data/taxatable.burst.16S.txt\", sep=\"\\t\", index_col=0)"
   ]
  },
  {
   "cell_type": "code",
   "execution_count": 17,
   "metadata": {},
   "outputs": [],
   "source": [
    "df_hmp_map = pd.read_csv(\"data/HMP_map.txt\", sep='\\t', index_col=\"SRS\")"
   ]
  },
  {
   "cell_type": "code",
   "execution_count": 18,
   "metadata": {},
   "outputs": [
    {
     "data": {
      "text/plain": [
       "Index(['SRS011271', 'SRS011405', 'SRS011452', 'SRS011529', 'SRS011584',\n",
       "       'SRS011586', 'SRS013234', 'SRS013252', 'SRS013258', 'SRS013502',\n",
       "       ...\n",
       "       'SRS063603', 'SRS063985', 'SRS064276', 'SRS064493', 'SRS064557',\n",
       "       'SRS064809', 'SRS065179', 'SRS065278', 'SRS065310', 'SRS065347'],\n",
       "      dtype='object', length=180)"
      ]
     },
     "execution_count": 18,
     "metadata": {},
     "output_type": "execute_result"
    }
   ],
   "source": [
    "df_16s.columns"
   ]
  },
  {
   "cell_type": "code",
   "execution_count": 19,
   "metadata": {},
   "outputs": [
    {
     "data": {
      "text/plain": [
       "(269, 77)"
      ]
     },
     "execution_count": 19,
     "metadata": {},
     "output_type": "execute_result"
    }
   ],
   "source": [
    "df_hmp_map.loc[df_16s.columns, :].shape"
   ]
  },
  {
   "cell_type": "code",
   "execution_count": 20,
   "metadata": {},
   "outputs": [],
   "source": [
    "df_shotgun_map = pd.read_csv(\"data/hmp_shotgun_files.txt\", sep='\\t', index_col=\"srs\")"
   ]
  },
  {
   "cell_type": "code",
   "execution_count": 31,
   "metadata": {},
   "outputs": [],
   "source": [
    "df_shotgun_map.loc[df_16s.columns, :].to_csv(\"data/hmp_shotgun_paired_samples.txt\", sep=\"\\t\")"
   ]
  },
  {
   "cell_type": "code",
   "execution_count": 32,
   "metadata": {},
   "outputs": [],
   "source": [
    "df_hmp_map[df_hmp_map['TARGET_SUBFRAGMENT'] == 'v35'].loc[df_16s.columns, :].to_csv(\"data/hmp_16S_paired_samples.txt\", sep=\"\\t\")"
   ]
  },
  {
   "cell_type": "code",
   "execution_count": null,
   "metadata": {},
   "outputs": [],
   "source": []
  }
 ],
 "metadata": {
  "kernelspec": {
   "display_name": "Python 3",
   "language": "python",
   "name": "python3"
  },
  "language_info": {
   "codemirror_mode": {
    "name": "ipython",
    "version": 3
   },
   "file_extension": ".py",
   "mimetype": "text/x-python",
   "name": "python",
   "nbconvert_exporter": "python",
   "pygments_lexer": "ipython3",
   "version": "3.5.5"
  }
 },
 "nbformat": 4,
 "nbformat_minor": 2
}
