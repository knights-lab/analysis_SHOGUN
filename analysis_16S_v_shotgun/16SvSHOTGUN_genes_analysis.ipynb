{
 "cells": [
  {
   "cell_type": "code",
   "execution_count": 1,
   "metadata": {},
   "outputs": [],
   "source": [
    "%matplotlib inline\n",
    "\n",
    "import pandas as pd\n",
    "from skbio.stats.composition import clr, closure\n",
    "from matplotlib.colors import ListedColormap\n",
    "from numpy.random import permutation\n",
    "import numpy as np\n",
    "from matplotlib.ticker import FormatStrFormatter\n",
    "import os\n",
    "from collections import defaultdict\n",
    "\n",
    "from multiprocessing import Pool, cpu_count\n",
    "import seaborn as sns\n",
    "import matplotlib.pyplot as plt\n",
    "\n",
    "def save_plot(fig, pltname, artists=(), size_inches=(4,4)):\n",
    "    fig.set_size_inches(size_inches)\n",
    "    fig.savefig(os.path.join(\"figures\", \"genes_comparison_\" + pltname + \".png\"), dpi=600, bbox_extra_artists=artists, bbox_inches='tight', transparent=False)\n",
    "    \n",
    "def custom_legend(fig, colors, labels, legend_location=\"center left\", legend_boundary = (1,.5), marker=\"o\"):\n",
    "    # Create custom legend for colors\"\n",
    "    patches = [ plt.plot([],[], marker=marker, ms=10, ls=\"\", mec=None, color=colors[i], label=\"{:s}\".format(labels[i]) )[0]  for i in range(len(labels)) ]\n",
    "    artist = fig.legend(patches, labels, loc=legend_location, bbox_to_anchor=legend_boundary, fontsize=8)\n",
    "    return artist\n",
    "\n",
    "def multiplicative_replacement2(mat, delta=None):\n",
    "    r\"\"\"Replace all zeros with small non-zero values\n",
    "    It uses the multiplicative replacement strategy [1]_ ,\n",
    "    replacing zeros with a small positive :math:`\\delta`\n",
    "    and ensuring that the compositions still add up to 1.\n",
    "    Parameters\n",
    "    ----------\n",
    "    mat: array_like\n",
    "       a matrix of proportions where\n",
    "       rows = compositions and\n",
    "       columns = components\n",
    "    delta: float, optional\n",
    "       a small number to be used to replace zeros\n",
    "       If delta is not specified, then the default delta is\n",
    "       :math:`\\delta = \\frac{1}{N^2}` where :math:`N`\n",
    "       is the number of components\n",
    "    Returns\n",
    "    -------\n",
    "    numpy.ndarray, np.float64\n",
    "       A matrix of proportions where all of the values\n",
    "       are nonzero and each composition (row) adds up to 1\n",
    "    Raises\n",
    "    ------\n",
    "    ValueError\n",
    "       Raises an error if negative proportions are created due to a large\n",
    "       `delta`.\n",
    "    Notes\n",
    "    -----\n",
    "    This method will result in negative proportions if a large delta is chosen.\n",
    "    References\n",
    "    ----------\n",
    "    .. [1] J. A. Martin-Fernandez. \"Dealing With Zeros and Missing Values in\n",
    "           Compositional Data Sets Using Nonparametric Imputation\"\n",
    "    Examples\n",
    "    --------\n",
    "    >>> import numpy as np\n",
    "    >>> from skbio.stats.composition import multiplicative_replacement\n",
    "    >>> X = np.array([[.2,.4,.4, 0],[0,.5,.5,0]])\n",
    "    >>> multiplicative_replacement(X)\n",
    "    array([[ 0.1875,  0.375 ,  0.375 ,  0.0625],\n",
    "           [ 0.0625,  0.4375,  0.4375,  0.0625]])\n",
    "    \"\"\"\n",
    "    mat = np.array(mat)\n",
    "    z_mat = (mat == 0)\n",
    "\n",
    "    num_feats = mat.shape[-1]\n",
    "    tot = np.sum(z_mat, axis=-1, keepdims=True)\n",
    "\n",
    "    if delta is None:\n",
    "        delta = np.min((np.min(mat[mat > 0])*.55, (1. / num_feats)**2))\n",
    "\n",
    "    zcnts = 1 - ((tot * delta)/mat.sum(axis=-1, keepdims=True))\n",
    "    if np.any(zcnts) < 0:\n",
    "        raise ValueError('The multiplicative replacment created negative '\n",
    "                         'proportions. Consider using a smaller `delta`.')\n",
    "    mat = np.where(z_mat, delta, zcnts * mat)\n",
    "    return mat.squeeze()"
   ]
  },
  {
   "cell_type": "code",
   "execution_count": 2,
   "metadata": {},
   "outputs": [],
   "source": [
    "df_direct_shotgun = pd.read_csv(\"data/keggtable.burst.genes.txt\", sep=\"\\t\", index_col=0)\n",
    "df_imputed_shotgun = pd.read_csv(\"data/burst.species.100k.genes.function/taxa.subsampled.species.kegg.txt\", sep=\"\\t\", index_col=0)\n",
    "df_picrust_16s = pd.read_csv(\"data/16s_gg.genes.txt\", sep=\"\\t\", index_col=0, skiprows=1)"
   ]
  },
  {
   "cell_type": "code",
   "execution_count": 3,
   "metadata": {},
   "outputs": [],
   "source": [
    "df_direct_shotgun = df_direct_shotgun[[';K' in _ for _ in df_direct_shotgun.index]]\n",
    "df_direct_shotgun['KEGGS'] = [_.split(';')[-1] for _ in df_direct_shotgun.index]\n",
    "df_direct_shotgun = df_direct_shotgun.groupby('KEGGS').sum()"
   ]
  },
  {
   "cell_type": "code",
   "execution_count": 4,
   "metadata": {},
   "outputs": [],
   "source": [
    "df_picrust_16s = df_picrust_16s.drop(\"KEGG_Description\", axis=1)"
   ]
  },
  {
   "cell_type": "code",
   "execution_count": 5,
   "metadata": {},
   "outputs": [
    {
     "data": {
      "text/plain": [
       "(4473, 180)"
      ]
     },
     "execution_count": 5,
     "metadata": {},
     "output_type": "execute_result"
    }
   ],
   "source": [
    "df_direct_shotgun.shape"
   ]
  },
  {
   "cell_type": "code",
   "execution_count": 6,
   "metadata": {},
   "outputs": [
    {
     "data": {
      "text/plain": [
       "(6570, 180)"
      ]
     },
     "execution_count": 6,
     "metadata": {},
     "output_type": "execute_result"
    }
   ],
   "source": [
    "df_imputed_shotgun.shape"
   ]
  },
  {
   "cell_type": "code",
   "execution_count": 7,
   "metadata": {},
   "outputs": [
    {
     "data": {
      "text/plain": [
       "(6909, 180)"
      ]
     },
     "execution_count": 7,
     "metadata": {},
     "output_type": "execute_result"
    }
   ],
   "source": [
    "df_picrust_16s.shape"
   ]
  },
  {
   "cell_type": "code",
   "execution_count": 8,
   "metadata": {},
   "outputs": [
    {
     "data": {
      "text/plain": [
       "Index(['SRS015470', 'SRS011584', 'SRS014271', 'SRS011529', 'SRS024347',\n",
       "       'SRS016225', 'SRS015921', 'SRS014923', 'SRS018439', 'SRS047219',\n",
       "       ...\n",
       "       'SRS018769', 'SRS063417', 'SRS044474', 'SRS021484', 'SRS023914',\n",
       "       'SRS023987', 'SRS024064', 'SRS016559', 'SRS015425', 'SRS016585'],\n",
       "      dtype='object', length=180)"
      ]
     },
     "execution_count": 8,
     "metadata": {},
     "output_type": "execute_result"
    }
   ],
   "source": [
    "df_picrust_16s.columns"
   ]
  },
  {
   "cell_type": "code",
   "execution_count": 9,
   "metadata": {},
   "outputs": [
    {
     "data": {
      "text/plain": [
       "Index(['K01365', 'K01364', 'K01361', 'K01360', 'K01362', 'K02249', 'K05841',\n",
       "       'K05844', 'K05845', 'K05846',\n",
       "       ...\n",
       "       'K05908', 'K00368', 'K00369', 'K00366', 'K00367', 'K00364', 'K00365',\n",
       "       'K00362', 'K00363', 'K00360'],\n",
       "      dtype='object', name='#OTU ID', length=6909)"
      ]
     },
     "execution_count": 9,
     "metadata": {},
     "output_type": "execute_result"
    }
   ],
   "source": [
    "df_picrust_16s.index"
   ]
  },
  {
   "cell_type": "code",
   "execution_count": 10,
   "metadata": {},
   "outputs": [],
   "source": [
    "# Preprocess columns for SRS IDs\n",
    "df_direct_shotgun.columns = map(lambda x: x.split(\".\")[0], df_direct_shotgun.columns)\n",
    "df_imputed_shotgun.columns = map(lambda x: x.split(\".\")[0], df_imputed_shotgun.columns)"
   ]
  },
  {
   "cell_type": "code",
   "execution_count": 11,
   "metadata": {},
   "outputs": [
    {
     "name": "stdout",
     "output_type": "stream",
     "text": [
      "True\n"
     ]
    }
   ],
   "source": [
    "# Verify all SRS IDs exist in both DFs\n",
    "print(len(set(df_imputed_shotgun.columns).intersection(df_picrust_16s.columns)) == df_picrust_16s.shape[1])"
   ]
  },
  {
   "cell_type": "code",
   "execution_count": 12,
   "metadata": {},
   "outputs": [],
   "source": [
    "def stylize_axes(ax):\n",
    "    \"\"\"Customize axes spines, title, labels, ticks, and ticklabels.\"\"\"\n",
    "    ax.spines['top'].set_visible(False)\n",
    "    ax.spines['right'].set_visible(False)\n",
    "\n",
    "    ax.xaxis.set_tick_params(top='off', direction='out', width=1)\n",
    "    ax.yaxis.set_tick_params(right='off', direction='out', width=1)"
   ]
  },
  {
   "cell_type": "code",
   "execution_count": 13,
   "metadata": {},
   "outputs": [],
   "source": [
    "def subsample(counts, n):\n",
    "    \"\"\"Subsamples new vector from vector of orig items.\n",
    "    \n",
    "    Returns all items if requested sample is larger than number of items.\n",
    "    \"\"\"\n",
    "    choices = np.random.choice(np.arange(counts.shape[0]), n, replace=True, p=counts/counts.sum())\n",
    "    return np.bincount(choices, minlength=counts.shape[0])"
   ]
  },
  {
   "cell_type": "code",
   "execution_count": 14,
   "metadata": {},
   "outputs": [],
   "source": [
    "# df_shotgun = df_shotgun.loc[:, df_shotgun.sum() > 100000]\n",
    "\n",
    "# df_shotgun = df_shotgun.apply(lambda x: subsample(x, 100000), axis=0)"
   ]
  },
  {
   "cell_type": "code",
   "execution_count": 15,
   "metadata": {},
   "outputs": [],
   "source": [
    "# Get the none intersecting organisms\n",
    "missing_keggs = set(df_picrust_16s.index).intersection(df_direct_shotgun.index).symmetric_difference(df_direct_shotgun.index)"
   ]
  },
  {
   "cell_type": "code",
   "execution_count": 16,
   "metadata": {},
   "outputs": [
    {
     "data": {
      "text/plain": [
       "1047"
      ]
     },
     "execution_count": 16,
     "metadata": {},
     "output_type": "execute_result"
    }
   ],
   "source": [
    "len(missing_keggs)"
   ]
  },
  {
   "cell_type": "code",
   "execution_count": 17,
   "metadata": {},
   "outputs": [],
   "source": [
    "# Filter for a specific level\n",
    "def filter_df_to_taxalevel(df, level):\n",
    "    if level < 8:\n",
    "        df['summary_taxa'] = [';'.join(str(_).split(';')[:level]) if str(_).count(';') >= level else False for _ in df.index]\n",
    "        df = df[df['summary_taxa'] != False]\n",
    "        return df.groupby('summary_taxa').sum()\n",
    "    else:\n",
    "        return df.loc[[';t__' in str(_) for _ in df.index], :]"
   ]
  },
  {
   "cell_type": "code",
   "execution_count": 18,
   "metadata": {},
   "outputs": [],
   "source": [
    "# Filter for a specific level\n",
    "def cleanup_taxatable(df):\n",
    "    df['summary_taxa'] = [';'.join(str(_).split(';')[:7]) if str(_).count(';') >= 1 else False for _ in df.index]\n",
    "    df = df[df['summary_taxa'] != False]\n",
    "    return df.groupby('summary_taxa').sum()"
   ]
  },
  {
   "cell_type": "code",
   "execution_count": 19,
   "metadata": {},
   "outputs": [],
   "source": [
    "def run_experiment(df_16s, df_shotgun, series_hmp_bodysite):\n",
    "    df_16s_species = df_16s\n",
    "    df_shotgun_species = df_shotgun\n",
    "        \n",
    "    df_16s_species = df_16s_species.T.join(series_hmp_bodysite, how=\"inner\")\n",
    "    \n",
    "    # 16s summarize at level\n",
    "    list_dfs = []\n",
    "    for group, df in df_16s_species.groupby('bodysite'):\n",
    "        bodysite = df[\"bodysite\"]\n",
    "        df = df.drop(\"bodysite\", axis=1)\n",
    "        df = df.loc[:, (df > 0).sum(axis=0)/df.shape[0] > .1]\n",
    "        df += .001\n",
    "        df = (df.T/df.T.sum()).T\n",
    "        #df = pd.DataFrame(clr(multiplicative_replacement2(df)), index=df.index, columns=df.columns)\n",
    "        #df[\"bodysite\"] = bodysite\n",
    "        list_dfs.append(df.copy())\n",
    "    df_clr_16s = pd.concat(list_dfs)\n",
    "    df_clr_16s = df_clr_16s.dropna(axis=1, how=\"all\")\n",
    "    \n",
    "    df_shotgun_species = df_shotgun_species.T.join(series_hmp_bodysite)\n",
    "    \n",
    "    # Shtogun summarize at level\n",
    "    list_dfs = []\n",
    "    for group, df in df_shotgun_species.groupby('bodysite'):\n",
    "        bodysite = df[\"bodysite\"]\n",
    "        df = df.drop(\"bodysite\", axis=1)\n",
    "        df = df.loc[:, (df > 0).sum(axis=0)/df.shape[0] > .1]\n",
    "        df += .001\n",
    "        df = (df.T/df.T.sum()).T\n",
    "        #df = pd.DataFrame(clr(multiplicative_replacement2(df)), index=df.index, columns=df.columns)\n",
    "        #df[\"bodysite\"] = bodysite\n",
    "        list_dfs.append(df.copy())\n",
    "    df_clr_shotgun = pd.concat(list_dfs)\n",
    "    df_clr_shotgun = df_clr_shotgun.dropna(axis=1, how=\"all\")\n",
    "    \n",
    "    df_results = pd.DataFrame(yield_comparision_stats(df_clr_shotgun, df_clr_16s), columns=('srs', 'pearson', 'spearman', 'num_features_shotgun', 'num_features_16s', 'difference_shotgun', 'difference_16s', 'jaccard'))\n",
    "    df_results = df_results.set_index('srs')\n",
    "    df_results['bodytype'] = series_hmp_bodysite\n",
    "    return df_results"
   ]
  },
  {
   "cell_type": "code",
   "execution_count": 20,
   "metadata": {},
   "outputs": [],
   "source": [
    "def permutation_test(df_16s, df_shotgun, series_hmp_bodysite, num_perms=1):\n",
    "        \n",
    "    df_16s = df_16s.T.join(series_hmp_bodysite, how=\"inner\")\n",
    "    \n",
    "    # 16s summarize at level\n",
    "    list_dfs = []\n",
    "    for group, df in df_16s.groupby('bodysite'):\n",
    "        bodysite = df[\"bodysite\"]\n",
    "        df = df.drop(\"bodysite\", axis=1)\n",
    "        df = df.loc[:, (df > 0).sum(axis=0)/df.shape[0] > .1]\n",
    "        df = pd.DataFrame(clr(multiplicative_replacement2(df)), index=df.index, columns=df.columns)\n",
    "        #df[\"bodysite\"] = bodysite\n",
    "        list_dfs.append(df.copy())\n",
    "    df_clr_16s = pd.concat(list_dfs)\n",
    "    df_clr_16s = df_clr_16s.dropna(axis=1, how=\"all\")\n",
    "    \n",
    "    df_shotgun = df_shotgun.T.join(series_hmp_bodysite)\n",
    "    \n",
    "    # Shtogun summarize at level\n",
    "    list_dfs = []\n",
    "    for group, df in df_shotgun.groupby('bodysite'):\n",
    "        bodysite = df[\"bodysite\"]\n",
    "        df = df.drop(\"bodysite\", axis=1)\n",
    "        df = df.loc[:, (df > 0).sum(axis=0)/df.shape[0] > .1]\n",
    "        df = pd.DataFrame(clr(multiplicative_replacement2(df)), index=df.index, columns=df.columns)\n",
    "        #df[\"bodysite\"] = bodysite\n",
    "        list_dfs.append(df.copy())\n",
    "    df_clr_shotgun = pd.concat(list_dfs)\n",
    "    df_clr_shotgun = df_clr_shotgun.dropna(axis=1, how=\"all\")\n",
    "    \n",
    "    s = 0\n",
    "    for group, df in df_shotgun.groupby('bodysite'):\n",
    "        for ind1, ind2 in zip(df.index, df.index):\n",
    "            arr1 = df_clr_shotgun.loc[ind1, :].dropna()\n",
    "            arr2 = df_clr_16s.loc[ind2, :].dropna()\n",
    "            s += arr1.corr(arr2)*arr1.corr(arr2)\n",
    "    yield s\n",
    "    \n",
    "    for i in range(num_perms-1):\n",
    "        s = 0\n",
    "        for group, df in df_shotgun.groupby('bodysite'):\n",
    "            for ind1, ind2 in zip(df.index, permutation(list(df.index))):\n",
    "                arr1 = df_clr_shotgun.loc[ind1, :].dropna()\n",
    "                arr2 = df_clr_16s.loc[ind2, :].dropna()\n",
    "                s += arr1.corr(arr2)*arr1.corr(arr2)\n",
    "        yield s"
   ]
  },
  {
   "cell_type": "code",
   "execution_count": 21,
   "metadata": {},
   "outputs": [],
   "source": [
    "df_hmp_map = pd.read_csv(\"data/HMP_map.txt\", sep='\\t', index_col=\"SRS\")"
   ]
  },
  {
   "cell_type": "code",
   "execution_count": 22,
   "metadata": {},
   "outputs": [],
   "source": [
    "def replace_multi(string, replacement, string_to_replace):\n",
    "    for s in string_to_replace:\n",
    "        string = string.replace(s, replacement)\n",
    "    return string"
   ]
  },
  {
   "cell_type": "code",
   "execution_count": 23,
   "metadata": {},
   "outputs": [],
   "source": [
    "# Remove duplicates\n",
    "df_hmp_map['bodysite'] = list(map(lambda x: replace_multi(x, '', ['Left_', 'Right_']), df_hmp_map[\"HMPBODYSUBSITE\"]))\n",
    "series_hmp_bodysite = df_hmp_map[\"bodysite\"]\n",
    "series_hmp_bodysite = series_hmp_bodysite[~series_hmp_bodysite.index.duplicated()]"
   ]
  },
  {
   "cell_type": "code",
   "execution_count": 24,
   "metadata": {},
   "outputs": [],
   "source": [
    "def weighted_jaccard(x, y):\n",
    "    z = np.vstack((x,y))\n",
    "    return np.sum(z.min(axis=0)/z.max(axis=0))"
   ]
  },
  {
   "cell_type": "code",
   "execution_count": 25,
   "metadata": {},
   "outputs": [],
   "source": [
    "# Filter to df shotgun\n",
    "df_shotgun_clean = df_direct_shotgun\n",
    "df_16s_clean = df_picrust_16s\n",
    "\n",
    "# Join up mapping ids\n",
    "df_shotgun_clean = df_shotgun_clean.T.join(series_hmp_bodysite, how=\"inner\")\n",
    "df_16s_clean = df_16s_clean.T.join(series_hmp_bodysite, how=\"inner\")"
   ]
  },
  {
   "cell_type": "code",
   "execution_count": 26,
   "metadata": {},
   "outputs": [],
   "source": [
    "def yield_comparision_stats(df_clr_shotgun, df_clr_16s):\n",
    "    #('srs', 'pearson', 'spearman', 'num_features_shotgun', 'num_features_16s', 'difference_shotgun', 'difference_16s', 'jaccard', 'w_jaccard')\n",
    "    for ind in df_clr_shotgun.index:\n",
    "        arr1 = df_clr_shotgun.loc[ind, :].dropna()\n",
    "        arr2 = df_clr_16s.loc[ind, :].dropna()\n",
    "        set_arr1 = set(arr1.index)\n",
    "        set_arr2 = set(arr2.index)\n",
    "#         if len(set_arr2.difference(set_arr1)) > 0:\n",
    "#             print(set_arr2.difference(set_arr1))\n",
    "        #w_jaccard = weighted_jaccard(arr1.values, arr2[arr1].values)\n",
    "        yield (ind, arr1.corr(arr2), arr1.corr(arr2, method='spearman'), len(set_arr1), len(set_arr2), len(set_arr1.difference(set_arr2)), len(set_arr2.difference(set_arr1)), len(set_arr1.intersection(set_arr2))/len(set_arr1.union(set_arr2)))"
   ]
  },
  {
   "cell_type": "code",
   "execution_count": 27,
   "metadata": {},
   "outputs": [],
   "source": [
    "df_comparison = run_experiment(df_direct_shotgun, df_picrust_16s, series_hmp_bodysite)\n",
    "df_comparison.to_csv(\"results/gene.correlation.csv\")"
   ]
  },
  {
   "cell_type": "code",
   "execution_count": 28,
   "metadata": {},
   "outputs": [],
   "source": [
    "# Run 1,000 iterations of the permuation test\n",
    "perm_results = np.array([i for i in permutation_test(df_direct_shotgun, df_direct_shotgun, series_hmp_bodysite, num_perms=10)])"
   ]
  },
  {
   "cell_type": "code",
   "execution_count": 29,
   "metadata": {},
   "outputs": [
    {
     "name": "stderr",
     "output_type": "stream",
     "text": [
      "/home/bhillmann/anaconda3/lib/python3.6/site-packages/matplotlib/axes/_axes.py:6462: UserWarning: The 'normed' kwarg is deprecated, and has been replaced by the 'density' kwarg.\n",
      "  warnings.warn(\"The 'normed' kwarg is deprecated, and has been \"\n"
     ]
    },
    {
     "data": {
      "image/png": "[encoded data removed]",
      "text/plain": [
       "<Figure size 288x288 with 1 Axes>"
      ]
     },
     "metadata": {},
     "output_type": "display_data"
    }
   ],
   "source": [
    "with plt.style.context(('seaborn-ticks', 'seaborn-paper')):\n",
    "    fig, ax = plt.subplots()\n",
    "\n",
    "sns.distplot(perm_results, ax=ax)\n",
    "plt.axvline(x=perm_results[0], color='red')\n",
    "ax.set_ylabel('frequency')\n",
    "ax.set_xlabel('permuted sum of R-squared')\n",
    "ax.xaxis.set_major_formatter(FormatStrFormatter('%.0f'))\n",
    "ax.annotate(\"p = {:.3f}\".format(1-(perm_results < perm_results[0]).sum()/perm_results.shape[0]), xy=(.6, .9), xycoords=ax.transAxes)\n",
    "\n",
    "sns.despine(fig)\n",
    "\n",
    "save_plot(fig, 'pairingmatters_hist')"
   ]
  },
  {
   "cell_type": "code",
   "execution_count": 30,
   "metadata": {},
   "outputs": [],
   "source": [
    "kos = df_direct_shotgun.sum(axis=1).sort_values(ascending=False).head(25)"
   ]
  },
  {
   "cell_type": "code",
   "execution_count": 31,
   "metadata": {},
   "outputs": [],
   "source": [
    "df_shotgun = df_direct_shotgun.T\n",
    "df_16s = df_picrust_16s.T\n",
    "set_shotgun = set(df_shotgun.columns)\n",
    "set_df_16s = set(df_16s.columns)\n",
    "\n",
    "# for col in set_shotgun.difference(set_df_16s):\n",
    "#     df_16s_clean[col] = 0\n",
    "\n",
    "for col in set_df_16s.difference(set_shotgun):\n",
    "    df_shotgun[col] = 0\n",
    "\n",
    "for col in set_shotgun.difference(set_df_16s):\n",
    "    df_16s[col] = 0"
   ]
  },
  {
   "cell_type": "code",
   "execution_count": 32,
   "metadata": {},
   "outputs": [],
   "source": [
    "palette = sns.xkcd_palette(['royal blue', 'light red', 'ochre', 'black', 'grey', 'sky blue', 'dark turquoise', 'emerald', 'light purple', 'gold', 'night blue', 'green', 'maroon', 'orchid', 'deep pink', 'light grey blue', 'old rose', 'light pink', 'pale aqua', 'yellow', 'lime green', 'dark orange', 'brown'])\n",
    "color_map = ListedColormap(palette)"
   ]
  },
  {
   "cell_type": "code",
   "execution_count": 33,
   "metadata": {},
   "outputs": [
    {
     "data": {
      "image/png": "[encoded data removed]",
      "text/plain": [
       "<Figure size 288x288 with 1 Axes>"
      ]
     },
     "metadata": {},
     "output_type": "display_data"
    }
   ],
   "source": [
    "fig, ax = plt.subplots()\n",
    "\n",
    "df = df_shotgun.head(25)[kos.index]\n",
    "df += 1\n",
    "df = (df.T/df.T.sum()).T\n",
    "df.plot.barh(stacked=True, legend=False, colormap=color_map, ax=ax)\n",
    "\n",
    "save_plot(fig, 'shotgun_stacked_bar')"
   ]
  },
  {
   "cell_type": "code",
   "execution_count": 34,
   "metadata": {},
   "outputs": [
    {
     "data": {
      "image/png": "[encoded data removed]",
      "text/plain": [
       "<Figure size 288x288 with 1 Axes>"
      ]
     },
     "metadata": {},
     "output_type": "display_data"
    }
   ],
   "source": [
    "fig, ax = plt.subplots()\n",
    "\n",
    "df = df_16s.head(25)[kos.index]\n",
    "df += 1\n",
    "df = (df.T/df.T.sum()).T\n",
    "df.plot.barh(stacked=True, legend=False, colormap=color_map, ax=ax, figsize=(12,12))\n",
    "#fig1 = custom_legend(fig, color_map, df.columns)\n",
    "#save_plot(fig, '16s_prevotella', artists=(fig1,))\n",
    "save_plot(fig, '16s_stackedbar')"
   ]
  },
  {
   "cell_type": "code",
   "execution_count": 35,
   "metadata": {},
   "outputs": [],
   "source": [
    "list_16s_dfs = []\n",
    "list_shotgun_dfs = []\n",
    "dict_missing_shotgun = defaultdict(list)\n",
    "dict_missing_16s = defaultdict(list)\n",
    "for (group_16, df_16), (group_shotgun, df_shotgun) in zip(df_16s_clean.groupby('bodysite'), df_shotgun_clean.groupby('bodysite')):\n",
    "    # Run the prevalence filter\n",
    "    df_16 = df_16.drop(\"bodysite\", axis=1)\n",
    "    df_16 = df_16.loc[:, (df_16 > 0).sum(axis=0)/df_16.shape[0] > .1]\n",
    "\n",
    "    # Run the prevlance filter\n",
    "    df_shotgun = df_shotgun.drop(\"bodysite\", axis=1)\n",
    "    df_shotgun = df_shotgun.loc[:, (df_shotgun > 0).sum(axis=0)/df_shotgun.shape[0] > .1]\n",
    "    \n",
    "    # Reindex both dataframes according to missing columns\n",
    "    set_shotgun = set(df_shotgun.columns)\n",
    "    set_df_16s = set(df_16.columns)\n",
    "\n",
    "    for col in set_df_16s.difference(set_shotgun):\n",
    "        df_shotgun[col] = 0\n",
    "        for index in df_shotgun.index:\n",
    "            dict_missing_shotgun[index].append(col)\n",
    "    \n",
    "    for col in set_shotgun.difference(set_df_16s):\n",
    "        df_16[col] = 0\n",
    "        for index in df_16.index:\n",
    "            dict_missing_16s[index].append(col)\n",
    "\n",
    "    #df_shotgun = df_shotgun[list(set_df_16s)]\n",
    "    #df_16s = df_16s[list(set_shotgun)]\n",
    "    \n",
    "    df_16 += .001\n",
    "    #mat_16 = multiplicative_replacement2(df_16, delta=.2)\n",
    "    #df_16 = pd.DataFrame(clr(mat_16), index=df_16.index, columns=df_16.columns)\n",
    "    df_16 = (df_16.T/df_16.T.sum()).T\n",
    "    list_16s_dfs.append(df_16.copy())\n",
    "    df_shotgun += .001\n",
    "    #mat_shotgun = multiplicative_replacement2(df_shotgun, delta=.2)\n",
    "    df_shotgun = (df_shotgun.T/df_shotgun.T.sum()).T\n",
    "    #df_shotgun = pd.DataFrame(clr(mat_shotgun), index=df_shotgun.index, columns=df_shotgun.columns)\n",
    "    list_shotgun_dfs.append(df_shotgun.copy())\n",
    "\n",
    "df_clr_shotgun = pd.concat(list_shotgun_dfs)\n",
    "df_clr_shotgun = df_clr_shotgun.dropna(axis=1, how=\"all\")\n",
    "df_clr_16s = pd.concat(list_16s_dfs)\n",
    "df_clr_16s = df_clr_16s.dropna(axis=1, how=\"all\")\n",
    "df_clr_shotgun= df_clr_shotgun.reindex(sorted(df_clr_shotgun.columns), axis=1)\n",
    "df_clr_16s= df_clr_16s.reindex(sorted(df_clr_16s.columns), axis=1)"
   ]
  },
  {
   "cell_type": "code",
   "execution_count": null,
   "metadata": {},
   "outputs": [],
   "source": []
  },
  {
   "cell_type": "code",
   "execution_count": 36,
   "metadata": {},
   "outputs": [],
   "source": [
    "df_colors = pd.DataFrame(np.zeros(df_clr_shotgun.shape), index=df_clr_shotgun.index, columns=df_clr_shotgun.columns)\n",
    "\n",
    "for k, vs in dict_missing_shotgun.items():\n",
    "    for v in vs:\n",
    "        df_colors.loc[k, v] = 1\n",
    "    \n",
    "for k, vs in dict_missing_16s.items():\n",
    "    for v in vs:\n",
    "        df_colors.loc[k, v] = 2    "
   ]
  },
  {
   "cell_type": "code",
   "execution_count": 37,
   "metadata": {},
   "outputs": [],
   "source": [
    "# Join up mapping ids\n",
    "dfgroup_clr_shotgun = df_clr_shotgun.join(series_hmp_bodysite, how=\"inner\").groupby('bodysite').mean()\n",
    "dfgroup_clr_16s = df_clr_16s.join(series_hmp_bodysite, how=\"inner\").groupby('bodysite').mean()"
   ]
  },
  {
   "cell_type": "code",
   "execution_count": 38,
   "metadata": {},
   "outputs": [],
   "source": [
    "def yield_summaries(df, df_colors):\n",
    "    #['shotgun_both','shotgun_shotgun','shotgun_16s_bacteria','shotgun_16s','16s_both','16s_shotgun','16s_16s_bacteria','16s_16s']\n",
    "    for i in df_clr_shotgun.index:\n",
    "        if i in df_clr_shotgun.index and i in df_clr_16s.index:\n",
    "            yield [df.loc[i, :][df_colors.loc[i, :] == 0].dropna().sum(),\n",
    "             df.loc[i, :][df_colors.loc[i, :] == 1].dropna().sum(),\n",
    "             df.loc[i, :][df_colors.loc[i, :] == 2].dropna().sum(),\n",
    "             df.loc[i, :][df_colors.loc[i, :] == 3].dropna().sum()]"
   ]
  },
  {
   "cell_type": "code",
   "execution_count": 39,
   "metadata": {},
   "outputs": [],
   "source": [
    "df_prop_shotgun = pd.DataFrame(yield_summaries(df_clr_shotgun, df_colors), columns=['both','16s only','shotgun bacteria only','shotgun non-bacteria only'], index=df_clr_shotgun.index)\n",
    "df_prop_16s = pd.DataFrame(yield_summaries(df_clr_16s, df_colors), columns=['both','16s only','shotgun bacteria only','shotgun non-bacteria only'], index=df_clr_shotgun.index)"
   ]
  },
  {
   "cell_type": "code",
   "execution_count": 40,
   "metadata": {},
   "outputs": [],
   "source": [
    "df_grouped_shotgun = df_prop_shotgun.join(series_hmp_bodysite, how=\"inner\").groupby('bodysite').mean()\n",
    "df_grouped_16s = df_prop_16s.join(series_hmp_bodysite, how=\"inner\").groupby('bodysite').mean()"
   ]
  },
  {
   "cell_type": "code",
   "execution_count": 41,
   "metadata": {},
   "outputs": [
    {
     "data": {
      "image/png": "[encoded data removed]",
      "text/plain": [
       "<Figure size 288x288 with 1 Axes>"
      ]
     },
     "metadata": {},
     "output_type": "display_data"
    }
   ],
   "source": [
    "fig, ax = plt.subplots()\n",
    "\n",
    "palette = sns.xkcd_palette([\"windows blue\", \"amber\", \"faded green\", \"dusty purple\"])\n",
    "\n",
    "for i in df_clr_shotgun.index:\n",
    "    if i in df_clr_shotgun.index and i in df_clr_16s.index:\n",
    "        ax.scatter(df_clr_16s.loc[i, :][df_colors.loc[i, :] == 0].dropna(), df_clr_shotgun.loc[i, :][df_colors.loc[i, :] == 0].dropna(), color=palette[0], marker=\"o\", alpha=.5, zorder=1, edgecolor='face', s=10)\n",
    "        ax.scatter(df_clr_16s.loc[i, :][df_colors.loc[i, :] == 1].dropna(), df_clr_shotgun.loc[i, :][df_colors.loc[i, :] == 1].dropna(), color=palette[1], marker=\"o\", alpha=.5, zorder=3, edgecolor='face', s=10)\n",
    "        ax.scatter(df_clr_16s.loc[i, :][df_colors.loc[i, :] == 2].dropna(), df_clr_shotgun.loc[i, :][df_colors.loc[i, :] == 2].dropna(), color=palette[2], marker=\"o\", alpha=.5, zorder=1, edgecolor='face', s=10)\n",
    "        ax.scatter(df_clr_16s.loc[i, :][df_colors.loc[i, :] == 3].dropna(), df_clr_shotgun.loc[i, :][df_colors.loc[i, :] == 3].dropna(), color=palette[3], marker=\"o\", alpha=.5, zorder=2, edgecolor='face', s=10)\n",
    "\n",
    "ax.xaxis.set_ticks(np.arange(0, 1.1, .2))\n",
    "ax.yaxis.set_ticks(np.arange(0, 1.1, .2))\n",
    "ax.axis=['equal']\n",
    "        \n",
    "lims = [\n",
    "    np.min([ax.get_xlim(), ax.get_ylim()]),  # min of both axes\n",
    "    np.max([ax.get_xlim(), ax.get_ylim()]),  # max of both axes\n",
    "]\n",
    "\n",
    "# now plot both limits against eachother\n",
    "ax.plot(lims, lims, 'k-', alpha=0.75, zorder=0)\n",
    "ax.set_aspect('equal')\n",
    "ax.set_xlim(lims)\n",
    "ax.set_ylim(lims)\n",
    "\n",
    "\n",
    "# draw vertical line from (70,100) to (70, 250)\n",
    "ax.plot([0, .1], [.1, .1], 'k--', alpha=.75, zorder=4)\n",
    "\n",
    "# draw diagonal line from (70, 90) to (90, 200)\n",
    "ax.plot([.1, .1], [0, .1], 'k--', alpha=.75, zorder=4)\n",
    "\n",
    "\n",
    "#leg1 = custom_legend(ax, palette, [\"Both\", \"16S only\", \"Shallow shotgun only\"])\n",
    "ax.set_ylabel(\"Shallow shotgun abundance\")\n",
    "ax.set_xlabel(\"16S abundance\")\n",
    "\n",
    "sns.despine(offset=10, trim=True)\n",
    "\n",
    "save_plot(fig, \"scatterplot_abundance\")"
   ]
  },
  {
   "cell_type": "code",
   "execution_count": 42,
   "metadata": {},
   "outputs": [
    {
     "data": {
      "image/png": "[encoded data removed]",
      "text/plain": [
       "<Figure size 288x288 with 1 Axes>"
      ]
     },
     "metadata": {},
     "output_type": "display_data"
    }
   ],
   "source": [
    "fig, ax = plt.subplots()\n",
    "\n",
    "palette = sns.xkcd_palette([\"windows blue\", \"amber\", \"faded green\", \"dusty purple\"])\n",
    "\n",
    "for i in df_clr_shotgun.index:\n",
    "    if i in df_clr_shotgun.index and i in df_clr_16s.index:\n",
    "        ax.scatter(df_clr_16s.loc[i, :][df_colors.loc[i, :] == 0].dropna(), df_clr_shotgun.loc[i, :][df_colors.loc[i, :] == 0].dropna(), color=palette[0], marker=\"o\", alpha=.5, zorder=1, edgecolor='face', s=10)\n",
    "        ax.scatter(df_clr_16s.loc[i, :][df_colors.loc[i, :] == 1].dropna(), df_clr_shotgun.loc[i, :][df_colors.loc[i, :] == 1].dropna(), color=palette[1], marker=\"o\", alpha=.5, zorder=3, edgecolor='face', s=10)\n",
    "        ax.scatter(df_clr_16s.loc[i, :][df_colors.loc[i, :] == 2].dropna(), df_clr_shotgun.loc[i, :][df_colors.loc[i, :] == 2].dropna(), color=palette[2], marker=\"o\", alpha=.5, zorder=1, edgecolor='face', s=10)\n",
    "        ax.scatter(df_clr_16s.loc[i, :][df_colors.loc[i, :] == 3].dropna(), df_clr_shotgun.loc[i, :][df_colors.loc[i, :] == 3].dropna(), color=palette[3], marker=\"o\", alpha=.5, zorder=2, edgecolor='face', s=10)\n",
    "\n",
    "ax.xaxis.set_ticks(np.arange(0, .11, .02))\n",
    "ax.yaxis.set_ticks(np.arange(0, .11, .02))\n",
    "ax.set_ylim(-0.01, .11)\n",
    "ax.set_xlim(-0.01, .11)\n",
    "ax.axis=['equal']\n",
    "        \n",
    "lims = [\n",
    "    np.min([ax.get_xlim(), ax.get_ylim()]),  # min of both axes\n",
    "    np.max([ax.get_xlim(), ax.get_ylim()]),  # max of both axes\n",
    "]\n",
    "\n",
    "# now plot both limits against eachother\n",
    "ax.plot(lims, lims, 'k-', alpha=0.75, zorder=0)\n",
    "ax.set_aspect('equal')\n",
    "ax.set_xlim(lims)\n",
    "ax.set_ylim(lims)\n",
    "\n",
    "# draw vertical line from (70,100) to (70, 250)\n",
    "ax.plot([0, .1], [.1, .1], 'k--', alpha=.75, zorder=4)\n",
    "\n",
    "# draw diagonal line from (70, 90) to (90, 200)\n",
    "ax.plot([.1, .1], [0, .1], 'k--', alpha=.75, zorder=4)\n",
    "\n",
    "#leg1 = custom_legend(ax, palette, [\"Both\", \"16S only\", \"Shotgun only\", \"Shotgun non-bacteria\"])\n",
    "ax.set_ylabel(\"Shallow shotgun abundance\")\n",
    "ax.set_xlabel(\"16S abundance\")\n",
    "\n",
    "save_plot(fig, \"inset_scatterplot_abundance\")"
   ]
  },
  {
   "cell_type": "code",
   "execution_count": 43,
   "metadata": {},
   "outputs": [
    {
     "name": "stderr",
     "output_type": "stream",
     "text": [
      "/home/bhillmann/anaconda3/lib/python3.6/site-packages/matplotlib/cbook/deprecation.py:107: MatplotlibDeprecationWarning: Passing one of 'on', 'true', 'off', 'false' as a boolean is deprecated; use an actual boolean (True/False) instead.\n",
      "  warnings.warn(message, mplDeprecation, stacklevel=1)\n"
     ]
    },
    {
     "data": {
      "image/png": "[encoded data removed]",
      "text/plain": [
       "<Figure size 792x288 with 2 Axes>"
      ]
     },
     "metadata": {},
     "output_type": "display_data"
    }
   ],
   "source": [
    "with plt.style.context(('seaborn-ticks', 'seaborn-paper')):\n",
    "    fig = plt.figure(figsize=(5.5,2))\n",
    "    ax1 = plt.subplot(121)\n",
    "    ax2 = plt.subplot(122)\n",
    "    \n",
    "color_map = ListedColormap(palette)\n",
    "\n",
    "df_grouped_shotgun.index = [_.replace(\"_\", \" \") for _ in df_grouped_shotgun.index]\n",
    "\n",
    "ax1 = df_grouped_shotgun.plot.barh(stacked=True, legend=False, ax=ax1, colormap=color_map)\n",
    "ax1.set_xlabel(\"Mean abundance\")\n",
    "ax1.set_title(\"Shallow shotgun\")\n",
    "#ax1.yaxis.tick_right()\n",
    "\n",
    "stylize_axes(ax1)\n",
    "\n",
    "df_grouped_16s.plot.barh(stacked=True, legend=False, colormap=color_map, ax=ax2)\n",
    "stylize_axes(ax2)\n",
    "ax2.set_ylabel(\"\")\n",
    "ax2.set_xlabel(\"Mean abundance\")\n",
    "ax2.set_title(\"16S\")\n",
    "ax2.set_yticklabels(\"\")\n",
    "\n",
    "for p in ax1.patches:\n",
    "    if p.get_width() >= .08:\n",
    "        ax1.annotate(\"%.2f\" % p.get_width(), (p.get_x()+p.get_width()/2, p.get_y()), xytext=(0, 4), fontsize=10, textcoords='offset points', horizontalalignment='center')\n",
    "        \n",
    "for p in ax2.patches:\n",
    "    if p.get_width() >= .08:\n",
    "        ax2.annotate(\"%.2f\" % p.get_width(), (p.get_x()+p.get_width()/2, p.get_y()), xytext=(0, 4), fontsize=10, textcoords='offset points', horizontalalignment='center')\n",
    "    \n",
    "\n",
    "leg1 = custom_legend(ax2, palette, [\"Both\", \"16S only\", \"Shallow shotgun only\"])\n",
    "\n",
    "save_plot(fig, \"stacked_hbar_both_abundance\", size_inches=(11,4), artists=(leg1,))"
   ]
  },
  {
   "cell_type": "code",
   "execution_count": 44,
   "metadata": {},
   "outputs": [
    {
     "name": "stderr",
     "output_type": "stream",
     "text": [
      "/home/bhillmann/anaconda3/lib/python3.6/site-packages/matplotlib/cbook/deprecation.py:107: MatplotlibDeprecationWarning: Passing one of 'on', 'true', 'off', 'false' as a boolean is deprecated; use an actual boolean (True/False) instead.\n",
      "  warnings.warn(message, mplDeprecation, stacklevel=1)\n"
     ]
    },
    {
     "data": {
      "image/png": "[encoded data removed]",
      "text/plain": [
       "<Figure size 792x576 with 2 Axes>"
      ]
     },
     "metadata": {},
     "output_type": "display_data"
    }
   ],
   "source": [
    "with plt.style.context(('seaborn-ticks', 'seaborn-paper')):\n",
    "    fig = plt.figure(figsize=(11, 8))\n",
    "    ax1 = plt.subplot(121)\n",
    "    ax2 = plt.subplot(122)\n",
    "\n",
    "palette = sns.xkcd_palette([\"windows blue\", \"amber\", \"faded green\", \"dusty purple\"])\n",
    "\n",
    "for i in df_clr_shotgun.index:\n",
    "    if i in df_clr_shotgun.index and i in df_clr_16s.index:\n",
    "        ax2.scatter(df_clr_16s.loc[i, :][df_colors.loc[i, :] == 0].dropna(), df_clr_shotgun.loc[i, :][df_colors.loc[i, :] == 0].dropna(), color=palette[0], marker=\"o\", alpha=.5, zorder=1, edgecolor='face', s=10)\n",
    "        ax2.scatter(df_clr_16s.loc[i, :][df_colors.loc[i, :] == 1].dropna(), df_clr_shotgun.loc[i, :][df_colors.loc[i, :] == 1].dropna(), color=palette[1], marker=\"o\", alpha=.5, zorder=3, edgecolor='face', s=10)\n",
    "        ax2.scatter(df_clr_16s.loc[i, :][df_colors.loc[i, :] == 2].dropna(), df_clr_shotgun.loc[i, :][df_colors.loc[i, :] == 2].dropna(), color=palette[2], marker=\"o\", alpha=.5, zorder=1, edgecolor='face', s=10)\n",
    "        ax2.scatter(df_clr_16s.loc[i, :][df_colors.loc[i, :] == 3].dropna(), df_clr_shotgun.loc[i, :][df_colors.loc[i, :] == 3].dropna(), color=palette[3], marker=\"o\", alpha=.5, zorder=2, edgecolor='face', s=10)\n",
    "\n",
    "ax2.xaxis.set_ticks(np.arange(0, .11, .02))\n",
    "ax2.yaxis.set_ticks(np.arange(0, .11, .02))\n",
    "ax2.set_ylim(-0.01, .11)\n",
    "ax2.set_xlim(-0.01, .11)\n",
    "ax2.axis=['equal']\n",
    "        \n",
    "lims = [\n",
    "    np.min([ax2.get_xlim(), ax2.get_ylim()]),  # min of both axes\n",
    "    np.max([ax2.get_xlim(), ax2.get_ylim()]),  # max of both axes\n",
    "]\n",
    "\n",
    "# now plot both limits against eachother\n",
    "ax2.plot(lims, lims, 'k-', alpha=0.75, zorder=0)\n",
    "ax2.set_aspect('equal')\n",
    "ax2.set_xlim(lims)\n",
    "ax2.set_ylim(lims)\n",
    "\n",
    "# draw vertical line from (70,100) to (70, 250)\n",
    "ax2.plot([0, .1], [.1, .1], 'k--', alpha=.75, zorder=4)\n",
    "\n",
    "# draw diagonal line from (70, 90) to (90, 200)\n",
    "ax2.plot([.1, .1], [0, .1], 'k--', alpha=.75, zorder=4)\n",
    "\n",
    "#leg1 = custom_legend(ax, palette, [\"Both\", \"16S only\", \"Shotgun only\", \"Shotgun non-bacteria\"])\n",
    "ax1.set_ylabel(\"Shallow shotgun abundance\")\n",
    "ax1.set_xlabel(\"16S abundance\")\n",
    "\n",
    "for i in df_clr_shotgun.index:\n",
    "    if i in df_clr_shotgun.index and i in df_clr_16s.index:\n",
    "        ax1.scatter(df_clr_16s.loc[i, :][df_colors.loc[i, :] == 0].dropna(), df_clr_shotgun.loc[i, :][df_colors.loc[i, :] == 0].dropna(), color=palette[0], marker=\"o\", alpha=.5, zorder=1, edgecolor='face', s=10)\n",
    "        ax1.scatter(df_clr_16s.loc[i, :][df_colors.loc[i, :] == 1].dropna(), df_clr_shotgun.loc[i, :][df_colors.loc[i, :] == 1].dropna(), color=palette[1], marker=\"o\", alpha=.5, zorder=3, edgecolor='face', s=10)\n",
    "        ax1.scatter(df_clr_16s.loc[i, :][df_colors.loc[i, :] == 2].dropna(), df_clr_shotgun.loc[i, :][df_colors.loc[i, :] == 2].dropna(), color=palette[2], marker=\"o\", alpha=.5, zorder=1, edgecolor='face', s=10)\n",
    "        ax1.scatter(df_clr_16s.loc[i, :][df_colors.loc[i, :] == 3].dropna(), df_clr_shotgun.loc[i, :][df_colors.loc[i, :] == 3].dropna(), color=palette[3], marker=\"o\", alpha=.5, zorder=2, edgecolor='face', s=10)\n",
    "\n",
    "ax1.xaxis.set_ticks(np.arange(0, 1.01, .2))\n",
    "ax1.yaxis.set_ticks(np.arange(0, 1.01, .2))\n",
    "ax1.axis=['equal']\n",
    "        \n",
    "lims = [\n",
    "    np.min([ax1.get_xlim(), ax1.get_ylim()]),  # min of both axes\n",
    "    np.max([ax1.get_xlim(), ax1.get_ylim()]),  # max of both axes\n",
    "]\n",
    "\n",
    "# now plot both limits against eachother\n",
    "ax1.plot(lims, lims, 'k-', alpha=0.75, zorder=0)\n",
    "ax1.set_aspect('equal')\n",
    "ax1.set_xlim(lims)\n",
    "ax1.set_ylim(lims)\n",
    "\n",
    "# draw vertical line from (70,100) to (70, 250)\n",
    "ax1.plot([0, .1], [.1, .1], 'k--', alpha=.75, zorder=4)\n",
    "\n",
    "# draw diagonal line from (70, 90) to (90, 200)\n",
    "ax1.plot([.1, .1], [0, .1], 'k--', alpha=.75, zorder=4)\n",
    "\n",
    "from scipy.stats import pearsonr\n",
    "\n",
    "x = df_clr_16s.loc[df_clr_shotgun.index, :].values.flatten()\n",
    "x = x[~np.isnan(x)]\n",
    "\n",
    "y = df_clr_shotgun.values.flatten()\n",
    "y = y[~np.isnan(y)]\n",
    "\n",
    "r, p = pearsonr(x, y)\n",
    "r = r*r\n",
    "\n",
    "ax1.annotate(r\"$r^2 = {:.2f}$ $p = {:.4f}$\".format(r,p), xy=(.1, .9), xycoords=ax1.transAxes)\n",
    "#ax1.annotate(r\"$p = {:.4f}$\".format(p), xy=(.4, .9), xycoords=ax1.transAxes)\n",
    "stylize_axes(ax1)\n",
    "stylize_axes(ax2)\n",
    "\n",
    "leg1 = custom_legend(ax2, palette, [\"Both\", \"16S only\", \"Shallow shotgun only\"])\n",
    "#ax2.set_ylabel(\"Shallow shotgun abundance\")\n",
    "ax2.set_xlabel(\"16S abundance\")\n",
    "plt.tight_layout()\n",
    "\n",
    "sns.despine(offset=10, trim=True)\n",
    "\n",
    "#fig.text(.5, -0.1, \"16S Abundance\", ha='center', va='center')\n",
    "save_plot(fig, \"scatterplot_both_abundance\", size_inches=(11,8), artists=(leg1,))"
   ]
  },
  {
   "cell_type": "code",
   "execution_count": 45,
   "metadata": {},
   "outputs": [],
   "source": [
    "from scipy.stats import pearsonr\n",
    "\n",
    "x = df_clr_16s.loc[df_clr_shotgun.index, :].values.flatten()\n",
    "x = x[~np.isnan(x)]\n",
    "\n",
    "y = df_clr_shotgun.values.flatten()\n",
    "y = y[~np.isnan(y)]\n",
    "\n",
    "r, p = pearsonr(x, y)\n",
    "r = r*r"
   ]
  },
  {
   "cell_type": "code",
   "execution_count": 46,
   "metadata": {},
   "outputs": [],
   "source": [
    "from scipy.stats import linregress\n",
    "slope, intercept, r_value, p_value, std_err = linregress(x, y)"
   ]
  },
  {
   "cell_type": "code",
   "execution_count": 47,
   "metadata": {},
   "outputs": [
    {
     "data": {
      "text/plain": [
       "(0.5934918745556319, 7.5372101837324648e-05, 0.24336662076498164, 0.0)"
      ]
     },
     "execution_count": 47,
     "metadata": {},
     "output_type": "execute_result"
    }
   ],
   "source": [
    "slope, intercept, r_value, p_value"
   ]
  },
  {
   "cell_type": "code",
   "execution_count": null,
   "metadata": {},
   "outputs": [],
   "source": []
  }
 ],
 "metadata": {
  "kernelspec": {
   "display_name": "Python 3",
   "language": "python",
   "name": "python3"
  },
  "language_info": {
   "codemirror_mode": {
    "name": "ipython",
    "version": 3
   },
   "file_extension": ".py",
   "mimetype": "text/x-python",
   "name": "python",
   "nbconvert_exporter": "python",
   "pygments_lexer": "ipython3",
   "version": "3.6.5"
  }
 },
 "nbformat": 4,
 "nbformat_minor": 2
}
