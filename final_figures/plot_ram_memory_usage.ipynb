{
 "cells": [
  {
   "cell_type": "code",
   "execution_count": 22,
   "metadata": {},
   "outputs": [],
   "source": [
    "import pandas as pd\n",
    "import seaborn as sns\n",
    "import matplotlib.pyplot as plt\n",
    "import numpy as np\n",
    "\n",
    "%matplotlib inline"
   ]
  },
  {
   "cell_type": "code",
   "execution_count": 16,
   "metadata": {},
   "outputs": [],
   "source": [
    "df = pd.read_csv(\"./data/timing_table.txt\", delimiter=\"\\t\", index_col=0)"
   ]
  },
  {
   "cell_type": "code",
   "execution_count": 17,
   "metadata": {},
   "outputs": [
    {
     "data": {
      "text/plain": [
       "seconds_wall_clock    float64\n",
       "reads_per_minute      float64\n",
       "gbyte_memory          float64\n",
       "percent_cpu             int64\n",
       "cpu_hours             float64\n",
       "tool                   object\n",
       "threads                 int64\n",
       "dtype: object"
      ]
     },
     "execution_count": 17,
     "metadata": {},
     "output_type": "execute_result"
    }
   ],
   "source": [
    "df.dtypes"
   ]
  },
  {
   "cell_type": "code",
   "execution_count": 18,
   "metadata": {},
   "outputs": [
    {
     "data": {
      "text/html": [
       "<div>\n",
       "<style scoped>\n",
       "    .dataframe tbody tr th:only-of-type {\n",
       "        vertical-align: middle;\n",
       "    }\n",
       "\n",
       "    .dataframe tbody tr th {\n",
       "        vertical-align: top;\n",
       "    }\n",
       "\n",
       "    .dataframe thead th {\n",
       "        text-align: right;\n",
       "    }\n",
       "</style>\n",
       "<table border=\"1\" class=\"dataframe\">\n",
       "  <thead>\n",
       "    <tr style=\"text-align: right;\">\n",
       "      <th></th>\n",
       "      <th>seconds_wall_clock</th>\n",
       "      <th>reads_per_minute</th>\n",
       "      <th>gbyte_memory</th>\n",
       "      <th>percent_cpu</th>\n",
       "      <th>cpu_hours</th>\n",
       "      <th>tool</th>\n",
       "      <th>threads</th>\n",
       "    </tr>\n",
       "  </thead>\n",
       "  <tbody>\n",
       "    <tr>\n",
       "      <th>0</th>\n",
       "      <td>116.41</td>\n",
       "      <td>1.546259e+07</td>\n",
       "      <td>7.584920</td>\n",
       "      <td>2721</td>\n",
       "      <td>1.034756</td>\n",
       "      <td>utree</td>\n",
       "      <td>32</td>\n",
       "    </tr>\n",
       "    <tr>\n",
       "      <th>1</th>\n",
       "      <td>112.89</td>\n",
       "      <td>1.594472e+07</td>\n",
       "      <td>7.586948</td>\n",
       "      <td>2978</td>\n",
       "      <td>1.003467</td>\n",
       "      <td>utree</td>\n",
       "      <td>32</td>\n",
       "    </tr>\n",
       "    <tr>\n",
       "      <th>2</th>\n",
       "      <td>1979.34</td>\n",
       "      <td>9.093940e+05</td>\n",
       "      <td>7.273708</td>\n",
       "      <td>100</td>\n",
       "      <td>0.549817</td>\n",
       "      <td>utree</td>\n",
       "      <td>1</td>\n",
       "    </tr>\n",
       "    <tr>\n",
       "      <th>3</th>\n",
       "      <td>124.27</td>\n",
       "      <td>1.448459e+07</td>\n",
       "      <td>7.409492</td>\n",
       "      <td>1510</td>\n",
       "      <td>0.552311</td>\n",
       "      <td>utree</td>\n",
       "      <td>16</td>\n",
       "    </tr>\n",
       "    <tr>\n",
       "      <th>4</th>\n",
       "      <td>189.74</td>\n",
       "      <td>9.486666e+06</td>\n",
       "      <td>7.335080</td>\n",
       "      <td>773</td>\n",
       "      <td>0.421644</td>\n",
       "      <td>utree</td>\n",
       "      <td>8</td>\n",
       "    </tr>\n",
       "  </tbody>\n",
       "</table>\n",
       "</div>"
      ],
      "text/plain": [
       "   seconds_wall_clock  reads_per_minute  gbyte_memory  percent_cpu  cpu_hours  \\\n",
       "0              116.41      1.546259e+07      7.584920         2721   1.034756   \n",
       "1              112.89      1.594472e+07      7.586948         2978   1.003467   \n",
       "2             1979.34      9.093940e+05      7.273708          100   0.549817   \n",
       "3              124.27      1.448459e+07      7.409492         1510   0.552311   \n",
       "4              189.74      9.486666e+06      7.335080          773   0.421644   \n",
       "\n",
       "    tool  threads  \n",
       "0  utree       32  \n",
       "1  utree       32  \n",
       "2  utree        1  \n",
       "3  utree       16  \n",
       "4  utree        8  "
      ]
     },
     "execution_count": 18,
     "metadata": {},
     "output_type": "execute_result"
    }
   ],
   "source": [
    "df.head()"
   ]
  },
  {
   "cell_type": "code",
   "execution_count": 24,
   "metadata": {},
   "outputs": [],
   "source": [
    "#9235008 ./combined_seqs.fna\n",
    "infile_gbytes = 9235008/1e6"
   ]
  },
  {
   "cell_type": "code",
   "execution_count": 71,
   "metadata": {},
   "outputs": [],
   "source": [
    "df = df.sort_values(\"tool\")\n",
    "\n",
    "df_means = df.groupby(\"tool\").mean()\n",
    "\n",
    "tools = [\"burst\", \"bowtie2\", \"centrifuge\", \"kraken\", \"utree\"]\n",
    "index_tools = dict(zip(tools, range(len(tools))))\n",
    "\n",
    "df_means[\"index_tools\"] = df_means.index.map(index_tools)\n",
    "\n",
    "\n",
    "display_names = dict(zip(tools, [\"BURST\", \"Bowtie2\", \"Centrifuge\", \"Kraken\", \"UTree\"]))\n",
    "\n",
    "df_means[\"display_names\"] = df_means.index.map(display_names)\n",
    "\n",
    "colors = dict(zip(tools, [\"#1a1895\", \"#000000\", \"#0c5050\", \"#148d4a\", \"#bd86e8\"]))\n",
    "\n",
    "df_means[\"colors\"] = df_means.index.map(colors)\n",
    "\n",
    "markers = dict(zip(tools, [\"s\", \"v\", \"o\", \"^\", \"d\"]))\n",
    "\n",
    "df_means[\"markers\"] = df_means.index.map(markers)\n"
   ]
  },
  {
   "cell_type": "code",
   "execution_count": 82,
   "metadata": {},
   "outputs": [
    {
     "data": {
      "text/plain": [
       "array(['Bowtie2', 'BURST', 'Centrifuge', 'Kraken', 'UTree'], dtype=object)"
      ]
     },
     "execution_count": 82,
     "metadata": {},
     "output_type": "execute_result"
    }
   ],
   "source": [
    "df_means.display_names.values"
   ]
  },
  {
   "cell_type": "code",
   "execution_count": 112,
   "metadata": {},
   "outputs": [],
   "source": [
    "def stylize_axes(ax):\n",
    "    \"\"\"Customize axes spines, title, labels, ticks, and ticklabels.\"\"\"\n",
    "    ax.spines['top'].set_visible(False)\n",
    "    ax.spines['right'].set_visible(False)\n",
    "\n",
    "    ax.xaxis.set_tick_params(bottom='on', direction='out', width=1)\n",
    "    ax.yaxis.set_tick_params(left='on', direction='out', width=1)\n",
    "    \n",
    "def stylize_fig(fig):\n",
    "    sns.despine(fig, offset=10, trim=True)\n",
    "    \n"
   ]
  },
  {
   "cell_type": "code",
   "execution_count": 113,
   "metadata": {},
   "outputs": [
    {
     "data": {
      "image/png": "[encoded data removed]",
      "text/plain": [
       "<Figure size 432x288 with 1 Axes>"
      ]
     },
     "metadata": {},
     "output_type": "display_data"
    }
   ],
   "source": [
    "# We are interested in the speed up and efficiency of each of the aligners\n",
    "# y-axis: RAM Usage\n",
    "# x-axis: N (workers)\n",
    "# sns.set_style(\"whitegrid\")\n",
    "with plt.style.context(('seaborn-ticks')):\n",
    "    fig, ax = plt.subplots()\n",
    "# sns.pointplot(x=\"tool\", y=\"gbyte_memory\", data=df, ax=ax)\n",
    "\n",
    "for index, row in df_means.iterrows():\n",
    "    ax.plot([row.index_tools], [row.gbyte_memory], marker=row.markers, color=row.colors, markersize=20, label=row.display_names)\n",
    "#     ax.annotate(\"%.1f\" % row.gbyte_memory, (row.index_tools, row.gbyte_memory), verticalalignment=\"bottom\")\n",
    "\n",
    "ax.yaxis.grid(True)\n",
    "ax.xaxis.grid(False)\n",
    "\n",
    "ax.get_xlim()\n",
    "ax.plot(ax.get_xlim(), [infile_gbytes]*2, 'r', label='input file size', zorder=0)\n",
    "\n",
    "stylize_axes(ax)\n",
    "stylize_fig(fig)\n",
    "\n",
    "pltname = \"ram_bar\"\n",
    "plt.ylabel(\"gigabyte(s) memory\")\n",
    "plt.tight_layout()\n",
    "plt.show()"
   ]
  }
 ],
 "metadata": {
  "kernelspec": {
   "display_name": "Python 3",
   "language": "python",
   "name": "python3"
  },
  "language_info": {
   "codemirror_mode": {
    "name": "ipython",
    "version": 3
   },
   "file_extension": ".py",
   "mimetype": "text/x-python",
   "name": "python",
   "nbconvert_exporter": "python",
   "pygments_lexer": "ipython3",
   "version": "3.7.3"
  }
 },
 "nbformat": 4,
 "nbformat_minor": 4
}
